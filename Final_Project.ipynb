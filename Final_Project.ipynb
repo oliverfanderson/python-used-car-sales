{
 "cells": [
  {
   "cell_type": "markdown",
   "id": "a01cdb9d",
   "metadata": {},
   "source": [
    "## Final Project\n",
    "### By Oliver Anderson, Frances Romero, Heather Terada"
   ]
  },
  {
   "cell_type": "markdown",
   "id": "b983c755",
   "metadata": {},
   "source": [
    "Topic:<br>\n",
    "Used car sales in India <br>\n",
    "\n",
    "Research question(s):<br>\n",
    "How accurately can the machine learning model predict the sale price of used cars based on the given features?<br>\n",
    "Which features have the most significant impact on the car's price, according to the model?<br>\n",
    "How does the performance of different machine learning algorithms (e.g., Multiple Linear Regression, K-Nearest Neighbor, Random Forest, and XGBoost) compare in predicting used car prices?<br>\n",
    "\n",
    "Dataset location:<br>\n",
    "https://www.kaggle.com/datasets/nehalbirla/vehicle-dataset-from-cardekho<br>\n",
    "\n",
    "Techniques to use:<br>\n",
    "Principal Component Analysis (PCA)<br>\n",
    "Multiple Linear Regression<br>\n",
    "K-Nearest Neighbor<br>\n",
    "Random Forest Classification<br>\n",
    "XGBoost"
   ]
  },
  {
   "cell_type": "code",
   "execution_count": 17,
   "id": "d270555f",
   "metadata": {},
   "outputs": [],
   "source": [
    "# data modules\n",
    "import numpy as np\n",
    "import pandas as pd\n",
    "\n",
    "# visualization modules\n",
    "import seaborn as sns\n",
    "import matplotlib.pyplot as plt\n",
    "\n",
    "# machine learning modules\n",
    "from sklearn.svm import SVC\n",
    "from sklearn. datasets import load_digits\n",
    "import matplotlib.pyplot as plt\n",
    "from sklearn.ensemble import RandomForestClassifier\n",
    "from sklearn.neighbors import KNeighborsClassifier"
   ]
  },
  {
   "cell_type": "markdown",
   "id": "7d682f61",
   "metadata": {},
   "source": [
    "## Importing, cleaning, and EDA (Exploratory Data Analysis)"
   ]
  },
  {
   "cell_type": "markdown",
   "id": "447286bc",
   "metadata": {},
   "source": [
    "Import the data set"
   ]
  },
  {
   "cell_type": "code",
   "execution_count": 18,
   "id": "fc79850a",
   "metadata": {},
   "outputs": [],
   "source": [
    "usedcars = pd.read_csv(\"car_details_v4.csv\")"
   ]
  },
  {
   "cell_type": "markdown",
   "id": "b1ad416c",
   "metadata": {},
   "source": [
    "Check out the features"
   ]
  },
  {
   "cell_type": "code",
   "execution_count": 19,
   "id": "e8c7cca5",
   "metadata": {},
   "outputs": [
    {
     "data": {
      "text/html": [
       "<div>\n",
       "<style scoped>\n",
       "    .dataframe tbody tr th:only-of-type {\n",
       "        vertical-align: middle;\n",
       "    }\n",
       "\n",
       "    .dataframe tbody tr th {\n",
       "        vertical-align: top;\n",
       "    }\n",
       "\n",
       "    .dataframe thead th {\n",
       "        text-align: right;\n",
       "    }\n",
       "</style>\n",
       "<table border=\"1\" class=\"dataframe\">\n",
       "  <thead>\n",
       "    <tr style=\"text-align: right;\">\n",
       "      <th></th>\n",
       "      <th>Make</th>\n",
       "      <th>Model</th>\n",
       "      <th>Price</th>\n",
       "      <th>Year</th>\n",
       "      <th>Kilometer</th>\n",
       "      <th>Fuel Type</th>\n",
       "      <th>Transmission</th>\n",
       "      <th>Location</th>\n",
       "      <th>Color</th>\n",
       "      <th>Owner</th>\n",
       "      <th>Seller Type</th>\n",
       "      <th>Engine</th>\n",
       "      <th>Max Power</th>\n",
       "      <th>Max Torque</th>\n",
       "      <th>Drivetrain</th>\n",
       "      <th>Length</th>\n",
       "      <th>Width</th>\n",
       "      <th>Height</th>\n",
       "      <th>Seating Capacity</th>\n",
       "      <th>Fuel Tank Capacity</th>\n",
       "    </tr>\n",
       "  </thead>\n",
       "  <tbody>\n",
       "    <tr>\n",
       "      <th>0</th>\n",
       "      <td>Honda</td>\n",
       "      <td>Amaze 1.2 VX i-VTEC</td>\n",
       "      <td>505000</td>\n",
       "      <td>2017</td>\n",
       "      <td>87150</td>\n",
       "      <td>Petrol</td>\n",
       "      <td>Manual</td>\n",
       "      <td>Pune</td>\n",
       "      <td>Grey</td>\n",
       "      <td>First</td>\n",
       "      <td>Corporate</td>\n",
       "      <td>1198 cc</td>\n",
       "      <td>87 bhp @ 6000 rpm</td>\n",
       "      <td>109 Nm @ 4500 rpm</td>\n",
       "      <td>FWD</td>\n",
       "      <td>3990.0</td>\n",
       "      <td>1680.0</td>\n",
       "      <td>1505.0</td>\n",
       "      <td>5.0</td>\n",
       "      <td>35.0</td>\n",
       "    </tr>\n",
       "    <tr>\n",
       "      <th>1</th>\n",
       "      <td>Maruti Suzuki</td>\n",
       "      <td>Swift DZire VDI</td>\n",
       "      <td>450000</td>\n",
       "      <td>2014</td>\n",
       "      <td>75000</td>\n",
       "      <td>Diesel</td>\n",
       "      <td>Manual</td>\n",
       "      <td>Ludhiana</td>\n",
       "      <td>White</td>\n",
       "      <td>Second</td>\n",
       "      <td>Individual</td>\n",
       "      <td>1248 cc</td>\n",
       "      <td>74 bhp @ 4000 rpm</td>\n",
       "      <td>190 Nm @ 2000 rpm</td>\n",
       "      <td>FWD</td>\n",
       "      <td>3995.0</td>\n",
       "      <td>1695.0</td>\n",
       "      <td>1555.0</td>\n",
       "      <td>5.0</td>\n",
       "      <td>42.0</td>\n",
       "    </tr>\n",
       "    <tr>\n",
       "      <th>2</th>\n",
       "      <td>Hyundai</td>\n",
       "      <td>i10 Magna 1.2 Kappa2</td>\n",
       "      <td>220000</td>\n",
       "      <td>2011</td>\n",
       "      <td>67000</td>\n",
       "      <td>Petrol</td>\n",
       "      <td>Manual</td>\n",
       "      <td>Lucknow</td>\n",
       "      <td>Maroon</td>\n",
       "      <td>First</td>\n",
       "      <td>Individual</td>\n",
       "      <td>1197 cc</td>\n",
       "      <td>79 bhp @ 6000 rpm</td>\n",
       "      <td>112.7619 Nm @ 4000 rpm</td>\n",
       "      <td>FWD</td>\n",
       "      <td>3585.0</td>\n",
       "      <td>1595.0</td>\n",
       "      <td>1550.0</td>\n",
       "      <td>5.0</td>\n",
       "      <td>35.0</td>\n",
       "    </tr>\n",
       "    <tr>\n",
       "      <th>3</th>\n",
       "      <td>Toyota</td>\n",
       "      <td>Glanza G</td>\n",
       "      <td>799000</td>\n",
       "      <td>2019</td>\n",
       "      <td>37500</td>\n",
       "      <td>Petrol</td>\n",
       "      <td>Manual</td>\n",
       "      <td>Mangalore</td>\n",
       "      <td>Red</td>\n",
       "      <td>First</td>\n",
       "      <td>Individual</td>\n",
       "      <td>1197 cc</td>\n",
       "      <td>82 bhp @ 6000 rpm</td>\n",
       "      <td>113 Nm @ 4200 rpm</td>\n",
       "      <td>FWD</td>\n",
       "      <td>3995.0</td>\n",
       "      <td>1745.0</td>\n",
       "      <td>1510.0</td>\n",
       "      <td>5.0</td>\n",
       "      <td>37.0</td>\n",
       "    </tr>\n",
       "    <tr>\n",
       "      <th>4</th>\n",
       "      <td>Toyota</td>\n",
       "      <td>Innova 2.4 VX 7 STR [2016-2020]</td>\n",
       "      <td>1950000</td>\n",
       "      <td>2018</td>\n",
       "      <td>69000</td>\n",
       "      <td>Diesel</td>\n",
       "      <td>Manual</td>\n",
       "      <td>Mumbai</td>\n",
       "      <td>Grey</td>\n",
       "      <td>First</td>\n",
       "      <td>Individual</td>\n",
       "      <td>2393 cc</td>\n",
       "      <td>148 bhp @ 3400 rpm</td>\n",
       "      <td>343 Nm @ 1400 rpm</td>\n",
       "      <td>RWD</td>\n",
       "      <td>4735.0</td>\n",
       "      <td>1830.0</td>\n",
       "      <td>1795.0</td>\n",
       "      <td>7.0</td>\n",
       "      <td>55.0</td>\n",
       "    </tr>\n",
       "  </tbody>\n",
       "</table>\n",
       "</div>"
      ],
      "text/plain": [
       "            Make                            Model    Price  Year  Kilometer  \\\n",
       "0          Honda              Amaze 1.2 VX i-VTEC   505000  2017      87150   \n",
       "1  Maruti Suzuki                  Swift DZire VDI   450000  2014      75000   \n",
       "2        Hyundai             i10 Magna 1.2 Kappa2   220000  2011      67000   \n",
       "3         Toyota                         Glanza G   799000  2019      37500   \n",
       "4         Toyota  Innova 2.4 VX 7 STR [2016-2020]  1950000  2018      69000   \n",
       "\n",
       "  Fuel Type Transmission   Location   Color   Owner Seller Type   Engine  \\\n",
       "0    Petrol       Manual       Pune    Grey   First   Corporate  1198 cc   \n",
       "1    Diesel       Manual   Ludhiana   White  Second  Individual  1248 cc   \n",
       "2    Petrol       Manual    Lucknow  Maroon   First  Individual  1197 cc   \n",
       "3    Petrol       Manual  Mangalore     Red   First  Individual  1197 cc   \n",
       "4    Diesel       Manual     Mumbai    Grey   First  Individual  2393 cc   \n",
       "\n",
       "            Max Power              Max Torque Drivetrain  Length   Width  \\\n",
       "0   87 bhp @ 6000 rpm       109 Nm @ 4500 rpm        FWD  3990.0  1680.0   \n",
       "1   74 bhp @ 4000 rpm       190 Nm @ 2000 rpm        FWD  3995.0  1695.0   \n",
       "2   79 bhp @ 6000 rpm  112.7619 Nm @ 4000 rpm        FWD  3585.0  1595.0   \n",
       "3   82 bhp @ 6000 rpm       113 Nm @ 4200 rpm        FWD  3995.0  1745.0   \n",
       "4  148 bhp @ 3400 rpm       343 Nm @ 1400 rpm        RWD  4735.0  1830.0   \n",
       "\n",
       "   Height  Seating Capacity  Fuel Tank Capacity  \n",
       "0  1505.0               5.0                35.0  \n",
       "1  1555.0               5.0                42.0  \n",
       "2  1550.0               5.0                35.0  \n",
       "3  1510.0               5.0                37.0  \n",
       "4  1795.0               7.0                55.0  "
      ]
     },
     "execution_count": 19,
     "metadata": {},
     "output_type": "execute_result"
    }
   ],
   "source": [
    "usedcars.head()"
   ]
  },
  {
   "cell_type": "markdown",
   "id": "81d327a3",
   "metadata": {},
   "source": [
    "Get information about the data types and quality"
   ]
  },
  {
   "cell_type": "code",
   "execution_count": 20,
   "id": "c9794bd5",
   "metadata": {},
   "outputs": [
    {
     "name": "stdout",
     "output_type": "stream",
     "text": [
      "<class 'pandas.core.frame.DataFrame'>\n",
      "RangeIndex: 2059 entries, 0 to 2058\n",
      "Data columns (total 20 columns):\n",
      " #   Column              Non-Null Count  Dtype  \n",
      "---  ------              --------------  -----  \n",
      " 0   Make                2059 non-null   object \n",
      " 1   Model               2059 non-null   object \n",
      " 2   Price               2059 non-null   int64  \n",
      " 3   Year                2059 non-null   int64  \n",
      " 4   Kilometer           2059 non-null   int64  \n",
      " 5   Fuel Type           2059 non-null   object \n",
      " 6   Transmission        2059 non-null   object \n",
      " 7   Location            2059 non-null   object \n",
      " 8   Color               2059 non-null   object \n",
      " 9   Owner               2059 non-null   object \n",
      " 10  Seller Type         2059 non-null   object \n",
      " 11  Engine              1979 non-null   object \n",
      " 12  Max Power           1979 non-null   object \n",
      " 13  Max Torque          1979 non-null   object \n",
      " 14  Drivetrain          1923 non-null   object \n",
      " 15  Length              1995 non-null   float64\n",
      " 16  Width               1995 non-null   float64\n",
      " 17  Height              1995 non-null   float64\n",
      " 18  Seating Capacity    1995 non-null   float64\n",
      " 19  Fuel Tank Capacity  1946 non-null   float64\n",
      "dtypes: float64(5), int64(3), object(12)\n",
      "memory usage: 321.8+ KB\n"
     ]
    }
   ],
   "source": [
    "# Overall view\n",
    "usedcars.info()"
   ]
  },
  {
   "cell_type": "code",
   "execution_count": 21,
   "id": "45d3a89b",
   "metadata": {},
   "outputs": [
    {
     "data": {
      "text/html": [
       "<div>\n",
       "<style scoped>\n",
       "    .dataframe tbody tr th:only-of-type {\n",
       "        vertical-align: middle;\n",
       "    }\n",
       "\n",
       "    .dataframe tbody tr th {\n",
       "        vertical-align: top;\n",
       "    }\n",
       "\n",
       "    .dataframe thead th {\n",
       "        text-align: right;\n",
       "    }\n",
       "</style>\n",
       "<table border=\"1\" class=\"dataframe\">\n",
       "  <thead>\n",
       "    <tr style=\"text-align: right;\">\n",
       "      <th></th>\n",
       "      <th>Price</th>\n",
       "      <th>Year</th>\n",
       "      <th>Kilometer</th>\n",
       "      <th>Length</th>\n",
       "      <th>Width</th>\n",
       "      <th>Height</th>\n",
       "      <th>Seating Capacity</th>\n",
       "      <th>Fuel Tank Capacity</th>\n",
       "    </tr>\n",
       "  </thead>\n",
       "  <tbody>\n",
       "    <tr>\n",
       "      <th>count</th>\n",
       "      <td>2.059000e+03</td>\n",
       "      <td>2059.000000</td>\n",
       "      <td>2.059000e+03</td>\n",
       "      <td>1995.000000</td>\n",
       "      <td>1995.000000</td>\n",
       "      <td>1995.000000</td>\n",
       "      <td>1995.000000</td>\n",
       "      <td>1946.000000</td>\n",
       "    </tr>\n",
       "    <tr>\n",
       "      <th>mean</th>\n",
       "      <td>1.702992e+06</td>\n",
       "      <td>2016.425449</td>\n",
       "      <td>5.422471e+04</td>\n",
       "      <td>4280.860652</td>\n",
       "      <td>1767.991980</td>\n",
       "      <td>1591.735338</td>\n",
       "      <td>5.306266</td>\n",
       "      <td>52.002210</td>\n",
       "    </tr>\n",
       "    <tr>\n",
       "      <th>std</th>\n",
       "      <td>2.419881e+06</td>\n",
       "      <td>3.363564</td>\n",
       "      <td>5.736172e+04</td>\n",
       "      <td>442.458507</td>\n",
       "      <td>135.265825</td>\n",
       "      <td>136.073956</td>\n",
       "      <td>0.822170</td>\n",
       "      <td>15.110198</td>\n",
       "    </tr>\n",
       "    <tr>\n",
       "      <th>min</th>\n",
       "      <td>4.900000e+04</td>\n",
       "      <td>1988.000000</td>\n",
       "      <td>0.000000e+00</td>\n",
       "      <td>3099.000000</td>\n",
       "      <td>1475.000000</td>\n",
       "      <td>1165.000000</td>\n",
       "      <td>2.000000</td>\n",
       "      <td>15.000000</td>\n",
       "    </tr>\n",
       "    <tr>\n",
       "      <th>25%</th>\n",
       "      <td>4.849990e+05</td>\n",
       "      <td>2014.000000</td>\n",
       "      <td>2.900000e+04</td>\n",
       "      <td>3985.000000</td>\n",
       "      <td>1695.000000</td>\n",
       "      <td>1485.000000</td>\n",
       "      <td>5.000000</td>\n",
       "      <td>41.250000</td>\n",
       "    </tr>\n",
       "    <tr>\n",
       "      <th>50%</th>\n",
       "      <td>8.250000e+05</td>\n",
       "      <td>2017.000000</td>\n",
       "      <td>5.000000e+04</td>\n",
       "      <td>4370.000000</td>\n",
       "      <td>1770.000000</td>\n",
       "      <td>1545.000000</td>\n",
       "      <td>5.000000</td>\n",
       "      <td>50.000000</td>\n",
       "    </tr>\n",
       "    <tr>\n",
       "      <th>75%</th>\n",
       "      <td>1.925000e+06</td>\n",
       "      <td>2019.000000</td>\n",
       "      <td>7.200000e+04</td>\n",
       "      <td>4629.000000</td>\n",
       "      <td>1831.500000</td>\n",
       "      <td>1675.000000</td>\n",
       "      <td>5.000000</td>\n",
       "      <td>60.000000</td>\n",
       "    </tr>\n",
       "    <tr>\n",
       "      <th>max</th>\n",
       "      <td>3.500000e+07</td>\n",
       "      <td>2022.000000</td>\n",
       "      <td>2.000000e+06</td>\n",
       "      <td>5569.000000</td>\n",
       "      <td>2220.000000</td>\n",
       "      <td>1995.000000</td>\n",
       "      <td>8.000000</td>\n",
       "      <td>105.000000</td>\n",
       "    </tr>\n",
       "  </tbody>\n",
       "</table>\n",
       "</div>"
      ],
      "text/plain": [
       "              Price         Year     Kilometer       Length        Width  \\\n",
       "count  2.059000e+03  2059.000000  2.059000e+03  1995.000000  1995.000000   \n",
       "mean   1.702992e+06  2016.425449  5.422471e+04  4280.860652  1767.991980   \n",
       "std    2.419881e+06     3.363564  5.736172e+04   442.458507   135.265825   \n",
       "min    4.900000e+04  1988.000000  0.000000e+00  3099.000000  1475.000000   \n",
       "25%    4.849990e+05  2014.000000  2.900000e+04  3985.000000  1695.000000   \n",
       "50%    8.250000e+05  2017.000000  5.000000e+04  4370.000000  1770.000000   \n",
       "75%    1.925000e+06  2019.000000  7.200000e+04  4629.000000  1831.500000   \n",
       "max    3.500000e+07  2022.000000  2.000000e+06  5569.000000  2220.000000   \n",
       "\n",
       "            Height  Seating Capacity  Fuel Tank Capacity  \n",
       "count  1995.000000       1995.000000         1946.000000  \n",
       "mean   1591.735338          5.306266           52.002210  \n",
       "std     136.073956          0.822170           15.110198  \n",
       "min    1165.000000          2.000000           15.000000  \n",
       "25%    1485.000000          5.000000           41.250000  \n",
       "50%    1545.000000          5.000000           50.000000  \n",
       "75%    1675.000000          5.000000           60.000000  \n",
       "max    1995.000000          8.000000          105.000000  "
      ]
     },
     "execution_count": 21,
     "metadata": {},
     "output_type": "execute_result"
    }
   ],
   "source": [
    "# Examine data\n",
    "usedcars.describe()"
   ]
  },
  {
   "cell_type": "code",
   "execution_count": 22,
   "id": "a87655bf",
   "metadata": {},
   "outputs": [
    {
     "data": {
      "text/plain": [
       "(2059, 20)"
      ]
     },
     "execution_count": 22,
     "metadata": {},
     "output_type": "execute_result"
    }
   ],
   "source": [
    "# Number of rows and columns\n",
    "usedcars.shape"
   ]
  },
  {
   "cell_type": "code",
   "execution_count": 23,
   "id": "f9ca7e37",
   "metadata": {},
   "outputs": [
    {
     "data": {
      "text/plain": [
       "Make                    0\n",
       "Model                   0\n",
       "Price                   0\n",
       "Year                    0\n",
       "Kilometer               0\n",
       "Fuel Type               0\n",
       "Transmission            0\n",
       "Location                0\n",
       "Color                   0\n",
       "Owner                   0\n",
       "Seller Type             0\n",
       "Engine                 80\n",
       "Max Power              80\n",
       "Max Torque             80\n",
       "Drivetrain            136\n",
       "Length                 64\n",
       "Width                  64\n",
       "Height                 64\n",
       "Seating Capacity       64\n",
       "Fuel Tank Capacity    113\n",
       "dtype: int64"
      ]
     },
     "execution_count": 23,
     "metadata": {},
     "output_type": "execute_result"
    }
   ],
   "source": [
    "# Check for missing data\n",
    "usedcars.isnull().sum()"
   ]
  },
  {
   "cell_type": "markdown",
   "id": "fc9b49a4",
   "metadata": {},
   "source": [
    "Some of the rows have missing values so in the next step we will remove the NA values."
   ]
  },
  {
   "cell_type": "code",
   "execution_count": 24,
   "id": "fc4185c6",
   "metadata": {},
   "outputs": [
    {
     "data": {
      "text/plain": [
       "Make                  0\n",
       "Model                 0\n",
       "Price                 0\n",
       "Year                  0\n",
       "Kilometer             0\n",
       "Fuel Type             0\n",
       "Transmission          0\n",
       "Location              0\n",
       "Color                 0\n",
       "Owner                 0\n",
       "Seller Type           0\n",
       "Engine                0\n",
       "Max Power             0\n",
       "Max Torque            0\n",
       "Drivetrain            0\n",
       "Length                0\n",
       "Width                 0\n",
       "Height                0\n",
       "Seating Capacity      0\n",
       "Fuel Tank Capacity    0\n",
       "dtype: int64"
      ]
     },
     "execution_count": 24,
     "metadata": {},
     "output_type": "execute_result"
    }
   ],
   "source": [
    "usedcars = usedcars.dropna(axis = 0, how = 'any')\n",
    "usedcars.isnull().sum()"
   ]
  },
  {
   "cell_type": "code",
   "execution_count": 25,
   "id": "ce8b4814",
   "metadata": {},
   "outputs": [
    {
     "data": {
      "text/plain": [
       "(1874, 20)"
      ]
     },
     "execution_count": 25,
     "metadata": {},
     "output_type": "execute_result"
    }
   ],
   "source": [
    "usedcars.shape"
   ]
  },
  {
   "cell_type": "markdown",
   "id": "5ddcc1af",
   "metadata": {},
   "source": [
    "The missing values have been removed from the dataset."
   ]
  },
  {
   "cell_type": "code",
   "execution_count": 26,
   "id": "9dcd4b75",
   "metadata": {},
   "outputs": [
    {
     "data": {
      "text/plain": [
       "0"
      ]
     },
     "execution_count": 26,
     "metadata": {},
     "output_type": "execute_result"
    }
   ],
   "source": [
    "# Duplicated values\n",
    "usedcars.duplicated().sum()"
   ]
  },
  {
   "cell_type": "markdown",
   "id": "e843f01f",
   "metadata": {},
   "source": [
    "There are no duplicated values."
   ]
  },
  {
   "cell_type": "code",
   "execution_count": 27,
   "id": "f22b4dc8",
   "metadata": {},
   "outputs": [
    {
     "data": {
      "text/plain": [
       "Make                   object\n",
       "Model                  object\n",
       "Price                   int64\n",
       "Year                    int64\n",
       "Kilometer               int64\n",
       "Fuel Type              object\n",
       "Transmission           object\n",
       "Location               object\n",
       "Color                  object\n",
       "Owner                  object\n",
       "Seller Type            object\n",
       "Engine                 object\n",
       "Max Power              object\n",
       "Max Torque             object\n",
       "Drivetrain             object\n",
       "Length                float64\n",
       "Width                 float64\n",
       "Height                float64\n",
       "Seating Capacity      float64\n",
       "Fuel Tank Capacity    float64\n",
       "dtype: object"
      ]
     },
     "execution_count": 27,
     "metadata": {},
     "output_type": "execute_result"
    }
   ],
   "source": [
    "# How is the data stored\n",
    "usedcars.dtypes"
   ]
  },
  {
   "cell_type": "markdown",
   "id": "cab900e1",
   "metadata": {},
   "source": [
    "## Preprocessing the Data\n",
    "Now that we see that most of the features are categorical data, thus we should convert these to dummy columns for the ML models."
   ]
  },
  {
   "cell_type": "code",
   "execution_count": 28,
   "id": "703a4538",
   "metadata": {},
   "outputs": [
    {
     "data": {
      "text/html": [
       "<div>\n",
       "<style scoped>\n",
       "    .dataframe tbody tr th:only-of-type {\n",
       "        vertical-align: middle;\n",
       "    }\n",
       "\n",
       "    .dataframe tbody tr th {\n",
       "        vertical-align: top;\n",
       "    }\n",
       "\n",
       "    .dataframe thead th {\n",
       "        text-align: right;\n",
       "    }\n",
       "</style>\n",
       "<table border=\"1\" class=\"dataframe\">\n",
       "  <thead>\n",
       "    <tr style=\"text-align: right;\">\n",
       "      <th></th>\n",
       "      <th>Price</th>\n",
       "      <th>Year</th>\n",
       "      <th>Kilometer</th>\n",
       "      <th>Length</th>\n",
       "      <th>Width</th>\n",
       "      <th>Height</th>\n",
       "      <th>Seating Capacity</th>\n",
       "      <th>Fuel Tank Capacity</th>\n",
       "      <th>Make_BMW</th>\n",
       "      <th>Make_Chevrolet</th>\n",
       "      <th>...</th>\n",
       "      <th>Max Torque_95 Nm @ 4000 rpm</th>\n",
       "      <th>Max Torque_96 Nm @ 3000 rpm</th>\n",
       "      <th>Max Torque_96 Nm @ 3500 rpm</th>\n",
       "      <th>Max Torque_98 Nm @ 3000 rpm</th>\n",
       "      <th>Max Torque_99 Nm @ 4500 rpm</th>\n",
       "      <th>Max Torque_99.08 Nm @ 4500 rpm</th>\n",
       "      <th>Max Torque_99.081 Nm @ 4500 rpm</th>\n",
       "      <th>Max Torque_99@2800</th>\n",
       "      <th>Drivetrain_FWD</th>\n",
       "      <th>Drivetrain_RWD</th>\n",
       "    </tr>\n",
       "  </thead>\n",
       "  <tbody>\n",
       "    <tr>\n",
       "      <th>0</th>\n",
       "      <td>505000</td>\n",
       "      <td>2017</td>\n",
       "      <td>87150</td>\n",
       "      <td>3990.0</td>\n",
       "      <td>1680.0</td>\n",
       "      <td>1505.0</td>\n",
       "      <td>5.0</td>\n",
       "      <td>35.0</td>\n",
       "      <td>0</td>\n",
       "      <td>0</td>\n",
       "      <td>...</td>\n",
       "      <td>0</td>\n",
       "      <td>0</td>\n",
       "      <td>0</td>\n",
       "      <td>0</td>\n",
       "      <td>0</td>\n",
       "      <td>0</td>\n",
       "      <td>0</td>\n",
       "      <td>0</td>\n",
       "      <td>1</td>\n",
       "      <td>0</td>\n",
       "    </tr>\n",
       "    <tr>\n",
       "      <th>1</th>\n",
       "      <td>450000</td>\n",
       "      <td>2014</td>\n",
       "      <td>75000</td>\n",
       "      <td>3995.0</td>\n",
       "      <td>1695.0</td>\n",
       "      <td>1555.0</td>\n",
       "      <td>5.0</td>\n",
       "      <td>42.0</td>\n",
       "      <td>0</td>\n",
       "      <td>0</td>\n",
       "      <td>...</td>\n",
       "      <td>0</td>\n",
       "      <td>0</td>\n",
       "      <td>0</td>\n",
       "      <td>0</td>\n",
       "      <td>0</td>\n",
       "      <td>0</td>\n",
       "      <td>0</td>\n",
       "      <td>0</td>\n",
       "      <td>1</td>\n",
       "      <td>0</td>\n",
       "    </tr>\n",
       "    <tr>\n",
       "      <th>2</th>\n",
       "      <td>220000</td>\n",
       "      <td>2011</td>\n",
       "      <td>67000</td>\n",
       "      <td>3585.0</td>\n",
       "      <td>1595.0</td>\n",
       "      <td>1550.0</td>\n",
       "      <td>5.0</td>\n",
       "      <td>35.0</td>\n",
       "      <td>0</td>\n",
       "      <td>0</td>\n",
       "      <td>...</td>\n",
       "      <td>0</td>\n",
       "      <td>0</td>\n",
       "      <td>0</td>\n",
       "      <td>0</td>\n",
       "      <td>0</td>\n",
       "      <td>0</td>\n",
       "      <td>0</td>\n",
       "      <td>0</td>\n",
       "      <td>1</td>\n",
       "      <td>0</td>\n",
       "    </tr>\n",
       "    <tr>\n",
       "      <th>3</th>\n",
       "      <td>799000</td>\n",
       "      <td>2019</td>\n",
       "      <td>37500</td>\n",
       "      <td>3995.0</td>\n",
       "      <td>1745.0</td>\n",
       "      <td>1510.0</td>\n",
       "      <td>5.0</td>\n",
       "      <td>37.0</td>\n",
       "      <td>0</td>\n",
       "      <td>0</td>\n",
       "      <td>...</td>\n",
       "      <td>0</td>\n",
       "      <td>0</td>\n",
       "      <td>0</td>\n",
       "      <td>0</td>\n",
       "      <td>0</td>\n",
       "      <td>0</td>\n",
       "      <td>0</td>\n",
       "      <td>0</td>\n",
       "      <td>1</td>\n",
       "      <td>0</td>\n",
       "    </tr>\n",
       "    <tr>\n",
       "      <th>4</th>\n",
       "      <td>1950000</td>\n",
       "      <td>2018</td>\n",
       "      <td>69000</td>\n",
       "      <td>4735.0</td>\n",
       "      <td>1830.0</td>\n",
       "      <td>1795.0</td>\n",
       "      <td>7.0</td>\n",
       "      <td>55.0</td>\n",
       "      <td>0</td>\n",
       "      <td>0</td>\n",
       "      <td>...</td>\n",
       "      <td>0</td>\n",
       "      <td>0</td>\n",
       "      <td>0</td>\n",
       "      <td>0</td>\n",
       "      <td>0</td>\n",
       "      <td>0</td>\n",
       "      <td>0</td>\n",
       "      <td>0</td>\n",
       "      <td>0</td>\n",
       "      <td>1</td>\n",
       "    </tr>\n",
       "  </tbody>\n",
       "</table>\n",
       "<p>5 rows × 1770 columns</p>\n",
       "</div>"
      ],
      "text/plain": [
       "     Price  Year  Kilometer  Length   Width  Height  Seating Capacity  \\\n",
       "0   505000  2017      87150  3990.0  1680.0  1505.0               5.0   \n",
       "1   450000  2014      75000  3995.0  1695.0  1555.0               5.0   \n",
       "2   220000  2011      67000  3585.0  1595.0  1550.0               5.0   \n",
       "3   799000  2019      37500  3995.0  1745.0  1510.0               5.0   \n",
       "4  1950000  2018      69000  4735.0  1830.0  1795.0               7.0   \n",
       "\n",
       "   Fuel Tank Capacity  Make_BMW  Make_Chevrolet  ...  \\\n",
       "0                35.0         0               0  ...   \n",
       "1                42.0         0               0  ...   \n",
       "2                35.0         0               0  ...   \n",
       "3                37.0         0               0  ...   \n",
       "4                55.0         0               0  ...   \n",
       "\n",
       "   Max Torque_95 Nm @ 4000 rpm  Max Torque_96 Nm @ 3000 rpm  \\\n",
       "0                            0                            0   \n",
       "1                            0                            0   \n",
       "2                            0                            0   \n",
       "3                            0                            0   \n",
       "4                            0                            0   \n",
       "\n",
       "   Max Torque_96 Nm @ 3500 rpm  Max Torque_98 Nm @ 3000 rpm  \\\n",
       "0                            0                            0   \n",
       "1                            0                            0   \n",
       "2                            0                            0   \n",
       "3                            0                            0   \n",
       "4                            0                            0   \n",
       "\n",
       "   Max Torque_99 Nm @ 4500 rpm  Max Torque_99.08 Nm @ 4500 rpm  \\\n",
       "0                            0                               0   \n",
       "1                            0                               0   \n",
       "2                            0                               0   \n",
       "3                            0                               0   \n",
       "4                            0                               0   \n",
       "\n",
       "   Max Torque_99.081 Nm @ 4500 rpm  Max Torque_99@2800  Drivetrain_FWD  \\\n",
       "0                                0                   0               1   \n",
       "1                                0                   0               1   \n",
       "2                                0                   0               1   \n",
       "3                                0                   0               1   \n",
       "4                                0                   0               0   \n",
       "\n",
       "   Drivetrain_RWD  \n",
       "0               0  \n",
       "1               0  \n",
       "2               0  \n",
       "3               0  \n",
       "4               1  \n",
       "\n",
       "[5 rows x 1770 columns]"
      ]
     },
     "execution_count": 28,
     "metadata": {},
     "output_type": "execute_result"
    }
   ],
   "source": [
    "# lets engineer dummy colums from the categorical variables\n",
    "# first lets get the list of all the categorical variables\n",
    "categorical_columns = usedcars.select_dtypes(include=['object']).columns\n",
    "# then lets convert these to dummies using pd.get_dummies\n",
    "usedcars_ML = pd.get_dummies(usedcars, columns=categorical_columns, drop_first=True) # drop_first=True set to avoid potential collinearity issues\n",
    "# now check if the change worked correctly\n",
    "usedcars_ML.head() # looks good"
   ]
  },
  {
   "cell_type": "markdown",
   "id": "5dd1f57b",
   "metadata": {},
   "source": [
    "In this step we converted all categorical variables to binary variables for the purpose of the model. In addition, we included the drop_first=True tag to drop one of the categorical variables when converting to binary variables. This helps mitigate multi-collinearity when the presence of one variable indicates the lack of presence of another. By dropping one of the variables, we can reduce the effect of the double encoded value (for example a 1 in Make_BMW may always indicate a 0 in Make_Chevrolet, thus the including both in the model may artifically increase the effect of the double encoded value)."
   ]
  },
  {
   "cell_type": "code",
   "execution_count": 29,
   "id": "bad615bd",
   "metadata": {},
   "outputs": [],
   "source": [
    "# lets export our cleaned data to a csv file\n",
    "usedcars_ML.to_csv('ML_usedcars.csv', index=False)"
   ]
  },
  {
   "cell_type": "markdown",
   "id": "0209eae3",
   "metadata": {},
   "source": [
    "## Initial Visualizations"
   ]
  },
  {
   "cell_type": "markdown",
   "id": "d35c879a",
   "metadata": {},
   "source": [
    "#### Create a stacked bar graph to see the trend of used cars sold by transmission type across the years"
   ]
  },
  {
   "cell_type": "code",
   "execution_count": 30,
   "id": "ceff6183",
   "metadata": {
    "scrolled": true
   },
   "outputs": [
    {
     "data": {
      "image/png": "[encoded data removed]",
      "text/plain": [
       "<Figure size 640x480 with 1 Axes>"
      ]
     },
     "metadata": {},
     "output_type": "display_data"
    }
   ],
   "source": [
    "# Make dataframe\n",
    "usedcars = pd.DataFrame(usedcars)\n",
    "\n",
    "# Create dummy variables for each transmission type\n",
    "usedcars_dummies = pd.get_dummies(usedcars['Transmission'])\n",
    "\n",
    "# Concatenate the dummy variables with the original DataFrame\n",
    "usedcars_stacked = pd.concat([usedcars['Year'], usedcars_dummies], axis=1)\n",
    "\n",
    "# Group the data by Year and sum the transmission counts for each type\n",
    "usedcars_stacked = usedcars_stacked.groupby('Year').sum().reset_index()\n",
    "\n",
    "# Set 'Year' as the index for the DataFrame\n",
    "usedcars_stacked.set_index('Year', inplace=True)\n",
    "\n",
    "# Create a stacked bar chart\n",
    "ax = usedcars_stacked.plot(kind='bar', stacked=True)\n",
    "\n",
    "# Add labels and show the plot\n",
    "plt.title('Transmission Type by Year for Cars')\n",
    "plt.xlabel('Year')\n",
    "plt.ylabel('Number of Cars')\n",
    "plt.legend(title='Transmission Type', loc='upper left')\n",
    "plt.show()"
   ]
  },
  {
   "cell_type": "markdown",
   "id": "958d315d",
   "metadata": {},
   "source": [
    "#### Make a bargraph to see the trend of used cars sold by seat capacity across the years"
   ]
  },
  {
   "cell_type": "code",
   "execution_count": 31,
   "id": "b577ddae",
   "metadata": {},
   "outputs": [
    {
     "data": {
      "image/png": "[encoded data removed]",
      "text/plain": [
       "<Figure size 640x480 with 1 Axes>"
      ]
     },
     "metadata": {},
     "output_type": "display_data"
    }
   ],
   "source": [
    "# Make dataframe\n",
    "usedcars = pd.DataFrame(usedcars)\n",
    "\n",
    "# Create dummy variables for each transmission type\n",
    "usedcars_dummies = pd.get_dummies(usedcars['Seating Capacity'])\n",
    "\n",
    "# Concatenate the dummy variables with the original DataFrame\n",
    "usedcars_stacked = pd.concat([usedcars['Year'], usedcars_dummies], axis=1)\n",
    "\n",
    "# Group the data by Year and sum the transmission counts for each type\n",
    "usedcars_stacked = usedcars_stacked.groupby('Year').sum().reset_index()\n",
    "\n",
    "# Set 'Year' as the index for the DataFrame\n",
    "usedcars_stacked.set_index('Year', inplace=True)\n",
    "\n",
    "# Create a stacked bar chart\n",
    "ax = usedcars_stacked.plot(kind='bar', stacked=True)\n",
    "\n",
    "# Add labels and show the plot\n",
    "plt.title('Seating Capacity Type by Year for Cars')\n",
    "plt.xlabel('Year')\n",
    "plt.ylabel('Number of Cars')\n",
    "plt.legend(title='Seating Capacity', loc='upper left')\n",
    "plt.show()"
   ]
  },
  {
   "cell_type": "markdown",
   "id": "61c951a1",
   "metadata": {},
   "source": [
    "#### Is there a trend between mileage and price?"
   ]
  },
  {
   "cell_type": "code",
   "execution_count": 32,
   "id": "01920dea",
   "metadata": {
    "scrolled": true
   },
   "outputs": [],
   "source": [
    "# grab the values from the dataset\n",
    "kilometers = usedcars['Kilometer']\n",
    "prices_INR = usedcars['Price']"
   ]
  },
  {
   "cell_type": "markdown",
   "id": "ba57d18c",
   "metadata": {},
   "source": [
    "We noticed that since the data is sourced from India, the currency and distance are not in the units that we understand in the United States. Thus we must convert INR to USD and kilometers to miles."
   ]
  },
  {
   "cell_type": "code",
   "execution_count": 33,
   "id": "58f51a9e",
   "metadata": {},
   "outputs": [],
   "source": [
    "# Conversion function from kilometers to miles\n",
    "def kilometers_to_miles(km):\n",
    "    return km * 0.6213712\n",
    "\n",
    "# Apply the conversion function to the DataFrame column\n",
    "mileage = kilometers.apply(kilometers_to_miles)"
   ]
  },
  {
   "cell_type": "code",
   "execution_count": 34,
   "id": "954cd58a",
   "metadata": {},
   "outputs": [
    {
     "data": {
      "text/plain": [
       "0        6060.0\n",
       "1        5400.0\n",
       "2        2640.0\n",
       "3        9588.0\n",
       "4       23400.0\n",
       "         ...   \n",
       "2053     2940.0\n",
       "2054    10200.0\n",
       "2055     3300.0\n",
       "2056     2880.0\n",
       "2057    51480.0\n",
       "Name: Price, Length: 1874, dtype: float64"
      ]
     },
     "execution_count": 34,
     "metadata": {},
     "output_type": "execute_result"
    }
   ],
   "source": [
    "# Conversion function from INR to USD\n",
    "def INR_to_USD(inr):\n",
    "    return inr * 0.012\n",
    "\n",
    "# Apply the conversion function to the DataFrame column\n",
    "prices_USD = prices_INR.apply(INR_to_USD)\n",
    "prices_USD"
   ]
  },
  {
   "cell_type": "markdown",
   "id": "7314753d",
   "metadata": {},
   "source": [
    "Once converted to understandable units, we plot the relationship between price and mileage."
   ]
  },
  {
   "cell_type": "code",
   "execution_count": 35,
   "id": "cca4a993",
   "metadata": {},
   "outputs": [
    {
     "data": {
      "image/png": "[encoded data removed]",
      "text/plain": [
       "<Figure size 640x480 with 1 Axes>"
      ]
     },
     "metadata": {},
     "output_type": "display_data"
    }
   ],
   "source": [
    "plt.scatter(mileage, prices_USD, c='blue', alpha=0.7)\n",
    "plt.xlabel(\"Mileage (in miles)\")\n",
    "plt.ylabel(\"Price (in USD)\")\n",
    "plt.title(\"Car Price vs. Mileage\")\n",
    "plt.grid(True)\n",
    "plt.ticklabel_format(style='plain', useOffset=False)\n",
    "plt.show()"
   ]
  },
  {
   "cell_type": "markdown",
   "id": "548b4c8a",
   "metadata": {},
   "source": [
    "Most cars are under 200,000 miles and cars with lower mileage sell for higher. For our model we may need to take the log of price and mileage because we have outliers. \n"
   ]
  },
  {
   "cell_type": "code",
   "execution_count": 36,
   "id": "40a663ba",
   "metadata": {},
   "outputs": [
    {
     "data": {
      "text/plain": [
       "dtype('float64')"
      ]
     },
     "execution_count": 36,
     "metadata": {},
     "output_type": "execute_result"
    }
   ],
   "source": [
    "# quickly check the data type of the mileage variable\n",
    "mileage.dtype\n"
   ]
  },
  {
   "cell_type": "code",
   "execution_count": 37,
   "id": "35ae6e92",
   "metadata": {},
   "outputs": [
    {
     "data": {
      "text/plain": [
       "dtype('float64')"
      ]
     },
     "execution_count": 37,
     "metadata": {},
     "output_type": "execute_result"
    }
   ],
   "source": [
    "# quickly check the data type of the prices_USD variable\n",
    "prices_USD.dtype"
   ]
  },
  {
   "cell_type": "code",
   "execution_count": 38,
   "id": "01db86bc",
   "metadata": {},
   "outputs": [
    {
     "name": "stderr",
     "output_type": "stream",
     "text": [
      "/Users/slimeollie/anaconda3/lib/python3.10/site-packages/pandas/core/arraylike.py:402: RuntimeWarning: divide by zero encountered in log10\n",
      "  result = getattr(ufunc, method)(*inputs, **kwargs)\n"
     ]
    },
    {
     "data": {
      "image/png": "[encoded data removed]",
      "text/plain": [
       "<Figure size 640x480 with 1 Axes>"
      ]
     },
     "metadata": {},
     "output_type": "display_data"
    }
   ],
   "source": [
    "# generate a new scatter using log10(mileage) and log10(prices_USD)\n",
    "plt.scatter(np.log10(mileage), np.log10(prices_USD), c='blue', alpha=0.7)\n",
    "plt.xlabel(\"log Mileage (in miles)\")\n",
    "plt.ylabel(\"log Price (in USD)\")\n",
    "plt.title(\"Car Price vs. Mileage\")\n",
    "plt.grid(True)\n",
    "plt.ticklabel_format(style='plain', useOffset=False)\n",
    "plt.show()"
   ]
  },
  {
   "cell_type": "markdown",
   "id": "cbd46627",
   "metadata": {},
   "source": [
    "The clarity of the new plot seems to indicate that log values may be more useful in the model. We will experiment with log and regular values to determine the best way to organize the data in the model."
   ]
  },
  {
   "cell_type": "markdown",
   "id": "bf62dc1f",
   "metadata": {},
   "source": [
    "#### Create a heatmap to show associated numerical values"
   ]
  },
  {
   "cell_type": "code",
   "execution_count": 39,
   "id": "39078bba",
   "metadata": {},
   "outputs": [
    {
     "data": {
      "image/png": "[encoded data removed]",
      "text/plain": [
       "<Figure size 640x480 with 2 Axes>"
      ]
     },
     "metadata": {},
     "output_type": "display_data"
    }
   ],
   "source": [
    "# Select some columns that might have a correlation\n",
    "numerical_data = usedcars[['Price','Year','Kilometer', 'Seating Capacity', 'Fuel Tank Capacity']]\n",
    "correlation_matrix = numerical_data.corr()\n",
    "\n",
    "# Generate the heatmap and use a new color sheme\n",
    "ax = sns.heatmap(correlation_matrix, annot=True, cmap=\"YlOrRd\");\n",
    "fig = ax.get_figure()"
   ]
  },
  {
   "cell_type": "code",
   "execution_count": 40,
   "id": "c9a3e698",
   "metadata": {},
   "outputs": [
    {
     "data": {
      "text/plain": [
       "49000"
      ]
     },
     "execution_count": 40,
     "metadata": {},
     "output_type": "execute_result"
    }
   ],
   "source": [
    "# check the lowest price car in the dataset\n",
    "usedcars['Price'].min()"
   ]
  },
  {
   "cell_type": "markdown",
   "id": "99561b83",
   "metadata": {},
   "source": [
    "## Effort Diary"
   ]
  },
  {
   "cell_type": "markdown",
   "id": "57d3e7f0",
   "metadata": {},
   "source": [
    "Oliver:\n",
    "- Proposal edits\n",
    "- Data cleaning/Pre-processing\n",
    "- Creation of GitHub repository\n",
    "\n",
    "Frances:\n",
    "- Proposal write-up\n",
    "- Data cleaning\n",
    "- Create example plots\n",
    "\n",
    "Heather:\n",
    "- Create layout of Jupyter file\n",
    "- Upload data and examine details\n",
    "- Create example plots"
   ]
  }
 ],
 "metadata": {
  "kernelspec": {
   "display_name": "Python 3 (ipykernel)",
   "language": "python",
   "name": "python3"
  },
  "language_info": {
   "codemirror_mode": {
    "name": "ipython",
    "version": 3
   },
   "file_extension": ".py",
   "mimetype": "text/x-python",
   "name": "python",
   "nbconvert_exporter": "python",
   "pygments_lexer": "ipython3",
   "version": "3.10.9"
  }
 },
 "nbformat": 4,
 "nbformat_minor": 5
}
