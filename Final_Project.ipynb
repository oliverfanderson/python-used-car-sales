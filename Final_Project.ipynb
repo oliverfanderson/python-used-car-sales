{
 "cells": [
  {
   "cell_type": "markdown",
   "id": "a01cdb9d",
   "metadata": {},
   "source": [
    "## Final Project\n",
    "### By Oliver Anderson, Frances Romero, Heather Terada"
   ]
  },
  {
   "cell_type": "markdown",
   "id": "b983c755",
   "metadata": {},
   "source": [
    "Topic:<br>\n",
    "Used car sales in India <br>\n",
    "\n",
    "Research question(s):<br>\n",
    "How accurately can the machine learning model predict the sale price of used cars based on the given features?<br>\n",
    "Which features have the most significant impact on the car's price, according to the model?<br>\n",
    "How does the performance of different machine learning algorithms (e.g., Multiple Linear Regression, K-Nearest Neighbor, and Random Forest) compare in predicting used car prices?<br>\n",
    "\n",
    "Dataset location:<br>\n",
    "https://www.kaggle.com/datasets/nehalbirla/vehicle-dataset-from-cardekho<br>\n",
    "\n",
    "Techniques to use:<br>\n",
    "Principal Component Analysis (PCA)<br>\n",
    "Multiple Linear Regression<br>\n",
    "K-Nearest Neighbor<br>\n",
    "Random Forest Classification<br>"
   ]
  },
  {
   "cell_type": "code",
   "execution_count": 96,
   "id": "d270555f",
   "metadata": {},
   "outputs": [],
   "source": [
    "# data modules\n",
    "import numpy as np\n",
    "import pandas as pd\n",
    "\n",
    "# visualization modules\n",
    "import seaborn as sns\n",
    "import matplotlib.pyplot as plt\n",
    "\n",
    "# machine learning modules\n",
    "from sklearn.svm import SVC\n",
    "from sklearn. datasets import load_digits\n",
    "import matplotlib.pyplot as plt\n",
    "from sklearn.ensemble import RandomForestClassifier, RandomForestRegressor\n",
    "from sklearn.neighbors import KNeighborsClassifier, KNeighborsRegressor\n",
    "from sklearn.model_selection import train_test_split, cross_val_score\n",
    "from sklearn.preprocessing import StandardScaler\n",
    "from sklearn.metrics import (\n",
    "    accuracy_score,\n",
    "    mean_squared_error,\n",
    "    roc_auc_score,\n",
    "    precision_score,\n",
    "    recall_score,\n",
    "    confusion_matrix)"
   ]
  },
  {
   "cell_type": "markdown",
   "id": "7d682f61",
   "metadata": {},
   "source": [
    "## Importing, cleaning, and EDA (Exploratory Data Analysis)"
   ]
  },
  {
   "cell_type": "markdown",
   "id": "447286bc",
   "metadata": {},
   "source": [
    "Import the data set"
   ]
  },
  {
   "cell_type": "code",
   "execution_count": 2,
   "id": "fc79850a",
   "metadata": {},
   "outputs": [],
   "source": [
    "usedcars = pd.read_csv(\"car_details_v4.csv\")"
   ]
  },
  {
   "cell_type": "markdown",
   "id": "b1ad416c",
   "metadata": {},
   "source": [
    "Check out the features"
   ]
  },
  {
   "cell_type": "code",
   "execution_count": 3,
   "id": "e8c7cca5",
   "metadata": {},
   "outputs": [
    {
     "data": {
      "text/html": [
       "<div>\n",
       "<style scoped>\n",
       "    .dataframe tbody tr th:only-of-type {\n",
       "        vertical-align: middle;\n",
       "    }\n",
       "\n",
       "    .dataframe tbody tr th {\n",
       "        vertical-align: top;\n",
       "    }\n",
       "\n",
       "    .dataframe thead th {\n",
       "        text-align: right;\n",
       "    }\n",
       "</style>\n",
       "<table border=\"1\" class=\"dataframe\">\n",
       "  <thead>\n",
       "    <tr style=\"text-align: right;\">\n",
       "      <th></th>\n",
       "      <th>Make</th>\n",
       "      <th>Model</th>\n",
       "      <th>Price</th>\n",
       "      <th>Year</th>\n",
       "      <th>Kilometer</th>\n",
       "      <th>Fuel Type</th>\n",
       "      <th>Transmission</th>\n",
       "      <th>Location</th>\n",
       "      <th>Color</th>\n",
       "      <th>Owner</th>\n",
       "      <th>Seller Type</th>\n",
       "      <th>Engine</th>\n",
       "      <th>Max Power</th>\n",
       "      <th>Max Torque</th>\n",
       "      <th>Drivetrain</th>\n",
       "      <th>Length</th>\n",
       "      <th>Width</th>\n",
       "      <th>Height</th>\n",
       "      <th>Seating Capacity</th>\n",
       "      <th>Fuel Tank Capacity</th>\n",
       "    </tr>\n",
       "  </thead>\n",
       "  <tbody>\n",
       "    <tr>\n",
       "      <th>0</th>\n",
       "      <td>Honda</td>\n",
       "      <td>Amaze 1.2 VX i-VTEC</td>\n",
       "      <td>505000</td>\n",
       "      <td>2017</td>\n",
       "      <td>87150</td>\n",
       "      <td>Petrol</td>\n",
       "      <td>Manual</td>\n",
       "      <td>Pune</td>\n",
       "      <td>Grey</td>\n",
       "      <td>First</td>\n",
       "      <td>Corporate</td>\n",
       "      <td>1198 cc</td>\n",
       "      <td>87 bhp @ 6000 rpm</td>\n",
       "      <td>109 Nm @ 4500 rpm</td>\n",
       "      <td>FWD</td>\n",
       "      <td>3990.0</td>\n",
       "      <td>1680.0</td>\n",
       "      <td>1505.0</td>\n",
       "      <td>5.0</td>\n",
       "      <td>35.0</td>\n",
       "    </tr>\n",
       "    <tr>\n",
       "      <th>1</th>\n",
       "      <td>Maruti Suzuki</td>\n",
       "      <td>Swift DZire VDI</td>\n",
       "      <td>450000</td>\n",
       "      <td>2014</td>\n",
       "      <td>75000</td>\n",
       "      <td>Diesel</td>\n",
       "      <td>Manual</td>\n",
       "      <td>Ludhiana</td>\n",
       "      <td>White</td>\n",
       "      <td>Second</td>\n",
       "      <td>Individual</td>\n",
       "      <td>1248 cc</td>\n",
       "      <td>74 bhp @ 4000 rpm</td>\n",
       "      <td>190 Nm @ 2000 rpm</td>\n",
       "      <td>FWD</td>\n",
       "      <td>3995.0</td>\n",
       "      <td>1695.0</td>\n",
       "      <td>1555.0</td>\n",
       "      <td>5.0</td>\n",
       "      <td>42.0</td>\n",
       "    </tr>\n",
       "    <tr>\n",
       "      <th>2</th>\n",
       "      <td>Hyundai</td>\n",
       "      <td>i10 Magna 1.2 Kappa2</td>\n",
       "      <td>220000</td>\n",
       "      <td>2011</td>\n",
       "      <td>67000</td>\n",
       "      <td>Petrol</td>\n",
       "      <td>Manual</td>\n",
       "      <td>Lucknow</td>\n",
       "      <td>Maroon</td>\n",
       "      <td>First</td>\n",
       "      <td>Individual</td>\n",
       "      <td>1197 cc</td>\n",
       "      <td>79 bhp @ 6000 rpm</td>\n",
       "      <td>112.7619 Nm @ 4000 rpm</td>\n",
       "      <td>FWD</td>\n",
       "      <td>3585.0</td>\n",
       "      <td>1595.0</td>\n",
       "      <td>1550.0</td>\n",
       "      <td>5.0</td>\n",
       "      <td>35.0</td>\n",
       "    </tr>\n",
       "    <tr>\n",
       "      <th>3</th>\n",
       "      <td>Toyota</td>\n",
       "      <td>Glanza G</td>\n",
       "      <td>799000</td>\n",
       "      <td>2019</td>\n",
       "      <td>37500</td>\n",
       "      <td>Petrol</td>\n",
       "      <td>Manual</td>\n",
       "      <td>Mangalore</td>\n",
       "      <td>Red</td>\n",
       "      <td>First</td>\n",
       "      <td>Individual</td>\n",
       "      <td>1197 cc</td>\n",
       "      <td>82 bhp @ 6000 rpm</td>\n",
       "      <td>113 Nm @ 4200 rpm</td>\n",
       "      <td>FWD</td>\n",
       "      <td>3995.0</td>\n",
       "      <td>1745.0</td>\n",
       "      <td>1510.0</td>\n",
       "      <td>5.0</td>\n",
       "      <td>37.0</td>\n",
       "    </tr>\n",
       "    <tr>\n",
       "      <th>4</th>\n",
       "      <td>Toyota</td>\n",
       "      <td>Innova 2.4 VX 7 STR [2016-2020]</td>\n",
       "      <td>1950000</td>\n",
       "      <td>2018</td>\n",
       "      <td>69000</td>\n",
       "      <td>Diesel</td>\n",
       "      <td>Manual</td>\n",
       "      <td>Mumbai</td>\n",
       "      <td>Grey</td>\n",
       "      <td>First</td>\n",
       "      <td>Individual</td>\n",
       "      <td>2393 cc</td>\n",
       "      <td>148 bhp @ 3400 rpm</td>\n",
       "      <td>343 Nm @ 1400 rpm</td>\n",
       "      <td>RWD</td>\n",
       "      <td>4735.0</td>\n",
       "      <td>1830.0</td>\n",
       "      <td>1795.0</td>\n",
       "      <td>7.0</td>\n",
       "      <td>55.0</td>\n",
       "    </tr>\n",
       "  </tbody>\n",
       "</table>\n",
       "</div>"
      ],
      "text/plain": [
       "            Make                            Model    Price  Year  Kilometer  \\\n",
       "0          Honda              Amaze 1.2 VX i-VTEC   505000  2017      87150   \n",
       "1  Maruti Suzuki                  Swift DZire VDI   450000  2014      75000   \n",
       "2        Hyundai             i10 Magna 1.2 Kappa2   220000  2011      67000   \n",
       "3         Toyota                         Glanza G   799000  2019      37500   \n",
       "4         Toyota  Innova 2.4 VX 7 STR [2016-2020]  1950000  2018      69000   \n",
       "\n",
       "  Fuel Type Transmission   Location   Color   Owner Seller Type   Engine  \\\n",
       "0    Petrol       Manual       Pune    Grey   First   Corporate  1198 cc   \n",
       "1    Diesel       Manual   Ludhiana   White  Second  Individual  1248 cc   \n",
       "2    Petrol       Manual    Lucknow  Maroon   First  Individual  1197 cc   \n",
       "3    Petrol       Manual  Mangalore     Red   First  Individual  1197 cc   \n",
       "4    Diesel       Manual     Mumbai    Grey   First  Individual  2393 cc   \n",
       "\n",
       "            Max Power              Max Torque Drivetrain  Length   Width  \\\n",
       "0   87 bhp @ 6000 rpm       109 Nm @ 4500 rpm        FWD  3990.0  1680.0   \n",
       "1   74 bhp @ 4000 rpm       190 Nm @ 2000 rpm        FWD  3995.0  1695.0   \n",
       "2   79 bhp @ 6000 rpm  112.7619 Nm @ 4000 rpm        FWD  3585.0  1595.0   \n",
       "3   82 bhp @ 6000 rpm       113 Nm @ 4200 rpm        FWD  3995.0  1745.0   \n",
       "4  148 bhp @ 3400 rpm       343 Nm @ 1400 rpm        RWD  4735.0  1830.0   \n",
       "\n",
       "   Height  Seating Capacity  Fuel Tank Capacity  \n",
       "0  1505.0               5.0                35.0  \n",
       "1  1555.0               5.0                42.0  \n",
       "2  1550.0               5.0                35.0  \n",
       "3  1510.0               5.0                37.0  \n",
       "4  1795.0               7.0                55.0  "
      ]
     },
     "execution_count": 3,
     "metadata": {},
     "output_type": "execute_result"
    }
   ],
   "source": [
    "usedcars.head()"
   ]
  },
  {
   "cell_type": "markdown",
   "id": "81d327a3",
   "metadata": {},
   "source": [
    "Get information about the data types and quality"
   ]
  },
  {
   "cell_type": "code",
   "execution_count": 4,
   "id": "c9794bd5",
   "metadata": {},
   "outputs": [
    {
     "name": "stdout",
     "output_type": "stream",
     "text": [
      "<class 'pandas.core.frame.DataFrame'>\n",
      "RangeIndex: 2059 entries, 0 to 2058\n",
      "Data columns (total 20 columns):\n",
      " #   Column              Non-Null Count  Dtype  \n",
      "---  ------              --------------  -----  \n",
      " 0   Make                2059 non-null   object \n",
      " 1   Model               2059 non-null   object \n",
      " 2   Price               2059 non-null   int64  \n",
      " 3   Year                2059 non-null   int64  \n",
      " 4   Kilometer           2059 non-null   int64  \n",
      " 5   Fuel Type           2059 non-null   object \n",
      " 6   Transmission        2059 non-null   object \n",
      " 7   Location            2059 non-null   object \n",
      " 8   Color               2059 non-null   object \n",
      " 9   Owner               2059 non-null   object \n",
      " 10  Seller Type         2059 non-null   object \n",
      " 11  Engine              1979 non-null   object \n",
      " 12  Max Power           1979 non-null   object \n",
      " 13  Max Torque          1979 non-null   object \n",
      " 14  Drivetrain          1923 non-null   object \n",
      " 15  Length              1995 non-null   float64\n",
      " 16  Width               1995 non-null   float64\n",
      " 17  Height              1995 non-null   float64\n",
      " 18  Seating Capacity    1995 non-null   float64\n",
      " 19  Fuel Tank Capacity  1946 non-null   float64\n",
      "dtypes: float64(5), int64(3), object(12)\n",
      "memory usage: 321.8+ KB\n"
     ]
    }
   ],
   "source": [
    "# Overall view\n",
    "usedcars.info()"
   ]
  },
  {
   "cell_type": "code",
   "execution_count": 5,
   "id": "45d3a89b",
   "metadata": {},
   "outputs": [
    {
     "data": {
      "text/html": [
       "<div>\n",
       "<style scoped>\n",
       "    .dataframe tbody tr th:only-of-type {\n",
       "        vertical-align: middle;\n",
       "    }\n",
       "\n",
       "    .dataframe tbody tr th {\n",
       "        vertical-align: top;\n",
       "    }\n",
       "\n",
       "    .dataframe thead th {\n",
       "        text-align: right;\n",
       "    }\n",
       "</style>\n",
       "<table border=\"1\" class=\"dataframe\">\n",
       "  <thead>\n",
       "    <tr style=\"text-align: right;\">\n",
       "      <th></th>\n",
       "      <th>Price</th>\n",
       "      <th>Year</th>\n",
       "      <th>Kilometer</th>\n",
       "      <th>Length</th>\n",
       "      <th>Width</th>\n",
       "      <th>Height</th>\n",
       "      <th>Seating Capacity</th>\n",
       "      <th>Fuel Tank Capacity</th>\n",
       "    </tr>\n",
       "  </thead>\n",
       "  <tbody>\n",
       "    <tr>\n",
       "      <th>count</th>\n",
       "      <td>2.059000e+03</td>\n",
       "      <td>2059.000000</td>\n",
       "      <td>2.059000e+03</td>\n",
       "      <td>1995.000000</td>\n",
       "      <td>1995.000000</td>\n",
       "      <td>1995.000000</td>\n",
       "      <td>1995.000000</td>\n",
       "      <td>1946.000000</td>\n",
       "    </tr>\n",
       "    <tr>\n",
       "      <th>mean</th>\n",
       "      <td>1.702992e+06</td>\n",
       "      <td>2016.425449</td>\n",
       "      <td>5.422471e+04</td>\n",
       "      <td>4280.860652</td>\n",
       "      <td>1767.991980</td>\n",
       "      <td>1591.735338</td>\n",
       "      <td>5.306266</td>\n",
       "      <td>52.002210</td>\n",
       "    </tr>\n",
       "    <tr>\n",
       "      <th>std</th>\n",
       "      <td>2.419881e+06</td>\n",
       "      <td>3.363564</td>\n",
       "      <td>5.736172e+04</td>\n",
       "      <td>442.458507</td>\n",
       "      <td>135.265825</td>\n",
       "      <td>136.073956</td>\n",
       "      <td>0.822170</td>\n",
       "      <td>15.110198</td>\n",
       "    </tr>\n",
       "    <tr>\n",
       "      <th>min</th>\n",
       "      <td>4.900000e+04</td>\n",
       "      <td>1988.000000</td>\n",
       "      <td>0.000000e+00</td>\n",
       "      <td>3099.000000</td>\n",
       "      <td>1475.000000</td>\n",
       "      <td>1165.000000</td>\n",
       "      <td>2.000000</td>\n",
       "      <td>15.000000</td>\n",
       "    </tr>\n",
       "    <tr>\n",
       "      <th>25%</th>\n",
       "      <td>4.849990e+05</td>\n",
       "      <td>2014.000000</td>\n",
       "      <td>2.900000e+04</td>\n",
       "      <td>3985.000000</td>\n",
       "      <td>1695.000000</td>\n",
       "      <td>1485.000000</td>\n",
       "      <td>5.000000</td>\n",
       "      <td>41.250000</td>\n",
       "    </tr>\n",
       "    <tr>\n",
       "      <th>50%</th>\n",
       "      <td>8.250000e+05</td>\n",
       "      <td>2017.000000</td>\n",
       "      <td>5.000000e+04</td>\n",
       "      <td>4370.000000</td>\n",
       "      <td>1770.000000</td>\n",
       "      <td>1545.000000</td>\n",
       "      <td>5.000000</td>\n",
       "      <td>50.000000</td>\n",
       "    </tr>\n",
       "    <tr>\n",
       "      <th>75%</th>\n",
       "      <td>1.925000e+06</td>\n",
       "      <td>2019.000000</td>\n",
       "      <td>7.200000e+04</td>\n",
       "      <td>4629.000000</td>\n",
       "      <td>1831.500000</td>\n",
       "      <td>1675.000000</td>\n",
       "      <td>5.000000</td>\n",
       "      <td>60.000000</td>\n",
       "    </tr>\n",
       "    <tr>\n",
       "      <th>max</th>\n",
       "      <td>3.500000e+07</td>\n",
       "      <td>2022.000000</td>\n",
       "      <td>2.000000e+06</td>\n",
       "      <td>5569.000000</td>\n",
       "      <td>2220.000000</td>\n",
       "      <td>1995.000000</td>\n",
       "      <td>8.000000</td>\n",
       "      <td>105.000000</td>\n",
       "    </tr>\n",
       "  </tbody>\n",
       "</table>\n",
       "</div>"
      ],
      "text/plain": [
       "              Price         Year     Kilometer       Length        Width  \\\n",
       "count  2.059000e+03  2059.000000  2.059000e+03  1995.000000  1995.000000   \n",
       "mean   1.702992e+06  2016.425449  5.422471e+04  4280.860652  1767.991980   \n",
       "std    2.419881e+06     3.363564  5.736172e+04   442.458507   135.265825   \n",
       "min    4.900000e+04  1988.000000  0.000000e+00  3099.000000  1475.000000   \n",
       "25%    4.849990e+05  2014.000000  2.900000e+04  3985.000000  1695.000000   \n",
       "50%    8.250000e+05  2017.000000  5.000000e+04  4370.000000  1770.000000   \n",
       "75%    1.925000e+06  2019.000000  7.200000e+04  4629.000000  1831.500000   \n",
       "max    3.500000e+07  2022.000000  2.000000e+06  5569.000000  2220.000000   \n",
       "\n",
       "            Height  Seating Capacity  Fuel Tank Capacity  \n",
       "count  1995.000000       1995.000000         1946.000000  \n",
       "mean   1591.735338          5.306266           52.002210  \n",
       "std     136.073956          0.822170           15.110198  \n",
       "min    1165.000000          2.000000           15.000000  \n",
       "25%    1485.000000          5.000000           41.250000  \n",
       "50%    1545.000000          5.000000           50.000000  \n",
       "75%    1675.000000          5.000000           60.000000  \n",
       "max    1995.000000          8.000000          105.000000  "
      ]
     },
     "execution_count": 5,
     "metadata": {},
     "output_type": "execute_result"
    }
   ],
   "source": [
    "# Examine data\n",
    "usedcars.describe()"
   ]
  },
  {
   "cell_type": "code",
   "execution_count": 6,
   "id": "a87655bf",
   "metadata": {},
   "outputs": [
    {
     "data": {
      "text/plain": [
       "(2059, 20)"
      ]
     },
     "execution_count": 6,
     "metadata": {},
     "output_type": "execute_result"
    }
   ],
   "source": [
    "# Number of rows and columns\n",
    "usedcars.shape"
   ]
  },
  {
   "cell_type": "code",
   "execution_count": 7,
   "id": "f9ca7e37",
   "metadata": {},
   "outputs": [
    {
     "data": {
      "text/plain": [
       "Make                    0\n",
       "Model                   0\n",
       "Price                   0\n",
       "Year                    0\n",
       "Kilometer               0\n",
       "Fuel Type               0\n",
       "Transmission            0\n",
       "Location                0\n",
       "Color                   0\n",
       "Owner                   0\n",
       "Seller Type             0\n",
       "Engine                 80\n",
       "Max Power              80\n",
       "Max Torque             80\n",
       "Drivetrain            136\n",
       "Length                 64\n",
       "Width                  64\n",
       "Height                 64\n",
       "Seating Capacity       64\n",
       "Fuel Tank Capacity    113\n",
       "dtype: int64"
      ]
     },
     "execution_count": 7,
     "metadata": {},
     "output_type": "execute_result"
    }
   ],
   "source": [
    "# Check for missing data\n",
    "usedcars.isnull().sum()"
   ]
  },
  {
   "cell_type": "markdown",
   "id": "fc9b49a4",
   "metadata": {},
   "source": [
    "Some of the rows have missing values so in the next step we will remove the NA values."
   ]
  },
  {
   "cell_type": "code",
   "execution_count": 8,
   "id": "fc4185c6",
   "metadata": {},
   "outputs": [
    {
     "data": {
      "text/plain": [
       "Make                  0\n",
       "Model                 0\n",
       "Price                 0\n",
       "Year                  0\n",
       "Kilometer             0\n",
       "Fuel Type             0\n",
       "Transmission          0\n",
       "Location              0\n",
       "Color                 0\n",
       "Owner                 0\n",
       "Seller Type           0\n",
       "Engine                0\n",
       "Max Power             0\n",
       "Max Torque            0\n",
       "Drivetrain            0\n",
       "Length                0\n",
       "Width                 0\n",
       "Height                0\n",
       "Seating Capacity      0\n",
       "Fuel Tank Capacity    0\n",
       "dtype: int64"
      ]
     },
     "execution_count": 8,
     "metadata": {},
     "output_type": "execute_result"
    }
   ],
   "source": [
    "usedcars = usedcars.dropna(axis = 0, how = 'any')\n",
    "usedcars.isnull().sum()"
   ]
  },
  {
   "cell_type": "code",
   "execution_count": 9,
   "id": "ce8b4814",
   "metadata": {},
   "outputs": [
    {
     "data": {
      "text/plain": [
       "(1874, 20)"
      ]
     },
     "execution_count": 9,
     "metadata": {},
     "output_type": "execute_result"
    }
   ],
   "source": [
    "usedcars.shape"
   ]
  },
  {
   "cell_type": "markdown",
   "id": "5ddcc1af",
   "metadata": {},
   "source": [
    "The missing values have been removed from the dataset."
   ]
  },
  {
   "cell_type": "code",
   "execution_count": 10,
   "id": "9dcd4b75",
   "metadata": {},
   "outputs": [
    {
     "data": {
      "text/plain": [
       "0"
      ]
     },
     "execution_count": 10,
     "metadata": {},
     "output_type": "execute_result"
    }
   ],
   "source": [
    "# Duplicated values\n",
    "usedcars.duplicated().sum()"
   ]
  },
  {
   "cell_type": "markdown",
   "id": "e843f01f",
   "metadata": {},
   "source": [
    "There are no duplicated values."
   ]
  },
  {
   "cell_type": "code",
   "execution_count": 11,
   "id": "f22b4dc8",
   "metadata": {},
   "outputs": [
    {
     "data": {
      "text/plain": [
       "Make                   object\n",
       "Model                  object\n",
       "Price                   int64\n",
       "Year                    int64\n",
       "Kilometer               int64\n",
       "Fuel Type              object\n",
       "Transmission           object\n",
       "Location               object\n",
       "Color                  object\n",
       "Owner                  object\n",
       "Seller Type            object\n",
       "Engine                 object\n",
       "Max Power              object\n",
       "Max Torque             object\n",
       "Drivetrain             object\n",
       "Length                float64\n",
       "Width                 float64\n",
       "Height                float64\n",
       "Seating Capacity      float64\n",
       "Fuel Tank Capacity    float64\n",
       "dtype: object"
      ]
     },
     "execution_count": 11,
     "metadata": {},
     "output_type": "execute_result"
    }
   ],
   "source": [
    "# How is the data stored\n",
    "usedcars.dtypes"
   ]
  },
  {
   "cell_type": "markdown",
   "id": "cab900e1",
   "metadata": {},
   "source": [
    "## Preprocessing the Data\n",
    "Now that we see that most of the features are categorical data, thus we should convert these to dummy columns for the ML models."
   ]
  },
  {
   "cell_type": "code",
   "execution_count": 12,
   "id": "703a4538",
   "metadata": {},
   "outputs": [
    {
     "data": {
      "text/html": [
       "<div>\n",
       "<style scoped>\n",
       "    .dataframe tbody tr th:only-of-type {\n",
       "        vertical-align: middle;\n",
       "    }\n",
       "\n",
       "    .dataframe tbody tr th {\n",
       "        vertical-align: top;\n",
       "    }\n",
       "\n",
       "    .dataframe thead th {\n",
       "        text-align: right;\n",
       "    }\n",
       "</style>\n",
       "<table border=\"1\" class=\"dataframe\">\n",
       "  <thead>\n",
       "    <tr style=\"text-align: right;\">\n",
       "      <th></th>\n",
       "      <th>Price</th>\n",
       "      <th>Year</th>\n",
       "      <th>Kilometer</th>\n",
       "      <th>Length</th>\n",
       "      <th>Width</th>\n",
       "      <th>Height</th>\n",
       "      <th>Seating Capacity</th>\n",
       "      <th>Fuel Tank Capacity</th>\n",
       "      <th>Make_BMW</th>\n",
       "      <th>Make_Chevrolet</th>\n",
       "      <th>...</th>\n",
       "      <th>Max Torque_95 Nm @ 4000 rpm</th>\n",
       "      <th>Max Torque_96 Nm @ 3000 rpm</th>\n",
       "      <th>Max Torque_96 Nm @ 3500 rpm</th>\n",
       "      <th>Max Torque_98 Nm @ 3000 rpm</th>\n",
       "      <th>Max Torque_99 Nm @ 4500 rpm</th>\n",
       "      <th>Max Torque_99.08 Nm @ 4500 rpm</th>\n",
       "      <th>Max Torque_99.081 Nm @ 4500 rpm</th>\n",
       "      <th>Max Torque_99@2800</th>\n",
       "      <th>Drivetrain_FWD</th>\n",
       "      <th>Drivetrain_RWD</th>\n",
       "    </tr>\n",
       "  </thead>\n",
       "  <tbody>\n",
       "    <tr>\n",
       "      <th>0</th>\n",
       "      <td>505000</td>\n",
       "      <td>2017</td>\n",
       "      <td>87150</td>\n",
       "      <td>3990.0</td>\n",
       "      <td>1680.0</td>\n",
       "      <td>1505.0</td>\n",
       "      <td>5.0</td>\n",
       "      <td>35.0</td>\n",
       "      <td>0</td>\n",
       "      <td>0</td>\n",
       "      <td>...</td>\n",
       "      <td>0</td>\n",
       "      <td>0</td>\n",
       "      <td>0</td>\n",
       "      <td>0</td>\n",
       "      <td>0</td>\n",
       "      <td>0</td>\n",
       "      <td>0</td>\n",
       "      <td>0</td>\n",
       "      <td>1</td>\n",
       "      <td>0</td>\n",
       "    </tr>\n",
       "    <tr>\n",
       "      <th>1</th>\n",
       "      <td>450000</td>\n",
       "      <td>2014</td>\n",
       "      <td>75000</td>\n",
       "      <td>3995.0</td>\n",
       "      <td>1695.0</td>\n",
       "      <td>1555.0</td>\n",
       "      <td>5.0</td>\n",
       "      <td>42.0</td>\n",
       "      <td>0</td>\n",
       "      <td>0</td>\n",
       "      <td>...</td>\n",
       "      <td>0</td>\n",
       "      <td>0</td>\n",
       "      <td>0</td>\n",
       "      <td>0</td>\n",
       "      <td>0</td>\n",
       "      <td>0</td>\n",
       "      <td>0</td>\n",
       "      <td>0</td>\n",
       "      <td>1</td>\n",
       "      <td>0</td>\n",
       "    </tr>\n",
       "    <tr>\n",
       "      <th>2</th>\n",
       "      <td>220000</td>\n",
       "      <td>2011</td>\n",
       "      <td>67000</td>\n",
       "      <td>3585.0</td>\n",
       "      <td>1595.0</td>\n",
       "      <td>1550.0</td>\n",
       "      <td>5.0</td>\n",
       "      <td>35.0</td>\n",
       "      <td>0</td>\n",
       "      <td>0</td>\n",
       "      <td>...</td>\n",
       "      <td>0</td>\n",
       "      <td>0</td>\n",
       "      <td>0</td>\n",
       "      <td>0</td>\n",
       "      <td>0</td>\n",
       "      <td>0</td>\n",
       "      <td>0</td>\n",
       "      <td>0</td>\n",
       "      <td>1</td>\n",
       "      <td>0</td>\n",
       "    </tr>\n",
       "    <tr>\n",
       "      <th>3</th>\n",
       "      <td>799000</td>\n",
       "      <td>2019</td>\n",
       "      <td>37500</td>\n",
       "      <td>3995.0</td>\n",
       "      <td>1745.0</td>\n",
       "      <td>1510.0</td>\n",
       "      <td>5.0</td>\n",
       "      <td>37.0</td>\n",
       "      <td>0</td>\n",
       "      <td>0</td>\n",
       "      <td>...</td>\n",
       "      <td>0</td>\n",
       "      <td>0</td>\n",
       "      <td>0</td>\n",
       "      <td>0</td>\n",
       "      <td>0</td>\n",
       "      <td>0</td>\n",
       "      <td>0</td>\n",
       "      <td>0</td>\n",
       "      <td>1</td>\n",
       "      <td>0</td>\n",
       "    </tr>\n",
       "    <tr>\n",
       "      <th>4</th>\n",
       "      <td>1950000</td>\n",
       "      <td>2018</td>\n",
       "      <td>69000</td>\n",
       "      <td>4735.0</td>\n",
       "      <td>1830.0</td>\n",
       "      <td>1795.0</td>\n",
       "      <td>7.0</td>\n",
       "      <td>55.0</td>\n",
       "      <td>0</td>\n",
       "      <td>0</td>\n",
       "      <td>...</td>\n",
       "      <td>0</td>\n",
       "      <td>0</td>\n",
       "      <td>0</td>\n",
       "      <td>0</td>\n",
       "      <td>0</td>\n",
       "      <td>0</td>\n",
       "      <td>0</td>\n",
       "      <td>0</td>\n",
       "      <td>0</td>\n",
       "      <td>1</td>\n",
       "    </tr>\n",
       "  </tbody>\n",
       "</table>\n",
       "<p>5 rows × 1770 columns</p>\n",
       "</div>"
      ],
      "text/plain": [
       "     Price  Year  Kilometer  Length   Width  Height  Seating Capacity  \\\n",
       "0   505000  2017      87150  3990.0  1680.0  1505.0               5.0   \n",
       "1   450000  2014      75000  3995.0  1695.0  1555.0               5.0   \n",
       "2   220000  2011      67000  3585.0  1595.0  1550.0               5.0   \n",
       "3   799000  2019      37500  3995.0  1745.0  1510.0               5.0   \n",
       "4  1950000  2018      69000  4735.0  1830.0  1795.0               7.0   \n",
       "\n",
       "   Fuel Tank Capacity  Make_BMW  Make_Chevrolet  ...  \\\n",
       "0                35.0         0               0  ...   \n",
       "1                42.0         0               0  ...   \n",
       "2                35.0         0               0  ...   \n",
       "3                37.0         0               0  ...   \n",
       "4                55.0         0               0  ...   \n",
       "\n",
       "   Max Torque_95 Nm @ 4000 rpm  Max Torque_96 Nm @ 3000 rpm  \\\n",
       "0                            0                            0   \n",
       "1                            0                            0   \n",
       "2                            0                            0   \n",
       "3                            0                            0   \n",
       "4                            0                            0   \n",
       "\n",
       "   Max Torque_96 Nm @ 3500 rpm  Max Torque_98 Nm @ 3000 rpm  \\\n",
       "0                            0                            0   \n",
       "1                            0                            0   \n",
       "2                            0                            0   \n",
       "3                            0                            0   \n",
       "4                            0                            0   \n",
       "\n",
       "   Max Torque_99 Nm @ 4500 rpm  Max Torque_99.08 Nm @ 4500 rpm  \\\n",
       "0                            0                               0   \n",
       "1                            0                               0   \n",
       "2                            0                               0   \n",
       "3                            0                               0   \n",
       "4                            0                               0   \n",
       "\n",
       "   Max Torque_99.081 Nm @ 4500 rpm  Max Torque_99@2800  Drivetrain_FWD  \\\n",
       "0                                0                   0               1   \n",
       "1                                0                   0               1   \n",
       "2                                0                   0               1   \n",
       "3                                0                   0               1   \n",
       "4                                0                   0               0   \n",
       "\n",
       "   Drivetrain_RWD  \n",
       "0               0  \n",
       "1               0  \n",
       "2               0  \n",
       "3               0  \n",
       "4               1  \n",
       "\n",
       "[5 rows x 1770 columns]"
      ]
     },
     "execution_count": 12,
     "metadata": {},
     "output_type": "execute_result"
    }
   ],
   "source": [
    "# lets engineer dummy colums from the categorical variables\n",
    "# first lets get the list of all the categorical variables\n",
    "categorical_columns = usedcars.select_dtypes(include=['object']).columns\n",
    "# then lets convert these to dummies using pd.get_dummies\n",
    "usedcars_ML = pd.get_dummies(usedcars, columns=categorical_columns, drop_first=True) # drop_first=True set to avoid potential collinearity issues\n",
    "# now check if the change worked correctly\n",
    "usedcars_ML.head() # looks good"
   ]
  },
  {
   "cell_type": "markdown",
   "id": "5dd1f57b",
   "metadata": {},
   "source": [
    "In this step we converted all categorical variables to binary variables for the purpose of the model. In addition, we included the drop_first=True tag to drop one of the categorical variables when converting to binary variables. This helps mitigate multi-collinearity when the presence of one variable indicates the lack of presence of another. By dropping one of the variables, we can reduce the effect of the double encoded value (for example a 1 in Make_BMW may always indicate a 0 in Make_Chevrolet, thus the including both in the model may artifically increase the effect of the double encoded value)."
   ]
  },
  {
   "cell_type": "code",
   "execution_count": 13,
   "id": "bad615bd",
   "metadata": {},
   "outputs": [],
   "source": [
    "# lets export our cleaned data to a csv file\n",
    "usedcars_ML.to_csv('ML_usedcars.csv', index=False)"
   ]
  },
  {
   "cell_type": "markdown",
   "id": "92697fd8",
   "metadata": {},
   "source": [
    "## KNN"
   ]
  },
  {
   "cell_type": "code",
   "execution_count": 16,
   "id": "2e096138",
   "metadata": {},
   "outputs": [
    {
     "name": "stdout",
     "output_type": "stream",
     "text": [
      "Best k: 2\n",
      "Mean Squared Error: 8631613980034.74\n"
     ]
    }
   ],
   "source": [
    "# Split the dataset into features (X) and labels (y)\n",
    "X = usedcars_ML.drop(columns=['Price'])  # Features\n",
    "y = usedcars_ML['Price']  # Labels\n",
    "\n",
    "# Split the data into training and testing sets\n",
    "X_train, X_test, y_train, y_test = train_test_split(X, y, test_size=0.2, random_state=42)\n",
    "\n",
    "# Standardize the features\n",
    "scaler = StandardScaler()\n",
    "X_train_scaled = scaler.fit_transform(X_train)\n",
    "X_test_scaled = scaler.transform(X_test)\n"
   ]
  },
  {
   "cell_type": "markdown",
   "id": "96f02751",
   "metadata": {},
   "source": [
    "Find best value of k for KNN algorithm using Grid Search"
   ]
  },
  {
   "cell_type": "code",
   "execution_count": 22,
   "id": "8bcffb94",
   "metadata": {},
   "outputs": [
    {
     "data": {
      "text/html": [
       "<style>#sk-container-id-2 {color: black;background-color: white;}#sk-container-id-2 pre{padding: 0;}#sk-container-id-2 div.sk-toggleable {background-color: white;}#sk-container-id-2 label.sk-toggleable__label {cursor: pointer;display: block;width: 100%;margin-bottom: 0;padding: 0.3em;box-sizing: border-box;text-align: center;}#sk-container-id-2 label.sk-toggleable__label-arrow:before {content: \"▸\";float: left;margin-right: 0.25em;color: #696969;}#sk-container-id-2 label.sk-toggleable__label-arrow:hover:before {color: black;}#sk-container-id-2 div.sk-estimator:hover label.sk-toggleable__label-arrow:before {color: black;}#sk-container-id-2 div.sk-toggleable__content {max-height: 0;max-width: 0;overflow: hidden;text-align: left;background-color: #f0f8ff;}#sk-container-id-2 div.sk-toggleable__content pre {margin: 0.2em;color: black;border-radius: 0.25em;background-color: #f0f8ff;}#sk-container-id-2 input.sk-toggleable__control:checked~div.sk-toggleable__content {max-height: 200px;max-width: 100%;overflow: auto;}#sk-container-id-2 input.sk-toggleable__control:checked~label.sk-toggleable__label-arrow:before {content: \"▾\";}#sk-container-id-2 div.sk-estimator input.sk-toggleable__control:checked~label.sk-toggleable__label {background-color: #d4ebff;}#sk-container-id-2 div.sk-label input.sk-toggleable__control:checked~label.sk-toggleable__label {background-color: #d4ebff;}#sk-container-id-2 input.sk-hidden--visually {border: 0;clip: rect(1px 1px 1px 1px);clip: rect(1px, 1px, 1px, 1px);height: 1px;margin: -1px;overflow: hidden;padding: 0;position: absolute;width: 1px;}#sk-container-id-2 div.sk-estimator {font-family: monospace;background-color: #f0f8ff;border: 1px dotted black;border-radius: 0.25em;box-sizing: border-box;margin-bottom: 0.5em;}#sk-container-id-2 div.sk-estimator:hover {background-color: #d4ebff;}#sk-container-id-2 div.sk-parallel-item::after {content: \"\";width: 100%;border-bottom: 1px solid gray;flex-grow: 1;}#sk-container-id-2 div.sk-label:hover label.sk-toggleable__label {background-color: #d4ebff;}#sk-container-id-2 div.sk-serial::before {content: \"\";position: absolute;border-left: 1px solid gray;box-sizing: border-box;top: 0;bottom: 0;left: 50%;z-index: 0;}#sk-container-id-2 div.sk-serial {display: flex;flex-direction: column;align-items: center;background-color: white;padding-right: 0.2em;padding-left: 0.2em;position: relative;}#sk-container-id-2 div.sk-item {position: relative;z-index: 1;}#sk-container-id-2 div.sk-parallel {display: flex;align-items: stretch;justify-content: center;background-color: white;position: relative;}#sk-container-id-2 div.sk-item::before, #sk-container-id-2 div.sk-parallel-item::before {content: \"\";position: absolute;border-left: 1px solid gray;box-sizing: border-box;top: 0;bottom: 0;left: 50%;z-index: -1;}#sk-container-id-2 div.sk-parallel-item {display: flex;flex-direction: column;z-index: 1;position: relative;background-color: white;}#sk-container-id-2 div.sk-parallel-item:first-child::after {align-self: flex-end;width: 50%;}#sk-container-id-2 div.sk-parallel-item:last-child::after {align-self: flex-start;width: 50%;}#sk-container-id-2 div.sk-parallel-item:only-child::after {width: 0;}#sk-container-id-2 div.sk-dashed-wrapped {border: 1px dashed gray;margin: 0 0.4em 0.5em 0.4em;box-sizing: border-box;padding-bottom: 0.4em;background-color: white;}#sk-container-id-2 div.sk-label label {font-family: monospace;font-weight: bold;display: inline-block;line-height: 1.2em;}#sk-container-id-2 div.sk-label-container {text-align: center;}#sk-container-id-2 div.sk-container {/* jupyter's `normalize.less` sets `[hidden] { display: none; }` but bootstrap.min.css set `[hidden] { display: none !important; }` so we also need the `!important` here to be able to override the default hidden behavior on the sphinx rendered scikit-learn.org. See: https://github.com/scikit-learn/scikit-learn/issues/21755 */display: inline-block !important;position: relative;}#sk-container-id-2 div.sk-text-repr-fallback {display: none;}</style><div id=\"sk-container-id-2\" class=\"sk-top-container\"><div class=\"sk-text-repr-fallback\"><pre>GridSearchCV(estimator=KNeighborsRegressor(),\n",
       "             param_grid={&#x27;n_neighbors&#x27;: range(1, 50)})</pre><b>In a Jupyter environment, please rerun this cell to show the HTML representation or trust the notebook. <br />On GitHub, the HTML representation is unable to render, please try loading this page with nbviewer.org.</b></div><div class=\"sk-container\" hidden><div class=\"sk-item sk-dashed-wrapped\"><div class=\"sk-label-container\"><div class=\"sk-label sk-toggleable\"><input class=\"sk-toggleable__control sk-hidden--visually\" id=\"sk-estimator-id-4\" type=\"checkbox\" ><label for=\"sk-estimator-id-4\" class=\"sk-toggleable__label sk-toggleable__label-arrow\">GridSearchCV</label><div class=\"sk-toggleable__content\"><pre>GridSearchCV(estimator=KNeighborsRegressor(),\n",
       "             param_grid={&#x27;n_neighbors&#x27;: range(1, 50)})</pre></div></div></div><div class=\"sk-parallel\"><div class=\"sk-parallel-item\"><div class=\"sk-item\"><div class=\"sk-label-container\"><div class=\"sk-label sk-toggleable\"><input class=\"sk-toggleable__control sk-hidden--visually\" id=\"sk-estimator-id-5\" type=\"checkbox\" ><label for=\"sk-estimator-id-5\" class=\"sk-toggleable__label sk-toggleable__label-arrow\">estimator: KNeighborsRegressor</label><div class=\"sk-toggleable__content\"><pre>KNeighborsRegressor()</pre></div></div></div><div class=\"sk-serial\"><div class=\"sk-item\"><div class=\"sk-estimator sk-toggleable\"><input class=\"sk-toggleable__control sk-hidden--visually\" id=\"sk-estimator-id-6\" type=\"checkbox\" ><label for=\"sk-estimator-id-6\" class=\"sk-toggleable__label sk-toggleable__label-arrow\">KNeighborsRegressor</label><div class=\"sk-toggleable__content\"><pre>KNeighborsRegressor()</pre></div></div></div></div></div></div></div></div></div></div>"
      ],
      "text/plain": [
       "GridSearchCV(estimator=KNeighborsRegressor(),\n",
       "             param_grid={'n_neighbors': range(1, 50)})"
      ]
     },
     "execution_count": 22,
     "metadata": {},
     "output_type": "execute_result"
    }
   ],
   "source": [
    "# from sklearn.model_selection import GridSearchCV\n",
    "parameters = {\"n_neighbors\": range(1, 50)}\n",
    "gridsearch = GridSearchCV(KNeighborsRegressor(), parameters)\n",
    "gridsearch.fit(X_train_scaled, y_train)"
   ]
  },
  {
   "cell_type": "code",
   "execution_count": 23,
   "id": "3d98bc57",
   "metadata": {},
   "outputs": [
    {
     "data": {
      "text/plain": [
       "{'n_neighbors': 2}"
      ]
     },
     "execution_count": 23,
     "metadata": {},
     "output_type": "execute_result"
    }
   ],
   "source": [
    "gridsearch.best_params_"
   ]
  },
  {
   "cell_type": "markdown",
   "id": "80cca062",
   "metadata": {},
   "source": [
    "Use the best value of k=2 for KNN"
   ]
  },
  {
   "cell_type": "code",
   "execution_count": 25,
   "id": "b3aa3eea",
   "metadata": {},
   "outputs": [
    {
     "data": {
      "text/plain": [
       "2937960.8540677903"
      ]
     },
     "execution_count": 25,
     "metadata": {},
     "output_type": "execute_result"
    }
   ],
   "source": [
    "import math\n",
    "train_preds_grid = gridsearch.predict(X_train_scaled)\n",
    "train_mse = mean_squared_error(y_train, train_preds_grid)\n",
    "train_rmse = math.sqrt(train_mse)\n",
    "test_preds_grid = gridsearch.predict(X_test_scaled)\n",
    "test_mse = mean_squared_error(y_test, test_preds_grid)\n",
    "test_rmse = math.sqrt(test_mse)\n",
    "train_rmse\n",
    "\n",
    "test_rmse"
   ]
  },
  {
   "cell_type": "markdown",
   "id": "6568afd5",
   "metadata": {},
   "source": [
    "RMSE of 2937960.8540677903 may seem large but the 6-7 figure scale of the price in rupees means that this is is actually a pretty good RMSE for the KNN model. Overall, the model is considering the two nearest neighbors before classifying the data points. Other models may be better are explaining the relationships in the data as the RMSE is still rather large, but the KNN seems to be decent at explaining the data given the scale of the Price variable."
   ]
  },
  {
   "cell_type": "markdown",
   "id": "c5bf6b76",
   "metadata": {},
   "source": [
    "## PCA"
   ]
  },
  {
   "cell_type": "code",
   "execution_count": 55,
   "id": "5d7def76",
   "metadata": {},
   "outputs": [
    {
     "data": {
      "image/png": "[encoded data removed]",
      "text/plain": [
       "<Figure size 640x480 with 1 Axes>"
      ]
     },
     "metadata": {},
     "output_type": "display_data"
    },
    {
     "name": "stdout",
     "output_type": "stream",
     "text": [
      "\n",
      "Principal Component 1 - Feature Importance:\n",
      "Length: 0.2663846002971657\n",
      "Width: 0.2667164285000283\n",
      "Fuel Tank Capacity: 0.28022613120722667\n",
      "Drivetrain_FWD: -0.2635286910074681\n",
      "\n",
      "Principal Component 4 - Feature Importance:\n",
      "Make_Lexus: 0.2812533007744431\n",
      "Model_ES 300h Exquisite [2020-2021]: 0.32649459555655513\n",
      "Fuel Type_Hybrid: 0.3150568776201896\n",
      "Engine_2487 cc: 0.32649459555655513\n",
      "Max Power_176 bhp @ 5700 rpm: 0.32649459555655513\n",
      "Max Torque_221 Nm @ 3600 rpm: 0.32649459555655513\n",
      "\n",
      "Principal Component 5 - Feature Importance:\n",
      "Make_Mitsubishi: 0.3835609447004826\n",
      "Engine_2477 cc: 0.29941624631485864\n",
      "Max Power_176 bhp @ 4000 rpm: 0.29941624631485864\n",
      "Max Torque_350 Nm @ 1800 rpm: 0.25064513799856314\n",
      "\n",
      "Principal Component 9 - Feature Importance:\n",
      "Make_Toyota: -0.2596250596030418\n",
      "\n",
      "Principal Component 10 - Feature Importance:\n",
      "Make_Ferrari: 0.4142356455196188\n",
      "Model_488 GTB: 0.41423564551961767\n",
      "Engine_3902 cc: 0.4142356455196189\n",
      "Max Power_660 bhp @ 8000 rpm: 0.4142356455196189\n",
      "Max Torque_760 Nm @ 3000 rpm: 0.4142356455196189\n",
      "\n",
      "Principal Component 11 - Feature Importance:\n",
      "Make_Hyundai: 0.2724552267097163\n",
      "\n",
      "Principal Component 12 - Feature Importance:\n",
      "Make_Renault: 0.2537300332303848\n",
      "\n",
      "Principal Component 16 - Feature Importance:\n",
      "Make_Ssangyong: 0.2835434307647464\n",
      "Engine_2696 cc: 0.2835434307647464\n",
      "\n",
      "Principal Component 18 - Feature Importance:\n",
      "Make_Chevrolet: 0.3777256626540425\n",
      "Model_Beat LT Diesel: 0.2812701021382146\n",
      "Model_Spark LS 1.0 BS-III: 0.2810821316741683\n",
      "Engine_936 cc: 0.2812701021382146\n",
      "Engine_995 cc: 0.2810821316741683\n",
      "Max Power_58 bhp @ 4000 rpm: 0.2812701021382146\n",
      "Max Power_62 bhp @ 5400 rpm: 0.2810821316741683\n",
      "Max Torque_150 Nm @ 1750 rpm: 0.2812701021382146\n",
      "Max Torque_90 Nm @ 4200 rpm: 0.2810821316741683\n",
      "\n",
      "Principal Component 25 - Feature Importance:\n",
      "Engine_1799 cc: 0.28050079006281065\n",
      "Max Power_130 bhp @ 6300 rpm: 0.28050079006281065\n",
      "Max Torque_171.62 Nm @ 4300 rpm: 0.28050079006281065\n",
      "\n",
      "Principal Component 27 - Feature Importance:\n",
      "Make_Isuzu: 0.37836482292495427\n",
      "Model_MU-X 4x2: 0.3783648229249542\n",
      "Engine_2999 cc: 0.35016306844565914\n",
      "Max Power_174 bhp @ 3600 rpm: 0.3155108840037846\n",
      "Max Torque_380 Nm @ 1800 rpm: 0.3783648229249542\n",
      "\n",
      "Principal Component 35 - Feature Importance:\n",
      "Make_Maserati: 0.2588013755953155\n",
      "Model_Levante Diesel: 0.2588013755953156\n",
      "Engine_2979 cc: 0.2588013755953156\n",
      "Max Power_275 bhp @ 4000 rpm: 0.2588013755953156\n",
      "\n",
      "Principal Component 48 - Feature Importance:\n",
      "Model_Endeavour 3.0L 4x4 AT: 0.27592591221227875\n",
      "Engine_2953 cc: 0.27592591221227875\n",
      "Max Power_154 bhp @ 3200 rpm: 0.27592591221227875\n",
      "Max Torque_380 Nm @ 2500 rpm: 0.27592591221227875\n",
      "\n",
      "Principal Component 55 - Feature Importance:\n",
      "Model_Scorpio 2.6 Turbo 7 Str: 0.31672395541476733\n",
      "Engine_2609 cc: 0.31672395541476733\n",
      "Max Power_116@3800: 0.31672395541476733\n",
      "Max Torque_277@1700: 0.31672395541476733\n",
      "\n",
      "Principal Component 75 - Feature Importance:\n",
      "Model_R-Class R350 4MATIC: 0.27470700806256226\n",
      "Engine_3496 cc: 0.27470700806256226\n",
      "Max Power_272 bhp @ 6000 rpm: 0.27470700806256226\n",
      "Max Torque_350 Nm @ 5000 rpm: 0.27470700806256226\n",
      "\n",
      "Principal Component 78 - Feature Importance:\n",
      "Model_Accent Executive: 0.4127103271121799\n",
      "Engine_1495 cc: 0.4127103271121806\n",
      "Max Power_94 bhp @ 5500 rpm: 0.4127103271121806\n",
      "Max Torque_125 Nm @ 3500 rpm: 0.4127103271121806\n",
      "\n",
      "Principal Component 83 - Feature Importance:\n",
      "Engine_1399 cc: 0.2851622098441347\n",
      "\n",
      "Principal Component 84 - Feature Importance:\n",
      "Engine_2996 cc: 0.31933262691638237\n",
      "\n",
      "Principal Component 90 - Feature Importance:\n",
      "Engine_1794 cc: 0.32498141820091037\n",
      "Max Power_132@6000: 0.32498141820091037\n",
      "Max Torque_170@4200: 0.32498141820091037\n",
      "\n",
      "Principal Component 93 - Feature Importance:\n",
      "Model_Wagon R LXi LPG: 0.29210177355038563\n",
      "Model_Wagon R LXi Minor: -0.25148402048815127\n",
      "Max Power_46 bhp @ 6200 rpm: 0.29210177355038575\n",
      "Max Power_67@6200: -0.25148402048815127\n",
      "Max Torque_84@3500: -0.25148402048815127\n",
      "Max Torque_85 Nm @ 3500 rpm: 0.29210177355038575\n",
      "\n",
      "Principal Component 94 - Feature Importance:\n",
      "Engine_2184 cc: 0.2848866101099901\n",
      "\n",
      "Principal Component 95 - Feature Importance:\n",
      "Model_M-Class ML 350 CDI: 0.38376355441222665\n",
      "Engine_2997 cc: 0.38376355441222665\n",
      "Max Power_254 bhp @ 3600 rpm: 0.38376355441222665\n",
      "Max Torque_619 Nm @ 1600 rpm: 0.3351246058617869\n",
      "\n",
      "Principal Component 99 - Feature Importance:\n",
      "Engine_1196 cc: 0.29673088735162534\n",
      "\n",
      "Principal Component 101 - Feature Importance:\n",
      "Model_XC60 Inscription: 0.2781554715639826\n",
      "Engine_2400 cc: 0.2781554715639826\n",
      "Max Torque_440 Nm @ 1500 rpm: 0.2781554715639826\n",
      "\n",
      "Principal Component 105 - Feature Importance:\n",
      "Model_Alturas G4 4WD AT [2018-2020]: 0.3169050351275784\n",
      "Engine_2157 cc: 0.3169050351275784\n",
      "Max Power_178 bhp @ 4000 rpm: 0.3169050351275784\n",
      "\n",
      "Principal Component 106 - Feature Importance:\n",
      "Model_Sunny XL: 0.3384471584597974\n",
      "Max Power_98 bhp @ 6000 rpm: 0.3384471584597974\n",
      "Max Torque_134 Nm @ 4000 rpm: 0.3384471584597974\n",
      "\n",
      "Principal Component 109 - Feature Importance:\n",
      "Model_Eon 1.0 Kappa Magna + [2014-2016]: 0.3693630437116782\n",
      "Location_Faizabad: 0.25773388526698815\n",
      "Max Power_68 bhp @ 6200 rpm: 0.40528546196377174\n",
      "Max Torque_94 Nm @ 3500 rpm: 0.40528546196377174\n",
      "\n",
      "Principal Component 110 - Feature Importance:\n",
      "Model_Vellfire Hybrid: 0.3403456051948864\n",
      "Max Power_115 bhp @ 4700 rpm: 0.3403456051948864\n",
      "Max Torque_198 Nm @ 2800 rpm: 0.3403456051948864\n",
      "\n",
      "Principal Component 116 - Feature Importance:\n",
      "Model_Scorpio VLX 4WD BS-III: 0.30654922301587634\n",
      "Max Power_122@4000: 0.30654922301587634\n",
      "Max Torque_290@1800: 0.30654922301587634\n",
      "\n",
      "Principal Component 129 - Feature Importance:\n",
      "Model_E-Class E350 CDI Avantgarde: 0.25739870935669995\n",
      "Max Power_231@3800: 0.2573987093567\n",
      "Max Torque_540@1600: 0.2573987093567\n",
      "\n",
      "Principal Component 200 - Feature Importance:\n",
      "Model_3-Series 320i Luxury Line: 0.3141318165916451\n",
      "Max Power_181 bhp @ 5000 rpm: 0.3141318165916445\n",
      "Max Torque_270 Nm @ 1350 rpm: 0.3141318165916445\n",
      "\n",
      "Principal Component 204 - Feature Importance:\n",
      "Model_S-Class 350 L: 0.2779950330627623\n",
      "Max Power_272 bhp @ 6300 rpm: 0.27799503306276224\n",
      "Max Torque_345 Nm @ 4500 rpm: 0.27799503306276224\n",
      "\n",
      "Principal Component 206 - Feature Importance:\n",
      "Model_S-Class S 450: 0.3713326299231699\n",
      "Max Power_362 bhp @ 5250 rpm: 0.3713326299231699\n",
      "Max Torque_500 Nm @ 1800 rpm: 0.3713326299231699\n",
      "\n",
      "Principal Component 210 - Feature Importance:\n",
      "Model_Bolero SLE BS IV: 0.2913547764545453\n",
      "Max Power_63 bhp @ 3200 rpm: 0.29135477645454516\n",
      "Max Torque_195 Nm @ 1400 rpm: 0.29135477645454516\n",
      "\n",
      "Principal Component 211 - Feature Importance:\n",
      "Model_Bolero SLE BS IV: 0.2723611637300077\n",
      "Model_S60 Kinetic D4: 0.2705245205704883\n",
      "Max Power_165 bhp @ 3500 rpm: 0.2705245205704883\n",
      "Max Power_63 bhp @ 3200 rpm: 0.2723611637300076\n",
      "Max Torque_195 Nm @ 1400 rpm: 0.2723611637300076\n",
      "Max Torque_400 Nm @ 2750 rpm: 0.2705245205704883\n",
      "\n",
      "Principal Component 216 - Feature Importance:\n",
      "Max Power_154 bhp @ 4000 rpm: 0.2994092008817914\n",
      "Max Torque_400 Nm @ 1700 rpm: 0.29965852832237855\n",
      "\n",
      "Principal Component 218 - Feature Importance:\n",
      "Max Power_119 bhp @ 6600 rpm: 0.3316890060206413\n",
      "Max Torque_145 Nm @ 4300 rpm: 0.3316890060206413\n",
      "\n",
      "Principal Component 220 - Feature Importance:\n",
      "Model_A7 Sportback 3.0 TDI quattro: 0.33133092228976313\n",
      "Max Power_241 bhp @ 4000 rpm: 0.3313309222897631\n",
      "Max Torque_500 Nm @ 1400 rpm: 0.3969125272240245\n",
      "\n",
      "Principal Component 221 - Feature Importance:\n",
      "Model_C-Class C 43 AMG: 0.28810563002140843\n",
      "Model_GLE 43 4MATIC [2017-2019]: 0.2875026942171226\n",
      "Max Power_362 bhp @ 5500 rpm: 0.4072129912508548\n",
      "Max Torque_520 Nm @ 2000 rpm: 0.40712524654744303\n",
      "\n",
      "Principal Component 223 - Feature Importance:\n",
      "Model_CLA 200 D Urban Sport: 0.4379941704782617\n",
      "Max Power_136 bhp @ 3200 rpm: 0.43799417047826206\n",
      "Max Torque_300 Nm @ 1400 rpm: 0.44723521062892313\n",
      "\n",
      "Principal Component 224 - Feature Importance:\n",
      "Max Power_169 bhp @ 3600 rpm: -0.25280514292941947\n",
      "\n",
      "Principal Component 225 - Feature Importance:\n",
      "Max Power_75@4000: 0.27155276798107353\n",
      "Max Torque_190@2000: 0.27155276798107353\n",
      "\n",
      "Principal Component 226 - Feature Importance:\n",
      "Model_Alto LXi CNG: 0.383819227373272\n",
      "Max Power_39 bhp @ 6200 rpm: 0.4185188609853665\n",
      "Max Torque_54 Nm @ 3000 rpm: 0.4185188609853665\n",
      "\n",
      "Principal Component 227 - Feature Importance:\n",
      "Model_Rexton RX6: 0.3009766897254578\n",
      "Model_Rexton RX7: -0.3707634369224106\n",
      "Max Power_162 bhp @ 4000 rpm: 0.3009766897254578\n",
      "Max Power_184 bhp @ 4000 rpm: -0.2934075944806738\n",
      "Max Torque_340 Nm @ 3250 rpm: 0.3009766897254578\n",
      "Max Torque_402 Nm @ 3000 rpm: -0.3707634369224106\n",
      "\n",
      "Principal Component 228 - Feature Importance:\n",
      "Max Torque_190 Nm @ 1750 rpm: 0.25664450006803907\n",
      "\n",
      "Principal Component 229 - Feature Importance:\n",
      "Max Torque_104 Nm @ 3100 rpm: 0.2767342417348984\n",
      "\n",
      "Principal Component 230 - Feature Importance:\n",
      "Max Power_89 bhp @ 4200 rpm: 0.3756021523715176\n",
      "Max Torque_230 Nm @ 1500 rpm: 0.35731694834751154\n",
      "\n",
      "Principal Component 231 - Feature Importance:\n",
      "Model_Tiguan Highline TDI: 0.27907324388379007\n",
      "Max Power_141 bhp @ 4000 rpm: 0.28311750361637383\n",
      "Max Torque_340 Nm @ 1750 rpm: 0.3718629013296485\n",
      "\n",
      "Principal Component 232 - Feature Importance:\n",
      "Model_A3 40 TFSI Premium Plus + sunroof: 0.47315125802223085\n",
      "Max Power_178 bhp @ 5100 rpm: 0.46590917723747916\n",
      "Max Torque_250 Nm @ 150 rpm: 0.4731512580222297\n",
      "\n",
      "Principal Component 233 - Feature Importance:\n",
      "Max Power_82 bhp @ 6000 rpm: -0.3210060086735945\n",
      "Max Power_83 bhp @ 6000 rpm: 0.27457662412756195\n",
      "Max Torque_113 Nm @ 4200 rpm: -0.337176470624715\n",
      "\n",
      "Principal Component 234 - Feature Importance:\n",
      "Model_Ameo Trendline 1.5L (D): 0.40824899102589157\n",
      "Location_Ranga Reddy: 0.3960378997169351\n",
      "Max Power_109 bhp @ 4000 rpm: 0.4082489910258913\n",
      "\n",
      "Principal Component 235 - Feature Importance:\n",
      "Model_X5 xDrive30d xLine: 0.4069720531039525\n",
      "Max Power_261 bhp @ 4000 rpm: -0.2697136874168827\n",
      "Max Power_262 bhp @ 4000 rpm: 0.3288465219937838\n",
      "Max Torque_620 Nm @ 1500 rpm: 0.40697205310395246\n",
      "Max Torque_620 Nm @ 2000 rpm: -0.2983119274338422\n",
      "\n",
      "Principal Component 236 - Feature Importance:\n",
      "Model_Gloster Savvy 6 STR 2.0 Twin Turbo 4WD: 0.2661661648894324\n",
      "Model_Gloster Sharp 6 STR 2.0 Twin Turbo 4WD: 0.26585697844431283\n",
      "Max Torque_480 Nm @ 1500 rpm: 0.3762976389982468\n",
      "\n",
      "Principal Component 237 - Feature Importance:\n",
      "Max Power_73 bhp @ 6000 rpm: 0.3739666200807067\n",
      "\n",
      "Principal Component 238 - Feature Importance:\n",
      "Model_Etios 1.2 G: 0.27538957367166017\n",
      "Model_Etios G: -0.2708549931868167\n",
      "Max Power_79 bhp @ 5600 rpm: 0.27538957367166017\n",
      "Max Power_90 bhp @ 5600 rpm: -0.2708549931868167\n",
      "Max Torque_104 Nm @ 3100 rpm: 0.2756159970172253\n",
      "Max Torque_132 Nm @ 3000 rpm: -0.26327984447430147\n",
      "\n",
      "Principal Component 239 - Feature Importance:\n",
      "Model_Alto LXi CNG [2014-2018]: 0.3928739193879122\n",
      "Model_Santro Sportz CNG [2018-2020]: -0.356501375864243\n",
      "Location_Pimpri-Chinchwad: 0.3928739193879121\n",
      "Max Power_58 bhp @ 5500 rpm: -0.3421229481935213\n",
      "Max Power_58 bhp @ 6000 rpm: 0.3270730214397676\n",
      "Max Torque_84 Nm @ 4500 rpm: -0.356501375864243\n",
      "\n",
      "Principal Component 240 - Feature Importance:\n",
      "Model_Figo Duratorq Diesel Titanium 1.4: 0.26959324199385953\n",
      "Model_Pulse RxL ABS Diesel [2015-2017]: -0.3040972381354817\n",
      "Max Power_63 bhp @ 4000 rpm: -0.3040972381354817\n",
      "Max Power_69@4000: 0.3893499468884904\n",
      "Max Torque_160 Nm @ 2000 rpm: -0.2925948531284002\n",
      "Max Torque_160@2000: 0.3893499468884904\n",
      "\n",
      "Principal Component 241 - Feature Importance:\n",
      "Model_Rapid Ambition 1.6 TDI CR MT: 0.3527981366724372\n",
      "Max Power_105 bhp @ 4400 rpm: 0.3527981366724372\n",
      "\n",
      "Principal Component 242 - Feature Importance:\n",
      "Max Power_108 bhp @ 3750 rpm: 0.29237651533571696\n",
      "\n",
      "Principal Component 243 - Feature Importance:\n",
      "Max Power_108 bhp @ 3750 rpm: 0.32191874092260986\n",
      "Max Torque_260 Nm @ 1500 rpm: 0.2799209549324862\n",
      "\n",
      "Principal Component 244 - Feature Importance:\n",
      "Model_Grand i10 Asta 1.1 CRDi [2013-2016]: 0.41780644007132234\n",
      "Max Power_70 bhp @ 4000 rpm: 0.41780644007132234\n",
      "Max Torque_160 Nm @ 1500 rpm: 0.3244506836194032\n",
      "Max Torque_180 Nm @ 1750 rpm: -0.3354731240787816\n",
      "\n",
      "Principal Component 246 - Feature Importance:\n",
      "Model_Wagon R VXi (O): 0.28028035902745135\n",
      "Model_XUV500 W4 1.99: -0.2576221689690801\n",
      "Location_Muzaffurpur: -0.2826767206937703\n",
      "Max Power_67.7 bhp @ 6200 rpm: 0.28028035902745135\n",
      "Max Torque_320 Nm @ 1600 rpm: -0.28970853505094785\n",
      "\n",
      "Principal Component 247 - Feature Importance:\n",
      "Model_GL-Class 350 CDI: 0.3871599117194751\n",
      "Max Power_258 bhp @ 3600 rpm: 0.3871599117194751\n",
      "\n",
      "Principal Component 249 - Feature Importance:\n",
      "Model_Wagon R VXi (O): 0.4323635689540147\n",
      "Location_Allahabad: 0.37736457690394726\n",
      "Max Power_67.7 bhp @ 6200 rpm: 0.4323635689540148\n",
      "\n",
      "Principal Component 253 - Feature Importance:\n",
      "Model_Aspire Titanium 1.2 Ti-VCT: 0.36355905715487274\n",
      "Max Power_87 bhp @ 6300 rpm: 0.36355905715487297\n",
      "Max Torque_112 Nm @ 4000 rpm: 0.3473444717384386\n",
      "\n",
      "Principal Component 255 - Feature Importance:\n",
      "Max Power_121 bhp @ 6400 rpm: 0.3426745646366893\n",
      "Max Torque_151 Nm @ 4850 rpm: 0.2538338729874869\n",
      "\n",
      "Principal Component 259 - Feature Importance:\n",
      "Model_S90 D4 Inscription: 0.2707917139617959\n",
      "Model_S90 Momentum D4 [2018-2020]: 0.2662185556412106\n",
      "Max Power_187 bhp @ 4250 rpm: 0.2707917139617959\n",
      "Max Power_190 bhp @ 4250 rpm: 0.2662185556412106\n",
      "\n",
      "Principal Component 260 - Feature Importance:\n",
      "Max Power_169 bhp @ 3750 rpm: -0.3197860453647634\n",
      "\n",
      "Principal Component 270 - Feature Importance:\n",
      "Model_E-Class E 200 Exclusive [2019-2019]: 0.3833695978735953\n",
      "Max Power_194 bhp @ 5800 rpm: 0.3833695978735953\n",
      "\n",
      "Principal Component 274 - Feature Importance:\n",
      "Model_Pajero 2.5 MT: 0.25934589994621876\n",
      "Max Torque_400 Nm @ 2000 rpm: 0.25934589994621876\n",
      "\n",
      "Principal Component 275 - Feature Importance:\n",
      "Max Power_67 bhp @ 6200 rpm: -0.25774438803045036\n",
      "\n",
      "Principal Component 282 - Feature Importance:\n",
      "Model_Ritz Vdi BS-IV: 0.2860568899178454\n",
      "Max Power_73 bhp @ 4000 rpm: 0.2860568899178454\n",
      "\n",
      "Principal Component 283 - Feature Importance:\n",
      "Model_Ritz Vdi BS-IV: 0.2659801215158388\n",
      "Max Power_73 bhp @ 4000 rpm: 0.2659801215158388\n",
      "\n",
      "Principal Component 285 - Feature Importance:\n",
      "Model_Countryman Cooper S JCW Inspired: 0.2510288044633748\n",
      "Max Power_189 bhp @ 4400 rpm: 0.2510288044633748\n",
      "\n",
      "Principal Component 287 - Feature Importance:\n",
      "Max Power_203 bhp @ 4200 rpm: -0.2723458583744853\n",
      "\n",
      "Principal Component 288 - Feature Importance:\n",
      "Max Torque_115 Nm @ 1500 rpm: 0.2718369636457124\n",
      "\n",
      "Principal Component 290 - Feature Importance:\n",
      "Max Power_177 bhp @ 4200 rpm: 0.2708481389014044\n",
      "\n",
      "Principal Component 295 - Feature Importance:\n",
      "Model_E-Class E 250 CDI Avantgarde: 0.2567573995492789\n",
      "Max Power_204 bhp @ 4200 rpm: 0.3134622618091614\n",
      "\n",
      "Principal Component 296 - Feature Importance:\n",
      "Model_XUV700 AX 7 Petrol AT Luxury Pack 7 STR: 0.2707357853153471\n",
      "Max Power_197 bhp @ 5000 rpm: 0.270735785315347\n",
      "\n",
      "Principal Component 300 - Feature Importance:\n",
      "Max Torque_113.796 Nm @ 4000 rpm: 0.2721131678583252\n",
      "\n",
      "Principal Component 301 - Feature Importance:\n",
      "Model_Verna 1.6 VTVT S: 0.26360670326536473\n",
      "Max Torque_155 Nm @ 4200 rpm: 0.26360670326536473\n",
      "\n",
      "Principal Component 306 - Feature Importance:\n",
      "Max Power_94 bhp @ 6000 rpm: -0.3192733608307192\n",
      "\n",
      "Principal Component 307 - Feature Importance:\n",
      "Model_C-Class C200 Progressive: -0.2546368032463525\n",
      "Max Power_201 bhp @ 5800 rpm: -0.25463680324635246\n",
      "\n",
      "Principal Component 308 - Feature Importance:\n",
      "Model_Alto 800 Lx CNG: 0.2522027350050202\n",
      "Max Power_48 bhp @ 6000 rpm: 0.2522027350050204\n",
      "\n",
      "Principal Component 312 - Feature Importance:\n",
      "Max Power_177 bhp @ 4200 rpm: 0.2546632456544562\n",
      "\n",
      "Principal Component 313 - Feature Importance:\n",
      "Model_S-Class S 350 CDI: 0.28627468948070967\n",
      "Max Power_255 bhp @ 3600 rpm: 0.28627468948070967\n",
      "\n",
      "Principal Component 314 - Feature Importance:\n",
      "Max Power_177 bhp @ 4500 rpm: 0.26399576659958257\n",
      "\n",
      "Principal Component 315 - Feature Importance:\n",
      "Model_Fabia Elegance 1.6 MPI: 0.2817983181234362\n",
      "Max Power_105 bhp @ 5250 rpm: 0.28179831812343625\n",
      "\n",
      "Principal Component 316 - Feature Importance:\n",
      "Max Power_184 bhp @ 3500 rpm: 0.2565870774447014\n",
      "\n",
      "Principal Component 317 - Feature Importance:\n",
      "Model_Elite i20 Sportz 1.2 MT: -0.2854647133676299\n",
      "Model_i10 1.1L iRDE ERA Special Edition: 0.27003619596516243\n",
      "Max Torque_115 Nm @ 4200 rpm: -0.28546471336762985\n",
      "Max Torque_99.081 Nm @ 4500 rpm: 0.2700361959651624\n",
      "\n",
      "Principal Component 318 - Feature Importance:\n",
      "Model_Elite i20 Sportz 1.2 MT: 0.2534518659205123\n",
      "Model_Q5 40 TDI Premium Plus: 0.25795083438656286\n",
      "Max Power_188 bhp @ 3800 rpm: 0.25795083438656286\n",
      "Max Torque_115 Nm @ 4200 rpm: 0.25345186592051244\n",
      "\n",
      "Principal Component 319 - Feature Importance:\n",
      "Model_Elantra 1.6 SX AT: -0.2650611421339114\n",
      "Model_Seltos HTK Plus 1.5 [2019-2020]: 0.29335182322250464\n",
      "Max Power_114 bhp @ 6300 rpm: 0.29335182322250464\n",
      "Max Torque_259 Nm @ 1900 rpm: -0.2650611421339113\n",
      "\n",
      "Principal Component 320 - Feature Importance:\n",
      "Model_Seltos HTK Plus 1.5 [2019-2020]: 0.30615695565725237\n",
      "Max Power_114 bhp @ 6300 rpm: 0.30615695565725237\n",
      "\n",
      "Principal Component 321 - Feature Importance:\n",
      "Model_A6 35 TFSI Matrix: 0.3817091198424037\n",
      "Max Power_190 bhp @ 4200 rpm: 0.3817091198424034\n",
      "\n",
      "Principal Component 322 - Feature Importance:\n",
      "Model_Elantra 1.6 SX AT: 0.40330665403077853\n",
      "Max Torque_259 Nm @ 1900 rpm: 0.40330665403077837\n",
      "\n",
      "Principal Component 323 - Feature Importance:\n",
      "Model_Q5 40 TDI Premium Plus: 0.26290637392247296\n",
      "Max Power_188 bhp @ 3800 rpm: 0.26290637392247296\n",
      "\n",
      "Principal Component 324 - Feature Importance:\n",
      "Model_C-Class C 250 d: 0.3375254412755051\n",
      "Max Power_204 bhp @ 3800 rpm: 0.3375254412755045\n",
      "\n",
      "Principal Component 325 - Feature Importance:\n",
      "Model_C-Class C 250 d: 0.2944830754411229\n",
      "Max Power_204 bhp @ 3800 rpm: 0.2944830754411224\n",
      "\n",
      "Principal Component 328 - Feature Importance:\n",
      "Max Power_190 bhp @ 3500 rpm: 0.27209474017429364\n",
      "\n",
      "Principal Component 329 - Feature Importance:\n",
      "Max Power_190 bhp @ 3500 rpm: 0.28469450692934206\n",
      "Max Torque_360 Nm @ 1400 rpm: 0.32660134127269413\n",
      "\n",
      "Principal Component 330 - Feature Importance:\n",
      "Model_Jazz S: 0.26112584813827033\n",
      "Max Power_89 bhp @ 6200 rpm: 0.26112584813827033\n",
      "Max Torque_113 Nm @ 4400 rpm: 0.38833593759055507\n",
      "Max Torque_113 Nm @ 4500 rpm: -0.2717704708384731\n",
      "\n",
      "Principal Component 331 - Feature Importance:\n",
      "Model_Ecosport Ambiente 1.5L Ti-VCT: 0.32579904018862993\n",
      "Model_Jazz V Diesel: 0.3907935256213726\n",
      "Max Power_110 bhp @ 6300 rpm: 0.32579904018862993\n",
      "Max Power_98 bhp @ 3600 rpm: 0.4546222803835778\n",
      "\n",
      "Principal Component 332 - Feature Importance:\n",
      "Model_Harrier XZA Plus Dark Edition: -0.3437877614520323\n",
      "Model_Kwid CLIMBER 1.0 [2017-2019]: -0.30176574635504266\n",
      "Model_Safari XZ Plus: 0.3757058787192768\n",
      "Location_Bhubaneswar: -0.5005569437784358\n",
      "Location_Gorakhpur: 0.3757058787192768\n",
      "\n",
      "Principal Component 333 - Feature Importance:\n",
      "Model_City V Petrol: 0.44115459460417145\n",
      "Model_Verna Fluidic 1.6 CRDi: 0.26523184799029065\n",
      "Max Power_118 bhp @ 6600 rpm: 0.45498033997557663\n",
      "Max Power_128 bhp @ 4000 rpm: 0.26523184799029065\n",
      "\n",
      "Principal Component 334 - Feature Importance:\n",
      "Model_City V Petrol: -0.37022151269941683\n",
      "Model_Verna Fluidic 1.6 CRDi: 0.3281722331349288\n",
      "Max Power_118 bhp @ 6600 rpm: -0.38162055747181195\n",
      "Max Power_128 bhp @ 4000 rpm: 0.3281722331349288\n",
      "\n",
      "Principal Component 335 - Feature Importance:\n",
      "Model_Santro Sportz CNG [2018-2020]: 0.4224702429542796\n",
      "Model_Wagon R LXi 1.0 CNG [2019-2020]: -0.32501121154718404\n",
      "Max Torque_78 Nm @ 3500 rpm: -0.3258335660844687\n",
      "Max Torque_84 Nm @ 4500 rpm: 0.4224702429542796\n",
      "\n",
      "Principal Component 336 - Feature Importance:\n",
      "Model_A6 2.0 TFSi Technology Pack: 0.34293412926953615\n",
      "Max Power_180 bhp @ 4000 rpm: 0.34293412926953615\n",
      "Max Torque_320 Nm @ 1500 rpm: -0.2703857750984157\n",
      "\n",
      "Principal Component 337 - Feature Importance:\n",
      "Model_Polo GT TSI: -0.26137364976849475\n",
      "Model_Vento TSI: 0.5162412720354823\n",
      "Location_Rohtak: 0.5162412720354823\n",
      "\n",
      "Principal Component 338 - Feature Importance:\n",
      "Max Torque_113 Nm @ 4500 rpm: 0.25245788947927505\n",
      "\n",
      "Principal Component 342 - Feature Importance:\n",
      "Model_XUV500 W8 AWD [2015-2017]: 0.27379840126253324\n",
      "Location_Rudrapur: 0.3946058081118164\n",
      "\n",
      "Principal Component 344 - Feature Importance:\n",
      "Model_Brio EX MT: 0.2630765696762747\n",
      "Location_Haldwani: 0.2914605559347323\n",
      "\n",
      "Principal Component 345 - Feature Importance:\n",
      "Model_Amaze 1.5 SX i-DTEC: 0.31232717329142107\n",
      "Model_Wagon R VXI+: 0.2672802069881754\n",
      "Location_Samastipur: 0.37685010419807696\n",
      "\n",
      "Principal Component 346 - Feature Importance:\n",
      "Model_Brio EX MT: -0.25631080504625836\n",
      "Model_Celerio ZXi AMT: 0.26100682365081485\n",
      "Location_Dharwad: 0.33992784509415463\n",
      "Location_Haldwani: -0.2708060667534965\n",
      "\n",
      "Principal Component 350 - Feature Importance:\n",
      "Model_Elite i20 Sportz 1.4 CRDI: 0.3559429809864097\n",
      "Location_Kheda: 0.372338889208519\n",
      "\n",
      "Principal Component 351 - Feature Importance:\n",
      "Model_Alto 800 Vxi (Airbag): 0.38763451377130737\n",
      "Model_Civic 1.8V MT: -0.2697316554371739\n",
      "Location_Deoghar: 0.3792794526147101\n",
      "\n",
      "Principal Component 353 - Feature Importance:\n",
      "Model_Superb L&K TDI AT: -0.31231721053634937\n",
      "\n",
      "Principal Component 355 - Feature Importance:\n",
      "Model_Xcent SX 1.1 CRDi: 0.31383019495729164\n",
      "\n",
      "Principal Component 356 - Feature Importance:\n",
      "Model_Grand i10 Asta AT 1.2 Kappa VTVT [2013-2016]: -0.2842243197523326\n",
      "\n",
      "Principal Component 357 - Feature Importance:\n",
      "Model_Fortuner 2.8 4x2 MT [2016-2020]: 0.361164150702267\n",
      "\n",
      "Principal Component 360 - Feature Importance:\n",
      "Location_Jamshedpur: 0.3138766637753\n",
      "\n",
      "Principal Component 361 - Feature Importance:\n",
      "Model_Swift Lxi (O) [2014-2017]: 0.2783760422208219\n",
      "Fuel Type_Petrol + CNG: 0.2776967256395096\n",
      "Location_Bhopal: 0.25473678617865786\n",
      "\n",
      "Principal Component 363 - Feature Importance:\n",
      "Location_Aurangabad: 0.30077490224701425\n",
      "\n",
      "Principal Component 364 - Feature Importance:\n",
      "Location_Zirakpur: 0.2510309735838219\n",
      "\n",
      "Principal Component 368 - Feature Importance:\n",
      "Location_Varanasi: 0.25460465164337887\n",
      "\n",
      "Principal Component 379 - Feature Importance:\n",
      "Location_Karnal: 0.2958108593017302\n",
      "\n",
      "Principal Component 382 - Feature Importance:\n",
      "Model_GLS 450 4MATIC: 0.2742573167981242\n",
      "\n",
      "Principal Component 388 - Feature Importance:\n",
      "Model_GLS 450 4MATIC: 0.3749726725101606\n",
      "\n",
      "Principal Component 393 - Feature Importance:\n",
      "Model_Venue S 1.0 AT Petrol [2019-2020]: 0.2516879713333578\n",
      "\n",
      "Principal Component 409 - Feature Importance:\n",
      "Model_A3 40 TFSI Premium: 0.28019549745732875\n",
      "\n",
      "Principal Component 415 - Feature Importance:\n",
      "Model_A3 40 TFSI Premium: 0.4132394329248007\n",
      "\n",
      "Principal Component 420 - Feature Importance:\n",
      "Model_Alto 800 VXi: 0.2776836887151896\n",
      "\n",
      "Principal Component 421 - Feature Importance:\n",
      "Model_S-Presso VXi (O): 0.47450302173682585\n",
      "\n",
      "Principal Component 422 - Feature Importance:\n",
      "Model_Alto 800 VXi: 0.2957502069275741\n",
      "\n",
      "Principal Component 425 - Feature Importance:\n",
      "Model_S-Presso VXi (O): 0.31199563280789755\n",
      "\n",
      "Principal Component 439 - Feature Importance:\n",
      "Model_DZire LDi: 0.2542606679334903\n",
      "\n",
      "Principal Component 440 - Feature Importance:\n",
      "Model_A-Class A 200d: 0.39852990139905325\n",
      "\n",
      "Principal Component 441 - Feature Importance:\n",
      "Model_A-Class A 200d: 0.46313298524392066\n",
      "\n",
      "Principal Component 443 - Feature Importance:\n",
      "Model_Seltos GTX Plus AT 1.5 Diesel [2019-2020]: 0.4430173371174493\n",
      "Model_Thar LX 4-STR Hard Top Petrol AT: -0.3272561073687061\n",
      "\n",
      "Principal Component 444 - Feature Importance:\n",
      "Location_Roorkee: 0.319563929405943\n",
      "\n",
      "Principal Component 445 - Feature Importance:\n",
      "Model_Seltos GTX Plus AT 1.5 Diesel [2019-2020]: 0.31927312981551087\n",
      "Model_X3 xDrive20d: 0.26826071077401875\n",
      "\n",
      "Principal Component 448 - Feature Importance:\n",
      "Model_Harrier XZ [2019-2020]: 0.2562825701308982\n",
      "Model_Scorpio VLX 2WD Airbag BS-IV: 0.29688269320704924\n",
      "\n",
      "Principal Component 449 - Feature Importance:\n",
      "Model_Discovery HSE: -0.32950132232609913\n",
      "Model_Eon 1.0 Kappa Magna AirBag: 0.49464753992501453\n",
      "Location_Faizabad: -0.27664050777166665\n",
      "\n",
      "Principal Component 450 - Feature Importance:\n",
      "Model_Eon 1.0 Kappa Magna AirBag: 0.516300998000034\n",
      "Location_Faizabad: -0.2925834886106793\n",
      "\n",
      "Principal Component 452 - Feature Importance:\n",
      "Model_Harrier XZ [2019-2020]: -0.2874673184131259\n",
      "Model_Scorpio VLX 2WD Airbag BS-IV: 0.26391757168983415\n",
      "\n",
      "Principal Component 453 - Feature Importance:\n",
      "Model_Vento Comfortline Petrol AT: 0.5276867647832081\n",
      "Model_XC40 D4 R-Design: -0.4572740513398303\n",
      "\n",
      "Principal Component 454 - Feature Importance:\n",
      "Model_Aura S 1.2 CNG: 0.3227255884532444\n",
      "Model_Safari 2.2 VX 4x2 Varicor400: 0.335307679157871\n",
      "Model_Vento Comfortline Petrol AT: 0.45326725681886604\n",
      "\n",
      "Principal Component 455 - Feature Importance:\n",
      "Model_XC40 D4 R-Design: 0.48965939007979836\n",
      "\n",
      "Principal Component 456 - Feature Importance:\n",
      "Model_Vitara Brezza ZDi+ Dual Tone [2017-2018]: 0.29471682137396915\n",
      "Model_XC40 D4 R-Design: 0.432079804475882\n",
      "\n",
      "Principal Component 457 - Feature Importance:\n",
      "Model_S-Presso VXi: 0.318390554944785\n",
      "Model_Vento Comfortline Petrol AT: 0.2727248217269663\n",
      "\n",
      "Principal Component 458 - Feature Importance:\n",
      "Model_Aura S 1.2 CNG: -0.2853351955172591\n",
      "Model_Harrier XZ [2019-2020]: -0.2883562801545886\n",
      "Model_Vitara Brezza ZDi+ Dual Tone [2017-2018]: 0.2695182531081286\n",
      "Model_i10 Era 1.1 iRDE2 [2010-2017]: -0.28432455762865044\n",
      "Model_i10 Magna 1.1 LPG: 0.3430874137003011\n",
      "\n",
      "Principal Component 459 - Feature Importance:\n",
      "Model_i10 Magna 1.1 LPG: 0.2930148153049476\n",
      "\n",
      "Principal Component 460 - Feature Importance:\n",
      "Model_Harrier XZ [2019-2020]: 0.3305852069821608\n",
      "Model_i10 Magna 1.1 LPG: 0.293919958864667\n",
      "\n",
      "Principal Component 461 - Feature Importance:\n",
      "Model_S-Presso VXi: 0.39438295695793124\n",
      "Model_S-Presso VXi AMT: 0.33485810456575754\n",
      "\n",
      "Principal Component 462 - Feature Importance:\n",
      "Model_Scorpio S3 2WD 7 STR: 0.3645151205914932\n",
      "Location_Purnea: -0.2637258880175552\n",
      "\n",
      "Principal Component 463 - Feature Importance:\n",
      "Model_Hexa XE 4x2 7 STR: 0.25774444120418205\n",
      "\n",
      "Principal Component 464 - Feature Importance:\n",
      "Model_A4 35 TDI Technology: 0.30100289113232365\n",
      "Model_Scorpio S4 1.99 [2016-2017]: 0.34343864237418276\n",
      "Model_Scorpio S6 Plus 1.99 [2016-2017]: 0.3429558120645865\n",
      "\n",
      "Principal Component 465 - Feature Importance:\n",
      "Model_Aura S 1.2 CNG: 0.29569976056907876\n",
      "Model_Discovery Sport HSE 7-Seater: -0.330027857887169\n",
      "Model_Hexa XE 4x2 7 STR: 0.43925724295408247\n",
      "\n",
      "Principal Component 466 - Feature Importance:\n",
      "Model_Aura S 1.2 CNG: 0.34256998333163347\n",
      "Model_Safari 2.2 VX 4x2 Varicor400: -0.3006312247396156\n",
      "\n",
      "Principal Component 467 - Feature Importance:\n",
      "Model_Cayenne Platinum Edition Diesel: 0.4233397685972102\n",
      "Model_Q5 45 TFSI Premium Plus: -0.323247138872395\n",
      "\n",
      "Principal Component 468 - Feature Importance:\n",
      "Model_Altroz XT Petrol: 0.3194377082365349\n",
      "Model_Grand i10 NIOS Sportz AMT 1.2 Kappa VTVT: -0.3943879536822026\n",
      "\n",
      "Principal Component 469 - Feature Importance:\n",
      "Model_Scorpio S4 1.99 [2016-2017]: 0.3166784287168924\n",
      "Model_Scorpio S6 Plus 1.99 [2016-2017]: 0.3414872337858994\n",
      "\n",
      "Principal Component 470 - Feature Importance:\n",
      "Model_Jazz S AT [2015-2016]: 0.7440196703100161\n",
      "\n",
      "Principal Component 471 - Feature Importance:\n",
      "Model_Compass Model S (O) Diesel 4x4 AT: -0.26834964706422937\n",
      "Model_Jazz S AT [2015-2016]: -0.26324394009464985\n",
      "Model_Rapid 1.5 TDI CR Ambition Plus AT: 0.31132298174506096\n",
      "Model_Rapid Elegance 1.6 TDI CR MT: -0.2654372576147565\n",
      "Model_Vento Highline Diesel AT: 0.4070747632990643\n",
      "\n",
      "Principal Component 472 - Feature Importance:\n",
      "Model_E-Class E250 CDI BlueEfficiency: -0.433813322330744\n",
      "Model_Grand i10 Magna 1.2 Kappa VTVT [2013-2016]: -0.3373883057694873\n",
      "Model_Jazz S AT [2015-2016]: 0.45235121654473015\n",
      "\n",
      "Principal Component 473 - Feature Importance:\n",
      "Model_Compass Model S (O) Diesel 4x4 AT: 0.5006404268870775\n",
      "Model_Glanza G: -0.35095684760294954\n",
      "\n",
      "Principal Component 474 - Feature Importance:\n",
      "Model_Compass Model S (O) Diesel 4x4 AT: 0.5086838890762239\n",
      "Model_Glanza G: 0.3401125722229281\n",
      "\n",
      "Principal Component 475 - Feature Importance:\n",
      "Model_Altroz XT Petrol: 0.44656247993564246\n",
      "\n",
      "Principal Component 476 - Feature Importance:\n",
      "Model_Octavia Elegance 2.0 TDI AT: 0.5974397891759392\n",
      "Model_Q3 30 TDI Premium FWD: 0.33329864625055416\n",
      "Model_Tiguan Highline TDI: -0.41124787061737017\n",
      "\n",
      "Principal Component 477 - Feature Importance:\n",
      "Model_Altroz XT Petrol: 0.4731296868692281\n",
      "\n",
      "Principal Component 479 - Feature Importance:\n",
      "Model_Octavia 2.0 TDI L&K: 0.43763974261648275\n",
      "Model_Superb Sportline AT: 0.36079985339623305\n",
      "Model_Tiguan AllSpace 2.0 TSI: 0.35723428175806204\n",
      "\n",
      "Principal Component 480 - Feature Importance:\n",
      "Model_X1 sDrive20d Expedition: 0.3263733287133723\n",
      "\n",
      "Principal Component 481 - Feature Importance:\n",
      "Model_X1 sDrive20d Expedition: -0.27021543218652433\n",
      "\n",
      "Principal Component 483 - Feature Importance:\n",
      "Model_Eeco 5 STR WITH A/C+HTR CNG [2017-2019]: 0.3448993128665315\n",
      "Model_Eeco 5 STR WITH HTR CNG [2018-2019]: 0.2707751220116785\n",
      "Model_Ertiga VXI CNG: 0.4682573893351129\n",
      "Model_Santro GL (CNG): 0.25599833870099453\n",
      "Model_Santro GL Plus: -0.26085939235526884\n",
      "\n",
      "Principal Component 484 - Feature Importance:\n",
      "Model_Swift DZire VDI: -0.2730967326318608\n",
      "Model_Swift DZire VXI: 0.47129002041141077\n",
      "Model_Swift VXi: -0.44524778655909\n",
      "Model_TUV300 T6 Plus: 0.30960180904243356\n",
      "\n",
      "Principal Component 485 - Feature Importance:\n",
      "Model_City V: 0.6955723583509438\n",
      "Model_City VX: -0.2612455004407721\n",
      "\n",
      "Principal Component 486 - Feature Importance:\n",
      "Model_3-Series 320d Luxury Line: 0.619293438477987\n",
      "Model_5-Series 520d Luxury Line [2017-2019]: -0.5894036461041409\n",
      "Model_C-Class C 220d Progressive [2018-2019]: -0.2749726151195216\n",
      "\n",
      "Principal Component 487 - Feature Importance:\n",
      "Model_Wagon R LXI CNG: 0.34090546985440845\n",
      "Model_Wagon R LXI CNG (O): -0.2952510141975196\n",
      "\n",
      "Principal Component 488 - Feature Importance:\n",
      "Model_Swift DZire VDI: -0.40569872413622804\n",
      "Model_Swift VDi: 0.409314620805294\n",
      "\n",
      "Principal Component 489 - Feature Importance:\n",
      "Model_Baleno Delta 1.2: 0.5466246813180144\n",
      "Model_Fortuner 2.8 4x4 AT [2016-2020]: 0.2663851790152929\n",
      "Model_Swift VXi [2014-2017]: -0.33329201534889036\n",
      "\n",
      "Principal Component 490 - Feature Importance:\n",
      "Model_Verna 1.6 CRDI SX: 0.41411191270395437\n",
      "Model_Verna Fluidic 1.6 CRDi SX: -0.40233241773593337\n",
      "\n",
      "Principal Component 491 - Feature Importance:\n",
      "Model_City 1.5 S MT: -0.3866460958663948\n",
      "Model_City 1.5 V AT: 0.3873158152410953\n",
      "Model_Fortuner 2.8 4x4 AT [2016-2020]: -0.2542244989816569\n",
      "Model_Verna 1.6 CRDI SX: 0.29848524265239035\n",
      "Model_Verna Fluidic 1.6 CRDi SX: -0.28078699563739434\n",
      "\n",
      "Principal Component 492 - Feature Importance:\n",
      "Model_City 1.5 S MT: -0.3488238384367958\n",
      "Model_City 1.5 V AT: 0.3536865796513741\n",
      "Model_Fortuner 2.8 4x4 AT [2016-2020]: 0.33791324456264465\n",
      "\n",
      "Principal Component 493 - Feature Importance:\n",
      "Model_Vitara Brezza VDi: 0.692456053861661\n",
      "Model_Vitara Brezza VDi (O) [2016-2018]: -0.27676749406683804\n",
      "\n",
      "Principal Component 494 - Feature Importance:\n",
      "Model_C-Class C 220d Progressive [2018-2019]: -0.3590486551359697\n",
      "Model_Celerio VXi AMT: 0.3393685493346029\n",
      "Model_E-Class E 220d Exclusive [2019-2019]: 0.2543758063243861\n",
      "Model_TUV300 T6 Plus: 0.3528802019401132\n",
      "\n",
      "Principal Component 495 - Feature Importance:\n",
      "Model_C-Class C 220d Progressive [2018-2019]: 0.28982332827729435\n",
      "Model_E-Class E 220d Exclusive [2019-2019]: -0.2562792641411031\n",
      "Model_TUV300 T6 Plus: 0.2753930048091459\n",
      "Model_Wagon R LXI CNG: 0.3138406424341784\n",
      "Model_Wagon R LXI CNG (O): -0.2716651494668438\n",
      "\n",
      "Principal Component 496 - Feature Importance:\n",
      "Model_C-Class C 220d Progressive [2018-2019]: 0.31737487001873915\n",
      "Model_Celerio VXi AMT: 0.44917401343499613\n",
      "Model_Wagon R LXI CNG: -0.30520176355070394\n",
      "Model_Wagon R LXI CNG (O): 0.26450959159296683\n",
      "\n",
      "Principal Component 497 - Feature Importance:\n",
      "Model_Celerio VXi AMT: -0.41956096207837773\n",
      "Model_TUV300 T6 Plus: 0.312477865423319\n",
      "\n",
      "Principal Component 498 - Feature Importance:\n",
      "Model_DZire VDi AMT: -0.2810299614270109\n",
      "Model_Swift DZire VDI: 0.2893309256971653\n",
      "Model_Swift VDi: 0.5236823466861977\n",
      "\n",
      "Principal Component 499 - Feature Importance:\n",
      "Model_i10 Magna 1.2 Kappa2: -0.6268324438368629\n",
      "Model_i10 Sportz 1.2 AT Kappa2: 0.2804099541259034\n",
      "Model_i10 Sportz 1.2 Kappa2: 0.5841798283476741\n",
      "\n",
      "Principal Component 500 - Feature Importance:\n",
      "Model_Baleno Delta 1.2: 0.32587269153456055\n",
      "Model_Elite i20 Asta 1.2: -0.2792084726988953\n",
      "\n",
      "Principal Component 501 - Feature Importance:\n",
      "Model_E-Class E 220 d Avantgarde: 0.30517169104545816\n",
      "Model_E-Class E 220d Exclusive [2019-2019]: -0.37563336086360893\n",
      "Model_Grand i10 Asta 1.2 Kappa VTVT [2013-2016]: 0.36926622972051154\n",
      "Model_Vento Highline Plus 1.2 (P) AT 16 Alloy: 0.27441314771859315\n",
      "\n",
      "Principal Component 502 - Feature Importance:\n",
      "Model_Grand i10 Asta 1.2 Kappa VTVT [2013-2016]: 0.446207839756893\n",
      "Model_Jazz V Petrol: -0.4027486407801219\n",
      "Model_Q3 35 TDI Premium + Sunroof: 0.26561985053124015\n",
      "Model_WR-V VX MT Petrol: 0.5046415383403006\n",
      "\n",
      "Principal Component 503 - Feature Importance:\n",
      "Model_Creta SX Plus 1.6  Petrol: -0.2587811309762842\n",
      "Model_Grand i10 Asta 1.2 Kappa VTVT [2013-2016]: 0.4952136870857647\n",
      "Model_Jazz V Petrol: 0.26978142464990257\n",
      "\n",
      "Principal Component 504 - Feature Importance:\n",
      "Model_Creta 1.6 SX Plus AT Petrol: -0.5188167884357403\n",
      "Model_Creta SX Plus 1.6  Petrol: 0.5372843495081288\n",
      "Model_Grand i10 Asta 1.2 Kappa VTVT [2013-2016]: 0.2715869451492923\n",
      "\n",
      "Principal Component 505 - Feature Importance:\n",
      "Model_Elite i20 Asta 1.2: 0.42991383243251385\n",
      "Model_Q3 35 TDI Premium + Sunroof: 0.3456727485847953\n",
      "\n",
      "Principal Component 506 - Feature Importance:\n",
      "Model_Elite i20 Asta 1.2: 0.4739997797150607\n",
      "Model_Q3 35 TDI Premium + Sunroof: -0.3023791786887619\n",
      "Model_Vento Highline Plus 1.2 (P) AT 16 Alloy: -0.2688012380955728\n",
      "\n",
      "Principal Component 507 - Feature Importance:\n",
      "Model_Polo GT TSI: -0.3889456414302487\n",
      "Model_Vento Highline Plus 1.2 (P) AT 16 Alloy: 0.5527295327213212\n",
      "\n",
      "Principal Component 508 - Feature Importance:\n",
      "Model_Vitara Brezza VDi (O) [2016-2018]: 0.6559293008021313\n",
      "Model_Vitara Brezza ZDi Plus: -0.5224651285739258\n",
      "\n",
      "Principal Component 509 - Feature Importance:\n",
      "Model_C-Class C 220 CDI Avantgarde: -0.32312948549969595\n",
      "Model_Fortuner 3.0 4x2 MT: 0.2788717063359952\n",
      "Model_Fortuner 3.0 4x4 MT: -0.2662645893610671\n",
      "Model_GLC 220 d Progressive: 0.28902100281444926\n",
      "Model_Swift LXi: 0.4175399452212167\n",
      "\n",
      "Principal Component 510 - Feature Importance:\n",
      "Model_GLA 200 CDI Sport: 0.4375727601529158\n",
      "Model_GLA 200 d Sport: -0.424945079279139\n",
      "Model_Swift LXi: 0.35793869690716323\n",
      "\n",
      "Principal Component 511 - Feature Importance:\n",
      "Model_GLA 200 CDI Sport: 0.4145882621115532\n",
      "Model_GLA 200 d Sport: -0.40823127641541046\n",
      "\n",
      "Principal Component 512 - Feature Importance:\n",
      "Model_Evoque SE R-Dynamic: 0.3231345647143935\n",
      "Model_Innova 2.8 GX AT 7 STR [2016-2020]: 0.38902500610300705\n",
      "\n",
      "Principal Component 513 - Feature Importance:\n",
      "Model_Ertiga VDI SHVS: -0.3129488006691818\n",
      "Model_Ertiga VDi: 0.42744480599545004\n",
      "Model_Vitara Brezza LDi (O) [2016-2018]: 0.2743932245728087\n",
      "\n",
      "Principal Component 514 - Feature Importance:\n",
      "Model_Innova 2.4 VX 7 STR [2016-2020]: 0.44208596361382674\n",
      "\n",
      "Principal Component 515 - Feature Importance:\n",
      "Model_Jazz V AT Petrol: 0.37815068495444826\n",
      "Model_Jazz V Petrol: -0.2783648361798802\n",
      "\n",
      "Principal Component 516 - Feature Importance:\n",
      "Model_Baleno Sigma 1.2: 0.36638902287288705\n",
      "Model_Baleno Zeta 1.2: -0.36077589167034063\n",
      "Model_C-Class C 220 CDI Avantgarde: -0.2593454664134944\n",
      "Model_Elite i20 Sportz 1.2 (O): 0.2511239785931033\n",
      "\n",
      "Principal Component 517 - Feature Importance:\n",
      "Model_Baleno Sigma 1.2: 0.26567091624861955\n",
      "Model_Innova 2.4 VX 7 STR [2016-2020]: -0.2957051024969724\n",
      "Model_Kwid 1.0 RXT [2016-2019]: 0.4040519583569597\n",
      "\n",
      "Principal Component 518 - Feature Importance:\n",
      "Model_C-Class C 220 CDI Avantgarde: 0.26535485710459966\n",
      "Model_Innova 2.4 VX 7 STR [2016-2020]: 0.29107023870949666\n",
      "\n",
      "Principal Component 519 - Feature Importance:\n",
      "Model_City 1.5 S AT: 0.36247589818072967\n",
      "Model_City 1.5 V AT: -0.29523021726809295\n",
      "Model_City 1.5 V MT: 0.311844767612312\n",
      "\n",
      "Principal Component 520 - Feature Importance:\n",
      "Model_City V Diesel: 0.2752733805074542\n",
      "\n",
      "Principal Component 521 - Feature Importance:\n",
      "Model_City V CVT Petrol [2017-2019]: -0.34957914349748626\n",
      "Model_City VX: 0.38517540826114044\n",
      "Model_Vitara Brezza LDi (O) [2016-2018]: 0.3028352364779593\n",
      "\n",
      "Principal Component 522 - Feature Importance:\n",
      "Model_Verna Fluidic 1.6 VTVT SX: -0.32849930735616933\n",
      "Model_Verna Fluidic 1.6 VTVT SX Opt AT: 0.3808025169267525\n",
      "\n",
      "Principal Component 523 - Feature Importance:\n",
      "Model_City V CVT Petrol [2017-2019]: 0.33029066667396145\n",
      "Model_City VX: -0.26912881479502093\n",
      "Model_Innova 2.4 G 7 STR [2016-2017]: -0.2538320024542755\n",
      "\n",
      "Principal Component 524 - Feature Importance:\n",
      "Model_Verna Fluidic 1.6 VTVT SX: -0.30194739112874724\n",
      "Model_Verna Fluidic 1.6 VTVT SX Opt AT: 0.2623940203201134\n",
      "Model_X1 sDrive20d Expedition: 0.2688594486055589\n",
      "\n",
      "Principal Component 525 - Feature Importance:\n",
      "Model_Q7 45 TDI Premium Plus: 0.26025558187625125\n",
      "Model_Q7 45 TDI Technology Pack: -0.260266549284861\n",
      "\n",
      "Principal Component 526 - Feature Importance:\n",
      "Model_Creta 1.6 SX: -0.26536810466210486\n",
      "Model_Q7 45 TDI Premium Plus: -0.4348933944906235\n",
      "Model_Q7 45 TDI Technology Pack: 0.4349075829385597\n",
      "\n",
      "Principal Component 527 - Feature Importance:\n",
      "Model_Creta 1.6 SX: 0.26741885039589725\n",
      "Model_Creta 1.6 SX Plus AT: -0.2522922968819846\n",
      "Model_DZire VXi AMT: 0.4075021775412173\n",
      "\n",
      "Principal Component 528 - Feature Importance:\n",
      "Model_DZire VXi AMT: 0.5230462475847211\n",
      "\n",
      "Principal Component 529 - Feature Importance:\n",
      "Model_Verna 1.6 CRDI SX (O): 0.2966014457735266\n",
      "\n",
      "Principal Component 530 - Feature Importance:\n",
      "Model_Thar LX 4-STR Hard Top Diesel AT: 0.29935679542020616\n",
      "Model_Thar LX 4-STR Hard Top Diesel MT: -0.32183939494116365\n",
      "Model_Verna 1.6 CRDI SX (O): 0.31861760992769184\n",
      "\n",
      "Principal Component 531 - Feature Importance:\n",
      "Model_City V CVT Petrol [2017-2019]: 0.30483257815864273\n",
      "Model_Swift ZXi: -0.2510679748052883\n",
      "Model_Thar LX 4-STR Hard Top Diesel AT: 0.2807717056423118\n",
      "Model_Thar LX 4-STR Hard Top Diesel MT: -0.2890652501018582\n",
      "\n",
      "Principal Component 532 - Feature Importance:\n",
      "Model_Q3 2.0 TDI quattro Premium: 0.2951128845786011\n",
      "Model_X3 xDrive 20d Luxury Line [2018-2020]: 0.29140079945086506\n",
      "\n",
      "Principal Component 533 - Feature Importance:\n",
      "Model_Alto VXi [2014-2019]: -0.2569065296409832\n",
      "Model_DZire VXi AMT: -0.28223860800565814\n",
      "Model_Verna 1.6 CRDI SX (O): -0.26918860285950635\n",
      "\n",
      "Principal Component 534 - Feature Importance:\n",
      "Model_Innova 2.4 VX 8 STR [2016-2020]: -0.2821724282357847\n",
      "\n",
      "Principal Component 535 - Feature Importance:\n",
      "Model_A3 35 TDI Premium: -0.3133081585163216\n",
      "Model_A3 35 TDI Premium Plus + Sunroof: 0.28334515244669095\n",
      "Model_Verna 1.6 CRDI SX (O): 0.40510336310372885\n",
      "\n",
      "Principal Component 536 - Feature Importance:\n",
      "Model_XUV500 W10: -0.3371523453599278\n",
      "\n",
      "Principal Component 537 - Feature Importance:\n",
      "Model_Swift ZXi: 0.2818836806039597\n",
      "\n",
      "Principal Component 538 - Feature Importance:\n",
      "Model_A3 35 TDI Premium: 0.4252767271500766\n",
      "Model_A3 35 TDI Premium Plus + Sunroof: -0.35666752579636013\n",
      "\n",
      "Principal Component 539 - Feature Importance:\n",
      "Model_Creta SX 1.6 CRDi: -0.2532754123940456\n",
      "Model_XUV500 W10: 0.3083693277937474\n",
      "\n",
      "Principal Component 540 - Feature Importance:\n",
      "Model_i10 Sportz 1.2 AT Kappa2: 0.34784528491567446\n",
      "\n",
      "Principal Component 541 - Feature Importance:\n",
      "Model_Creta E Plus 1.6 Petrol: 0.5558332098256342\n",
      "Model_Creta SX 1.6 AT Petrol: -0.26513109812063246\n",
      "Model_Creta SX Plus 1.6  Petrol: -0.2711520005021961\n",
      "Model_E-Class E 220d Expression [2019-2019]: -0.26617561100282416\n",
      "Model_i10 Sportz 1.2 AT Kappa2: 0.25867111130671705\n",
      "\n",
      "Principal Component 542 - Feature Importance:\n",
      "Model_Creta 1.6 SX: -0.2520258218293424\n",
      "Model_Creta 1.6 SX (O): 0.33215299433164425\n",
      "Model_Creta 1.6 SX Plus AT: -0.251416301562688\n",
      "Model_i10 Sportz 1.2 AT Kappa2: -0.25011319026928797\n",
      "\n",
      "Principal Component 544 - Feature Importance:\n",
      "Model_E-Class E 220d Expression [2019-2019]: -0.2503962629965581\n",
      "Model_Grand i10 Sportz (O) 1.2 Kappa VTVT [2017-2018]: 0.4003882514241568\n",
      "Model_Grand i10 Sportz 1.2 Kappa VTVT [2016-2017]: -0.31398155652434523\n",
      "\n",
      "Principal Component 545 - Feature Importance:\n",
      "Model_i10 Sportz 1.2 AT Kappa2: 0.29523533301854116\n",
      "\n",
      "Principal Component 546 - Feature Importance:\n",
      "Model_E-Class E 220d Expression [2019-2019]: 0.29171255375074207\n",
      "\n",
      "Principal Component 547 - Feature Importance:\n",
      "Model_Baleno Zeta 1.2 AT: 0.26118656022831105\n",
      "\n",
      "Principal Component 548 - Feature Importance:\n",
      "Model_Eon Sportz: -0.2630437337707847\n",
      "Model_Polo Comfortline 1.2L (P): 0.3152139207349857\n",
      "Model_Polo Highline1.2L (P): -0.2812433474691276\n",
      "\n",
      "Principal Component 549 - Feature Importance:\n",
      "Model_City VX CVT: -0.32686995962007553\n",
      "Model_Polo Comfortline 1.2L (P): 0.32982531165734347\n",
      "Model_Polo Highline1.2L (P): -0.3055529465901632\n",
      "\n",
      "Principal Component 550 - Feature Importance:\n",
      "Model_A6 2.0 TDI Premium Plus: 0.28496389978537173\n",
      "Model_Eon Era +: 0.28977776549923867\n",
      "\n",
      "Principal Component 551 - Feature Importance:\n",
      "Model_Creta SX (O) 1.4 Turbo 7 DCT Dual Tone [2022-2022]: -0.3664179613727941\n",
      "Model_Seltos GTX Plus AT 1.4 [2019-2020]: 0.3593750483025121\n",
      "\n",
      "Principal Component 552 - Feature Importance:\n",
      "Model_Ertiga ZDI + SHVS: 0.2912815488732427\n",
      "Model_XL6 Zeta MT Petrol: -0.2854384224874123\n",
      "\n",
      "Principal Component 553 - Feature Importance:\n",
      "Model_Innova 2.4 ZX 7 STR [2016-2020]: 0.5119038589773708\n",
      "\n",
      "Principal Component 554 - Feature Importance:\n",
      "Model_A6 2.0 TDI Premium Plus: 0.34263633877772953\n",
      "Model_Innova 2.4 ZX 7 STR [2016-2020]: -0.3157033983987153\n",
      "\n",
      "Principal Component 555 - Feature Importance:\n",
      "Model_Eon Era +: 0.27729406544204016\n",
      "Model_GLC 220d 4MATIC Progressive [2019-2021]: 0.2661703874402565\n",
      "\n",
      "Principal Component 556 - Feature Importance:\n",
      "Model_A3 35 TDI Premium + Sunroof: -0.4959785896062687\n",
      "Model_A3 35 TDI Technology + Sunroof: 0.5364104700672193\n",
      "\n",
      "Principal Component 557 - Feature Importance:\n",
      "Model_A3 35 TDI Premium + Sunroof: 0.29553167698381344\n",
      "Model_A3 35 TDI Technology + Sunroof: -0.273380779932762\n",
      "\n",
      "Principal Component 558 - Feature Importance:\n",
      "Model_A3 35 TDI Technology + Sunroof: 0.2508414952721828\n",
      "Model_Amaze 1.2 S i-VTEC: 0.2626599965039614\n",
      "Model_Creta SX Plus 1.6 AT CRDI: 0.2663442850239208\n",
      "\n",
      "Principal Component 560 - Feature Importance:\n",
      "Model_GLC 220d 4MATIC Progressive: -0.28175496332427424\n",
      "Model_GLC 220d 4MATIC Progressive [2019-2021]: 0.2901108532919133\n",
      "Model_Swift ZXi AMT [2018-2019]: 0.2639288643716425\n",
      "\n",
      "Principal Component 561 - Feature Importance:\n",
      "Model_Baleno Alpha Automatic: 0.27977627884852224\n",
      "Model_Swift ZXi AMT [2018-2019]: -0.2526370312213865\n",
      "\n",
      "Principal Component 562 - Feature Importance:\n",
      "Model_Ciaz VDi+ SHVS: 0.40859801678649993\n",
      "Model_Venue SX 1.0 Turbo iMT: -0.32378150585416804\n",
      "\n",
      "Principal Component 564 - Feature Importance:\n",
      "Model_Ciaz Delta 1.4 MT: -0.2837399876314072\n",
      "Model_Ciaz VXi: 0.3751470876615225\n",
      "\n",
      "Principal Component 565 - Feature Importance:\n",
      "Model_Ciaz VXi: 0.3019831610677889\n",
      "\n",
      "Principal Component 566 - Feature Importance:\n",
      "Model_Eeco 5 STR WITH A/C+HTR [2019-2020]: 0.3191620971478868\n",
      "Model_Eeco 7 STR [2019-2020]: -0.26377482960517573\n",
      "\n",
      "Principal Component 567 - Feature Importance:\n",
      "Model_i20 Active 1.2 SX: 0.3286590446947573\n",
      "\n",
      "Principal Component 569 - Feature Importance:\n",
      "Model_Swift ZXi AMT [2018-2019]: 0.2574437185290628\n",
      "\n",
      "Principal Component 571 - Feature Importance:\n",
      "Model_Discovery Sport HSE Luxury: -0.2746352474280024\n",
      "Model_Evoque HSE Dynamic: 0.3746587231563558\n",
      "\n",
      "Principal Component 572 - Feature Importance:\n",
      "Model_Creta SX Plus 1.6 AT CRDI: 0.2774229305321689\n",
      "\n",
      "Principal Component 573 - Feature Importance:\n",
      "Model_Grand i10 Sportz 1.2 Kappa VTVT [2016-2017]: 0.32901890865176886\n",
      "\n",
      "Principal Component 574 - Feature Importance:\n",
      "Model_Creta SX 1.6 (O) Petrol: 0.3400987238045953\n",
      "\n",
      "Principal Component 576 - Feature Importance:\n",
      "Model_DZire VDi: -0.2867778006638737\n",
      "Model_V40 Cross Country D3: 0.25660733875656216\n",
      "\n",
      "Principal Component 577 - Feature Importance:\n",
      "Model_Endeavour Titanium 3.2 4x4 AT: -0.3071368920197787\n",
      "Model_Endeavour Titanium Plus 3.2 4x4 AT: 0.4342200155616455\n",
      "\n",
      "Principal Component 578 - Feature Importance:\n",
      "Model_Alto 800 Vxi: -0.25815402698003026\n",
      "Model_S-Cross Delta 1.6: 0.2561408550675929\n",
      "Model_Scorpio S3 2WD 7 STR: 0.31836998723912024\n",
      "\n",
      "Principal Component 579 - Feature Importance:\n",
      "Model_Endeavour Titanium Plus 3.2 4x4 AT: 0.32744924998905506\n",
      "\n",
      "Principal Component 580 - Feature Importance:\n",
      "Model_Terrano XL D Plus: -0.2929913825448959\n",
      "\n",
      "Principal Component 581 - Feature Importance:\n",
      "Model_Celerio ZXi AMT [2019-2020]: 0.30826381500173955\n",
      "\n",
      "Principal Component 582 - Feature Importance:\n",
      "Model_DZire VDi: 0.29533052610539534\n",
      "\n",
      "Principal Component 584 - Feature Importance:\n",
      "Model_i20 Active 1.2 SX: 0.2903200166945709\n",
      "\n",
      "Principal Component 585 - Feature Importance:\n",
      "Model_Ciaz Delta 1.4 MT: 0.25989106956490693\n",
      "Model_Creta SX 1.6 AT CRDi: 0.33937743702135087\n",
      "\n",
      "Principal Component 588 - Feature Importance:\n",
      "Model_Ciaz Delta 1.4 MT: 0.26640538102982886\n",
      "\n",
      "Principal Component 589 - Feature Importance:\n",
      "Model_Creta SX 1.5 Diesel [2020-2022]: 0.29584214538581943\n",
      "\n",
      "Principal Component 590 - Feature Importance:\n",
      "Model_Hector Sharp 2.0 Diesel Turbo MT: 0.26757402675398656\n",
      "\n",
      "Principal Component 591 - Feature Importance:\n",
      "Model_Ecosport Titanium 1.5 TDCi: 0.2584401390294537\n",
      "Model_Ecosport Trend 1.5 TDCi: -0.2582846486765031\n",
      "\n",
      "Principal Component 592 - Feature Importance:\n",
      "Model_Ecosport Titanium 1.5 TDCi: 0.37318460922317354\n",
      "Model_Ecosport Trend 1.5 TDCi: -0.3546565705800987\n",
      "Model_Eon Magna +: -0.2524074199701841\n",
      "\n",
      "Principal Component 593 - Feature Importance:\n",
      "Model_Swift DZire VXI AT: 0.25596794291013386\n",
      "\n",
      "Principal Component 594 - Feature Importance:\n",
      "Model_Baleno Alpha 1.2: 0.25478681352940363\n",
      "Model_Hector Sharp 2.0 Diesel Turbo MT: 0.30590689190988407\n",
      "Model_Swift DZire VXI AT: 0.26656087408094703\n",
      "\n",
      "Principal Component 595 - Feature Importance:\n",
      "Model_Tiago Revotron XT [2016-2019]: -0.3129143354474808\n",
      "Model_Tigor Revotorq XT: 0.3129144565687585\n",
      "\n",
      "Principal Component 596 - Feature Importance:\n",
      "Model_City SV CVT: -0.25325525738196086\n",
      "\n",
      "Principal Component 597 - Feature Importance:\n",
      "Model_Hector Sharp 2.0 Diesel Turbo MT: 0.2950139660440898\n",
      "\n",
      "Principal Component 598 - Feature Importance:\n",
      "Model_Corolla Altis 1.8 G: -0.26172081883748094\n",
      "Model_Corolla Altis 1.8 VL AT: 0.35093383380882903\n",
      "\n",
      "Principal Component 599 - Feature Importance:\n",
      "Model_Hector Sharp 2.0 Diesel Turbo MT: -0.264096787558733\n",
      "\n",
      "Principal Component 600 - Feature Importance:\n",
      "Model_Corolla Altis 1.8 VL AT: 0.26090175588167525\n",
      "\n",
      "Principal Component 603 - Feature Importance:\n",
      "Model_Eon Magna +: 0.252402870934511\n",
      "Model_XUV500 W6 2013: 0.2521635533781181\n",
      "\n",
      "Principal Component 604 - Feature Importance:\n",
      "Model_Kwid 1.0 RXT AMT Opt: -0.2572852769911858\n",
      "\n",
      "Principal Component 605 - Feature Importance:\n",
      "Model_Amaze 1.5 VX i-DTEC: 0.2608220182615299\n",
      "\n",
      "Principal Component 606 - Feature Importance:\n",
      "Model_Amaze 1.5 VX i-DTEC: 0.32596721028839865\n",
      "Model_DZire VDi AMT: 0.2730961336163466\n",
      "\n",
      "Principal Component 607 - Feature Importance:\n",
      "Model_Creta 1.6 SX Plus Special Edition: 0.5246021856961777\n",
      "\n",
      "Principal Component 608 - Feature Importance:\n",
      "Model_Kwid RXL [2015-2019]: 0.2771754506096844\n",
      "Model_Kwid RXT Opt: 0.3253062541342666\n",
      "\n",
      "Principal Component 609 - Feature Importance:\n",
      "Model_Creta 1.6 SX Plus Special Edition: 0.41794215563268206\n",
      "Model_Discovery Sport HSE Luxury: 0.2588901461637365\n",
      "\n",
      "Principal Component 610 - Feature Importance:\n",
      "Model_Ertiga ZDi: 0.3558730863203834\n",
      "\n",
      "Principal Component 611 - Feature Importance:\n",
      "Model_A3 35 TDI Premium Plus: 0.335908329833784\n",
      "\n",
      "Principal Component 612 - Feature Importance:\n",
      "Model_Glanza G: 0.2501057066098597\n",
      "Model_Swift ZDi: 0.30380940549162677\n",
      "\n",
      "Principal Component 613 - Feature Importance:\n",
      "Model_Vitara Brezza VXi: 0.3534667427660527\n",
      "\n",
      "Principal Component 614 - Feature Importance:\n",
      "Model_Ciaz Alpha 1.4 MT: 0.25926697975184465\n",
      "Model_Ciaz ZXI+: -0.27162465189875573\n",
      "Model_Q7 35 TDI Premium + Sunroof: 0.35276138502103566\n",
      "\n",
      "Principal Component 617 - Feature Importance:\n",
      "Model_Verna EX 1.6 CRDi [2017-2018]: -0.2647710445496048\n",
      "Model_Wagon R LXi 1.0 CNG [2019-2020]: -0.34558655800402843\n",
      "\n",
      "Principal Component 618 - Feature Importance:\n",
      "Model_Ciaz Zeta 1.4 AT: 0.39667740847909916\n",
      "\n",
      "Principal Component 619 - Feature Importance:\n",
      "Model_Seltos HTX Plus 1.5 Diesel [2020-2021]: 0.327048720562792\n",
      "Model_Venue SX Plus 1.0 Turbo DCT: 0.28644978021319395\n",
      "\n",
      "Principal Component 620 - Feature Importance:\n",
      "Model_Elite i20 Magna 1.2 [2016-2017]: 0.4064808605330678\n",
      "Model_Wagon R LXi 1.0 CNG [2019-2020]: -0.2716668566662828\n",
      "\n",
      "Principal Component 621 - Feature Importance:\n",
      "Model_XUV500 W10 AT: -0.29077189797581615\n",
      "Model_XUV500 W6: 0.2930800957326758\n",
      "\n",
      "Principal Component 622 - Feature Importance:\n",
      "Model_Alto VXi (O): 0.26077293706961036\n",
      "Model_Ciaz ZXI+: -0.33733460030759516\n",
      "Model_Elite i20 Magna 1.2: 0.36106272321982125\n",
      "\n",
      "Principal Component 624 - Feature Importance:\n",
      "Model_Ciaz Zeta 1.4 AT: 0.2621994739040189\n",
      "Model_Grand i10 NIOS Sportz AMT 1.2 Kappa VTVT: -0.3540231174423822\n",
      "\n",
      "Principal Component 626 - Feature Importance:\n",
      "Model_Ciaz ZXI+: 0.28206832901216383\n",
      "Model_Elite i20 Sportz 1.2: -0.25635539722337825\n",
      "\n",
      "Principal Component 628 - Feature Importance:\n",
      "Model_Elite i20 Magna 1.2: 0.25994359146393514\n",
      "Model_Seltos HTK Plus AT 1.5 Diesel [2020-2021]: -0.25198549622853167\n",
      "\n",
      "Principal Component 629 - Feature Importance:\n",
      "Model_Duster 85 PS RxL: 0.2578780477223788\n",
      "\n",
      "Principal Component 631 - Feature Importance:\n",
      "Model_City SV: 0.3050596157315891\n",
      "Model_City SV CVT: -0.2727990370090647\n",
      "\n",
      "Principal Component 632 - Feature Importance:\n",
      "Model_Compass Limited (O) 2.0 Diesel [2017-2020]: 0.25368455826694236\n",
      "\n",
      "Principal Component 633 - Feature Importance:\n",
      "Model_Elite i20 Magna 1.2 [2016-2017]: 0.278763966368693\n",
      "Model_Venue SX Plus 1.0 Turbo DCT: 0.25449205654926427\n",
      "\n",
      "Principal Component 634 - Feature Importance:\n",
      "Model_Elite i20 Asta (O) 1.0 Turbo DCT: 0.27337315634724885\n",
      "Model_Venue SX (O) 1.0 Turbo iMT: -0.27207023158453625\n",
      "\n",
      "Principal Component 635 - Feature Importance:\n",
      "Model_City SV CVT: -0.2512437993981628\n",
      "Model_Elite i20 Magna 1.2: 0.2840272993956199\n",
      "\n",
      "Principal Component 636 - Feature Importance:\n",
      "Model_Sonet GTX Plus 1.5 AT [2020-2021]: 0.25085713798743614\n",
      "\n",
      "Principal Component 647 - Feature Importance:\n",
      "Model_Elite i20 Asta 1.4 (O) CRDi: 0.44778036329632787\n",
      "Model_Elite i20 Sportz 1.4: -0.2826391200110555\n",
      "\n",
      "Principal Component 648 - Feature Importance:\n",
      "Model_Ecosport Titanium+ 1.5L TDCi: 0.2533761935431447\n",
      "\n",
      "Principal Component 649 - Feature Importance:\n",
      "Model_Verna Fluidic 1.6 VTVT SX AT: 0.2908246999973831\n",
      "\n",
      "PCA Results:\n",
      "      Principal Component  Explained Variance Ratio  \\\n",
      "0                       1              5.565899e-03   \n",
      "1                       2              3.679353e-03   \n",
      "2                       3              3.119248e-03   \n",
      "3                       4              3.041864e-03   \n",
      "4                       5              3.008440e-03   \n",
      "...                   ...                       ...   \n",
      "1764                 1765              1.620554e-37   \n",
      "1765                 1766              9.864216e-38   \n",
      "1766                 1767              7.193556e-38   \n",
      "1767                 1768              2.891999e-38   \n",
      "1768                 1769              5.118980e-39   \n",
      "\n",
      "      Cumulative Explained Variance  \n",
      "0                          0.005566  \n",
      "1                          0.009245  \n",
      "2                          0.012364  \n",
      "3                          0.015406  \n",
      "4                          0.018415  \n",
      "...                             ...  \n",
      "1764                       1.000000  \n",
      "1765                       1.000000  \n",
      "1766                       1.000000  \n",
      "1767                       1.000000  \n",
      "1768                       1.000000  \n",
      "\n",
      "[1769 rows x 3 columns]\n",
      "\n",
      "Transformed Data:\n",
      "           PC1       PC2       PC3       PC4       PC5       PC6       PC7  \\\n",
      "0    -3.173702  2.022605  1.878991 -1.793148 -0.461049 -0.550332  2.893819   \n",
      "1    -1.264383 -2.787312 -3.254490  1.510324  0.455195  2.478802 -0.265145   \n",
      "2    -4.009360 -0.622991  0.517861 -0.750878 -0.081785  0.661885 -0.461656   \n",
      "3    -2.810005  0.584909  2.328426 -0.689093 -0.568227 -0.814619 -0.808653   \n",
      "4     4.047552 -4.118877  4.790798 -1.681092 -1.856707  1.951020 -0.185754   \n",
      "...        ...       ...       ...       ...       ...       ...       ...   \n",
      "1869 -3.092410 -0.705629  0.522684 -0.675088  0.136636  0.744214 -1.137426   \n",
      "1870  3.407070 -5.129841  0.606730  0.082244 -1.200825 -2.897283  0.401411   \n",
      "1871 -4.237818 -0.692614 -0.362815 -0.342941  0.160473  0.453647 -0.931901   \n",
      "1872 -2.956646 -0.349819  0.615956 -0.767726 -0.144806  0.354081  0.167656   \n",
      "1873  4.115882  2.471201 -2.653893  1.435154  0.505616 -0.464710  2.070030   \n",
      "\n",
      "           PC8       PC9      PC10  ...     PC641     PC642     PC643  \\\n",
      "0    -3.245960  0.298433 -0.082417  ...  1.471932 -0.450034  0.299313   \n",
      "1     1.015108 -0.950402  0.380689  ...  0.075989  0.015334 -0.036557   \n",
      "2     1.530829  0.996231 -0.659745  ...  0.052771  0.067122 -0.003939   \n",
      "3     1.180933 -1.443666 -0.518021  ...  0.772656  1.402317 -1.248471   \n",
      "4    -0.506370 -6.178535 -0.208921  ...  0.141665  0.087809 -0.035532   \n",
      "...        ...       ...       ...  ...       ...       ...       ...   \n",
      "1869  1.435141 -0.344949 -0.167571  ... -0.018491 -0.280518  0.016389   \n",
      "1870  0.298632  4.312339  0.458433  ...  0.804908 -0.116063 -2.513716   \n",
      "1871  1.597008  1.052981 -1.057613  ... -0.131844  0.651269  1.134725   \n",
      "1872 -0.947397  0.196539  0.501917  ... -0.236129  0.271952  0.309538   \n",
      "1873  2.006251 -3.483794  1.371718  ...  0.035379  0.111561 -0.084600   \n",
      "\n",
      "         PC644     PC645     PC646     PC647     PC648     PC649     PC650  \n",
      "0     0.327230 -0.359540  0.084906  1.261959 -3.458492 -0.340555  0.618049  \n",
      "1     0.134062 -0.040570 -0.039733  0.058317 -0.016366 -0.023061  0.068630  \n",
      "2     0.006045  0.002983 -0.113906  0.036320 -0.063555  0.088422 -0.009624  \n",
      "3     0.424252 -1.034233  0.685708 -0.312014  0.331896 -0.416143 -0.393145  \n",
      "4    -0.250109  0.091106 -0.035037 -0.070920  0.213136  0.041804 -0.029962  \n",
      "...        ...       ...       ...       ...       ...       ...       ...  \n",
      "1869 -0.075025 -0.197622  0.367818  0.280512  0.260445 -0.337100  0.734925  \n",
      "1870  1.074107  0.125491  1.755157 -1.125885  0.387977 -0.731477 -0.540646  \n",
      "1871 -0.393270  1.567472  0.197939 -0.045889 -2.966687 -0.723370  1.250303  \n",
      "1872 -0.162727  0.291982  0.348295 -0.136213  0.930717  0.144063  0.248288  \n",
      "1873 -0.023519 -0.019160  0.034878 -0.018826 -0.035298 -0.006159  0.127768  \n",
      "\n",
      "[1874 rows x 650 columns]\n",
      "\n",
      "Target Variable:\n",
      "0        505000\n",
      "1        450000\n",
      "2        220000\n",
      "3        799000\n",
      "4       1950000\n",
      "         ...   \n",
      "1869     245000\n",
      "1870     850000\n",
      "1871     275000\n",
      "1872     240000\n",
      "1873    4290000\n",
      "Name: Price, Length: 1874, dtype: int64\n"
     ]
    }
   ],
   "source": [
    "\n",
    "# Applying PCA function on training\n",
    "# and testing set of X component\n",
    "# from sklearn.decomposition import PCA\n",
    "\n",
    "def perform_pca(data, target_variable):\n",
    "    # Separate the target variable from the features\n",
    "    X = data.drop(target_variable, axis=1)\n",
    "    y = data[target_variable]\n",
    "    \n",
    "    # Standardize the features\n",
    "    scaler = StandardScaler()\n",
    "    X_scaled = scaler.fit_transform(X)\n",
    "    \n",
    "    # Perform PCA\n",
    "    pca = PCA()\n",
    "    principal_components = pca.fit_transform(X_scaled)\n",
    "    \n",
    "    # Explained variance ratio\n",
    "    explained_variance_ratio = pca.explained_variance_ratio_\n",
    "    \n",
    "    # Cumulative explained variance\n",
    "    cum_explained_variance = np.cumsum(explained_variance_ratio)\n",
    "    \n",
    "    # Feature importance within each component\n",
    "    feature_importance = pca.components_\n",
    "    \n",
    "    # Create a DataFrame to store the results\n",
    "    pca_results = pd.DataFrame({\n",
    "        'Principal Component': range(1, len(explained_variance_ratio) + 1),\n",
    "        'Explained Variance Ratio': explained_variance_ratio,\n",
    "        'Cumulative Explained Variance': cum_explained_variance\n",
    "    })\n",
    "    \n",
    "    # Plot cumulative explained variance\n",
    "    plt.plot(range(1, len(explained_variance_ratio) + 1), cum_explained_variance, marker='o')\n",
    "    plt.xlabel('Principal Component')\n",
    "    plt.ylabel('Cumulative Explained Variance')\n",
    "    plt.title('Cumulative Explained Variance by Principal Component')\n",
    "    plt.grid(True)\n",
    "    plt.show()\n",
    "    \n",
    "    # Print feature importance within each component for the top 650 components (explaining 80% of variance) and importance > 0.25\n",
    "    num_components = min(650, len(feature_importance))\n",
    "    importance_threshold = 0.25\n",
    "    for i in range(num_components):\n",
    "        component_importance = feature_importance[i]\n",
    "        relevant_features = [feat for j, feat in enumerate(X.columns) if abs(component_importance[j]) > importance_threshold]\n",
    "        if len(relevant_features) > 0:\n",
    "            print(f\"\\nPrincipal Component {i+1} - Feature Importance:\")\n",
    "            for feat in relevant_features:\n",
    "                print(f\"{feat}: {component_importance[X.columns.get_loc(feat)]}\")\n",
    "    \n",
    "    # Rejoin the first num_components of PCA transformed data with the target variable\n",
    "    modelDs = pd.concat([pd.DataFrame(principal_components[:, :num_components]), y], axis=1)\n",
    "    \n",
    "    # Return the PCA results, transformed data, and the target variable\n",
    "    return pca_results, pd.DataFrame(principal_components[:, :num_components], columns=[f'PC{i}' for i in range(1, num_components + 1)]), y\n",
    "\n",
    "# Example usage\n",
    "# data = pd.read_csv('your_dataset.csv')  # Replace with your dataset\n",
    "\n",
    "# Call the PCA function\n",
    "pca_results, transformed_data, target_variable = perform_pca(usedcars_ML, 'Price')\n",
    "\n",
    "# Print the PCA results\n",
    "print(\"\\nPCA Results:\")\n",
    "print(pca_results)\n",
    "\n",
    "# Print the transformed data\n",
    "print(\"\\nTransformed Data:\")\n",
    "print(transformed_data)\n",
    "\n",
    "# Print the target variable\n",
    "print(\"\\nTarget Variable:\")\n",
    "print(target_variable)\n",
    "\n",
    "# Verify dimensions\n",
    "if transformed_data.shape[0] == target_variable.shape[0]:\n",
    "    # Reset the index of both DataFrames\n",
    "    transformed_data.reset_index(drop=True, inplace=True)\n",
    "    target_variable.reset_index(drop=True, inplace=True)"
   ]
  },
  {
   "cell_type": "markdown",
   "id": "24e5f87b",
   "metadata": {},
   "source": [
    "We decided to use the number of PCs at 650 because that explained 80% of the variance in the model."
   ]
  },
  {
   "cell_type": "code",
   "execution_count": 57,
   "id": "71240878",
   "metadata": {},
   "outputs": [
    {
     "data": {
      "text/html": [
       "<div>\n",
       "<style scoped>\n",
       "    .dataframe tbody tr th:only-of-type {\n",
       "        vertical-align: middle;\n",
       "    }\n",
       "\n",
       "    .dataframe tbody tr th {\n",
       "        vertical-align: top;\n",
       "    }\n",
       "\n",
       "    .dataframe thead th {\n",
       "        text-align: right;\n",
       "    }\n",
       "</style>\n",
       "<table border=\"1\" class=\"dataframe\">\n",
       "  <thead>\n",
       "    <tr style=\"text-align: right;\">\n",
       "      <th></th>\n",
       "      <th>PC1</th>\n",
       "      <th>PC2</th>\n",
       "      <th>PC3</th>\n",
       "      <th>PC4</th>\n",
       "      <th>PC5</th>\n",
       "      <th>PC6</th>\n",
       "      <th>PC7</th>\n",
       "      <th>PC8</th>\n",
       "      <th>PC9</th>\n",
       "      <th>PC10</th>\n",
       "      <th>...</th>\n",
       "      <th>PC641</th>\n",
       "      <th>PC642</th>\n",
       "      <th>PC643</th>\n",
       "      <th>PC644</th>\n",
       "      <th>PC645</th>\n",
       "      <th>PC646</th>\n",
       "      <th>PC647</th>\n",
       "      <th>PC648</th>\n",
       "      <th>PC649</th>\n",
       "      <th>PC650</th>\n",
       "    </tr>\n",
       "  </thead>\n",
       "  <tbody>\n",
       "    <tr>\n",
       "      <th>0</th>\n",
       "      <td>-3.173702</td>\n",
       "      <td>2.022605</td>\n",
       "      <td>1.878991</td>\n",
       "      <td>-1.793148</td>\n",
       "      <td>-0.461049</td>\n",
       "      <td>-0.550332</td>\n",
       "      <td>2.893819</td>\n",
       "      <td>-3.245960</td>\n",
       "      <td>0.298433</td>\n",
       "      <td>-0.082417</td>\n",
       "      <td>...</td>\n",
       "      <td>1.471932</td>\n",
       "      <td>-0.450034</td>\n",
       "      <td>0.299313</td>\n",
       "      <td>0.327230</td>\n",
       "      <td>-0.359540</td>\n",
       "      <td>0.084906</td>\n",
       "      <td>1.261959</td>\n",
       "      <td>-3.458492</td>\n",
       "      <td>-0.340555</td>\n",
       "      <td>0.618049</td>\n",
       "    </tr>\n",
       "    <tr>\n",
       "      <th>1</th>\n",
       "      <td>-1.264383</td>\n",
       "      <td>-2.787312</td>\n",
       "      <td>-3.254490</td>\n",
       "      <td>1.510324</td>\n",
       "      <td>0.455195</td>\n",
       "      <td>2.478802</td>\n",
       "      <td>-0.265145</td>\n",
       "      <td>1.015108</td>\n",
       "      <td>-0.950402</td>\n",
       "      <td>0.380689</td>\n",
       "      <td>...</td>\n",
       "      <td>0.075989</td>\n",
       "      <td>0.015334</td>\n",
       "      <td>-0.036557</td>\n",
       "      <td>0.134062</td>\n",
       "      <td>-0.040570</td>\n",
       "      <td>-0.039733</td>\n",
       "      <td>0.058317</td>\n",
       "      <td>-0.016366</td>\n",
       "      <td>-0.023061</td>\n",
       "      <td>0.068630</td>\n",
       "    </tr>\n",
       "    <tr>\n",
       "      <th>2</th>\n",
       "      <td>-4.009360</td>\n",
       "      <td>-0.622991</td>\n",
       "      <td>0.517861</td>\n",
       "      <td>-0.750878</td>\n",
       "      <td>-0.081785</td>\n",
       "      <td>0.661885</td>\n",
       "      <td>-0.461656</td>\n",
       "      <td>1.530829</td>\n",
       "      <td>0.996231</td>\n",
       "      <td>-0.659745</td>\n",
       "      <td>...</td>\n",
       "      <td>0.052771</td>\n",
       "      <td>0.067122</td>\n",
       "      <td>-0.003939</td>\n",
       "      <td>0.006045</td>\n",
       "      <td>0.002983</td>\n",
       "      <td>-0.113906</td>\n",
       "      <td>0.036320</td>\n",
       "      <td>-0.063555</td>\n",
       "      <td>0.088422</td>\n",
       "      <td>-0.009624</td>\n",
       "    </tr>\n",
       "    <tr>\n",
       "      <th>3</th>\n",
       "      <td>-2.810005</td>\n",
       "      <td>0.584909</td>\n",
       "      <td>2.328426</td>\n",
       "      <td>-0.689093</td>\n",
       "      <td>-0.568227</td>\n",
       "      <td>-0.814619</td>\n",
       "      <td>-0.808653</td>\n",
       "      <td>1.180933</td>\n",
       "      <td>-1.443666</td>\n",
       "      <td>-0.518021</td>\n",
       "      <td>...</td>\n",
       "      <td>0.772656</td>\n",
       "      <td>1.402317</td>\n",
       "      <td>-1.248471</td>\n",
       "      <td>0.424252</td>\n",
       "      <td>-1.034233</td>\n",
       "      <td>0.685708</td>\n",
       "      <td>-0.312014</td>\n",
       "      <td>0.331896</td>\n",
       "      <td>-0.416143</td>\n",
       "      <td>-0.393145</td>\n",
       "    </tr>\n",
       "    <tr>\n",
       "      <th>4</th>\n",
       "      <td>4.047552</td>\n",
       "      <td>-4.118877</td>\n",
       "      <td>4.790798</td>\n",
       "      <td>-1.681092</td>\n",
       "      <td>-1.856707</td>\n",
       "      <td>1.951020</td>\n",
       "      <td>-0.185754</td>\n",
       "      <td>-0.506370</td>\n",
       "      <td>-6.178535</td>\n",
       "      <td>-0.208921</td>\n",
       "      <td>...</td>\n",
       "      <td>0.141665</td>\n",
       "      <td>0.087809</td>\n",
       "      <td>-0.035532</td>\n",
       "      <td>-0.250109</td>\n",
       "      <td>0.091106</td>\n",
       "      <td>-0.035037</td>\n",
       "      <td>-0.070920</td>\n",
       "      <td>0.213136</td>\n",
       "      <td>0.041804</td>\n",
       "      <td>-0.029962</td>\n",
       "    </tr>\n",
       "    <tr>\n",
       "      <th>...</th>\n",
       "      <td>...</td>\n",
       "      <td>...</td>\n",
       "      <td>...</td>\n",
       "      <td>...</td>\n",
       "      <td>...</td>\n",
       "      <td>...</td>\n",
       "      <td>...</td>\n",
       "      <td>...</td>\n",
       "      <td>...</td>\n",
       "      <td>...</td>\n",
       "      <td>...</td>\n",
       "      <td>...</td>\n",
       "      <td>...</td>\n",
       "      <td>...</td>\n",
       "      <td>...</td>\n",
       "      <td>...</td>\n",
       "      <td>...</td>\n",
       "      <td>...</td>\n",
       "      <td>...</td>\n",
       "      <td>...</td>\n",
       "      <td>...</td>\n",
       "    </tr>\n",
       "    <tr>\n",
       "      <th>1869</th>\n",
       "      <td>-3.092410</td>\n",
       "      <td>-0.705629</td>\n",
       "      <td>0.522684</td>\n",
       "      <td>-0.675088</td>\n",
       "      <td>0.136636</td>\n",
       "      <td>0.744214</td>\n",
       "      <td>-1.137426</td>\n",
       "      <td>1.435141</td>\n",
       "      <td>-0.344949</td>\n",
       "      <td>-0.167571</td>\n",
       "      <td>...</td>\n",
       "      <td>-0.018491</td>\n",
       "      <td>-0.280518</td>\n",
       "      <td>0.016389</td>\n",
       "      <td>-0.075025</td>\n",
       "      <td>-0.197622</td>\n",
       "      <td>0.367818</td>\n",
       "      <td>0.280512</td>\n",
       "      <td>0.260445</td>\n",
       "      <td>-0.337100</td>\n",
       "      <td>0.734925</td>\n",
       "    </tr>\n",
       "    <tr>\n",
       "      <th>1870</th>\n",
       "      <td>3.407070</td>\n",
       "      <td>-5.129841</td>\n",
       "      <td>0.606730</td>\n",
       "      <td>0.082244</td>\n",
       "      <td>-1.200825</td>\n",
       "      <td>-2.897283</td>\n",
       "      <td>0.401411</td>\n",
       "      <td>0.298632</td>\n",
       "      <td>4.312339</td>\n",
       "      <td>0.458433</td>\n",
       "      <td>...</td>\n",
       "      <td>0.804908</td>\n",
       "      <td>-0.116063</td>\n",
       "      <td>-2.513716</td>\n",
       "      <td>1.074107</td>\n",
       "      <td>0.125491</td>\n",
       "      <td>1.755157</td>\n",
       "      <td>-1.125885</td>\n",
       "      <td>0.387977</td>\n",
       "      <td>-0.731477</td>\n",
       "      <td>-0.540646</td>\n",
       "    </tr>\n",
       "    <tr>\n",
       "      <th>1871</th>\n",
       "      <td>-4.237818</td>\n",
       "      <td>-0.692614</td>\n",
       "      <td>-0.362815</td>\n",
       "      <td>-0.342941</td>\n",
       "      <td>0.160473</td>\n",
       "      <td>0.453647</td>\n",
       "      <td>-0.931901</td>\n",
       "      <td>1.597008</td>\n",
       "      <td>1.052981</td>\n",
       "      <td>-1.057613</td>\n",
       "      <td>...</td>\n",
       "      <td>-0.131844</td>\n",
       "      <td>0.651269</td>\n",
       "      <td>1.134725</td>\n",
       "      <td>-0.393270</td>\n",
       "      <td>1.567472</td>\n",
       "      <td>0.197939</td>\n",
       "      <td>-0.045889</td>\n",
       "      <td>-2.966687</td>\n",
       "      <td>-0.723370</td>\n",
       "      <td>1.250303</td>\n",
       "    </tr>\n",
       "    <tr>\n",
       "      <th>1872</th>\n",
       "      <td>-2.956646</td>\n",
       "      <td>-0.349819</td>\n",
       "      <td>0.615956</td>\n",
       "      <td>-0.767726</td>\n",
       "      <td>-0.144806</td>\n",
       "      <td>0.354081</td>\n",
       "      <td>0.167656</td>\n",
       "      <td>-0.947397</td>\n",
       "      <td>0.196539</td>\n",
       "      <td>0.501917</td>\n",
       "      <td>...</td>\n",
       "      <td>-0.236129</td>\n",
       "      <td>0.271952</td>\n",
       "      <td>0.309538</td>\n",
       "      <td>-0.162727</td>\n",
       "      <td>0.291982</td>\n",
       "      <td>0.348295</td>\n",
       "      <td>-0.136213</td>\n",
       "      <td>0.930717</td>\n",
       "      <td>0.144063</td>\n",
       "      <td>0.248288</td>\n",
       "    </tr>\n",
       "    <tr>\n",
       "      <th>1873</th>\n",
       "      <td>4.115882</td>\n",
       "      <td>2.471201</td>\n",
       "      <td>-2.653893</td>\n",
       "      <td>1.435154</td>\n",
       "      <td>0.505616</td>\n",
       "      <td>-0.464710</td>\n",
       "      <td>2.070030</td>\n",
       "      <td>2.006251</td>\n",
       "      <td>-3.483794</td>\n",
       "      <td>1.371718</td>\n",
       "      <td>...</td>\n",
       "      <td>0.035379</td>\n",
       "      <td>0.111561</td>\n",
       "      <td>-0.084600</td>\n",
       "      <td>-0.023519</td>\n",
       "      <td>-0.019160</td>\n",
       "      <td>0.034878</td>\n",
       "      <td>-0.018826</td>\n",
       "      <td>-0.035298</td>\n",
       "      <td>-0.006159</td>\n",
       "      <td>0.127768</td>\n",
       "    </tr>\n",
       "  </tbody>\n",
       "</table>\n",
       "<p>1874 rows × 650 columns</p>\n",
       "</div>"
      ],
      "text/plain": [
       "           PC1       PC2       PC3       PC4       PC5       PC6       PC7  \\\n",
       "0    -3.173702  2.022605  1.878991 -1.793148 -0.461049 -0.550332  2.893819   \n",
       "1    -1.264383 -2.787312 -3.254490  1.510324  0.455195  2.478802 -0.265145   \n",
       "2    -4.009360 -0.622991  0.517861 -0.750878 -0.081785  0.661885 -0.461656   \n",
       "3    -2.810005  0.584909  2.328426 -0.689093 -0.568227 -0.814619 -0.808653   \n",
       "4     4.047552 -4.118877  4.790798 -1.681092 -1.856707  1.951020 -0.185754   \n",
       "...        ...       ...       ...       ...       ...       ...       ...   \n",
       "1869 -3.092410 -0.705629  0.522684 -0.675088  0.136636  0.744214 -1.137426   \n",
       "1870  3.407070 -5.129841  0.606730  0.082244 -1.200825 -2.897283  0.401411   \n",
       "1871 -4.237818 -0.692614 -0.362815 -0.342941  0.160473  0.453647 -0.931901   \n",
       "1872 -2.956646 -0.349819  0.615956 -0.767726 -0.144806  0.354081  0.167656   \n",
       "1873  4.115882  2.471201 -2.653893  1.435154  0.505616 -0.464710  2.070030   \n",
       "\n",
       "           PC8       PC9      PC10  ...     PC641     PC642     PC643  \\\n",
       "0    -3.245960  0.298433 -0.082417  ...  1.471932 -0.450034  0.299313   \n",
       "1     1.015108 -0.950402  0.380689  ...  0.075989  0.015334 -0.036557   \n",
       "2     1.530829  0.996231 -0.659745  ...  0.052771  0.067122 -0.003939   \n",
       "3     1.180933 -1.443666 -0.518021  ...  0.772656  1.402317 -1.248471   \n",
       "4    -0.506370 -6.178535 -0.208921  ...  0.141665  0.087809 -0.035532   \n",
       "...        ...       ...       ...  ...       ...       ...       ...   \n",
       "1869  1.435141 -0.344949 -0.167571  ... -0.018491 -0.280518  0.016389   \n",
       "1870  0.298632  4.312339  0.458433  ...  0.804908 -0.116063 -2.513716   \n",
       "1871  1.597008  1.052981 -1.057613  ... -0.131844  0.651269  1.134725   \n",
       "1872 -0.947397  0.196539  0.501917  ... -0.236129  0.271952  0.309538   \n",
       "1873  2.006251 -3.483794  1.371718  ...  0.035379  0.111561 -0.084600   \n",
       "\n",
       "         PC644     PC645     PC646     PC647     PC648     PC649     PC650  \n",
       "0     0.327230 -0.359540  0.084906  1.261959 -3.458492 -0.340555  0.618049  \n",
       "1     0.134062 -0.040570 -0.039733  0.058317 -0.016366 -0.023061  0.068630  \n",
       "2     0.006045  0.002983 -0.113906  0.036320 -0.063555  0.088422 -0.009624  \n",
       "3     0.424252 -1.034233  0.685708 -0.312014  0.331896 -0.416143 -0.393145  \n",
       "4    -0.250109  0.091106 -0.035037 -0.070920  0.213136  0.041804 -0.029962  \n",
       "...        ...       ...       ...       ...       ...       ...       ...  \n",
       "1869 -0.075025 -0.197622  0.367818  0.280512  0.260445 -0.337100  0.734925  \n",
       "1870  1.074107  0.125491  1.755157 -1.125885  0.387977 -0.731477 -0.540646  \n",
       "1871 -0.393270  1.567472  0.197939 -0.045889 -2.966687 -0.723370  1.250303  \n",
       "1872 -0.162727  0.291982  0.348295 -0.136213  0.930717  0.144063  0.248288  \n",
       "1873 -0.023519 -0.019160  0.034878 -0.018826 -0.035298 -0.006159  0.127768  \n",
       "\n",
       "[1874 rows x 650 columns]"
      ]
     },
     "execution_count": 57,
     "metadata": {},
     "output_type": "execute_result"
    }
   ],
   "source": [
    "transformed_data"
   ]
  },
  {
   "cell_type": "markdown",
   "id": "ee921152",
   "metadata": {},
   "source": [
    "650 Principal Components, this is likely drastically reduces the number of dummy columns in the dataset."
   ]
  },
  {
   "cell_type": "code",
   "execution_count": 58,
   "id": "2f3a6b3a",
   "metadata": {},
   "outputs": [
    {
     "name": "stdout",
     "output_type": "stream",
     "text": [
      "           PC1       PC2       PC3       PC4       PC5       PC6       PC7  \\\n",
      "0    -3.173702  2.022605  1.878991 -1.793148 -0.461049 -0.550332  2.893819   \n",
      "1    -1.264383 -2.787312 -3.254490  1.510324  0.455195  2.478802 -0.265145   \n",
      "2    -4.009360 -0.622991  0.517861 -0.750878 -0.081785  0.661885 -0.461656   \n",
      "3    -2.810005  0.584909  2.328426 -0.689093 -0.568227 -0.814619 -0.808653   \n",
      "4     4.047552 -4.118877  4.790798 -1.681092 -1.856707  1.951020 -0.185754   \n",
      "...        ...       ...       ...       ...       ...       ...       ...   \n",
      "1869 -3.092410 -0.705629  0.522684 -0.675088  0.136636  0.744214 -1.137426   \n",
      "1870  3.407070 -5.129841  0.606730  0.082244 -1.200825 -2.897283  0.401411   \n",
      "1871 -4.237818 -0.692614 -0.362815 -0.342941  0.160473  0.453647 -0.931901   \n",
      "1872 -2.956646 -0.349819  0.615956 -0.767726 -0.144806  0.354081  0.167656   \n",
      "1873  4.115882  2.471201 -2.653893  1.435154  0.505616 -0.464710  2.070030   \n",
      "\n",
      "           PC8       PC9      PC10  ...     PC642     PC643     PC644  \\\n",
      "0    -3.245960  0.298433 -0.082417  ... -0.450034  0.299313  0.327230   \n",
      "1     1.015108 -0.950402  0.380689  ...  0.015334 -0.036557  0.134062   \n",
      "2     1.530829  0.996231 -0.659745  ...  0.067122 -0.003939  0.006045   \n",
      "3     1.180933 -1.443666 -0.518021  ...  1.402317 -1.248471  0.424252   \n",
      "4    -0.506370 -6.178535 -0.208921  ...  0.087809 -0.035532 -0.250109   \n",
      "...        ...       ...       ...  ...       ...       ...       ...   \n",
      "1869  1.435141 -0.344949 -0.167571  ... -0.280518  0.016389 -0.075025   \n",
      "1870  0.298632  4.312339  0.458433  ... -0.116063 -2.513716  1.074107   \n",
      "1871  1.597008  1.052981 -1.057613  ...  0.651269  1.134725 -0.393270   \n",
      "1872 -0.947397  0.196539  0.501917  ...  0.271952  0.309538 -0.162727   \n",
      "1873  2.006251 -3.483794  1.371718  ...  0.111561 -0.084600 -0.023519   \n",
      "\n",
      "         PC645     PC646     PC647     PC648     PC649     PC650    Price  \n",
      "0    -0.359540  0.084906  1.261959 -3.458492 -0.340555  0.618049   505000  \n",
      "1    -0.040570 -0.039733  0.058317 -0.016366 -0.023061  0.068630   450000  \n",
      "2     0.002983 -0.113906  0.036320 -0.063555  0.088422 -0.009624   220000  \n",
      "3    -1.034233  0.685708 -0.312014  0.331896 -0.416143 -0.393145   799000  \n",
      "4     0.091106 -0.035037 -0.070920  0.213136  0.041804 -0.029962  1950000  \n",
      "...        ...       ...       ...       ...       ...       ...      ...  \n",
      "1869 -0.197622  0.367818  0.280512  0.260445 -0.337100  0.734925   245000  \n",
      "1870  0.125491  1.755157 -1.125885  0.387977 -0.731477 -0.540646   850000  \n",
      "1871  1.567472  0.197939 -0.045889 -2.966687 -0.723370  1.250303   275000  \n",
      "1872  0.291982  0.348295 -0.136213  0.930717  0.144063  0.248288   240000  \n",
      "1873 -0.019160  0.034878 -0.018826 -0.035298 -0.006159  0.127768  4290000  \n",
      "\n",
      "[1874 rows x 651 columns]\n"
     ]
    }
   ],
   "source": [
    "# Concatenate the PCA-transformed features DataFrame with the target variable\n",
    "data_with_target = pd.concat([transformed_data, target_variable], axis=1)\n",
    "\n",
    "# Print the updated DataFrame\n",
    "print(data_with_target)"
   ]
  },
  {
   "cell_type": "code",
   "execution_count": 72,
   "id": "2cc9176b",
   "metadata": {},
   "outputs": [],
   "source": [
    "# Split the data into features (X) and the target variable (y)\n",
    "X = data_with_target.drop('Price', axis=1)\n",
    "y = data_with_target['Price']\n",
    "\n",
    "# Split the data into training and testing sets\n",
    "X_train, X_test, y_train, y_test = train_test_split(X, y, test_size=0.2, random_state=42)"
   ]
  },
  {
   "cell_type": "code",
   "execution_count": 61,
   "id": "1a3f40e8",
   "metadata": {},
   "outputs": [
    {
     "name": "stdout",
     "output_type": "stream",
     "text": [
      "{'n_estimators': [200, 400, 600, 800, 1000, 1200, 1400, 1600, 1800, 2000], 'max_features': ['auto', 'sqrt'], 'max_depth': [10, 20, 30, 40, 50, 60, 70, 80, 90, 100, 110, None], 'min_samples_split': [2, 5, 10], 'min_samples_leaf': [1, 2, 4], 'bootstrap': [True, False]}\n"
     ]
    },
    {
     "data": {
      "text/plain": [
       "{'bootstrap': [True, False],\n",
       " 'max_depth': [10, 20, 30, 40, 50, 60, 70, 80, 90, 100, None],\n",
       " 'max_features': ['auto', 'sqrt'],\n",
       " 'min_samples_leaf': [1, 2, 4],\n",
       " 'min_samples_split': [2, 5, 10],\n",
       " 'n_estimators': [200, 400, 600, 800, 1000, 1200, 1400, 1600, 1800, 2000]}"
      ]
     },
     "execution_count": 61,
     "metadata": {},
     "output_type": "execute_result"
    }
   ],
   "source": [
    "# grid search for optimal hyper-parameters\n",
    "from sklearn.model_selection import RandomizedSearchCV\n",
    "# Number of trees in random forest\n",
    "n_estimators = [int(x) for x in np.linspace(start = 200, stop = 2000, num = 10)]\n",
    "# Number of features to consider at every split\n",
    "max_features = ['auto', 'sqrt']\n",
    "# Maximum number of levels in tree\n",
    "max_depth = [int(x) for x in np.linspace(10, 110, num = 11)]\n",
    "max_depth.append(None)\n",
    "# Minimum number of samples required to split a node\n",
    "min_samples_split = [2, 5, 10]\n",
    "# Minimum number of samples required at each leaf node\n",
    "min_samples_leaf = [1, 2, 4]\n",
    "# Method of selecting samples for training each tree\n",
    "bootstrap = [True, False]\n",
    "# Create the random grid\n",
    "random_grid = {'n_estimators': n_estimators,\n",
    "               'max_features': max_features,\n",
    "               'max_depth': max_depth,\n",
    "               'min_samples_split': min_samples_split,\n",
    "               'min_samples_leaf': min_samples_leaf,\n",
    "               'bootstrap': bootstrap}\n",
    "print(random_grid)\n",
    "{'bootstrap': [True, False],\n",
    " 'max_depth': [10, 20, 30, 40, 50, 60, 70, 80, 90, 100, None],\n",
    " 'max_features': ['auto', 'sqrt'],\n",
    " 'min_samples_leaf': [1, 2, 4],\n",
    " 'min_samples_split': [2, 5, 10],\n",
    " 'n_estimators': [200, 400, 600, 800, 1000, 1200, 1400, 1600, 1800, 2000]}"
   ]
  },
  {
   "cell_type": "code",
   "execution_count": 63,
   "id": "49a2a0bb",
   "metadata": {},
   "outputs": [
    {
     "name": "stdout",
     "output_type": "stream",
     "text": [
      "Fitting 3 folds for each of 100 candidates, totalling 300 fits\n",
      "[CV] END bootstrap=True, max_depth=30, max_features=sqrt, min_samples_leaf=1, min_samples_split=5, n_estimators=400; total time=   5.4s\n",
      "[CV] END bootstrap=True, max_depth=30, max_features=sqrt, min_samples_leaf=1, min_samples_split=5, n_estimators=400; total time=   5.4s\n",
      "[CV] END bootstrap=True, max_depth=30, max_features=sqrt, min_samples_leaf=1, min_samples_split=5, n_estimators=400; total time=   5.4s\n",
      "[CV] END bootstrap=False, max_depth=10, max_features=sqrt, min_samples_leaf=2, min_samples_split=5, n_estimators=1200; total time=   7.3s\n",
      "[CV] END bootstrap=True, max_depth=10, max_features=sqrt, min_samples_leaf=1, min_samples_split=5, n_estimators=2000; total time=  13.2s\n",
      "[CV] END bootstrap=True, max_depth=10, max_features=sqrt, min_samples_leaf=1, min_samples_split=5, n_estimators=2000; total time=  12.9s\n",
      "[CV] END bootstrap=True, max_depth=10, max_features=sqrt, min_samples_leaf=1, min_samples_split=5, n_estimators=2000; total time=  12.9s\n"
     ]
    },
    {
     "name": "stderr",
     "output_type": "stream",
     "text": [
      "/Users/slimeollie/anaconda3/lib/python3.10/site-packages/sklearn/ensemble/_forest.py:413: FutureWarning: `max_features='auto'` has been deprecated in 1.1 and will be removed in 1.3. To keep the past behaviour, explicitly set `max_features=1.0` or remove this parameter as it is also the default value for RandomForestRegressors and ExtraTreesRegressors.\n",
      "  warn(\n",
      "/Users/slimeollie/anaconda3/lib/python3.10/site-packages/sklearn/ensemble/_forest.py:413: FutureWarning: `max_features='auto'` has been deprecated in 1.1 and will be removed in 1.3. To keep the past behaviour, explicitly set `max_features=1.0` or remove this parameter as it is also the default value for RandomForestRegressors and ExtraTreesRegressors.\n",
      "  warn(\n"
     ]
    },
    {
     "name": "stdout",
     "output_type": "stream",
     "text": [
      "[CV] END bootstrap=False, max_depth=10, max_features=sqrt, min_samples_leaf=2, min_samples_split=5, n_estimators=1200; total time=   7.7s\n"
     ]
    },
    {
     "name": "stderr",
     "output_type": "stream",
     "text": [
      "/Users/slimeollie/anaconda3/lib/python3.10/site-packages/sklearn/ensemble/_forest.py:413: FutureWarning: `max_features='auto'` has been deprecated in 1.1 and will be removed in 1.3. To keep the past behaviour, explicitly set `max_features=1.0` or remove this parameter as it is also the default value for RandomForestRegressors and ExtraTreesRegressors.\n",
      "  warn(\n"
     ]
    },
    {
     "name": "stdout",
     "output_type": "stream",
     "text": [
      "[CV] END bootstrap=False, max_depth=10, max_features=sqrt, min_samples_leaf=2, min_samples_split=5, n_estimators=1200; total time=   7.7s\n",
      "[CV] END bootstrap=True, max_depth=10, max_features=sqrt, min_samples_leaf=4, min_samples_split=2, n_estimators=1600; total time=   8.9s\n",
      "[CV] END bootstrap=True, max_depth=10, max_features=sqrt, min_samples_leaf=4, min_samples_split=2, n_estimators=1600; total time=   9.0s\n",
      "[CV] END bootstrap=True, max_depth=10, max_features=sqrt, min_samples_leaf=4, min_samples_split=2, n_estimators=1600; total time=  10.3s\n",
      "[CV] END bootstrap=False, max_depth=30, max_features=sqrt, min_samples_leaf=4, min_samples_split=5, n_estimators=800; total time=   6.6s\n",
      "[CV] END bootstrap=False, max_depth=30, max_features=sqrt, min_samples_leaf=4, min_samples_split=5, n_estimators=800; total time=   6.2s\n",
      "[CV] END bootstrap=False, max_depth=30, max_features=sqrt, min_samples_leaf=4, min_samples_split=5, n_estimators=800; total time=   6.5s\n",
      "[CV] END bootstrap=False, max_depth=100, max_features=sqrt, min_samples_leaf=2, min_samples_split=5, n_estimators=1000; total time=  11.2s\n",
      "[CV] END bootstrap=False, max_depth=100, max_features=sqrt, min_samples_leaf=2, min_samples_split=5, n_estimators=1000; total time=  11.3s\n",
      "[CV] END bootstrap=False, max_depth=100, max_features=sqrt, min_samples_leaf=2, min_samples_split=5, n_estimators=1000; total time=  11.1s\n",
      "[CV] END bootstrap=False, max_depth=60, max_features=sqrt, min_samples_leaf=1, min_samples_split=5, n_estimators=600; total time=  19.7s\n",
      "[CV] END bootstrap=False, max_depth=60, max_features=sqrt, min_samples_leaf=1, min_samples_split=5, n_estimators=600; total time=  21.6s\n",
      "[CV] END bootstrap=False, max_depth=60, max_features=sqrt, min_samples_leaf=1, min_samples_split=5, n_estimators=600; total time=  21.1s\n"
     ]
    },
    {
     "name": "stderr",
     "output_type": "stream",
     "text": [
      "/Users/slimeollie/anaconda3/lib/python3.10/site-packages/sklearn/ensemble/_forest.py:413: FutureWarning: `max_features='auto'` has been deprecated in 1.1 and will be removed in 1.3. To keep the past behaviour, explicitly set `max_features=1.0` or remove this parameter as it is also the default value for RandomForestRegressors and ExtraTreesRegressors.\n",
      "  warn(\n"
     ]
    },
    {
     "name": "stdout",
     "output_type": "stream",
     "text": [
      "[CV] END bootstrap=False, max_depth=30, max_features=auto, min_samples_leaf=4, min_samples_split=2, n_estimators=2000; total time= 2.8min\n"
     ]
    },
    {
     "name": "stderr",
     "output_type": "stream",
     "text": [
      "/Users/slimeollie/anaconda3/lib/python3.10/site-packages/sklearn/ensemble/_forest.py:413: FutureWarning: `max_features='auto'` has been deprecated in 1.1 and will be removed in 1.3. To keep the past behaviour, explicitly set `max_features=1.0` or remove this parameter as it is also the default value for RandomForestRegressors and ExtraTreesRegressors.\n",
      "  warn(\n"
     ]
    },
    {
     "name": "stdout",
     "output_type": "stream",
     "text": [
      "[CV] END bootstrap=False, max_depth=30, max_features=auto, min_samples_leaf=4, min_samples_split=2, n_estimators=2000; total time= 2.9min\n"
     ]
    },
    {
     "name": "stderr",
     "output_type": "stream",
     "text": [
      "/Users/slimeollie/anaconda3/lib/python3.10/site-packages/sklearn/ensemble/_forest.py:413: FutureWarning: `max_features='auto'` has been deprecated in 1.1 and will be removed in 1.3. To keep the past behaviour, explicitly set `max_features=1.0` or remove this parameter as it is also the default value for RandomForestRegressors and ExtraTreesRegressors.\n",
      "  warn(\n"
     ]
    },
    {
     "name": "stdout",
     "output_type": "stream",
     "text": [
      "[CV] END bootstrap=False, max_depth=30, max_features=auto, min_samples_leaf=4, min_samples_split=2, n_estimators=2000; total time= 3.1min\n"
     ]
    },
    {
     "name": "stderr",
     "output_type": "stream",
     "text": [
      "/Users/slimeollie/anaconda3/lib/python3.10/site-packages/sklearn/ensemble/_forest.py:413: FutureWarning: `max_features='auto'` has been deprecated in 1.1 and will be removed in 1.3. To keep the past behaviour, explicitly set `max_features=1.0` or remove this parameter as it is also the default value for RandomForestRegressors and ExtraTreesRegressors.\n",
      "  warn(\n"
     ]
    },
    {
     "name": "stdout",
     "output_type": "stream",
     "text": [
      "[CV] END bootstrap=False, max_depth=50, max_features=auto, min_samples_leaf=1, min_samples_split=2, n_estimators=1000; total time= 2.4min\n"
     ]
    },
    {
     "name": "stderr",
     "output_type": "stream",
     "text": [
      "/Users/slimeollie/anaconda3/lib/python3.10/site-packages/sklearn/ensemble/_forest.py:413: FutureWarning: `max_features='auto'` has been deprecated in 1.1 and will be removed in 1.3. To keep the past behaviour, explicitly set `max_features=1.0` or remove this parameter as it is also the default value for RandomForestRegressors and ExtraTreesRegressors.\n",
      "  warn(\n"
     ]
    },
    {
     "name": "stdout",
     "output_type": "stream",
     "text": [
      "[CV] END bootstrap=False, max_depth=50, max_features=auto, min_samples_leaf=1, min_samples_split=2, n_estimators=1000; total time= 2.3min\n"
     ]
    },
    {
     "name": "stderr",
     "output_type": "stream",
     "text": [
      "/Users/slimeollie/anaconda3/lib/python3.10/site-packages/sklearn/ensemble/_forest.py:413: FutureWarning: `max_features='auto'` has been deprecated in 1.1 and will be removed in 1.3. To keep the past behaviour, explicitly set `max_features=1.0` or remove this parameter as it is also the default value for RandomForestRegressors and ExtraTreesRegressors.\n",
      "  warn(\n"
     ]
    },
    {
     "name": "stdout",
     "output_type": "stream",
     "text": [
      "[CV] END bootstrap=False, max_depth=50, max_features=auto, min_samples_leaf=1, min_samples_split=2, n_estimators=1000; total time= 2.3min\n"
     ]
    },
    {
     "name": "stderr",
     "output_type": "stream",
     "text": [
      "/Users/slimeollie/anaconda3/lib/python3.10/site-packages/sklearn/ensemble/_forest.py:413: FutureWarning: `max_features='auto'` has been deprecated in 1.1 and will be removed in 1.3. To keep the past behaviour, explicitly set `max_features=1.0` or remove this parameter as it is also the default value for RandomForestRegressors and ExtraTreesRegressors.\n",
      "  warn(\n"
     ]
    },
    {
     "name": "stdout",
     "output_type": "stream",
     "text": [
      "[CV] END bootstrap=False, max_depth=10, max_features=auto, min_samples_leaf=4, min_samples_split=5, n_estimators=1800; total time= 2.2min\n"
     ]
    },
    {
     "name": "stderr",
     "output_type": "stream",
     "text": [
      "/Users/slimeollie/anaconda3/lib/python3.10/site-packages/sklearn/ensemble/_forest.py:413: FutureWarning: `max_features='auto'` has been deprecated in 1.1 and will be removed in 1.3. To keep the past behaviour, explicitly set `max_features=1.0` or remove this parameter as it is also the default value for RandomForestRegressors and ExtraTreesRegressors.\n",
      "  warn(\n"
     ]
    },
    {
     "name": "stdout",
     "output_type": "stream",
     "text": [
      "[CV] END bootstrap=True, max_depth=70, max_features=auto, min_samples_leaf=4, min_samples_split=10, n_estimators=400; total time=  19.0s\n"
     ]
    },
    {
     "name": "stderr",
     "output_type": "stream",
     "text": [
      "/Users/slimeollie/anaconda3/lib/python3.10/site-packages/sklearn/ensemble/_forest.py:413: FutureWarning: `max_features='auto'` has been deprecated in 1.1 and will be removed in 1.3. To keep the past behaviour, explicitly set `max_features=1.0` or remove this parameter as it is also the default value for RandomForestRegressors and ExtraTreesRegressors.\n",
      "  warn(\n"
     ]
    },
    {
     "name": "stdout",
     "output_type": "stream",
     "text": [
      "[CV] END bootstrap=True, max_depth=70, max_features=auto, min_samples_leaf=4, min_samples_split=10, n_estimators=400; total time=  19.3s\n",
      "[CV] END bootstrap=True, max_depth=70, max_features=auto, min_samples_leaf=4, min_samples_split=10, n_estimators=400; total time=  19.3s\n",
      "[CV] END bootstrap=False, max_depth=90, max_features=sqrt, min_samples_leaf=1, min_samples_split=5, n_estimators=800; total time=  16.0s\n",
      "[CV] END bootstrap=False, max_depth=90, max_features=sqrt, min_samples_leaf=1, min_samples_split=5, n_estimators=800; total time=  16.4s\n",
      "[CV] END bootstrap=False, max_depth=90, max_features=sqrt, min_samples_leaf=1, min_samples_split=5, n_estimators=800; total time=  16.4s\n",
      "[CV] END bootstrap=False, max_depth=10, max_features=sqrt, min_samples_leaf=1, min_samples_split=10, n_estimators=2000; total time=  14.5s\n",
      "[CV] END bootstrap=False, max_depth=10, max_features=sqrt, min_samples_leaf=1, min_samples_split=10, n_estimators=2000; total time=  14.5s\n",
      "[CV] END bootstrap=False, max_depth=10, max_features=sqrt, min_samples_leaf=1, min_samples_split=10, n_estimators=2000; total time=  15.0s\n",
      "[CV] END bootstrap=False, max_depth=10, max_features=sqrt, min_samples_leaf=2, min_samples_split=5, n_estimators=1600; total time=  12.5s\n",
      "[CV] END bootstrap=False, max_depth=10, max_features=sqrt, min_samples_leaf=2, min_samples_split=5, n_estimators=1600; total time=  11.9s\n",
      "[CV] END bootstrap=False, max_depth=10, max_features=sqrt, min_samples_leaf=2, min_samples_split=5, n_estimators=1600; total time=  11.7s\n",
      "[CV] END bootstrap=False, max_depth=10, max_features=auto, min_samples_leaf=4, min_samples_split=5, n_estimators=1800; total time= 2.1min\n",
      "[CV] END bootstrap=False, max_depth=30, max_features=sqrt, min_samples_leaf=2, min_samples_split=10, n_estimators=800; total time=   9.3s\n"
     ]
    },
    {
     "name": "stderr",
     "output_type": "stream",
     "text": [
      "/Users/slimeollie/anaconda3/lib/python3.10/site-packages/sklearn/ensemble/_forest.py:413: FutureWarning: `max_features='auto'` has been deprecated in 1.1 and will be removed in 1.3. To keep the past behaviour, explicitly set `max_features=1.0` or remove this parameter as it is also the default value for RandomForestRegressors and ExtraTreesRegressors.\n",
      "  warn(\n"
     ]
    },
    {
     "name": "stdout",
     "output_type": "stream",
     "text": [
      "[CV] END bootstrap=False, max_depth=30, max_features=sqrt, min_samples_leaf=2, min_samples_split=10, n_estimators=800; total time=   9.2s\n"
     ]
    },
    {
     "name": "stderr",
     "output_type": "stream",
     "text": [
      "/Users/slimeollie/anaconda3/lib/python3.10/site-packages/sklearn/ensemble/_forest.py:413: FutureWarning: `max_features='auto'` has been deprecated in 1.1 and will be removed in 1.3. To keep the past behaviour, explicitly set `max_features=1.0` or remove this parameter as it is also the default value for RandomForestRegressors and ExtraTreesRegressors.\n",
      "  warn(\n"
     ]
    },
    {
     "name": "stdout",
     "output_type": "stream",
     "text": [
      "[CV] END bootstrap=False, max_depth=30, max_features=sqrt, min_samples_leaf=2, min_samples_split=10, n_estimators=800; total time=  10.9s\n"
     ]
    },
    {
     "name": "stderr",
     "output_type": "stream",
     "text": [
      "/Users/slimeollie/anaconda3/lib/python3.10/site-packages/sklearn/ensemble/_forest.py:413: FutureWarning: `max_features='auto'` has been deprecated in 1.1 and will be removed in 1.3. To keep the past behaviour, explicitly set `max_features=1.0` or remove this parameter as it is also the default value for RandomForestRegressors and ExtraTreesRegressors.\n",
      "  warn(\n"
     ]
    },
    {
     "name": "stdout",
     "output_type": "stream",
     "text": [
      "[CV] END bootstrap=False, max_depth=10, max_features=auto, min_samples_leaf=4, min_samples_split=5, n_estimators=1800; total time= 2.3min\n"
     ]
    },
    {
     "name": "stderr",
     "output_type": "stream",
     "text": [
      "/Users/slimeollie/anaconda3/lib/python3.10/site-packages/sklearn/ensemble/_forest.py:413: FutureWarning: `max_features='auto'` has been deprecated in 1.1 and will be removed in 1.3. To keep the past behaviour, explicitly set `max_features=1.0` or remove this parameter as it is also the default value for RandomForestRegressors and ExtraTreesRegressors.\n",
      "  warn(\n"
     ]
    },
    {
     "name": "stdout",
     "output_type": "stream",
     "text": [
      "[CV] END bootstrap=False, max_depth=70, max_features=auto, min_samples_leaf=2, min_samples_split=5, n_estimators=600; total time= 1.1min\n"
     ]
    },
    {
     "name": "stderr",
     "output_type": "stream",
     "text": [
      "/Users/slimeollie/anaconda3/lib/python3.10/site-packages/sklearn/ensemble/_forest.py:413: FutureWarning: `max_features='auto'` has been deprecated in 1.1 and will be removed in 1.3. To keep the past behaviour, explicitly set `max_features=1.0` or remove this parameter as it is also the default value for RandomForestRegressors and ExtraTreesRegressors.\n",
      "  warn(\n"
     ]
    },
    {
     "name": "stdout",
     "output_type": "stream",
     "text": [
      "[CV] END bootstrap=False, max_depth=70, max_features=auto, min_samples_leaf=2, min_samples_split=5, n_estimators=600; total time=  53.2s\n"
     ]
    },
    {
     "name": "stderr",
     "output_type": "stream",
     "text": [
      "/Users/slimeollie/anaconda3/lib/python3.10/site-packages/sklearn/ensemble/_forest.py:413: FutureWarning: `max_features='auto'` has been deprecated in 1.1 and will be removed in 1.3. To keep the past behaviour, explicitly set `max_features=1.0` or remove this parameter as it is also the default value for RandomForestRegressors and ExtraTreesRegressors.\n",
      "  warn(\n"
     ]
    },
    {
     "name": "stdout",
     "output_type": "stream",
     "text": [
      "[CV] END bootstrap=False, max_depth=50, max_features=auto, min_samples_leaf=4, min_samples_split=2, n_estimators=1800; total time= 2.4min\n",
      "[CV] END bootstrap=False, max_depth=50, max_features=auto, min_samples_leaf=4, min_samples_split=2, n_estimators=1800; total time= 2.5min\n",
      "[CV] END bootstrap=True, max_depth=20, max_features=sqrt, min_samples_leaf=1, min_samples_split=2, n_estimators=1000; total time=  15.2s\n",
      "[CV] END bootstrap=False, max_depth=50, max_features=auto, min_samples_leaf=4, min_samples_split=2, n_estimators=1800; total time= 2.5min\n"
     ]
    },
    {
     "name": "stderr",
     "output_type": "stream",
     "text": [
      "/Users/slimeollie/anaconda3/lib/python3.10/site-packages/sklearn/ensemble/_forest.py:413: FutureWarning: `max_features='auto'` has been deprecated in 1.1 and will be removed in 1.3. To keep the past behaviour, explicitly set `max_features=1.0` or remove this parameter as it is also the default value for RandomForestRegressors and ExtraTreesRegressors.\n",
      "  warn(\n"
     ]
    },
    {
     "name": "stdout",
     "output_type": "stream",
     "text": [
      "[CV] END bootstrap=True, max_depth=20, max_features=sqrt, min_samples_leaf=1, min_samples_split=2, n_estimators=1000; total time=  15.2s\n"
     ]
    },
    {
     "name": "stderr",
     "output_type": "stream",
     "text": [
      "/Users/slimeollie/anaconda3/lib/python3.10/site-packages/sklearn/ensemble/_forest.py:413: FutureWarning: `max_features='auto'` has been deprecated in 1.1 and will be removed in 1.3. To keep the past behaviour, explicitly set `max_features=1.0` or remove this parameter as it is also the default value for RandomForestRegressors and ExtraTreesRegressors.\n",
      "  warn(\n"
     ]
    },
    {
     "name": "stdout",
     "output_type": "stream",
     "text": [
      "[CV] END bootstrap=True, max_depth=20, max_features=sqrt, min_samples_leaf=1, min_samples_split=2, n_estimators=1000; total time=  14.6s\n"
     ]
    },
    {
     "name": "stderr",
     "output_type": "stream",
     "text": [
      "/Users/slimeollie/anaconda3/lib/python3.10/site-packages/sklearn/ensemble/_forest.py:413: FutureWarning: `max_features='auto'` has been deprecated in 1.1 and will be removed in 1.3. To keep the past behaviour, explicitly set `max_features=1.0` or remove this parameter as it is also the default value for RandomForestRegressors and ExtraTreesRegressors.\n",
      "  warn(\n"
     ]
    },
    {
     "name": "stdout",
     "output_type": "stream",
     "text": [
      "[CV] END bootstrap=False, max_depth=70, max_features=auto, min_samples_leaf=2, min_samples_split=5, n_estimators=600; total time=  54.0s\n"
     ]
    },
    {
     "name": "stderr",
     "output_type": "stream",
     "text": [
      "/Users/slimeollie/anaconda3/lib/python3.10/site-packages/sklearn/ensemble/_forest.py:413: FutureWarning: `max_features='auto'` has been deprecated in 1.1 and will be removed in 1.3. To keep the past behaviour, explicitly set `max_features=1.0` or remove this parameter as it is also the default value for RandomForestRegressors and ExtraTreesRegressors.\n",
      "  warn(\n"
     ]
    },
    {
     "name": "stdout",
     "output_type": "stream",
     "text": [
      "[CV] END bootstrap=True, max_depth=80, max_features=auto, min_samples_leaf=1, min_samples_split=5, n_estimators=600; total time=  39.0s\n"
     ]
    },
    {
     "name": "stderr",
     "output_type": "stream",
     "text": [
      "/Users/slimeollie/anaconda3/lib/python3.10/site-packages/sklearn/ensemble/_forest.py:413: FutureWarning: `max_features='auto'` has been deprecated in 1.1 and will be removed in 1.3. To keep the past behaviour, explicitly set `max_features=1.0` or remove this parameter as it is also the default value for RandomForestRegressors and ExtraTreesRegressors.\n",
      "  warn(\n"
     ]
    },
    {
     "name": "stdout",
     "output_type": "stream",
     "text": [
      "[CV] END bootstrap=True, max_depth=80, max_features=auto, min_samples_leaf=1, min_samples_split=5, n_estimators=600; total time=  38.0s\n"
     ]
    },
    {
     "name": "stderr",
     "output_type": "stream",
     "text": [
      "/Users/slimeollie/anaconda3/lib/python3.10/site-packages/sklearn/ensemble/_forest.py:413: FutureWarning: `max_features='auto'` has been deprecated in 1.1 and will be removed in 1.3. To keep the past behaviour, explicitly set `max_features=1.0` or remove this parameter as it is also the default value for RandomForestRegressors and ExtraTreesRegressors.\n",
      "  warn(\n"
     ]
    },
    {
     "name": "stdout",
     "output_type": "stream",
     "text": [
      "[CV] END bootstrap=False, max_depth=110, max_features=auto, min_samples_leaf=2, min_samples_split=10, n_estimators=1800; total time= 2.5min\n",
      "[CV] END bootstrap=False, max_depth=110, max_features=auto, min_samples_leaf=2, min_samples_split=10, n_estimators=1800; total time= 2.7min\n",
      "[CV] END bootstrap=True, max_depth=80, max_features=auto, min_samples_leaf=1, min_samples_split=5, n_estimators=600; total time= 1.1min\n",
      "[CV] END bootstrap=False, max_depth=110, max_features=auto, min_samples_leaf=2, min_samples_split=10, n_estimators=1800; total time= 2.9min\n",
      "[CV] END bootstrap=False, max_depth=30, max_features=sqrt, min_samples_leaf=1, min_samples_split=10, n_estimators=1800; total time=  39.4s\n",
      "[CV] END bootstrap=False, max_depth=30, max_features=sqrt, min_samples_leaf=1, min_samples_split=10, n_estimators=1800; total time=  32.6s\n",
      "[CV] END bootstrap=False, max_depth=30, max_features=sqrt, min_samples_leaf=1, min_samples_split=10, n_estimators=1800; total time=  29.3s\n",
      "[CV] END bootstrap=True, max_depth=80, max_features=sqrt, min_samples_leaf=4, min_samples_split=5, n_estimators=1400; total time=  13.9s\n",
      "[CV] END bootstrap=False, max_depth=70, max_features=sqrt, min_samples_leaf=1, min_samples_split=5, n_estimators=1600; total time=  34.5s\n",
      "[CV] END bootstrap=True, max_depth=80, max_features=sqrt, min_samples_leaf=4, min_samples_split=5, n_estimators=1400; total time=  10.7s\n"
     ]
    },
    {
     "name": "stderr",
     "output_type": "stream",
     "text": [
      "/Users/slimeollie/anaconda3/lib/python3.10/site-packages/sklearn/ensemble/_forest.py:413: FutureWarning: `max_features='auto'` has been deprecated in 1.1 and will be removed in 1.3. To keep the past behaviour, explicitly set `max_features=1.0` or remove this parameter as it is also the default value for RandomForestRegressors and ExtraTreesRegressors.\n",
      "  warn(\n"
     ]
    },
    {
     "name": "stdout",
     "output_type": "stream",
     "text": [
      "[CV] END bootstrap=False, max_depth=70, max_features=sqrt, min_samples_leaf=1, min_samples_split=5, n_estimators=1600; total time=  34.4s\n"
     ]
    },
    {
     "name": "stderr",
     "output_type": "stream",
     "text": [
      "/Users/slimeollie/anaconda3/lib/python3.10/site-packages/sklearn/ensemble/_forest.py:413: FutureWarning: `max_features='auto'` has been deprecated in 1.1 and will be removed in 1.3. To keep the past behaviour, explicitly set `max_features=1.0` or remove this parameter as it is also the default value for RandomForestRegressors and ExtraTreesRegressors.\n",
      "  warn(\n"
     ]
    },
    {
     "name": "stdout",
     "output_type": "stream",
     "text": [
      "[CV] END bootstrap=False, max_depth=70, max_features=sqrt, min_samples_leaf=1, min_samples_split=5, n_estimators=1600; total time=  34.5s\n",
      "[CV] END bootstrap=True, max_depth=80, max_features=sqrt, min_samples_leaf=4, min_samples_split=5, n_estimators=1400; total time=  10.4s\n"
     ]
    },
    {
     "name": "stderr",
     "output_type": "stream",
     "text": [
      "/Users/slimeollie/anaconda3/lib/python3.10/site-packages/sklearn/ensemble/_forest.py:413: FutureWarning: `max_features='auto'` has been deprecated in 1.1 and will be removed in 1.3. To keep the past behaviour, explicitly set `max_features=1.0` or remove this parameter as it is also the default value for RandomForestRegressors and ExtraTreesRegressors.\n",
      "  warn(\n"
     ]
    },
    {
     "name": "stdout",
     "output_type": "stream",
     "text": [
      "[CV] END bootstrap=False, max_depth=80, max_features=sqrt, min_samples_leaf=1, min_samples_split=5, n_estimators=1400; total time=  26.0s\n",
      "[CV] END bootstrap=False, max_depth=80, max_features=sqrt, min_samples_leaf=1, min_samples_split=5, n_estimators=1400; total time=  25.3s\n",
      "[CV] END bootstrap=False, max_depth=80, max_features=sqrt, min_samples_leaf=1, min_samples_split=5, n_estimators=1400; total time=  27.3s\n",
      "[CV] END bootstrap=False, max_depth=None, max_features=sqrt, min_samples_leaf=1, min_samples_split=2, n_estimators=400; total time=  13.7s\n",
      "[CV] END bootstrap=True, max_depth=None, max_features=auto, min_samples_leaf=2, min_samples_split=2, n_estimators=1800; total time= 1.6min\n",
      "[CV] END bootstrap=True, max_depth=None, max_features=auto, min_samples_leaf=2, min_samples_split=2, n_estimators=1800; total time= 1.6min\n"
     ]
    },
    {
     "name": "stderr",
     "output_type": "stream",
     "text": [
      "/Users/slimeollie/anaconda3/lib/python3.10/site-packages/sklearn/ensemble/_forest.py:413: FutureWarning: `max_features='auto'` has been deprecated in 1.1 and will be removed in 1.3. To keep the past behaviour, explicitly set `max_features=1.0` or remove this parameter as it is also the default value for RandomForestRegressors and ExtraTreesRegressors.\n",
      "  warn(\n"
     ]
    },
    {
     "name": "stdout",
     "output_type": "stream",
     "text": [
      "[CV] END bootstrap=True, max_depth=None, max_features=auto, min_samples_leaf=2, min_samples_split=2, n_estimators=1800; total time= 1.7min\n"
     ]
    },
    {
     "name": "stderr",
     "output_type": "stream",
     "text": [
      "/Users/slimeollie/anaconda3/lib/python3.10/site-packages/sklearn/ensemble/_forest.py:413: FutureWarning: `max_features='auto'` has been deprecated in 1.1 and will be removed in 1.3. To keep the past behaviour, explicitly set `max_features=1.0` or remove this parameter as it is also the default value for RandomForestRegressors and ExtraTreesRegressors.\n",
      "  warn(\n"
     ]
    },
    {
     "name": "stdout",
     "output_type": "stream",
     "text": [
      "[CV] END bootstrap=False, max_depth=None, max_features=sqrt, min_samples_leaf=1, min_samples_split=2, n_estimators=400; total time=  15.3s\n"
     ]
    },
    {
     "name": "stderr",
     "output_type": "stream",
     "text": [
      "/Users/slimeollie/anaconda3/lib/python3.10/site-packages/sklearn/ensemble/_forest.py:413: FutureWarning: `max_features='auto'` has been deprecated in 1.1 and will be removed in 1.3. To keep the past behaviour, explicitly set `max_features=1.0` or remove this parameter as it is also the default value for RandomForestRegressors and ExtraTreesRegressors.\n",
      "  warn(\n"
     ]
    },
    {
     "name": "stdout",
     "output_type": "stream",
     "text": [
      "[CV] END bootstrap=False, max_depth=None, max_features=sqrt, min_samples_leaf=1, min_samples_split=2, n_estimators=400; total time=  16.0s\n",
      "[CV] END bootstrap=True, max_depth=20, max_features=sqrt, min_samples_leaf=2, min_samples_split=5, n_estimators=1000; total time=  16.7s\n",
      "[CV] END bootstrap=True, max_depth=20, max_features=sqrt, min_samples_leaf=2, min_samples_split=5, n_estimators=1000; total time=  11.7s\n",
      "[CV] END bootstrap=True, max_depth=20, max_features=sqrt, min_samples_leaf=2, min_samples_split=5, n_estimators=1000; total time=   8.6s\n"
     ]
    },
    {
     "name": "stderr",
     "output_type": "stream",
     "text": [
      "/Users/slimeollie/anaconda3/lib/python3.10/site-packages/sklearn/ensemble/_forest.py:413: FutureWarning: `max_features='auto'` has been deprecated in 1.1 and will be removed in 1.3. To keep the past behaviour, explicitly set `max_features=1.0` or remove this parameter as it is also the default value for RandomForestRegressors and ExtraTreesRegressors.\n",
      "  warn(\n"
     ]
    },
    {
     "name": "stdout",
     "output_type": "stream",
     "text": [
      "[CV] END bootstrap=False, max_depth=40, max_features=auto, min_samples_leaf=1, min_samples_split=2, n_estimators=1400; total time= 3.6min\n"
     ]
    },
    {
     "name": "stderr",
     "output_type": "stream",
     "text": [
      "/Users/slimeollie/anaconda3/lib/python3.10/site-packages/sklearn/ensemble/_forest.py:413: FutureWarning: `max_features='auto'` has been deprecated in 1.1 and will be removed in 1.3. To keep the past behaviour, explicitly set `max_features=1.0` or remove this parameter as it is also the default value for RandomForestRegressors and ExtraTreesRegressors.\n",
      "  warn(\n"
     ]
    },
    {
     "name": "stdout",
     "output_type": "stream",
     "text": [
      "[CV] END bootstrap=False, max_depth=40, max_features=auto, min_samples_leaf=1, min_samples_split=2, n_estimators=1400; total time= 3.6min\n"
     ]
    },
    {
     "name": "stderr",
     "output_type": "stream",
     "text": [
      "/Users/slimeollie/anaconda3/lib/python3.10/site-packages/sklearn/ensemble/_forest.py:413: FutureWarning: `max_features='auto'` has been deprecated in 1.1 and will be removed in 1.3. To keep the past behaviour, explicitly set `max_features=1.0` or remove this parameter as it is also the default value for RandomForestRegressors and ExtraTreesRegressors.\n",
      "  warn(\n"
     ]
    },
    {
     "name": "stdout",
     "output_type": "stream",
     "text": [
      "[CV] END bootstrap=False, max_depth=100, max_features=auto, min_samples_leaf=4, min_samples_split=10, n_estimators=2000; total time= 2.9min\n",
      "[CV] END bootstrap=False, max_depth=40, max_features=auto, min_samples_leaf=1, min_samples_split=2, n_estimators=1400; total time= 3.7min\n",
      "[CV] END bootstrap=True, max_depth=20, max_features=sqrt, min_samples_leaf=2, min_samples_split=2, n_estimators=1200; total time=  19.8s\n",
      "[CV] END bootstrap=True, max_depth=20, max_features=sqrt, min_samples_leaf=2, min_samples_split=2, n_estimators=1200; total time=  20.0s\n",
      "[CV] END bootstrap=True, max_depth=20, max_features=sqrt, min_samples_leaf=2, min_samples_split=2, n_estimators=1200; total time=  18.6s\n",
      "[CV] END bootstrap=False, max_depth=20, max_features=sqrt, min_samples_leaf=4, min_samples_split=10, n_estimators=1200; total time=  13.7s\n",
      "[CV] END bootstrap=False, max_depth=20, max_features=sqrt, min_samples_leaf=4, min_samples_split=10, n_estimators=1200; total time=  11.8s\n",
      "[CV] END bootstrap=False, max_depth=20, max_features=sqrt, min_samples_leaf=4, min_samples_split=10, n_estimators=1200; total time=  12.5s\n",
      "[CV] END bootstrap=False, max_depth=50, max_features=sqrt, min_samples_leaf=2, min_samples_split=2, n_estimators=800; total time=  15.0s\n",
      "[CV] END bootstrap=False, max_depth=50, max_features=sqrt, min_samples_leaf=2, min_samples_split=2, n_estimators=800; total time=  14.4s\n",
      "[CV] END bootstrap=False, max_depth=50, max_features=sqrt, min_samples_leaf=2, min_samples_split=2, n_estimators=800; total time=  10.5s\n",
      "[CV] END bootstrap=False, max_depth=100, max_features=sqrt, min_samples_leaf=1, min_samples_split=5, n_estimators=800; total time=  16.2s\n",
      "[CV] END bootstrap=False, max_depth=100, max_features=sqrt, min_samples_leaf=1, min_samples_split=5, n_estimators=800; total time=  16.1s\n",
      "[CV] END bootstrap=True, max_depth=50, max_features=sqrt, min_samples_leaf=4, min_samples_split=10, n_estimators=800; total time=   6.2s\n",
      "[CV] END bootstrap=False, max_depth=100, max_features=sqrt, min_samples_leaf=1, min_samples_split=5, n_estimators=800; total time=  15.5s\n",
      "[CV] END bootstrap=True, max_depth=50, max_features=sqrt, min_samples_leaf=4, min_samples_split=10, n_estimators=800; total time=   6.1s\n",
      "[CV] END bootstrap=True, max_depth=50, max_features=sqrt, min_samples_leaf=4, min_samples_split=10, n_estimators=800; total time=   6.0s\n",
      "[CV] END bootstrap=True, max_depth=90, max_features=sqrt, min_samples_leaf=4, min_samples_split=2, n_estimators=1800; total time=  13.0s\n",
      "[CV] END bootstrap=True, max_depth=90, max_features=sqrt, min_samples_leaf=4, min_samples_split=2, n_estimators=1800; total time=  13.1s\n",
      "[CV] END bootstrap=False, max_depth=20, max_features=sqrt, min_samples_leaf=2, min_samples_split=10, n_estimators=800; total time=   7.4s\n",
      "[CV] END bootstrap=True, max_depth=90, max_features=sqrt, min_samples_leaf=4, min_samples_split=2, n_estimators=1800; total time=  13.1s\n",
      "[CV] END bootstrap=False, max_depth=20, max_features=sqrt, min_samples_leaf=2, min_samples_split=10, n_estimators=800; total time=   7.3s\n",
      "[CV] END bootstrap=False, max_depth=20, max_features=sqrt, min_samples_leaf=2, min_samples_split=10, n_estimators=800; total time=   7.2s\n",
      "[CV] END bootstrap=True, max_depth=20, max_features=sqrt, min_samples_leaf=2, min_samples_split=5, n_estimators=1200; total time=  10.0s\n",
      "[CV] END bootstrap=True, max_depth=20, max_features=sqrt, min_samples_leaf=2, min_samples_split=5, n_estimators=1200; total time=   9.9s\n"
     ]
    },
    {
     "name": "stderr",
     "output_type": "stream",
     "text": [
      "/Users/slimeollie/anaconda3/lib/python3.10/site-packages/sklearn/ensemble/_forest.py:413: FutureWarning: `max_features='auto'` has been deprecated in 1.1 and will be removed in 1.3. To keep the past behaviour, explicitly set `max_features=1.0` or remove this parameter as it is also the default value for RandomForestRegressors and ExtraTreesRegressors.\n",
      "  warn(\n"
     ]
    },
    {
     "name": "stdout",
     "output_type": "stream",
     "text": [
      "[CV] END bootstrap=False, max_depth=100, max_features=auto, min_samples_leaf=4, min_samples_split=10, n_estimators=2000; total time= 2.7min\n"
     ]
    },
    {
     "name": "stderr",
     "output_type": "stream",
     "text": [
      "/Users/slimeollie/anaconda3/lib/python3.10/site-packages/sklearn/ensemble/_forest.py:413: FutureWarning: `max_features='auto'` has been deprecated in 1.1 and will be removed in 1.3. To keep the past behaviour, explicitly set `max_features=1.0` or remove this parameter as it is also the default value for RandomForestRegressors and ExtraTreesRegressors.\n",
      "  warn(\n"
     ]
    },
    {
     "name": "stdout",
     "output_type": "stream",
     "text": [
      "[CV] END bootstrap=True, max_depth=20, max_features=sqrt, min_samples_leaf=2, min_samples_split=5, n_estimators=1200; total time=  10.8s\n"
     ]
    },
    {
     "name": "stderr",
     "output_type": "stream",
     "text": [
      "/Users/slimeollie/anaconda3/lib/python3.10/site-packages/sklearn/ensemble/_forest.py:413: FutureWarning: `max_features='auto'` has been deprecated in 1.1 and will be removed in 1.3. To keep the past behaviour, explicitly set `max_features=1.0` or remove this parameter as it is also the default value for RandomForestRegressors and ExtraTreesRegressors.\n",
      "  warn(\n"
     ]
    },
    {
     "name": "stdout",
     "output_type": "stream",
     "text": [
      "[CV] END bootstrap=False, max_depth=100, max_features=auto, min_samples_leaf=4, min_samples_split=10, n_estimators=2000; total time= 2.9min\n"
     ]
    },
    {
     "name": "stderr",
     "output_type": "stream",
     "text": [
      "/Users/slimeollie/anaconda3/lib/python3.10/site-packages/sklearn/ensemble/_forest.py:413: FutureWarning: `max_features='auto'` has been deprecated in 1.1 and will be removed in 1.3. To keep the past behaviour, explicitly set `max_features=1.0` or remove this parameter as it is also the default value for RandomForestRegressors and ExtraTreesRegressors.\n",
      "  warn(\n"
     ]
    },
    {
     "name": "stdout",
     "output_type": "stream",
     "text": [
      "[CV] END bootstrap=True, max_depth=None, max_features=auto, min_samples_leaf=2, min_samples_split=5, n_estimators=800; total time=  51.5s\n"
     ]
    },
    {
     "name": "stderr",
     "output_type": "stream",
     "text": [
      "/Users/slimeollie/anaconda3/lib/python3.10/site-packages/sklearn/ensemble/_forest.py:413: FutureWarning: `max_features='auto'` has been deprecated in 1.1 and will be removed in 1.3. To keep the past behaviour, explicitly set `max_features=1.0` or remove this parameter as it is also the default value for RandomForestRegressors and ExtraTreesRegressors.\n",
      "  warn(\n"
     ]
    },
    {
     "name": "stdout",
     "output_type": "stream",
     "text": [
      "[CV] END bootstrap=True, max_depth=100, max_features=auto, min_samples_leaf=1, min_samples_split=2, n_estimators=800; total time= 1.2min\n"
     ]
    },
    {
     "name": "stderr",
     "output_type": "stream",
     "text": [
      "/Users/slimeollie/anaconda3/lib/python3.10/site-packages/sklearn/ensemble/_forest.py:413: FutureWarning: `max_features='auto'` has been deprecated in 1.1 and will be removed in 1.3. To keep the past behaviour, explicitly set `max_features=1.0` or remove this parameter as it is also the default value for RandomForestRegressors and ExtraTreesRegressors.\n",
      "  warn(\n"
     ]
    },
    {
     "name": "stdout",
     "output_type": "stream",
     "text": [
      "[CV] END bootstrap=True, max_depth=100, max_features=auto, min_samples_leaf=1, min_samples_split=2, n_estimators=800; total time= 1.2min\n",
      "[CV] END bootstrap=True, max_depth=100, max_features=auto, min_samples_leaf=1, min_samples_split=2, n_estimators=800; total time= 1.2min\n",
      "[CV] END bootstrap=True, max_depth=60, max_features=sqrt, min_samples_leaf=2, min_samples_split=2, n_estimators=1000; total time=   9.4s\n",
      "[CV] END bootstrap=True, max_depth=60, max_features=sqrt, min_samples_leaf=2, min_samples_split=2, n_estimators=1000; total time=   9.1s\n"
     ]
    },
    {
     "name": "stderr",
     "output_type": "stream",
     "text": [
      "/Users/slimeollie/anaconda3/lib/python3.10/site-packages/sklearn/ensemble/_forest.py:413: FutureWarning: `max_features='auto'` has been deprecated in 1.1 and will be removed in 1.3. To keep the past behaviour, explicitly set `max_features=1.0` or remove this parameter as it is also the default value for RandomForestRegressors and ExtraTreesRegressors.\n",
      "  warn(\n"
     ]
    },
    {
     "name": "stdout",
     "output_type": "stream",
     "text": [
      "[CV] END bootstrap=True, max_depth=60, max_features=sqrt, min_samples_leaf=2, min_samples_split=2, n_estimators=1000; total time=   9.1s\n"
     ]
    },
    {
     "name": "stderr",
     "output_type": "stream",
     "text": [
      "/Users/slimeollie/anaconda3/lib/python3.10/site-packages/sklearn/ensemble/_forest.py:413: FutureWarning: `max_features='auto'` has been deprecated in 1.1 and will be removed in 1.3. To keep the past behaviour, explicitly set `max_features=1.0` or remove this parameter as it is also the default value for RandomForestRegressors and ExtraTreesRegressors.\n",
      "  warn(\n"
     ]
    },
    {
     "name": "stdout",
     "output_type": "stream",
     "text": [
      "[CV] END bootstrap=True, max_depth=10, max_features=auto, min_samples_leaf=4, min_samples_split=5, n_estimators=200; total time=   8.9s\n"
     ]
    },
    {
     "name": "stderr",
     "output_type": "stream",
     "text": [
      "/Users/slimeollie/anaconda3/lib/python3.10/site-packages/sklearn/ensemble/_forest.py:413: FutureWarning: `max_features='auto'` has been deprecated in 1.1 and will be removed in 1.3. To keep the past behaviour, explicitly set `max_features=1.0` or remove this parameter as it is also the default value for RandomForestRegressors and ExtraTreesRegressors.\n",
      "  warn(\n"
     ]
    },
    {
     "name": "stdout",
     "output_type": "stream",
     "text": [
      "[CV] END bootstrap=True, max_depth=10, max_features=auto, min_samples_leaf=4, min_samples_split=5, n_estimators=200; total time=   8.9s\n",
      "[CV] END bootstrap=True, max_depth=60, max_features=sqrt, min_samples_leaf=2, min_samples_split=10, n_estimators=600; total time=   5.2s\n",
      "[CV] END bootstrap=True, max_depth=10, max_features=auto, min_samples_leaf=4, min_samples_split=5, n_estimators=200; total time=   8.8s\n",
      "[CV] END bootstrap=True, max_depth=60, max_features=sqrt, min_samples_leaf=2, min_samples_split=10, n_estimators=600; total time=   5.3s\n",
      "[CV] END bootstrap=True, max_depth=None, max_features=auto, min_samples_leaf=2, min_samples_split=5, n_estimators=800; total time=  41.8s\n",
      "[CV] END bootstrap=True, max_depth=60, max_features=sqrt, min_samples_leaf=2, min_samples_split=10, n_estimators=600; total time=   5.3s\n",
      "[CV] END bootstrap=True, max_depth=None, max_features=auto, min_samples_leaf=2, min_samples_split=5, n_estimators=800; total time=  42.7s\n",
      "[CV] END bootstrap=True, max_depth=90, max_features=sqrt, min_samples_leaf=4, min_samples_split=10, n_estimators=400; total time=   2.8s\n",
      "[CV] END bootstrap=True, max_depth=90, max_features=sqrt, min_samples_leaf=4, min_samples_split=2, n_estimators=800; total time=   5.6s\n",
      "[CV] END bootstrap=True, max_depth=90, max_features=sqrt, min_samples_leaf=4, min_samples_split=2, n_estimators=800; total time=   5.6s\n"
     ]
    },
    {
     "name": "stderr",
     "output_type": "stream",
     "text": [
      "/Users/slimeollie/anaconda3/lib/python3.10/site-packages/sklearn/ensemble/_forest.py:413: FutureWarning: `max_features='auto'` has been deprecated in 1.1 and will be removed in 1.3. To keep the past behaviour, explicitly set `max_features=1.0` or remove this parameter as it is also the default value for RandomForestRegressors and ExtraTreesRegressors.\n",
      "  warn(\n"
     ]
    },
    {
     "name": "stdout",
     "output_type": "stream",
     "text": [
      "[CV] END bootstrap=True, max_depth=90, max_features=sqrt, min_samples_leaf=4, min_samples_split=2, n_estimators=800; total time=   5.6s\n"
     ]
    },
    {
     "name": "stderr",
     "output_type": "stream",
     "text": [
      "/Users/slimeollie/anaconda3/lib/python3.10/site-packages/sklearn/ensemble/_forest.py:413: FutureWarning: `max_features='auto'` has been deprecated in 1.1 and will be removed in 1.3. To keep the past behaviour, explicitly set `max_features=1.0` or remove this parameter as it is also the default value for RandomForestRegressors and ExtraTreesRegressors.\n",
      "  warn(\n"
     ]
    },
    {
     "name": "stdout",
     "output_type": "stream",
     "text": [
      "[CV] END bootstrap=True, max_depth=90, max_features=sqrt, min_samples_leaf=4, min_samples_split=10, n_estimators=400; total time=   2.9s\n"
     ]
    },
    {
     "name": "stderr",
     "output_type": "stream",
     "text": [
      "/Users/slimeollie/anaconda3/lib/python3.10/site-packages/sklearn/ensemble/_forest.py:413: FutureWarning: `max_features='auto'` has been deprecated in 1.1 and will be removed in 1.3. To keep the past behaviour, explicitly set `max_features=1.0` or remove this parameter as it is also the default value for RandomForestRegressors and ExtraTreesRegressors.\n",
      "  warn(\n"
     ]
    },
    {
     "name": "stdout",
     "output_type": "stream",
     "text": [
      "[CV] END bootstrap=True, max_depth=90, max_features=sqrt, min_samples_leaf=4, min_samples_split=10, n_estimators=400; total time=   3.3s\n",
      "[CV] END bootstrap=False, max_depth=90, max_features=auto, min_samples_leaf=2, min_samples_split=5, n_estimators=200; total time=  16.0s\n",
      "[CV] END bootstrap=False, max_depth=90, max_features=auto, min_samples_leaf=2, min_samples_split=5, n_estimators=200; total time=  15.7s\n",
      "[CV] END bootstrap=False, max_depth=90, max_features=auto, min_samples_leaf=2, min_samples_split=5, n_estimators=200; total time=  16.7s\n"
     ]
    },
    {
     "name": "stderr",
     "output_type": "stream",
     "text": [
      "/Users/slimeollie/anaconda3/lib/python3.10/site-packages/sklearn/ensemble/_forest.py:413: FutureWarning: `max_features='auto'` has been deprecated in 1.1 and will be removed in 1.3. To keep the past behaviour, explicitly set `max_features=1.0` or remove this parameter as it is also the default value for RandomForestRegressors and ExtraTreesRegressors.\n",
      "  warn(\n"
     ]
    },
    {
     "name": "stdout",
     "output_type": "stream",
     "text": [
      "[CV] END bootstrap=True, max_depth=110, max_features=sqrt, min_samples_leaf=1, min_samples_split=2, n_estimators=1000; total time=  21.8s\n"
     ]
    },
    {
     "name": "stderr",
     "output_type": "stream",
     "text": [
      "/Users/slimeollie/anaconda3/lib/python3.10/site-packages/sklearn/ensemble/_forest.py:413: FutureWarning: `max_features='auto'` has been deprecated in 1.1 and will be removed in 1.3. To keep the past behaviour, explicitly set `max_features=1.0` or remove this parameter as it is also the default value for RandomForestRegressors and ExtraTreesRegressors.\n",
      "  warn(\n"
     ]
    },
    {
     "name": "stdout",
     "output_type": "stream",
     "text": [
      "[CV] END bootstrap=True, max_depth=110, max_features=sqrt, min_samples_leaf=1, min_samples_split=2, n_estimators=1000; total time=  22.1s\n"
     ]
    },
    {
     "name": "stderr",
     "output_type": "stream",
     "text": [
      "/Users/slimeollie/anaconda3/lib/python3.10/site-packages/sklearn/ensemble/_forest.py:413: FutureWarning: `max_features='auto'` has been deprecated in 1.1 and will be removed in 1.3. To keep the past behaviour, explicitly set `max_features=1.0` or remove this parameter as it is also the default value for RandomForestRegressors and ExtraTreesRegressors.\n",
      "  warn(\n"
     ]
    },
    {
     "name": "stdout",
     "output_type": "stream",
     "text": [
      "[CV] END bootstrap=True, max_depth=110, max_features=sqrt, min_samples_leaf=1, min_samples_split=2, n_estimators=1000; total time=  22.4s\n",
      "[CV] END bootstrap=False, max_depth=80, max_features=sqrt, min_samples_leaf=4, min_samples_split=10, n_estimators=400; total time=   3.2s\n",
      "[CV] END bootstrap=False, max_depth=80, max_features=sqrt, min_samples_leaf=4, min_samples_split=10, n_estimators=400; total time=   3.3s\n",
      "[CV] END bootstrap=False, max_depth=80, max_features=sqrt, min_samples_leaf=4, min_samples_split=10, n_estimators=400; total time=   3.4s\n",
      "[CV] END bootstrap=False, max_depth=70, max_features=sqrt, min_samples_leaf=4, min_samples_split=2, n_estimators=1200; total time=   9.1s\n",
      "[CV] END bootstrap=False, max_depth=70, max_features=sqrt, min_samples_leaf=4, min_samples_split=2, n_estimators=1200; total time=   9.2s\n",
      "[CV] END bootstrap=False, max_depth=70, max_features=sqrt, min_samples_leaf=4, min_samples_split=2, n_estimators=1200; total time=  11.6s\n",
      "[CV] END bootstrap=False, max_depth=110, max_features=sqrt, min_samples_leaf=2, min_samples_split=2, n_estimators=600; total time=   7.6s\n",
      "[CV] END bootstrap=False, max_depth=110, max_features=sqrt, min_samples_leaf=2, min_samples_split=2, n_estimators=600; total time=  12.5s\n",
      "[CV] END bootstrap=False, max_depth=110, max_features=sqrt, min_samples_leaf=2, min_samples_split=2, n_estimators=600; total time=   9.3s\n"
     ]
    },
    {
     "name": "stderr",
     "output_type": "stream",
     "text": [
      "/Users/slimeollie/anaconda3/lib/python3.10/site-packages/sklearn/ensemble/_forest.py:413: FutureWarning: `max_features='auto'` has been deprecated in 1.1 and will be removed in 1.3. To keep the past behaviour, explicitly set `max_features=1.0` or remove this parameter as it is also the default value for RandomForestRegressors and ExtraTreesRegressors.\n",
      "  warn(\n"
     ]
    },
    {
     "name": "stdout",
     "output_type": "stream",
     "text": [
      "[CV] END bootstrap=True, max_depth=90, max_features=auto, min_samples_leaf=2, min_samples_split=2, n_estimators=2000; total time= 2.0min\n"
     ]
    },
    {
     "name": "stderr",
     "output_type": "stream",
     "text": [
      "/Users/slimeollie/anaconda3/lib/python3.10/site-packages/sklearn/ensemble/_forest.py:413: FutureWarning: `max_features='auto'` has been deprecated in 1.1 and will be removed in 1.3. To keep the past behaviour, explicitly set `max_features=1.0` or remove this parameter as it is also the default value for RandomForestRegressors and ExtraTreesRegressors.\n",
      "  warn(\n"
     ]
    },
    {
     "name": "stdout",
     "output_type": "stream",
     "text": [
      "[CV] END bootstrap=True, max_depth=90, max_features=auto, min_samples_leaf=2, min_samples_split=2, n_estimators=2000; total time= 2.0min\n"
     ]
    },
    {
     "name": "stderr",
     "output_type": "stream",
     "text": [
      "/Users/slimeollie/anaconda3/lib/python3.10/site-packages/sklearn/ensemble/_forest.py:413: FutureWarning: `max_features='auto'` has been deprecated in 1.1 and will be removed in 1.3. To keep the past behaviour, explicitly set `max_features=1.0` or remove this parameter as it is also the default value for RandomForestRegressors and ExtraTreesRegressors.\n",
      "  warn(\n"
     ]
    },
    {
     "name": "stdout",
     "output_type": "stream",
     "text": [
      "[CV] END bootstrap=True, max_depth=90, max_features=auto, min_samples_leaf=2, min_samples_split=2, n_estimators=2000; total time= 2.1min\n"
     ]
    },
    {
     "name": "stderr",
     "output_type": "stream",
     "text": [
      "/Users/slimeollie/anaconda3/lib/python3.10/site-packages/sklearn/ensemble/_forest.py:413: FutureWarning: `max_features='auto'` has been deprecated in 1.1 and will be removed in 1.3. To keep the past behaviour, explicitly set `max_features=1.0` or remove this parameter as it is also the default value for RandomForestRegressors and ExtraTreesRegressors.\n",
      "  warn(\n"
     ]
    },
    {
     "name": "stdout",
     "output_type": "stream",
     "text": [
      "[CV] END bootstrap=False, max_depth=50, max_features=auto, min_samples_leaf=2, min_samples_split=10, n_estimators=2000; total time= 2.5min\n"
     ]
    },
    {
     "name": "stderr",
     "output_type": "stream",
     "text": [
      "/Users/slimeollie/anaconda3/lib/python3.10/site-packages/sklearn/ensemble/_forest.py:413: FutureWarning: `max_features='auto'` has been deprecated in 1.1 and will be removed in 1.3. To keep the past behaviour, explicitly set `max_features=1.0` or remove this parameter as it is also the default value for RandomForestRegressors and ExtraTreesRegressors.\n",
      "  warn(\n"
     ]
    },
    {
     "name": "stdout",
     "output_type": "stream",
     "text": [
      "[CV] END bootstrap=False, max_depth=20, max_features=auto, min_samples_leaf=1, min_samples_split=2, n_estimators=1800; total time= 3.5min\n"
     ]
    },
    {
     "name": "stderr",
     "output_type": "stream",
     "text": [
      "/Users/slimeollie/anaconda3/lib/python3.10/site-packages/sklearn/ensemble/_forest.py:413: FutureWarning: `max_features='auto'` has been deprecated in 1.1 and will be removed in 1.3. To keep the past behaviour, explicitly set `max_features=1.0` or remove this parameter as it is also the default value for RandomForestRegressors and ExtraTreesRegressors.\n",
      "  warn(\n"
     ]
    },
    {
     "name": "stdout",
     "output_type": "stream",
     "text": [
      "[CV] END bootstrap=False, max_depth=20, max_features=auto, min_samples_leaf=1, min_samples_split=2, n_estimators=1800; total time= 3.5min\n"
     ]
    },
    {
     "name": "stderr",
     "output_type": "stream",
     "text": [
      "/Users/slimeollie/anaconda3/lib/python3.10/site-packages/sklearn/ensemble/_forest.py:413: FutureWarning: `max_features='auto'` has been deprecated in 1.1 and will be removed in 1.3. To keep the past behaviour, explicitly set `max_features=1.0` or remove this parameter as it is also the default value for RandomForestRegressors and ExtraTreesRegressors.\n",
      "  warn(\n"
     ]
    },
    {
     "name": "stdout",
     "output_type": "stream",
     "text": [
      "[CV] END bootstrap=False, max_depth=20, max_features=auto, min_samples_leaf=1, min_samples_split=2, n_estimators=1800; total time= 3.6min\n"
     ]
    },
    {
     "name": "stderr",
     "output_type": "stream",
     "text": [
      "/Users/slimeollie/anaconda3/lib/python3.10/site-packages/sklearn/ensemble/_forest.py:413: FutureWarning: `max_features='auto'` has been deprecated in 1.1 and will be removed in 1.3. To keep the past behaviour, explicitly set `max_features=1.0` or remove this parameter as it is also the default value for RandomForestRegressors and ExtraTreesRegressors.\n",
      "  warn(\n"
     ]
    },
    {
     "name": "stdout",
     "output_type": "stream",
     "text": [
      "[CV] END bootstrap=False, max_depth=50, max_features=auto, min_samples_leaf=4, min_samples_split=10, n_estimators=1000; total time= 1.4min\n"
     ]
    },
    {
     "name": "stderr",
     "output_type": "stream",
     "text": [
      "/Users/slimeollie/anaconda3/lib/python3.10/site-packages/sklearn/ensemble/_forest.py:413: FutureWarning: `max_features='auto'` has been deprecated in 1.1 and will be removed in 1.3. To keep the past behaviour, explicitly set `max_features=1.0` or remove this parameter as it is also the default value for RandomForestRegressors and ExtraTreesRegressors.\n",
      "  warn(\n"
     ]
    },
    {
     "name": "stdout",
     "output_type": "stream",
     "text": [
      "[CV] END bootstrap=False, max_depth=50, max_features=auto, min_samples_leaf=4, min_samples_split=10, n_estimators=1000; total time= 1.3min\n"
     ]
    },
    {
     "name": "stderr",
     "output_type": "stream",
     "text": [
      "/Users/slimeollie/anaconda3/lib/python3.10/site-packages/sklearn/ensemble/_forest.py:413: FutureWarning: `max_features='auto'` has been deprecated in 1.1 and will be removed in 1.3. To keep the past behaviour, explicitly set `max_features=1.0` or remove this parameter as it is also the default value for RandomForestRegressors and ExtraTreesRegressors.\n",
      "  warn(\n"
     ]
    },
    {
     "name": "stdout",
     "output_type": "stream",
     "text": [
      "[CV] END bootstrap=False, max_depth=50, max_features=auto, min_samples_leaf=2, min_samples_split=10, n_estimators=2000; total time= 2.8min\n"
     ]
    },
    {
     "name": "stderr",
     "output_type": "stream",
     "text": [
      "/Users/slimeollie/anaconda3/lib/python3.10/site-packages/sklearn/ensemble/_forest.py:413: FutureWarning: `max_features='auto'` has been deprecated in 1.1 and will be removed in 1.3. To keep the past behaviour, explicitly set `max_features=1.0` or remove this parameter as it is also the default value for RandomForestRegressors and ExtraTreesRegressors.\n",
      "  warn(\n"
     ]
    },
    {
     "name": "stdout",
     "output_type": "stream",
     "text": [
      "[CV] END bootstrap=False, max_depth=50, max_features=auto, min_samples_leaf=2, min_samples_split=10, n_estimators=2000; total time= 3.0min\n"
     ]
    },
    {
     "name": "stderr",
     "output_type": "stream",
     "text": [
      "/Users/slimeollie/anaconda3/lib/python3.10/site-packages/sklearn/ensemble/_forest.py:413: FutureWarning: `max_features='auto'` has been deprecated in 1.1 and will be removed in 1.3. To keep the past behaviour, explicitly set `max_features=1.0` or remove this parameter as it is also the default value for RandomForestRegressors and ExtraTreesRegressors.\n",
      "  warn(\n"
     ]
    },
    {
     "name": "stdout",
     "output_type": "stream",
     "text": [
      "[CV] END bootstrap=False, max_depth=50, max_features=auto, min_samples_leaf=4, min_samples_split=10, n_estimators=1000; total time= 1.3min\n",
      "[CV] END bootstrap=False, max_depth=30, max_features=auto, min_samples_leaf=4, min_samples_split=5, n_estimators=1000; total time= 1.3min\n",
      "[CV] END bootstrap=False, max_depth=None, max_features=sqrt, min_samples_leaf=2, min_samples_split=5, n_estimators=1400; total time=  17.5s\n",
      "[CV] END bootstrap=False, max_depth=None, max_features=sqrt, min_samples_leaf=2, min_samples_split=5, n_estimators=1400; total time=  16.5s\n",
      "[CV] END bootstrap=False, max_depth=60, max_features=sqrt, min_samples_leaf=4, min_samples_split=2, n_estimators=600; total time=   4.9s\n",
      "[CV] END bootstrap=False, max_depth=None, max_features=sqrt, min_samples_leaf=2, min_samples_split=5, n_estimators=1400; total time=  17.1s\n",
      "[CV] END bootstrap=False, max_depth=60, max_features=sqrt, min_samples_leaf=4, min_samples_split=2, n_estimators=600; total time=   5.3s\n"
     ]
    },
    {
     "name": "stderr",
     "output_type": "stream",
     "text": [
      "/Users/slimeollie/anaconda3/lib/python3.10/site-packages/sklearn/ensemble/_forest.py:413: FutureWarning: `max_features='auto'` has been deprecated in 1.1 and will be removed in 1.3. To keep the past behaviour, explicitly set `max_features=1.0` or remove this parameter as it is also the default value for RandomForestRegressors and ExtraTreesRegressors.\n",
      "  warn(\n"
     ]
    },
    {
     "name": "stdout",
     "output_type": "stream",
     "text": [
      "[CV] END bootstrap=False, max_depth=30, max_features=auto, min_samples_leaf=4, min_samples_split=5, n_estimators=1000; total time= 1.2min\n"
     ]
    },
    {
     "name": "stderr",
     "output_type": "stream",
     "text": [
      "/Users/slimeollie/anaconda3/lib/python3.10/site-packages/sklearn/ensemble/_forest.py:413: FutureWarning: `max_features='auto'` has been deprecated in 1.1 and will be removed in 1.3. To keep the past behaviour, explicitly set `max_features=1.0` or remove this parameter as it is also the default value for RandomForestRegressors and ExtraTreesRegressors.\n",
      "  warn(\n"
     ]
    },
    {
     "name": "stdout",
     "output_type": "stream",
     "text": [
      "[CV] END bootstrap=False, max_depth=60, max_features=sqrt, min_samples_leaf=4, min_samples_split=2, n_estimators=600; total time=   5.3s\n"
     ]
    },
    {
     "name": "stderr",
     "output_type": "stream",
     "text": [
      "/Users/slimeollie/anaconda3/lib/python3.10/site-packages/sklearn/ensemble/_forest.py:413: FutureWarning: `max_features='auto'` has been deprecated in 1.1 and will be removed in 1.3. To keep the past behaviour, explicitly set `max_features=1.0` or remove this parameter as it is also the default value for RandomForestRegressors and ExtraTreesRegressors.\n",
      "  warn(\n"
     ]
    },
    {
     "name": "stdout",
     "output_type": "stream",
     "text": [
      "[CV] END bootstrap=False, max_depth=30, max_features=auto, min_samples_leaf=4, min_samples_split=5, n_estimators=1000; total time= 1.3min\n"
     ]
    },
    {
     "name": "stderr",
     "output_type": "stream",
     "text": [
      "/Users/slimeollie/anaconda3/lib/python3.10/site-packages/sklearn/ensemble/_forest.py:413: FutureWarning: `max_features='auto'` has been deprecated in 1.1 and will be removed in 1.3. To keep the past behaviour, explicitly set `max_features=1.0` or remove this parameter as it is also the default value for RandomForestRegressors and ExtraTreesRegressors.\n",
      "  warn(\n"
     ]
    },
    {
     "name": "stdout",
     "output_type": "stream",
     "text": [
      "[CV] END bootstrap=True, max_depth=10, max_features=auto, min_samples_leaf=1, min_samples_split=5, n_estimators=1600; total time= 1.2min\n"
     ]
    },
    {
     "name": "stderr",
     "output_type": "stream",
     "text": [
      "/Users/slimeollie/anaconda3/lib/python3.10/site-packages/sklearn/ensemble/_forest.py:413: FutureWarning: `max_features='auto'` has been deprecated in 1.1 and will be removed in 1.3. To keep the past behaviour, explicitly set `max_features=1.0` or remove this parameter as it is also the default value for RandomForestRegressors and ExtraTreesRegressors.\n",
      "  warn(\n"
     ]
    },
    {
     "name": "stdout",
     "output_type": "stream",
     "text": [
      "[CV] END bootstrap=True, max_depth=10, max_features=auto, min_samples_leaf=1, min_samples_split=5, n_estimators=1600; total time= 1.2min\n"
     ]
    },
    {
     "name": "stderr",
     "output_type": "stream",
     "text": [
      "/Users/slimeollie/anaconda3/lib/python3.10/site-packages/sklearn/ensemble/_forest.py:413: FutureWarning: `max_features='auto'` has been deprecated in 1.1 and will be removed in 1.3. To keep the past behaviour, explicitly set `max_features=1.0` or remove this parameter as it is also the default value for RandomForestRegressors and ExtraTreesRegressors.\n",
      "  warn(\n"
     ]
    },
    {
     "name": "stdout",
     "output_type": "stream",
     "text": [
      "[CV] END bootstrap=True, max_depth=10, max_features=auto, min_samples_leaf=1, min_samples_split=5, n_estimators=1600; total time= 1.2min\n"
     ]
    },
    {
     "name": "stderr",
     "output_type": "stream",
     "text": [
      "/Users/slimeollie/anaconda3/lib/python3.10/site-packages/sklearn/ensemble/_forest.py:413: FutureWarning: `max_features='auto'` has been deprecated in 1.1 and will be removed in 1.3. To keep the past behaviour, explicitly set `max_features=1.0` or remove this parameter as it is also the default value for RandomForestRegressors and ExtraTreesRegressors.\n",
      "  warn(\n"
     ]
    },
    {
     "name": "stdout",
     "output_type": "stream",
     "text": [
      "[CV] END bootstrap=True, max_depth=80, max_features=auto, min_samples_leaf=2, min_samples_split=2, n_estimators=1800; total time= 1.8min\n"
     ]
    },
    {
     "name": "stderr",
     "output_type": "stream",
     "text": [
      "/Users/slimeollie/anaconda3/lib/python3.10/site-packages/sklearn/ensemble/_forest.py:413: FutureWarning: `max_features='auto'` has been deprecated in 1.1 and will be removed in 1.3. To keep the past behaviour, explicitly set `max_features=1.0` or remove this parameter as it is also the default value for RandomForestRegressors and ExtraTreesRegressors.\n",
      "  warn(\n"
     ]
    },
    {
     "name": "stdout",
     "output_type": "stream",
     "text": [
      "[CV] END bootstrap=True, max_depth=80, max_features=auto, min_samples_leaf=2, min_samples_split=2, n_estimators=1800; total time= 1.9min\n"
     ]
    },
    {
     "name": "stderr",
     "output_type": "stream",
     "text": [
      "/Users/slimeollie/anaconda3/lib/python3.10/site-packages/sklearn/ensemble/_forest.py:413: FutureWarning: `max_features='auto'` has been deprecated in 1.1 and will be removed in 1.3. To keep the past behaviour, explicitly set `max_features=1.0` or remove this parameter as it is also the default value for RandomForestRegressors and ExtraTreesRegressors.\n",
      "  warn(\n"
     ]
    },
    {
     "name": "stdout",
     "output_type": "stream",
     "text": [
      "[CV] END bootstrap=True, max_depth=80, max_features=auto, min_samples_leaf=2, min_samples_split=2, n_estimators=1800; total time= 2.0min\n",
      "[CV] END bootstrap=True, max_depth=100, max_features=auto, min_samples_leaf=1, min_samples_split=2, n_estimators=1400; total time= 2.0min\n",
      "[CV] END bootstrap=True, max_depth=80, max_features=sqrt, min_samples_leaf=2, min_samples_split=10, n_estimators=1400; total time=  11.5s\n",
      "[CV] END bootstrap=True, max_depth=80, max_features=sqrt, min_samples_leaf=2, min_samples_split=10, n_estimators=1400; total time=  11.8s\n",
      "[CV] END bootstrap=True, max_depth=50, max_features=sqrt, min_samples_leaf=1, min_samples_split=2, n_estimators=200; total time=   4.9s\n",
      "[CV] END bootstrap=True, max_depth=80, max_features=sqrt, min_samples_leaf=2, min_samples_split=10, n_estimators=1400; total time=  12.2s\n",
      "[CV] END bootstrap=True, max_depth=50, max_features=sqrt, min_samples_leaf=1, min_samples_split=2, n_estimators=200; total time=   4.5s\n",
      "[CV] END bootstrap=True, max_depth=10, max_features=sqrt, min_samples_leaf=4, min_samples_split=2, n_estimators=400; total time=   2.6s\n",
      "[CV] END bootstrap=True, max_depth=50, max_features=sqrt, min_samples_leaf=1, min_samples_split=2, n_estimators=200; total time=   4.5s\n",
      "[CV] END bootstrap=True, max_depth=10, max_features=sqrt, min_samples_leaf=4, min_samples_split=2, n_estimators=400; total time=   3.1s\n"
     ]
    },
    {
     "name": "stderr",
     "output_type": "stream",
     "text": [
      "/Users/slimeollie/anaconda3/lib/python3.10/site-packages/sklearn/ensemble/_forest.py:413: FutureWarning: `max_features='auto'` has been deprecated in 1.1 and will be removed in 1.3. To keep the past behaviour, explicitly set `max_features=1.0` or remove this parameter as it is also the default value for RandomForestRegressors and ExtraTreesRegressors.\n",
      "  warn(\n"
     ]
    },
    {
     "name": "stdout",
     "output_type": "stream",
     "text": [
      "[CV] END bootstrap=True, max_depth=10, max_features=sqrt, min_samples_leaf=4, min_samples_split=2, n_estimators=400; total time=   3.4s\n"
     ]
    },
    {
     "name": "stderr",
     "output_type": "stream",
     "text": [
      "/Users/slimeollie/anaconda3/lib/python3.10/site-packages/sklearn/ensemble/_forest.py:413: FutureWarning: `max_features='auto'` has been deprecated in 1.1 and will be removed in 1.3. To keep the past behaviour, explicitly set `max_features=1.0` or remove this parameter as it is also the default value for RandomForestRegressors and ExtraTreesRegressors.\n",
      "  warn(\n"
     ]
    },
    {
     "name": "stdout",
     "output_type": "stream",
     "text": [
      "[CV] END bootstrap=True, max_depth=100, max_features=auto, min_samples_leaf=1, min_samples_split=2, n_estimators=1400; total time= 1.8min\n"
     ]
    },
    {
     "name": "stderr",
     "output_type": "stream",
     "text": [
      "/Users/slimeollie/anaconda3/lib/python3.10/site-packages/sklearn/ensemble/_forest.py:413: FutureWarning: `max_features='auto'` has been deprecated in 1.1 and will be removed in 1.3. To keep the past behaviour, explicitly set `max_features=1.0` or remove this parameter as it is also the default value for RandomForestRegressors and ExtraTreesRegressors.\n",
      "  warn(\n"
     ]
    },
    {
     "name": "stdout",
     "output_type": "stream",
     "text": [
      "[CV] END bootstrap=False, max_depth=80, max_features=auto, min_samples_leaf=4, min_samples_split=10, n_estimators=1000; total time= 1.0min\n"
     ]
    },
    {
     "name": "stderr",
     "output_type": "stream",
     "text": [
      "/Users/slimeollie/anaconda3/lib/python3.10/site-packages/sklearn/ensemble/_forest.py:413: FutureWarning: `max_features='auto'` has been deprecated in 1.1 and will be removed in 1.3. To keep the past behaviour, explicitly set `max_features=1.0` or remove this parameter as it is also the default value for RandomForestRegressors and ExtraTreesRegressors.\n",
      "  warn(\n"
     ]
    },
    {
     "name": "stdout",
     "output_type": "stream",
     "text": [
      "[CV] END bootstrap=True, max_depth=100, max_features=auto, min_samples_leaf=1, min_samples_split=2, n_estimators=1400; total time= 1.7min\n"
     ]
    },
    {
     "name": "stderr",
     "output_type": "stream",
     "text": [
      "/Users/slimeollie/anaconda3/lib/python3.10/site-packages/sklearn/ensemble/_forest.py:413: FutureWarning: `max_features='auto'` has been deprecated in 1.1 and will be removed in 1.3. To keep the past behaviour, explicitly set `max_features=1.0` or remove this parameter as it is also the default value for RandomForestRegressors and ExtraTreesRegressors.\n",
      "  warn(\n"
     ]
    },
    {
     "name": "stdout",
     "output_type": "stream",
     "text": [
      "[CV] END bootstrap=False, max_depth=80, max_features=auto, min_samples_leaf=4, min_samples_split=10, n_estimators=1000; total time= 1.1min\n"
     ]
    },
    {
     "name": "stderr",
     "output_type": "stream",
     "text": [
      "/Users/slimeollie/anaconda3/lib/python3.10/site-packages/sklearn/ensemble/_forest.py:413: FutureWarning: `max_features='auto'` has been deprecated in 1.1 and will be removed in 1.3. To keep the past behaviour, explicitly set `max_features=1.0` or remove this parameter as it is also the default value for RandomForestRegressors and ExtraTreesRegressors.\n",
      "  warn(\n"
     ]
    },
    {
     "name": "stdout",
     "output_type": "stream",
     "text": [
      "[CV] END bootstrap=False, max_depth=80, max_features=auto, min_samples_leaf=4, min_samples_split=10, n_estimators=1000; total time= 1.1min\n",
      "[CV] END bootstrap=True, max_depth=20, max_features=sqrt, min_samples_leaf=1, min_samples_split=10, n_estimators=1600; total time=  14.6s\n",
      "[CV] END bootstrap=True, max_depth=20, max_features=sqrt, min_samples_leaf=1, min_samples_split=10, n_estimators=1600; total time=  15.9s\n",
      "[CV] END bootstrap=True, max_depth=20, max_features=sqrt, min_samples_leaf=1, min_samples_split=10, n_estimators=1600; total time=  14.8s\n"
     ]
    },
    {
     "name": "stderr",
     "output_type": "stream",
     "text": [
      "/Users/slimeollie/anaconda3/lib/python3.10/site-packages/sklearn/ensemble/_forest.py:413: FutureWarning: `max_features='auto'` has been deprecated in 1.1 and will be removed in 1.3. To keep the past behaviour, explicitly set `max_features=1.0` or remove this parameter as it is also the default value for RandomForestRegressors and ExtraTreesRegressors.\n",
      "  warn(\n"
     ]
    },
    {
     "name": "stdout",
     "output_type": "stream",
     "text": [
      "[CV] END bootstrap=False, max_depth=None, max_features=auto, min_samples_leaf=2, min_samples_split=10, n_estimators=1200; total time= 1.4min\n"
     ]
    },
    {
     "name": "stderr",
     "output_type": "stream",
     "text": [
      "/Users/slimeollie/anaconda3/lib/python3.10/site-packages/sklearn/ensemble/_forest.py:413: FutureWarning: `max_features='auto'` has been deprecated in 1.1 and will be removed in 1.3. To keep the past behaviour, explicitly set `max_features=1.0` or remove this parameter as it is also the default value for RandomForestRegressors and ExtraTreesRegressors.\n",
      "  warn(\n"
     ]
    },
    {
     "name": "stdout",
     "output_type": "stream",
     "text": [
      "[CV] END bootstrap=False, max_depth=None, max_features=auto, min_samples_leaf=2, min_samples_split=10, n_estimators=1200; total time= 1.5min\n"
     ]
    },
    {
     "name": "stderr",
     "output_type": "stream",
     "text": [
      "/Users/slimeollie/anaconda3/lib/python3.10/site-packages/sklearn/ensemble/_forest.py:413: FutureWarning: `max_features='auto'` has been deprecated in 1.1 and will be removed in 1.3. To keep the past behaviour, explicitly set `max_features=1.0` or remove this parameter as it is also the default value for RandomForestRegressors and ExtraTreesRegressors.\n",
      "  warn(\n"
     ]
    },
    {
     "name": "stdout",
     "output_type": "stream",
     "text": [
      "[CV] END bootstrap=False, max_depth=None, max_features=auto, min_samples_leaf=2, min_samples_split=10, n_estimators=1200; total time= 1.5min\n"
     ]
    },
    {
     "name": "stderr",
     "output_type": "stream",
     "text": [
      "/Users/slimeollie/anaconda3/lib/python3.10/site-packages/sklearn/ensemble/_forest.py:413: FutureWarning: `max_features='auto'` has been deprecated in 1.1 and will be removed in 1.3. To keep the past behaviour, explicitly set `max_features=1.0` or remove this parameter as it is also the default value for RandomForestRegressors and ExtraTreesRegressors.\n",
      "  warn(\n"
     ]
    },
    {
     "name": "stdout",
     "output_type": "stream",
     "text": [
      "[CV] END bootstrap=True, max_depth=None, max_features=auto, min_samples_leaf=2, min_samples_split=10, n_estimators=1600; total time= 1.2min\n"
     ]
    },
    {
     "name": "stderr",
     "output_type": "stream",
     "text": [
      "/Users/slimeollie/anaconda3/lib/python3.10/site-packages/sklearn/ensemble/_forest.py:413: FutureWarning: `max_features='auto'` has been deprecated in 1.1 and will be removed in 1.3. To keep the past behaviour, explicitly set `max_features=1.0` or remove this parameter as it is also the default value for RandomForestRegressors and ExtraTreesRegressors.\n",
      "  warn(\n"
     ]
    },
    {
     "name": "stdout",
     "output_type": "stream",
     "text": [
      "[CV] END bootstrap=True, max_depth=None, max_features=auto, min_samples_leaf=2, min_samples_split=10, n_estimators=1600; total time= 1.4min\n"
     ]
    },
    {
     "name": "stderr",
     "output_type": "stream",
     "text": [
      "/Users/slimeollie/anaconda3/lib/python3.10/site-packages/sklearn/ensemble/_forest.py:413: FutureWarning: `max_features='auto'` has been deprecated in 1.1 and will be removed in 1.3. To keep the past behaviour, explicitly set `max_features=1.0` or remove this parameter as it is also the default value for RandomForestRegressors and ExtraTreesRegressors.\n",
      "  warn(\n"
     ]
    },
    {
     "name": "stdout",
     "output_type": "stream",
     "text": [
      "[CV] END bootstrap=True, max_depth=None, max_features=auto, min_samples_leaf=2, min_samples_split=10, n_estimators=1600; total time= 1.4min\n"
     ]
    },
    {
     "name": "stderr",
     "output_type": "stream",
     "text": [
      "/Users/slimeollie/anaconda3/lib/python3.10/site-packages/sklearn/ensemble/_forest.py:413: FutureWarning: `max_features='auto'` has been deprecated in 1.1 and will be removed in 1.3. To keep the past behaviour, explicitly set `max_features=1.0` or remove this parameter as it is also the default value for RandomForestRegressors and ExtraTreesRegressors.\n",
      "  warn(\n"
     ]
    },
    {
     "name": "stdout",
     "output_type": "stream",
     "text": [
      "[CV] END bootstrap=False, max_depth=10, max_features=auto, min_samples_leaf=4, min_samples_split=2, n_estimators=1800; total time= 2.2min\n"
     ]
    },
    {
     "name": "stderr",
     "output_type": "stream",
     "text": [
      "/Users/slimeollie/anaconda3/lib/python3.10/site-packages/sklearn/ensemble/_forest.py:413: FutureWarning: `max_features='auto'` has been deprecated in 1.1 and will be removed in 1.3. To keep the past behaviour, explicitly set `max_features=1.0` or remove this parameter as it is also the default value for RandomForestRegressors and ExtraTreesRegressors.\n",
      "  warn(\n"
     ]
    },
    {
     "name": "stdout",
     "output_type": "stream",
     "text": [
      "[CV] END bootstrap=True, max_depth=70, max_features=auto, min_samples_leaf=2, min_samples_split=2, n_estimators=1400; total time= 1.3min\n"
     ]
    },
    {
     "name": "stderr",
     "output_type": "stream",
     "text": [
      "/Users/slimeollie/anaconda3/lib/python3.10/site-packages/sklearn/ensemble/_forest.py:413: FutureWarning: `max_features='auto'` has been deprecated in 1.1 and will be removed in 1.3. To keep the past behaviour, explicitly set `max_features=1.0` or remove this parameter as it is also the default value for RandomForestRegressors and ExtraTreesRegressors.\n",
      "  warn(\n"
     ]
    },
    {
     "name": "stdout",
     "output_type": "stream",
     "text": [
      "[CV] END bootstrap=False, max_depth=10, max_features=auto, min_samples_leaf=4, min_samples_split=2, n_estimators=1800; total time= 2.3min\n",
      "[CV] END bootstrap=False, max_depth=80, max_features=sqrt, min_samples_leaf=1, min_samples_split=10, n_estimators=1000; total time=  34.5s\n",
      "[CV] END bootstrap=False, max_depth=80, max_features=sqrt, min_samples_leaf=1, min_samples_split=10, n_estimators=1000; total time=  17.0s\n",
      "[CV] END bootstrap=False, max_depth=10, max_features=auto, min_samples_leaf=4, min_samples_split=2, n_estimators=1800; total time= 2.7min\n"
     ]
    },
    {
     "name": "stderr",
     "output_type": "stream",
     "text": [
      "/Users/slimeollie/anaconda3/lib/python3.10/site-packages/sklearn/ensemble/_forest.py:413: FutureWarning: `max_features='auto'` has been deprecated in 1.1 and will be removed in 1.3. To keep the past behaviour, explicitly set `max_features=1.0` or remove this parameter as it is also the default value for RandomForestRegressors and ExtraTreesRegressors.\n",
      "  warn(\n"
     ]
    },
    {
     "name": "stdout",
     "output_type": "stream",
     "text": [
      "[CV] END bootstrap=True, max_depth=70, max_features=auto, min_samples_leaf=2, min_samples_split=2, n_estimators=1400; total time= 1.8min\n"
     ]
    },
    {
     "name": "stderr",
     "output_type": "stream",
     "text": [
      "/Users/slimeollie/anaconda3/lib/python3.10/site-packages/sklearn/ensemble/_forest.py:413: FutureWarning: `max_features='auto'` has been deprecated in 1.1 and will be removed in 1.3. To keep the past behaviour, explicitly set `max_features=1.0` or remove this parameter as it is also the default value for RandomForestRegressors and ExtraTreesRegressors.\n",
      "  warn(\n"
     ]
    },
    {
     "name": "stdout",
     "output_type": "stream",
     "text": [
      "[CV] END bootstrap=False, max_depth=80, max_features=sqrt, min_samples_leaf=1, min_samples_split=10, n_estimators=1000; total time=  17.2s\n"
     ]
    },
    {
     "name": "stderr",
     "output_type": "stream",
     "text": [
      "/Users/slimeollie/anaconda3/lib/python3.10/site-packages/sklearn/ensemble/_forest.py:413: FutureWarning: `max_features='auto'` has been deprecated in 1.1 and will be removed in 1.3. To keep the past behaviour, explicitly set `max_features=1.0` or remove this parameter as it is also the default value for RandomForestRegressors and ExtraTreesRegressors.\n",
      "  warn(\n"
     ]
    },
    {
     "name": "stdout",
     "output_type": "stream",
     "text": [
      "[CV] END bootstrap=True, max_depth=70, max_features=auto, min_samples_leaf=2, min_samples_split=2, n_estimators=1400; total time= 1.8min\n",
      "[CV] END bootstrap=False, max_depth=80, max_features=sqrt, min_samples_leaf=4, min_samples_split=2, n_estimators=1400; total time=  12.6s\n",
      "[CV] END bootstrap=False, max_depth=80, max_features=sqrt, min_samples_leaf=4, min_samples_split=2, n_estimators=1400; total time=  15.3s\n",
      "[CV] END bootstrap=False, max_depth=80, max_features=sqrt, min_samples_leaf=4, min_samples_split=2, n_estimators=1400; total time=  12.6s\n",
      "[CV] END bootstrap=False, max_depth=20, max_features=sqrt, min_samples_leaf=4, min_samples_split=2, n_estimators=800; total time=   6.3s\n",
      "[CV] END bootstrap=False, max_depth=20, max_features=sqrt, min_samples_leaf=4, min_samples_split=2, n_estimators=800; total time=   6.6s\n",
      "[CV] END bootstrap=False, max_depth=20, max_features=sqrt, min_samples_leaf=4, min_samples_split=2, n_estimators=800; total time=   6.6s\n",
      "[CV] END bootstrap=True, max_depth=60, max_features=sqrt, min_samples_leaf=2, min_samples_split=5, n_estimators=1800; total time=  18.9s\n",
      "[CV] END bootstrap=True, max_depth=60, max_features=sqrt, min_samples_leaf=2, min_samples_split=5, n_estimators=1800; total time=  17.2s\n",
      "[CV] END bootstrap=True, max_depth=60, max_features=sqrt, min_samples_leaf=2, min_samples_split=5, n_estimators=1800; total time=  17.4s\n"
     ]
    },
    {
     "name": "stderr",
     "output_type": "stream",
     "text": [
      "/Users/slimeollie/anaconda3/lib/python3.10/site-packages/sklearn/ensemble/_forest.py:413: FutureWarning: `max_features='auto'` has been deprecated in 1.1 and will be removed in 1.3. To keep the past behaviour, explicitly set `max_features=1.0` or remove this parameter as it is also the default value for RandomForestRegressors and ExtraTreesRegressors.\n",
      "  warn(\n"
     ]
    },
    {
     "name": "stdout",
     "output_type": "stream",
     "text": [
      "[CV] END bootstrap=False, max_depth=60, max_features=auto, min_samples_leaf=2, min_samples_split=10, n_estimators=2000; total time= 2.6min\n"
     ]
    },
    {
     "name": "stderr",
     "output_type": "stream",
     "text": [
      "/Users/slimeollie/anaconda3/lib/python3.10/site-packages/sklearn/ensemble/_forest.py:413: FutureWarning: `max_features='auto'` has been deprecated in 1.1 and will be removed in 1.3. To keep the past behaviour, explicitly set `max_features=1.0` or remove this parameter as it is also the default value for RandomForestRegressors and ExtraTreesRegressors.\n",
      "  warn(\n"
     ]
    },
    {
     "name": "stdout",
     "output_type": "stream",
     "text": [
      "[CV] END bootstrap=False, max_depth=60, max_features=auto, min_samples_leaf=2, min_samples_split=10, n_estimators=2000; total time= 2.7min\n"
     ]
    },
    {
     "name": "stderr",
     "output_type": "stream",
     "text": [
      "/Users/slimeollie/anaconda3/lib/python3.10/site-packages/sklearn/ensemble/_forest.py:413: FutureWarning: `max_features='auto'` has been deprecated in 1.1 and will be removed in 1.3. To keep the past behaviour, explicitly set `max_features=1.0` or remove this parameter as it is also the default value for RandomForestRegressors and ExtraTreesRegressors.\n",
      "  warn(\n"
     ]
    },
    {
     "name": "stdout",
     "output_type": "stream",
     "text": [
      "[CV] END bootstrap=False, max_depth=60, max_features=auto, min_samples_leaf=2, min_samples_split=10, n_estimators=2000; total time= 2.7min\n"
     ]
    },
    {
     "name": "stderr",
     "output_type": "stream",
     "text": [
      "/Users/slimeollie/anaconda3/lib/python3.10/site-packages/sklearn/ensemble/_forest.py:413: FutureWarning: `max_features='auto'` has been deprecated in 1.1 and will be removed in 1.3. To keep the past behaviour, explicitly set `max_features=1.0` or remove this parameter as it is also the default value for RandomForestRegressors and ExtraTreesRegressors.\n",
      "  warn(\n"
     ]
    },
    {
     "name": "stdout",
     "output_type": "stream",
     "text": [
      "[CV] END bootstrap=False, max_depth=90, max_features=auto, min_samples_leaf=1, min_samples_split=5, n_estimators=400; total time=  39.4s\n"
     ]
    },
    {
     "name": "stderr",
     "output_type": "stream",
     "text": [
      "/Users/slimeollie/anaconda3/lib/python3.10/site-packages/sklearn/ensemble/_forest.py:413: FutureWarning: `max_features='auto'` has been deprecated in 1.1 and will be removed in 1.3. To keep the past behaviour, explicitly set `max_features=1.0` or remove this parameter as it is also the default value for RandomForestRegressors and ExtraTreesRegressors.\n",
      "  warn(\n"
     ]
    },
    {
     "name": "stdout",
     "output_type": "stream",
     "text": [
      "[CV] END bootstrap=False, max_depth=90, max_features=auto, min_samples_leaf=1, min_samples_split=5, n_estimators=400; total time=  38.8s\n"
     ]
    },
    {
     "name": "stderr",
     "output_type": "stream",
     "text": [
      "/Users/slimeollie/anaconda3/lib/python3.10/site-packages/sklearn/ensemble/_forest.py:413: FutureWarning: `max_features='auto'` has been deprecated in 1.1 and will be removed in 1.3. To keep the past behaviour, explicitly set `max_features=1.0` or remove this parameter as it is also the default value for RandomForestRegressors and ExtraTreesRegressors.\n",
      "  warn(\n"
     ]
    },
    {
     "name": "stdout",
     "output_type": "stream",
     "text": [
      "[CV] END bootstrap=False, max_depth=90, max_features=auto, min_samples_leaf=1, min_samples_split=5, n_estimators=400; total time=  39.4s\n",
      "[CV] END bootstrap=False, max_depth=90, max_features=sqrt, min_samples_leaf=2, min_samples_split=10, n_estimators=400; total time=   4.4s\n",
      "[CV] END bootstrap=False, max_depth=90, max_features=sqrt, min_samples_leaf=2, min_samples_split=10, n_estimators=400; total time=   5.6s\n",
      "[CV] END bootstrap=False, max_depth=90, max_features=sqrt, min_samples_leaf=2, min_samples_split=10, n_estimators=400; total time=   4.8s\n",
      "[CV] END bootstrap=True, max_depth=None, max_features=sqrt, min_samples_leaf=1, min_samples_split=10, n_estimators=1600; total time=  19.4s\n",
      "[CV] END bootstrap=True, max_depth=None, max_features=sqrt, min_samples_leaf=1, min_samples_split=10, n_estimators=1600; total time=  19.1s\n",
      "[CV] END bootstrap=True, max_depth=None, max_features=sqrt, min_samples_leaf=1, min_samples_split=10, n_estimators=1600; total time=  21.3s\n",
      "[CV] END bootstrap=True, max_depth=90, max_features=auto, min_samples_leaf=1, min_samples_split=5, n_estimators=1600; total time= 1.7min\n",
      "[CV] END bootstrap=True, max_depth=90, max_features=auto, min_samples_leaf=1, min_samples_split=5, n_estimators=1600; total time= 1.8min\n",
      "[CV] END bootstrap=True, max_depth=90, max_features=auto, min_samples_leaf=1, min_samples_split=5, n_estimators=1600; total time= 1.8min\n",
      "[CV] END bootstrap=True, max_depth=100, max_features=sqrt, min_samples_leaf=1, min_samples_split=5, n_estimators=2000; total time=  37.2s\n",
      "[CV] END bootstrap=True, max_depth=100, max_features=sqrt, min_samples_leaf=1, min_samples_split=5, n_estimators=2000; total time=  36.8s\n",
      "[CV] END bootstrap=True, max_depth=10, max_features=sqrt, min_samples_leaf=2, min_samples_split=5, n_estimators=1000; total time=   7.3s\n"
     ]
    },
    {
     "name": "stderr",
     "output_type": "stream",
     "text": [
      "/Users/slimeollie/anaconda3/lib/python3.10/site-packages/sklearn/ensemble/_forest.py:413: FutureWarning: `max_features='auto'` has been deprecated in 1.1 and will be removed in 1.3. To keep the past behaviour, explicitly set `max_features=1.0` or remove this parameter as it is also the default value for RandomForestRegressors and ExtraTreesRegressors.\n",
      "  warn(\n"
     ]
    },
    {
     "name": "stdout",
     "output_type": "stream",
     "text": [
      "[CV] END bootstrap=True, max_depth=10, max_features=sqrt, min_samples_leaf=2, min_samples_split=5, n_estimators=1000; total time=   7.6s\n"
     ]
    },
    {
     "name": "stderr",
     "output_type": "stream",
     "text": [
      "/Users/slimeollie/anaconda3/lib/python3.10/site-packages/sklearn/ensemble/_forest.py:413: FutureWarning: `max_features='auto'` has been deprecated in 1.1 and will be removed in 1.3. To keep the past behaviour, explicitly set `max_features=1.0` or remove this parameter as it is also the default value for RandomForestRegressors and ExtraTreesRegressors.\n",
      "  warn(\n"
     ]
    },
    {
     "name": "stdout",
     "output_type": "stream",
     "text": [
      "[CV] END bootstrap=True, max_depth=10, max_features=sqrt, min_samples_leaf=2, min_samples_split=5, n_estimators=1000; total time=   7.3s\n"
     ]
    },
    {
     "name": "stderr",
     "output_type": "stream",
     "text": [
      "/Users/slimeollie/anaconda3/lib/python3.10/site-packages/sklearn/ensemble/_forest.py:413: FutureWarning: `max_features='auto'` has been deprecated in 1.1 and will be removed in 1.3. To keep the past behaviour, explicitly set `max_features=1.0` or remove this parameter as it is also the default value for RandomForestRegressors and ExtraTreesRegressors.\n",
      "  warn(\n"
     ]
    },
    {
     "name": "stdout",
     "output_type": "stream",
     "text": [
      "[CV] END bootstrap=True, max_depth=80, max_features=auto, min_samples_leaf=4, min_samples_split=5, n_estimators=200; total time=   9.6s\n"
     ]
    },
    {
     "name": "stderr",
     "output_type": "stream",
     "text": [
      "/Users/slimeollie/anaconda3/lib/python3.10/site-packages/sklearn/ensemble/_forest.py:413: FutureWarning: `max_features='auto'` has been deprecated in 1.1 and will be removed in 1.3. To keep the past behaviour, explicitly set `max_features=1.0` or remove this parameter as it is also the default value for RandomForestRegressors and ExtraTreesRegressors.\n",
      "  warn(\n"
     ]
    },
    {
     "name": "stdout",
     "output_type": "stream",
     "text": [
      "[CV] END bootstrap=True, max_depth=100, max_features=sqrt, min_samples_leaf=1, min_samples_split=5, n_estimators=2000; total time=  29.4s\n",
      "[CV] END bootstrap=True, max_depth=80, max_features=auto, min_samples_leaf=4, min_samples_split=5, n_estimators=200; total time=   9.4s\n"
     ]
    },
    {
     "name": "stderr",
     "output_type": "stream",
     "text": [
      "/Users/slimeollie/anaconda3/lib/python3.10/site-packages/sklearn/ensemble/_forest.py:413: FutureWarning: `max_features='auto'` has been deprecated in 1.1 and will be removed in 1.3. To keep the past behaviour, explicitly set `max_features=1.0` or remove this parameter as it is also the default value for RandomForestRegressors and ExtraTreesRegressors.\n",
      "  warn(\n",
      "/Users/slimeollie/anaconda3/lib/python3.10/site-packages/sklearn/ensemble/_forest.py:413: FutureWarning: `max_features='auto'` has been deprecated in 1.1 and will be removed in 1.3. To keep the past behaviour, explicitly set `max_features=1.0` or remove this parameter as it is also the default value for RandomForestRegressors and ExtraTreesRegressors.\n",
      "  warn(\n"
     ]
    },
    {
     "name": "stdout",
     "output_type": "stream",
     "text": [
      "[CV] END bootstrap=True, max_depth=80, max_features=auto, min_samples_leaf=4, min_samples_split=5, n_estimators=200; total time=  10.3s\n"
     ]
    },
    {
     "name": "stderr",
     "output_type": "stream",
     "text": [
      "/Users/slimeollie/anaconda3/lib/python3.10/site-packages/sklearn/ensemble/_forest.py:413: FutureWarning: `max_features='auto'` has been deprecated in 1.1 and will be removed in 1.3. To keep the past behaviour, explicitly set `max_features=1.0` or remove this parameter as it is also the default value for RandomForestRegressors and ExtraTreesRegressors.\n",
      "  warn(\n"
     ]
    },
    {
     "name": "stdout",
     "output_type": "stream",
     "text": [
      "[CV] END bootstrap=True, max_depth=100, max_features=auto, min_samples_leaf=2, min_samples_split=10, n_estimators=600; total time=  28.6s\n"
     ]
    },
    {
     "name": "stderr",
     "output_type": "stream",
     "text": [
      "/Users/slimeollie/anaconda3/lib/python3.10/site-packages/sklearn/ensemble/_forest.py:413: FutureWarning: `max_features='auto'` has been deprecated in 1.1 and will be removed in 1.3. To keep the past behaviour, explicitly set `max_features=1.0` or remove this parameter as it is also the default value for RandomForestRegressors and ExtraTreesRegressors.\n",
      "  warn(\n"
     ]
    },
    {
     "name": "stdout",
     "output_type": "stream",
     "text": [
      "[CV] END bootstrap=True, max_depth=100, max_features=auto, min_samples_leaf=2, min_samples_split=10, n_estimators=600; total time=  27.5s\n"
     ]
    },
    {
     "name": "stderr",
     "output_type": "stream",
     "text": [
      "/Users/slimeollie/anaconda3/lib/python3.10/site-packages/sklearn/ensemble/_forest.py:413: FutureWarning: `max_features='auto'` has been deprecated in 1.1 and will be removed in 1.3. To keep the past behaviour, explicitly set `max_features=1.0` or remove this parameter as it is also the default value for RandomForestRegressors and ExtraTreesRegressors.\n",
      "  warn(\n"
     ]
    },
    {
     "name": "stdout",
     "output_type": "stream",
     "text": [
      "[CV] END bootstrap=True, max_depth=100, max_features=auto, min_samples_leaf=2, min_samples_split=10, n_estimators=600; total time=  28.4s\n"
     ]
    },
    {
     "name": "stderr",
     "output_type": "stream",
     "text": [
      "/Users/slimeollie/anaconda3/lib/python3.10/site-packages/sklearn/ensemble/_forest.py:413: FutureWarning: `max_features='auto'` has been deprecated in 1.1 and will be removed in 1.3. To keep the past behaviour, explicitly set `max_features=1.0` or remove this parameter as it is also the default value for RandomForestRegressors and ExtraTreesRegressors.\n",
      "  warn(\n"
     ]
    },
    {
     "name": "stdout",
     "output_type": "stream",
     "text": [
      "[CV] END bootstrap=True, max_depth=100, max_features=auto, min_samples_leaf=4, min_samples_split=5, n_estimators=1000; total time=  43.8s\n"
     ]
    },
    {
     "name": "stderr",
     "output_type": "stream",
     "text": [
      "/Users/slimeollie/anaconda3/lib/python3.10/site-packages/sklearn/ensemble/_forest.py:413: FutureWarning: `max_features='auto'` has been deprecated in 1.1 and will be removed in 1.3. To keep the past behaviour, explicitly set `max_features=1.0` or remove this parameter as it is also the default value for RandomForestRegressors and ExtraTreesRegressors.\n",
      "  warn(\n"
     ]
    },
    {
     "name": "stdout",
     "output_type": "stream",
     "text": [
      "[CV] END bootstrap=False, max_depth=60, max_features=auto, min_samples_leaf=4, min_samples_split=2, n_estimators=2000; total time= 2.3min\n"
     ]
    },
    {
     "name": "stderr",
     "output_type": "stream",
     "text": [
      "/Users/slimeollie/anaconda3/lib/python3.10/site-packages/sklearn/ensemble/_forest.py:413: FutureWarning: `max_features='auto'` has been deprecated in 1.1 and will be removed in 1.3. To keep the past behaviour, explicitly set `max_features=1.0` or remove this parameter as it is also the default value for RandomForestRegressors and ExtraTreesRegressors.\n",
      "  warn(\n"
     ]
    },
    {
     "name": "stdout",
     "output_type": "stream",
     "text": [
      "[CV] END bootstrap=False, max_depth=60, max_features=auto, min_samples_leaf=4, min_samples_split=2, n_estimators=2000; total time= 2.4min\n"
     ]
    },
    {
     "name": "stderr",
     "output_type": "stream",
     "text": [
      "/Users/slimeollie/anaconda3/lib/python3.10/site-packages/sklearn/ensemble/_forest.py:413: FutureWarning: `max_features='auto'` has been deprecated in 1.1 and will be removed in 1.3. To keep the past behaviour, explicitly set `max_features=1.0` or remove this parameter as it is also the default value for RandomForestRegressors and ExtraTreesRegressors.\n",
      "  warn(\n"
     ]
    },
    {
     "name": "stdout",
     "output_type": "stream",
     "text": [
      "[CV] END bootstrap=False, max_depth=60, max_features=auto, min_samples_leaf=4, min_samples_split=2, n_estimators=2000; total time= 2.5min\n"
     ]
    },
    {
     "name": "stderr",
     "output_type": "stream",
     "text": [
      "/Users/slimeollie/anaconda3/lib/python3.10/site-packages/sklearn/ensemble/_forest.py:413: FutureWarning: `max_features='auto'` has been deprecated in 1.1 and will be removed in 1.3. To keep the past behaviour, explicitly set `max_features=1.0` or remove this parameter as it is also the default value for RandomForestRegressors and ExtraTreesRegressors.\n",
      "  warn(\n"
     ]
    },
    {
     "name": "stdout",
     "output_type": "stream",
     "text": [
      "[CV] END bootstrap=True, max_depth=100, max_features=auto, min_samples_leaf=4, min_samples_split=5, n_estimators=1000; total time=  45.9s\n"
     ]
    },
    {
     "name": "stderr",
     "output_type": "stream",
     "text": [
      "/Users/slimeollie/anaconda3/lib/python3.10/site-packages/sklearn/ensemble/_forest.py:413: FutureWarning: `max_features='auto'` has been deprecated in 1.1 and will be removed in 1.3. To keep the past behaviour, explicitly set `max_features=1.0` or remove this parameter as it is also the default value for RandomForestRegressors and ExtraTreesRegressors.\n",
      "  warn(\n"
     ]
    },
    {
     "name": "stdout",
     "output_type": "stream",
     "text": [
      "[CV] END bootstrap=True, max_depth=100, max_features=auto, min_samples_leaf=4, min_samples_split=5, n_estimators=1000; total time=  47.0s\n",
      "[CV] END bootstrap=False, max_depth=70, max_features=sqrt, min_samples_leaf=4, min_samples_split=5, n_estimators=800; total time=   6.7s\n",
      "[CV] END bootstrap=False, max_depth=70, max_features=sqrt, min_samples_leaf=4, min_samples_split=5, n_estimators=800; total time=   7.0s\n",
      "[CV] END bootstrap=False, max_depth=None, max_features=auto, min_samples_leaf=2, min_samples_split=10, n_estimators=800; total time= 1.0min\n",
      "[CV] END bootstrap=False, max_depth=70, max_features=sqrt, min_samples_leaf=4, min_samples_split=5, n_estimators=800; total time=   8.0s\n",
      "[CV] END bootstrap=False, max_depth=None, max_features=auto, min_samples_leaf=2, min_samples_split=10, n_estimators=800; total time= 1.0min\n",
      "[CV] END bootstrap=False, max_depth=40, max_features=sqrt, min_samples_leaf=1, min_samples_split=10, n_estimators=600; total time=  12.3s\n",
      "[CV] END bootstrap=False, max_depth=40, max_features=sqrt, min_samples_leaf=1, min_samples_split=10, n_estimators=600; total time=  11.5s\n",
      "[CV] END bootstrap=True, max_depth=100, max_features=sqrt, min_samples_leaf=1, min_samples_split=5, n_estimators=400; total time=   8.6s\n",
      "[CV] END bootstrap=False, max_depth=40, max_features=sqrt, min_samples_leaf=1, min_samples_split=10, n_estimators=600; total time=  12.7s\n",
      "[CV] END bootstrap=True, max_depth=100, max_features=sqrt, min_samples_leaf=1, min_samples_split=5, n_estimators=400; total time=   8.8s\n",
      "[CV] END bootstrap=True, max_depth=100, max_features=sqrt, min_samples_leaf=1, min_samples_split=5, n_estimators=400; total time=   8.4s\n",
      "[CV] END bootstrap=True, max_depth=80, max_features=sqrt, min_samples_leaf=4, min_samples_split=2, n_estimators=1600; total time=  14.0s\n",
      "[CV] END bootstrap=True, max_depth=80, max_features=sqrt, min_samples_leaf=4, min_samples_split=2, n_estimators=1600; total time=  14.8s\n",
      "[CV] END bootstrap=True, max_depth=80, max_features=sqrt, min_samples_leaf=4, min_samples_split=2, n_estimators=1600; total time=  16.0s\n",
      "[CV] END bootstrap=True, max_depth=100, max_features=sqrt, min_samples_leaf=4, min_samples_split=10, n_estimators=800; total time=   9.9s\n",
      "[CV] END bootstrap=True, max_depth=100, max_features=sqrt, min_samples_leaf=4, min_samples_split=10, n_estimators=800; total time=   9.1s\n",
      "[CV] END bootstrap=False, max_depth=None, max_features=auto, min_samples_leaf=2, min_samples_split=10, n_estimators=800; total time= 1.2min\n",
      "[CV] END bootstrap=True, max_depth=100, max_features=sqrt, min_samples_leaf=4, min_samples_split=10, n_estimators=800; total time=   6.4s\n",
      "[CV] END bootstrap=True, max_depth=10, max_features=sqrt, min_samples_leaf=2, min_samples_split=10, n_estimators=1000; total time=   7.0s\n",
      "[CV] END bootstrap=True, max_depth=10, max_features=sqrt, min_samples_leaf=2, min_samples_split=10, n_estimators=1000; total time=   7.0s\n",
      "[CV] END bootstrap=True, max_depth=10, max_features=sqrt, min_samples_leaf=2, min_samples_split=10, n_estimators=1000; total time=   7.7s\n",
      "[CV] END bootstrap=True, max_depth=110, max_features=sqrt, min_samples_leaf=1, min_samples_split=10, n_estimators=600; total time=   8.1s\n",
      "[CV] END bootstrap=True, max_depth=110, max_features=sqrt, min_samples_leaf=1, min_samples_split=10, n_estimators=600; total time=   8.2s\n",
      "[CV] END bootstrap=True, max_depth=110, max_features=sqrt, min_samples_leaf=1, min_samples_split=10, n_estimators=600; total time=   8.1s\n",
      "[CV] END bootstrap=True, max_depth=40, max_features=sqrt, min_samples_leaf=1, min_samples_split=5, n_estimators=800; total time=  10.9s\n",
      "[CV] END bootstrap=False, max_depth=None, max_features=sqrt, min_samples_leaf=4, min_samples_split=5, n_estimators=2000; total time=  16.9s\n",
      "[CV] END bootstrap=False, max_depth=None, max_features=sqrt, min_samples_leaf=4, min_samples_split=5, n_estimators=2000; total time=  17.2s\n"
     ]
    },
    {
     "name": "stderr",
     "output_type": "stream",
     "text": [
      "/Users/slimeollie/anaconda3/lib/python3.10/site-packages/sklearn/ensemble/_forest.py:413: FutureWarning: `max_features='auto'` has been deprecated in 1.1 and will be removed in 1.3. To keep the past behaviour, explicitly set `max_features=1.0` or remove this parameter as it is also the default value for RandomForestRegressors and ExtraTreesRegressors.\n",
      "  warn(\n"
     ]
    },
    {
     "name": "stdout",
     "output_type": "stream",
     "text": [
      "[CV] END bootstrap=False, max_depth=None, max_features=sqrt, min_samples_leaf=4, min_samples_split=5, n_estimators=2000; total time=  17.3s\n"
     ]
    },
    {
     "name": "stderr",
     "output_type": "stream",
     "text": [
      "/Users/slimeollie/anaconda3/lib/python3.10/site-packages/sklearn/ensemble/_forest.py:413: FutureWarning: `max_features='auto'` has been deprecated in 1.1 and will be removed in 1.3. To keep the past behaviour, explicitly set `max_features=1.0` or remove this parameter as it is also the default value for RandomForestRegressors and ExtraTreesRegressors.\n",
      "  warn(\n"
     ]
    },
    {
     "name": "stdout",
     "output_type": "stream",
     "text": [
      "[CV] END bootstrap=True, max_depth=40, max_features=sqrt, min_samples_leaf=1, min_samples_split=5, n_estimators=800; total time=  12.7s\n"
     ]
    },
    {
     "name": "stderr",
     "output_type": "stream",
     "text": [
      "/Users/slimeollie/anaconda3/lib/python3.10/site-packages/sklearn/ensemble/_forest.py:413: FutureWarning: `max_features='auto'` has been deprecated in 1.1 and will be removed in 1.3. To keep the past behaviour, explicitly set `max_features=1.0` or remove this parameter as it is also the default value for RandomForestRegressors and ExtraTreesRegressors.\n",
      "  warn(\n"
     ]
    },
    {
     "name": "stdout",
     "output_type": "stream",
     "text": [
      "[CV] END bootstrap=True, max_depth=40, max_features=sqrt, min_samples_leaf=1, min_samples_split=5, n_estimators=800; total time=  13.7s\n",
      "[CV] END bootstrap=False, max_depth=30, max_features=sqrt, min_samples_leaf=4, min_samples_split=2, n_estimators=600; total time=   5.2s\n",
      "[CV] END bootstrap=False, max_depth=30, max_features=sqrt, min_samples_leaf=4, min_samples_split=2, n_estimators=600; total time=   5.2s\n",
      "[CV] END bootstrap=False, max_depth=30, max_features=sqrt, min_samples_leaf=4, min_samples_split=2, n_estimators=600; total time=   5.2s\n"
     ]
    },
    {
     "name": "stderr",
     "output_type": "stream",
     "text": [
      "/Users/slimeollie/anaconda3/lib/python3.10/site-packages/sklearn/ensemble/_forest.py:413: FutureWarning: `max_features='auto'` has been deprecated in 1.1 and will be removed in 1.3. To keep the past behaviour, explicitly set `max_features=1.0` or remove this parameter as it is also the default value for RandomForestRegressors and ExtraTreesRegressors.\n",
      "  warn(\n"
     ]
    },
    {
     "name": "stdout",
     "output_type": "stream",
     "text": [
      "[CV] END bootstrap=True, max_depth=40, max_features=auto, min_samples_leaf=4, min_samples_split=2, n_estimators=600; total time=  29.5s\n"
     ]
    },
    {
     "name": "stderr",
     "output_type": "stream",
     "text": [
      "/Users/slimeollie/anaconda3/lib/python3.10/site-packages/sklearn/ensemble/_forest.py:413: FutureWarning: `max_features='auto'` has been deprecated in 1.1 and will be removed in 1.3. To keep the past behaviour, explicitly set `max_features=1.0` or remove this parameter as it is also the default value for RandomForestRegressors and ExtraTreesRegressors.\n",
      "  warn(\n"
     ]
    },
    {
     "name": "stdout",
     "output_type": "stream",
     "text": [
      "[CV] END bootstrap=True, max_depth=40, max_features=auto, min_samples_leaf=4, min_samples_split=2, n_estimators=600; total time=  29.6s\n"
     ]
    },
    {
     "name": "stderr",
     "output_type": "stream",
     "text": [
      "/Users/slimeollie/anaconda3/lib/python3.10/site-packages/sklearn/ensemble/_forest.py:413: FutureWarning: `max_features='auto'` has been deprecated in 1.1 and will be removed in 1.3. To keep the past behaviour, explicitly set `max_features=1.0` or remove this parameter as it is also the default value for RandomForestRegressors and ExtraTreesRegressors.\n",
      "  warn(\n"
     ]
    },
    {
     "name": "stdout",
     "output_type": "stream",
     "text": [
      "[CV] END bootstrap=True, max_depth=40, max_features=auto, min_samples_leaf=4, min_samples_split=2, n_estimators=600; total time=  29.6s\n"
     ]
    },
    {
     "name": "stderr",
     "output_type": "stream",
     "text": [
      "/Users/slimeollie/anaconda3/lib/python3.10/site-packages/sklearn/ensemble/_forest.py:413: FutureWarning: `max_features='auto'` has been deprecated in 1.1 and will be removed in 1.3. To keep the past behaviour, explicitly set `max_features=1.0` or remove this parameter as it is also the default value for RandomForestRegressors and ExtraTreesRegressors.\n",
      "  warn(\n"
     ]
    },
    {
     "name": "stdout",
     "output_type": "stream",
     "text": [
      "[CV] END bootstrap=False, max_depth=40, max_features=auto, min_samples_leaf=2, min_samples_split=10, n_estimators=400; total time=  29.7s\n"
     ]
    },
    {
     "name": "stderr",
     "output_type": "stream",
     "text": [
      "/Users/slimeollie/anaconda3/lib/python3.10/site-packages/sklearn/ensemble/_forest.py:413: FutureWarning: `max_features='auto'` has been deprecated in 1.1 and will be removed in 1.3. To keep the past behaviour, explicitly set `max_features=1.0` or remove this parameter as it is also the default value for RandomForestRegressors and ExtraTreesRegressors.\n",
      "  warn(\n"
     ]
    },
    {
     "name": "stdout",
     "output_type": "stream",
     "text": [
      "[CV] END bootstrap=False, max_depth=40, max_features=auto, min_samples_leaf=2, min_samples_split=10, n_estimators=400; total time=  31.4s\n"
     ]
    },
    {
     "name": "stderr",
     "output_type": "stream",
     "text": [
      "/Users/slimeollie/anaconda3/lib/python3.10/site-packages/sklearn/ensemble/_forest.py:413: FutureWarning: `max_features='auto'` has been deprecated in 1.1 and will be removed in 1.3. To keep the past behaviour, explicitly set `max_features=1.0` or remove this parameter as it is also the default value for RandomForestRegressors and ExtraTreesRegressors.\n",
      "  warn(\n"
     ]
    },
    {
     "name": "stdout",
     "output_type": "stream",
     "text": [
      "[CV] END bootstrap=False, max_depth=40, max_features=auto, min_samples_leaf=2, min_samples_split=10, n_estimators=400; total time=  31.5s\n"
     ]
    },
    {
     "name": "stderr",
     "output_type": "stream",
     "text": [
      "/Users/slimeollie/anaconda3/lib/python3.10/site-packages/sklearn/ensemble/_forest.py:413: FutureWarning: `max_features='auto'` has been deprecated in 1.1 and will be removed in 1.3. To keep the past behaviour, explicitly set `max_features=1.0` or remove this parameter as it is also the default value for RandomForestRegressors and ExtraTreesRegressors.\n",
      "  warn(\n"
     ]
    },
    {
     "name": "stdout",
     "output_type": "stream",
     "text": [
      "[CV] END bootstrap=False, max_depth=100, max_features=auto, min_samples_leaf=4, min_samples_split=5, n_estimators=200; total time=  14.3s\n"
     ]
    },
    {
     "name": "stderr",
     "output_type": "stream",
     "text": [
      "/Users/slimeollie/anaconda3/lib/python3.10/site-packages/sklearn/ensemble/_forest.py:413: FutureWarning: `max_features='auto'` has been deprecated in 1.1 and will be removed in 1.3. To keep the past behaviour, explicitly set `max_features=1.0` or remove this parameter as it is also the default value for RandomForestRegressors and ExtraTreesRegressors.\n",
      "  warn(\n"
     ]
    },
    {
     "name": "stdout",
     "output_type": "stream",
     "text": [
      "[CV] END bootstrap=False, max_depth=100, max_features=auto, min_samples_leaf=4, min_samples_split=5, n_estimators=200; total time=  13.5s\n"
     ]
    },
    {
     "name": "stderr",
     "output_type": "stream",
     "text": [
      "/Users/slimeollie/anaconda3/lib/python3.10/site-packages/sklearn/ensemble/_forest.py:413: FutureWarning: `max_features='auto'` has been deprecated in 1.1 and will be removed in 1.3. To keep the past behaviour, explicitly set `max_features=1.0` or remove this parameter as it is also the default value for RandomForestRegressors and ExtraTreesRegressors.\n",
      "  warn(\n"
     ]
    },
    {
     "name": "stdout",
     "output_type": "stream",
     "text": [
      "[CV] END bootstrap=False, max_depth=100, max_features=auto, min_samples_leaf=4, min_samples_split=5, n_estimators=200; total time=  16.5s\n",
      "[CV] END bootstrap=False, max_depth=10, max_features=auto, min_samples_leaf=1, min_samples_split=2, n_estimators=1000; total time= 1.3min\n",
      "[CV] END bootstrap=True, max_depth=20, max_features=sqrt, min_samples_leaf=2, min_samples_split=2, n_estimators=2000; total time=  19.0s\n",
      "[CV] END bootstrap=True, max_depth=20, max_features=sqrt, min_samples_leaf=2, min_samples_split=2, n_estimators=2000; total time=  18.2s\n"
     ]
    },
    {
     "name": "stderr",
     "output_type": "stream",
     "text": [
      "/Users/slimeollie/anaconda3/lib/python3.10/site-packages/sklearn/ensemble/_forest.py:413: FutureWarning: `max_features='auto'` has been deprecated in 1.1 and will be removed in 1.3. To keep the past behaviour, explicitly set `max_features=1.0` or remove this parameter as it is also the default value for RandomForestRegressors and ExtraTreesRegressors.\n",
      "  warn(\n"
     ]
    },
    {
     "name": "stdout",
     "output_type": "stream",
     "text": [
      "[CV] END bootstrap=False, max_depth=10, max_features=auto, min_samples_leaf=1, min_samples_split=2, n_estimators=1000; total time= 1.4min\n"
     ]
    },
    {
     "name": "stderr",
     "output_type": "stream",
     "text": [
      "/Users/slimeollie/anaconda3/lib/python3.10/site-packages/sklearn/ensemble/_forest.py:413: FutureWarning: `max_features='auto'` has been deprecated in 1.1 and will be removed in 1.3. To keep the past behaviour, explicitly set `max_features=1.0` or remove this parameter as it is also the default value for RandomForestRegressors and ExtraTreesRegressors.\n",
      "  warn(\n"
     ]
    },
    {
     "name": "stdout",
     "output_type": "stream",
     "text": [
      "[CV] END bootstrap=False, max_depth=10, max_features=auto, min_samples_leaf=1, min_samples_split=2, n_estimators=1000; total time= 1.4min\n"
     ]
    },
    {
     "name": "stderr",
     "output_type": "stream",
     "text": [
      "/Users/slimeollie/anaconda3/lib/python3.10/site-packages/sklearn/ensemble/_forest.py:413: FutureWarning: `max_features='auto'` has been deprecated in 1.1 and will be removed in 1.3. To keep the past behaviour, explicitly set `max_features=1.0` or remove this parameter as it is also the default value for RandomForestRegressors and ExtraTreesRegressors.\n",
      "  warn(\n"
     ]
    },
    {
     "name": "stdout",
     "output_type": "stream",
     "text": [
      "[CV] END bootstrap=True, max_depth=20, max_features=sqrt, min_samples_leaf=2, min_samples_split=2, n_estimators=2000; total time=  18.8s\n",
      "[CV] END bootstrap=True, max_depth=40, max_features=auto, min_samples_leaf=2, min_samples_split=10, n_estimators=2000; total time= 1.3min\n",
      "[CV] END bootstrap=True, max_depth=40, max_features=auto, min_samples_leaf=2, min_samples_split=10, n_estimators=2000; total time= 1.2min\n",
      "[CV] END bootstrap=True, max_depth=40, max_features=auto, min_samples_leaf=2, min_samples_split=10, n_estimators=2000; total time= 1.2min\n"
     ]
    },
    {
     "name": "stderr",
     "output_type": "stream",
     "text": [
      "/Users/slimeollie/anaconda3/lib/python3.10/site-packages/sklearn/ensemble/_forest.py:413: FutureWarning: `max_features='auto'` has been deprecated in 1.1 and will be removed in 1.3. To keep the past behaviour, explicitly set `max_features=1.0` or remove this parameter as it is also the default value for RandomForestRegressors and ExtraTreesRegressors.\n",
      "  warn(\n"
     ]
    },
    {
     "data": {
      "text/html": [
       "<style>#sk-container-id-3 {color: black;background-color: white;}#sk-container-id-3 pre{padding: 0;}#sk-container-id-3 div.sk-toggleable {background-color: white;}#sk-container-id-3 label.sk-toggleable__label {cursor: pointer;display: block;width: 100%;margin-bottom: 0;padding: 0.3em;box-sizing: border-box;text-align: center;}#sk-container-id-3 label.sk-toggleable__label-arrow:before {content: \"▸\";float: left;margin-right: 0.25em;color: #696969;}#sk-container-id-3 label.sk-toggleable__label-arrow:hover:before {color: black;}#sk-container-id-3 div.sk-estimator:hover label.sk-toggleable__label-arrow:before {color: black;}#sk-container-id-3 div.sk-toggleable__content {max-height: 0;max-width: 0;overflow: hidden;text-align: left;background-color: #f0f8ff;}#sk-container-id-3 div.sk-toggleable__content pre {margin: 0.2em;color: black;border-radius: 0.25em;background-color: #f0f8ff;}#sk-container-id-3 input.sk-toggleable__control:checked~div.sk-toggleable__content {max-height: 200px;max-width: 100%;overflow: auto;}#sk-container-id-3 input.sk-toggleable__control:checked~label.sk-toggleable__label-arrow:before {content: \"▾\";}#sk-container-id-3 div.sk-estimator input.sk-toggleable__control:checked~label.sk-toggleable__label {background-color: #d4ebff;}#sk-container-id-3 div.sk-label input.sk-toggleable__control:checked~label.sk-toggleable__label {background-color: #d4ebff;}#sk-container-id-3 input.sk-hidden--visually {border: 0;clip: rect(1px 1px 1px 1px);clip: rect(1px, 1px, 1px, 1px);height: 1px;margin: -1px;overflow: hidden;padding: 0;position: absolute;width: 1px;}#sk-container-id-3 div.sk-estimator {font-family: monospace;background-color: #f0f8ff;border: 1px dotted black;border-radius: 0.25em;box-sizing: border-box;margin-bottom: 0.5em;}#sk-container-id-3 div.sk-estimator:hover {background-color: #d4ebff;}#sk-container-id-3 div.sk-parallel-item::after {content: \"\";width: 100%;border-bottom: 1px solid gray;flex-grow: 1;}#sk-container-id-3 div.sk-label:hover label.sk-toggleable__label {background-color: #d4ebff;}#sk-container-id-3 div.sk-serial::before {content: \"\";position: absolute;border-left: 1px solid gray;box-sizing: border-box;top: 0;bottom: 0;left: 50%;z-index: 0;}#sk-container-id-3 div.sk-serial {display: flex;flex-direction: column;align-items: center;background-color: white;padding-right: 0.2em;padding-left: 0.2em;position: relative;}#sk-container-id-3 div.sk-item {position: relative;z-index: 1;}#sk-container-id-3 div.sk-parallel {display: flex;align-items: stretch;justify-content: center;background-color: white;position: relative;}#sk-container-id-3 div.sk-item::before, #sk-container-id-3 div.sk-parallel-item::before {content: \"\";position: absolute;border-left: 1px solid gray;box-sizing: border-box;top: 0;bottom: 0;left: 50%;z-index: -1;}#sk-container-id-3 div.sk-parallel-item {display: flex;flex-direction: column;z-index: 1;position: relative;background-color: white;}#sk-container-id-3 div.sk-parallel-item:first-child::after {align-self: flex-end;width: 50%;}#sk-container-id-3 div.sk-parallel-item:last-child::after {align-self: flex-start;width: 50%;}#sk-container-id-3 div.sk-parallel-item:only-child::after {width: 0;}#sk-container-id-3 div.sk-dashed-wrapped {border: 1px dashed gray;margin: 0 0.4em 0.5em 0.4em;box-sizing: border-box;padding-bottom: 0.4em;background-color: white;}#sk-container-id-3 div.sk-label label {font-family: monospace;font-weight: bold;display: inline-block;line-height: 1.2em;}#sk-container-id-3 div.sk-label-container {text-align: center;}#sk-container-id-3 div.sk-container {/* jupyter's `normalize.less` sets `[hidden] { display: none; }` but bootstrap.min.css set `[hidden] { display: none !important; }` so we also need the `!important` here to be able to override the default hidden behavior on the sphinx rendered scikit-learn.org. See: https://github.com/scikit-learn/scikit-learn/issues/21755 */display: inline-block !important;position: relative;}#sk-container-id-3 div.sk-text-repr-fallback {display: none;}</style><div id=\"sk-container-id-3\" class=\"sk-top-container\"><div class=\"sk-text-repr-fallback\"><pre>RandomizedSearchCV(cv=3, estimator=RandomForestRegressor(), n_iter=100,\n",
       "                   n_jobs=-1,\n",
       "                   param_distributions={&#x27;bootstrap&#x27;: [True, False],\n",
       "                                        &#x27;max_depth&#x27;: [10, 20, 30, 40, 50, 60,\n",
       "                                                      70, 80, 90, 100, 110,\n",
       "                                                      None],\n",
       "                                        &#x27;max_features&#x27;: [&#x27;auto&#x27;, &#x27;sqrt&#x27;],\n",
       "                                        &#x27;min_samples_leaf&#x27;: [1, 2, 4],\n",
       "                                        &#x27;min_samples_split&#x27;: [2, 5, 10],\n",
       "                                        &#x27;n_estimators&#x27;: [200, 400, 600, 800,\n",
       "                                                         1000, 1200, 1400, 1600,\n",
       "                                                         1800, 2000]},\n",
       "                   random_state=42, verbose=2)</pre><b>In a Jupyter environment, please rerun this cell to show the HTML representation or trust the notebook. <br />On GitHub, the HTML representation is unable to render, please try loading this page with nbviewer.org.</b></div><div class=\"sk-container\" hidden><div class=\"sk-item sk-dashed-wrapped\"><div class=\"sk-label-container\"><div class=\"sk-label sk-toggleable\"><input class=\"sk-toggleable__control sk-hidden--visually\" id=\"sk-estimator-id-7\" type=\"checkbox\" ><label for=\"sk-estimator-id-7\" class=\"sk-toggleable__label sk-toggleable__label-arrow\">RandomizedSearchCV</label><div class=\"sk-toggleable__content\"><pre>RandomizedSearchCV(cv=3, estimator=RandomForestRegressor(), n_iter=100,\n",
       "                   n_jobs=-1,\n",
       "                   param_distributions={&#x27;bootstrap&#x27;: [True, False],\n",
       "                                        &#x27;max_depth&#x27;: [10, 20, 30, 40, 50, 60,\n",
       "                                                      70, 80, 90, 100, 110,\n",
       "                                                      None],\n",
       "                                        &#x27;max_features&#x27;: [&#x27;auto&#x27;, &#x27;sqrt&#x27;],\n",
       "                                        &#x27;min_samples_leaf&#x27;: [1, 2, 4],\n",
       "                                        &#x27;min_samples_split&#x27;: [2, 5, 10],\n",
       "                                        &#x27;n_estimators&#x27;: [200, 400, 600, 800,\n",
       "                                                         1000, 1200, 1400, 1600,\n",
       "                                                         1800, 2000]},\n",
       "                   random_state=42, verbose=2)</pre></div></div></div><div class=\"sk-parallel\"><div class=\"sk-parallel-item\"><div class=\"sk-item\"><div class=\"sk-label-container\"><div class=\"sk-label sk-toggleable\"><input class=\"sk-toggleable__control sk-hidden--visually\" id=\"sk-estimator-id-8\" type=\"checkbox\" ><label for=\"sk-estimator-id-8\" class=\"sk-toggleable__label sk-toggleable__label-arrow\">estimator: RandomForestRegressor</label><div class=\"sk-toggleable__content\"><pre>RandomForestRegressor()</pre></div></div></div><div class=\"sk-serial\"><div class=\"sk-item\"><div class=\"sk-estimator sk-toggleable\"><input class=\"sk-toggleable__control sk-hidden--visually\" id=\"sk-estimator-id-9\" type=\"checkbox\" ><label for=\"sk-estimator-id-9\" class=\"sk-toggleable__label sk-toggleable__label-arrow\">RandomForestRegressor</label><div class=\"sk-toggleable__content\"><pre>RandomForestRegressor()</pre></div></div></div></div></div></div></div></div></div></div>"
      ],
      "text/plain": [
       "RandomizedSearchCV(cv=3, estimator=RandomForestRegressor(), n_iter=100,\n",
       "                   n_jobs=-1,\n",
       "                   param_distributions={'bootstrap': [True, False],\n",
       "                                        'max_depth': [10, 20, 30, 40, 50, 60,\n",
       "                                                      70, 80, 90, 100, 110,\n",
       "                                                      None],\n",
       "                                        'max_features': ['auto', 'sqrt'],\n",
       "                                        'min_samples_leaf': [1, 2, 4],\n",
       "                                        'min_samples_split': [2, 5, 10],\n",
       "                                        'n_estimators': [200, 400, 600, 800,\n",
       "                                                         1000, 1200, 1400, 1600,\n",
       "                                                         1800, 2000]},\n",
       "                   random_state=42, verbose=2)"
      ]
     },
     "execution_count": 63,
     "metadata": {},
     "output_type": "execute_result"
    }
   ],
   "source": [
    "# Use the random grid to search for best hyperparameters\n",
    "# First create the base model to tune\n",
    "rf = RandomForestRegressor()\n",
    "# Random search of parameters, using 3 fold cross validation, \n",
    "# search across 100 different combinations, and use all available cores\n",
    "rf_random = RandomizedSearchCV(estimator = rf, param_distributions = random_grid, n_iter = 100, cv = 3, verbose=2, random_state=42, n_jobs = -1)\n",
    "# Fit the random search model\n",
    "rf_random.fit(X_train, y_train)"
   ]
  },
  {
   "cell_type": "code",
   "execution_count": 113,
   "id": "3f21e314",
   "metadata": {},
   "outputs": [
    {
     "data": {
      "text/html": [
       "<style>#sk-container-id-7 {color: black;background-color: white;}#sk-container-id-7 pre{padding: 0;}#sk-container-id-7 div.sk-toggleable {background-color: white;}#sk-container-id-7 label.sk-toggleable__label {cursor: pointer;display: block;width: 100%;margin-bottom: 0;padding: 0.3em;box-sizing: border-box;text-align: center;}#sk-container-id-7 label.sk-toggleable__label-arrow:before {content: \"▸\";float: left;margin-right: 0.25em;color: #696969;}#sk-container-id-7 label.sk-toggleable__label-arrow:hover:before {color: black;}#sk-container-id-7 div.sk-estimator:hover label.sk-toggleable__label-arrow:before {color: black;}#sk-container-id-7 div.sk-toggleable__content {max-height: 0;max-width: 0;overflow: hidden;text-align: left;background-color: #f0f8ff;}#sk-container-id-7 div.sk-toggleable__content pre {margin: 0.2em;color: black;border-radius: 0.25em;background-color: #f0f8ff;}#sk-container-id-7 input.sk-toggleable__control:checked~div.sk-toggleable__content {max-height: 200px;max-width: 100%;overflow: auto;}#sk-container-id-7 input.sk-toggleable__control:checked~label.sk-toggleable__label-arrow:before {content: \"▾\";}#sk-container-id-7 div.sk-estimator input.sk-toggleable__control:checked~label.sk-toggleable__label {background-color: #d4ebff;}#sk-container-id-7 div.sk-label input.sk-toggleable__control:checked~label.sk-toggleable__label {background-color: #d4ebff;}#sk-container-id-7 input.sk-hidden--visually {border: 0;clip: rect(1px 1px 1px 1px);clip: rect(1px, 1px, 1px, 1px);height: 1px;margin: -1px;overflow: hidden;padding: 0;position: absolute;width: 1px;}#sk-container-id-7 div.sk-estimator {font-family: monospace;background-color: #f0f8ff;border: 1px dotted black;border-radius: 0.25em;box-sizing: border-box;margin-bottom: 0.5em;}#sk-container-id-7 div.sk-estimator:hover {background-color: #d4ebff;}#sk-container-id-7 div.sk-parallel-item::after {content: \"\";width: 100%;border-bottom: 1px solid gray;flex-grow: 1;}#sk-container-id-7 div.sk-label:hover label.sk-toggleable__label {background-color: #d4ebff;}#sk-container-id-7 div.sk-serial::before {content: \"\";position: absolute;border-left: 1px solid gray;box-sizing: border-box;top: 0;bottom: 0;left: 50%;z-index: 0;}#sk-container-id-7 div.sk-serial {display: flex;flex-direction: column;align-items: center;background-color: white;padding-right: 0.2em;padding-left: 0.2em;position: relative;}#sk-container-id-7 div.sk-item {position: relative;z-index: 1;}#sk-container-id-7 div.sk-parallel {display: flex;align-items: stretch;justify-content: center;background-color: white;position: relative;}#sk-container-id-7 div.sk-item::before, #sk-container-id-7 div.sk-parallel-item::before {content: \"\";position: absolute;border-left: 1px solid gray;box-sizing: border-box;top: 0;bottom: 0;left: 50%;z-index: -1;}#sk-container-id-7 div.sk-parallel-item {display: flex;flex-direction: column;z-index: 1;position: relative;background-color: white;}#sk-container-id-7 div.sk-parallel-item:first-child::after {align-self: flex-end;width: 50%;}#sk-container-id-7 div.sk-parallel-item:last-child::after {align-self: flex-start;width: 50%;}#sk-container-id-7 div.sk-parallel-item:only-child::after {width: 0;}#sk-container-id-7 div.sk-dashed-wrapped {border: 1px dashed gray;margin: 0 0.4em 0.5em 0.4em;box-sizing: border-box;padding-bottom: 0.4em;background-color: white;}#sk-container-id-7 div.sk-label label {font-family: monospace;font-weight: bold;display: inline-block;line-height: 1.2em;}#sk-container-id-7 div.sk-label-container {text-align: center;}#sk-container-id-7 div.sk-container {/* jupyter's `normalize.less` sets `[hidden] { display: none; }` but bootstrap.min.css set `[hidden] { display: none !important; }` so we also need the `!important` here to be able to override the default hidden behavior on the sphinx rendered scikit-learn.org. See: https://github.com/scikit-learn/scikit-learn/issues/21755 */display: inline-block !important;position: relative;}#sk-container-id-7 div.sk-text-repr-fallback {display: none;}</style><div id=\"sk-container-id-7\" class=\"sk-top-container\"><div class=\"sk-text-repr-fallback\"><pre>RandomForestRegressor(max_depth=100, max_features=&#x27;auto&#x27;, n_estimators=800)</pre><b>In a Jupyter environment, please rerun this cell to show the HTML representation or trust the notebook. <br />On GitHub, the HTML representation is unable to render, please try loading this page with nbviewer.org.</b></div><div class=\"sk-container\" hidden><div class=\"sk-item\"><div class=\"sk-estimator sk-toggleable\"><input class=\"sk-toggleable__control sk-hidden--visually\" id=\"sk-estimator-id-17\" type=\"checkbox\" checked><label for=\"sk-estimator-id-17\" class=\"sk-toggleable__label sk-toggleable__label-arrow\">RandomForestRegressor</label><div class=\"sk-toggleable__content\"><pre>RandomForestRegressor(max_depth=100, max_features=&#x27;auto&#x27;, n_estimators=800)</pre></div></div></div></div></div>"
      ],
      "text/plain": [
       "RandomForestRegressor(max_depth=100, max_features='auto', n_estimators=800)"
      ]
     },
     "execution_count": 113,
     "metadata": {},
     "output_type": "execute_result"
    }
   ],
   "source": [
    "rf_random.best_params_\n",
    "rf_random.best_estimator_"
   ]
  },
  {
   "cell_type": "code",
   "execution_count": 66,
   "id": "d5ec366d",
   "metadata": {},
   "outputs": [],
   "source": [
    "param_grid = rf_random.best_params_"
   ]
  },
  {
   "cell_type": "code",
   "execution_count": 84,
   "id": "88693566",
   "metadata": {},
   "outputs": [],
   "source": [
    "# since the grid search took a long time I will copy and paste the results below\n",
    "# the best hyperparameters are:\n",
    "params = {\n",
    " 'n_estimators': 800,\n",
    " 'min_samples_split': 2,\n",
    " 'min_samples_leaf': 1,\n",
    " 'max_features': 1.0,\n",
    " 'max_depth': 100,\n",
    " 'bootstrap': True\n",
    " }"
   ]
  },
  {
   "cell_type": "code",
   "execution_count": 77,
   "id": "df95cbfe",
   "metadata": {},
   "outputs": [
    {
     "name": "stdout",
     "output_type": "stream",
     "text": [
      "Model Performance\n",
      "Average Error: 675388.6931 degrees.\n",
      "Accuracy = 70.85%.\n"
     ]
    }
   ],
   "source": [
    "# define function to evaluate model performance\n",
    "def evaluate(model, test_features, test_labels):\n",
    "    predictions = model.predict(test_features)\n",
    "    errors = abs(predictions - test_labels)\n",
    "    mape = 100 * np.mean(errors / test_labels)\n",
    "    accuracy = 100 - mape\n",
    "    print('Model Performance')\n",
    "    print('Average Error: {:0.4f} degrees.'.format(np.mean(errors)))\n",
    "    print('Accuracy = {:0.2f}%.'.format(accuracy))\n",
    "    \n",
    "    return accuracy\n",
    "\n",
    "# testing base level rf withou hyperparameter tuning performance\n",
    "base_model = RandomForestRegressor(n_estimators = 10, random_state = 42)\n",
    "base_model.fit(X_train, y_train)\n",
    "base_accuracy = evaluate(base_model, X_test, y_test)"
   ]
  },
  {
   "cell_type": "markdown",
   "id": "da5a9bce",
   "metadata": {},
   "source": [
    "Accuracy is 70.85% without any tuning, indicating that random forest is a much better model than SVM already. Now we will test the effect of the tuned hyperparameters on the performance of the model."
   ]
  },
  {
   "cell_type": "code",
   "execution_count": 94,
   "id": "5531a163",
   "metadata": {},
   "outputs": [
    {
     "name": "stdout",
     "output_type": "stream",
     "text": [
      "Model Performance\n",
      "Average Error: 640610.2678 degrees.\n",
      "Accuracy = 72.66%.\n"
     ]
    }
   ],
   "source": [
    "# testing model with hyperparameter tuning from grid search\n",
    "tuned_model = RandomForestRegressor(\n",
    "    n_estimators=800,\n",
    "    min_samples_split=2,\n",
    "    min_samples_leaf=1,\n",
    "    max_features=1.0,\n",
    "    max_depth=100,\n",
    "    bootstrap=True,\n",
    "    random_state=42)\n",
    "tuned_model.fit(X_train, y_train)\n",
    "random_accuracy = evaluate(tuned_model, X_test, y_test)"
   ]
  },
  {
   "cell_type": "markdown",
   "id": "11878d62",
   "metadata": {},
   "source": [
    "Accuracy is 72.66% with tuning, indicating a slight performance increase after tuning."
   ]
  },
  {
   "cell_type": "code",
   "execution_count": 98,
   "id": "71494aff",
   "metadata": {},
   "outputs": [
    {
     "ename": "KeyboardInterrupt",
     "evalue": "",
     "output_type": "error",
     "traceback": [
      "\u001b[0;31m---------------------------------------------------------------------------\u001b[0m",
      "\u001b[0;31mKeyboardInterrupt\u001b[0m                         Traceback (most recent call last)",
      "Cell \u001b[0;32mIn[98], line 12\u001b[0m\n\u001b[1;32m      2\u001b[0m tuned_model \u001b[39m=\u001b[39m RandomForestRegressor(\n\u001b[1;32m      3\u001b[0m     n_estimators\u001b[39m=\u001b[39m\u001b[39m800\u001b[39m,\n\u001b[1;32m      4\u001b[0m     min_samples_split\u001b[39m=\u001b[39m\u001b[39m2\u001b[39m,\n\u001b[0;32m   (...)\u001b[0m\n\u001b[1;32m      8\u001b[0m     bootstrap\u001b[39m=\u001b[39m\u001b[39mTrue\u001b[39;00m,\n\u001b[1;32m      9\u001b[0m     random_state\u001b[39m=\u001b[39m\u001b[39m42\u001b[39m)\n\u001b[1;32m     11\u001b[0m \u001b[39m# Train the model on the training data\u001b[39;00m\n\u001b[0;32m---> 12\u001b[0m tuned_model\u001b[39m.\u001b[39;49mfit(X_train, y_train)\n\u001b[1;32m     14\u001b[0m \u001b[39m# Use the trained model to make predictions on the test set\u001b[39;00m\n\u001b[1;32m     15\u001b[0m y_pred \u001b[39m=\u001b[39m tuned_model\u001b[39m.\u001b[39mpredict(X_test)\n",
      "File \u001b[0;32m~/anaconda3/lib/python3.10/site-packages/sklearn/ensemble/_forest.py:473\u001b[0m, in \u001b[0;36mBaseForest.fit\u001b[0;34m(self, X, y, sample_weight)\u001b[0m\n\u001b[1;32m    462\u001b[0m trees \u001b[39m=\u001b[39m [\n\u001b[1;32m    463\u001b[0m     \u001b[39mself\u001b[39m\u001b[39m.\u001b[39m_make_estimator(append\u001b[39m=\u001b[39m\u001b[39mFalse\u001b[39;00m, random_state\u001b[39m=\u001b[39mrandom_state)\n\u001b[1;32m    464\u001b[0m     \u001b[39mfor\u001b[39;00m i \u001b[39min\u001b[39;00m \u001b[39mrange\u001b[39m(n_more_estimators)\n\u001b[1;32m    465\u001b[0m ]\n\u001b[1;32m    467\u001b[0m \u001b[39m# Parallel loop: we prefer the threading backend as the Cython code\u001b[39;00m\n\u001b[1;32m    468\u001b[0m \u001b[39m# for fitting the trees is internally releasing the Python GIL\u001b[39;00m\n\u001b[1;32m    469\u001b[0m \u001b[39m# making threading more efficient than multiprocessing in\u001b[39;00m\n\u001b[1;32m    470\u001b[0m \u001b[39m# that case. However, for joblib 0.12+ we respect any\u001b[39;00m\n\u001b[1;32m    471\u001b[0m \u001b[39m# parallel_backend contexts set at a higher level,\u001b[39;00m\n\u001b[1;32m    472\u001b[0m \u001b[39m# since correctness does not rely on using threads.\u001b[39;00m\n\u001b[0;32m--> 473\u001b[0m trees \u001b[39m=\u001b[39m Parallel(\n\u001b[1;32m    474\u001b[0m     n_jobs\u001b[39m=\u001b[39;49m\u001b[39mself\u001b[39;49m\u001b[39m.\u001b[39;49mn_jobs,\n\u001b[1;32m    475\u001b[0m     verbose\u001b[39m=\u001b[39;49m\u001b[39mself\u001b[39;49m\u001b[39m.\u001b[39;49mverbose,\n\u001b[1;32m    476\u001b[0m     prefer\u001b[39m=\u001b[39;49m\u001b[39m\"\u001b[39;49m\u001b[39mthreads\u001b[39;49m\u001b[39m\"\u001b[39;49m,\n\u001b[1;32m    477\u001b[0m )(\n\u001b[1;32m    478\u001b[0m     delayed(_parallel_build_trees)(\n\u001b[1;32m    479\u001b[0m         t,\n\u001b[1;32m    480\u001b[0m         \u001b[39mself\u001b[39;49m\u001b[39m.\u001b[39;49mbootstrap,\n\u001b[1;32m    481\u001b[0m         X,\n\u001b[1;32m    482\u001b[0m         y,\n\u001b[1;32m    483\u001b[0m         sample_weight,\n\u001b[1;32m    484\u001b[0m         i,\n\u001b[1;32m    485\u001b[0m         \u001b[39mlen\u001b[39;49m(trees),\n\u001b[1;32m    486\u001b[0m         verbose\u001b[39m=\u001b[39;49m\u001b[39mself\u001b[39;49m\u001b[39m.\u001b[39;49mverbose,\n\u001b[1;32m    487\u001b[0m         class_weight\u001b[39m=\u001b[39;49m\u001b[39mself\u001b[39;49m\u001b[39m.\u001b[39;49mclass_weight,\n\u001b[1;32m    488\u001b[0m         n_samples_bootstrap\u001b[39m=\u001b[39;49mn_samples_bootstrap,\n\u001b[1;32m    489\u001b[0m     )\n\u001b[1;32m    490\u001b[0m     \u001b[39mfor\u001b[39;49;00m i, t \u001b[39min\u001b[39;49;00m \u001b[39menumerate\u001b[39;49m(trees)\n\u001b[1;32m    491\u001b[0m )\n\u001b[1;32m    493\u001b[0m \u001b[39m# Collect newly grown trees\u001b[39;00m\n\u001b[1;32m    494\u001b[0m \u001b[39mself\u001b[39m\u001b[39m.\u001b[39mestimators_\u001b[39m.\u001b[39mextend(trees)\n",
      "File \u001b[0;32m~/anaconda3/lib/python3.10/site-packages/sklearn/utils/parallel.py:63\u001b[0m, in \u001b[0;36mParallel.__call__\u001b[0;34m(self, iterable)\u001b[0m\n\u001b[1;32m     58\u001b[0m config \u001b[39m=\u001b[39m get_config()\n\u001b[1;32m     59\u001b[0m iterable_with_config \u001b[39m=\u001b[39m (\n\u001b[1;32m     60\u001b[0m     (_with_config(delayed_func, config), args, kwargs)\n\u001b[1;32m     61\u001b[0m     \u001b[39mfor\u001b[39;00m delayed_func, args, kwargs \u001b[39min\u001b[39;00m iterable\n\u001b[1;32m     62\u001b[0m )\n\u001b[0;32m---> 63\u001b[0m \u001b[39mreturn\u001b[39;00m \u001b[39msuper\u001b[39;49m()\u001b[39m.\u001b[39;49m\u001b[39m__call__\u001b[39;49m(iterable_with_config)\n",
      "File \u001b[0;32m~/anaconda3/lib/python3.10/site-packages/joblib/parallel.py:1051\u001b[0m, in \u001b[0;36mParallel.__call__\u001b[0;34m(self, iterable)\u001b[0m\n\u001b[1;32m   1048\u001b[0m \u001b[39mif\u001b[39;00m \u001b[39mself\u001b[39m\u001b[39m.\u001b[39mdispatch_one_batch(iterator):\n\u001b[1;32m   1049\u001b[0m     \u001b[39mself\u001b[39m\u001b[39m.\u001b[39m_iterating \u001b[39m=\u001b[39m \u001b[39mself\u001b[39m\u001b[39m.\u001b[39m_original_iterator \u001b[39mis\u001b[39;00m \u001b[39mnot\u001b[39;00m \u001b[39mNone\u001b[39;00m\n\u001b[0;32m-> 1051\u001b[0m \u001b[39mwhile\u001b[39;00m \u001b[39mself\u001b[39;49m\u001b[39m.\u001b[39;49mdispatch_one_batch(iterator):\n\u001b[1;32m   1052\u001b[0m     \u001b[39mpass\u001b[39;00m\n\u001b[1;32m   1054\u001b[0m \u001b[39mif\u001b[39;00m pre_dispatch \u001b[39m==\u001b[39m \u001b[39m\"\u001b[39m\u001b[39mall\u001b[39m\u001b[39m\"\u001b[39m \u001b[39mor\u001b[39;00m n_jobs \u001b[39m==\u001b[39m \u001b[39m1\u001b[39m:\n\u001b[1;32m   1055\u001b[0m     \u001b[39m# The iterable was consumed all at once by the above for loop.\u001b[39;00m\n\u001b[1;32m   1056\u001b[0m     \u001b[39m# No need to wait for async callbacks to trigger to\u001b[39;00m\n\u001b[1;32m   1057\u001b[0m     \u001b[39m# consumption.\u001b[39;00m\n",
      "File \u001b[0;32m~/anaconda3/lib/python3.10/site-packages/joblib/parallel.py:864\u001b[0m, in \u001b[0;36mParallel.dispatch_one_batch\u001b[0;34m(self, iterator)\u001b[0m\n\u001b[1;32m    862\u001b[0m     \u001b[39mreturn\u001b[39;00m \u001b[39mFalse\u001b[39;00m\n\u001b[1;32m    863\u001b[0m \u001b[39melse\u001b[39;00m:\n\u001b[0;32m--> 864\u001b[0m     \u001b[39mself\u001b[39;49m\u001b[39m.\u001b[39;49m_dispatch(tasks)\n\u001b[1;32m    865\u001b[0m     \u001b[39mreturn\u001b[39;00m \u001b[39mTrue\u001b[39;00m\n",
      "File \u001b[0;32m~/anaconda3/lib/python3.10/site-packages/joblib/parallel.py:782\u001b[0m, in \u001b[0;36mParallel._dispatch\u001b[0;34m(self, batch)\u001b[0m\n\u001b[1;32m    780\u001b[0m \u001b[39mwith\u001b[39;00m \u001b[39mself\u001b[39m\u001b[39m.\u001b[39m_lock:\n\u001b[1;32m    781\u001b[0m     job_idx \u001b[39m=\u001b[39m \u001b[39mlen\u001b[39m(\u001b[39mself\u001b[39m\u001b[39m.\u001b[39m_jobs)\n\u001b[0;32m--> 782\u001b[0m     job \u001b[39m=\u001b[39m \u001b[39mself\u001b[39;49m\u001b[39m.\u001b[39;49m_backend\u001b[39m.\u001b[39;49mapply_async(batch, callback\u001b[39m=\u001b[39;49mcb)\n\u001b[1;32m    783\u001b[0m     \u001b[39m# A job can complete so quickly than its callback is\u001b[39;00m\n\u001b[1;32m    784\u001b[0m     \u001b[39m# called before we get here, causing self._jobs to\u001b[39;00m\n\u001b[1;32m    785\u001b[0m     \u001b[39m# grow. To ensure correct results ordering, .insert is\u001b[39;00m\n\u001b[1;32m    786\u001b[0m     \u001b[39m# used (rather than .append) in the following line\u001b[39;00m\n\u001b[1;32m    787\u001b[0m     \u001b[39mself\u001b[39m\u001b[39m.\u001b[39m_jobs\u001b[39m.\u001b[39minsert(job_idx, job)\n",
      "File \u001b[0;32m~/anaconda3/lib/python3.10/site-packages/joblib/_parallel_backends.py:208\u001b[0m, in \u001b[0;36mSequentialBackend.apply_async\u001b[0;34m(self, func, callback)\u001b[0m\n\u001b[1;32m    206\u001b[0m \u001b[39mdef\u001b[39;00m \u001b[39mapply_async\u001b[39m(\u001b[39mself\u001b[39m, func, callback\u001b[39m=\u001b[39m\u001b[39mNone\u001b[39;00m):\n\u001b[1;32m    207\u001b[0m     \u001b[39m\"\"\"Schedule a func to be run\"\"\"\u001b[39;00m\n\u001b[0;32m--> 208\u001b[0m     result \u001b[39m=\u001b[39m ImmediateResult(func)\n\u001b[1;32m    209\u001b[0m     \u001b[39mif\u001b[39;00m callback:\n\u001b[1;32m    210\u001b[0m         callback(result)\n",
      "File \u001b[0;32m~/anaconda3/lib/python3.10/site-packages/joblib/_parallel_backends.py:572\u001b[0m, in \u001b[0;36mImmediateResult.__init__\u001b[0;34m(self, batch)\u001b[0m\n\u001b[1;32m    569\u001b[0m \u001b[39mdef\u001b[39;00m \u001b[39m__init__\u001b[39m(\u001b[39mself\u001b[39m, batch):\n\u001b[1;32m    570\u001b[0m     \u001b[39m# Don't delay the application, to avoid keeping the input\u001b[39;00m\n\u001b[1;32m    571\u001b[0m     \u001b[39m# arguments in memory\u001b[39;00m\n\u001b[0;32m--> 572\u001b[0m     \u001b[39mself\u001b[39m\u001b[39m.\u001b[39mresults \u001b[39m=\u001b[39m batch()\n",
      "File \u001b[0;32m~/anaconda3/lib/python3.10/site-packages/joblib/parallel.py:263\u001b[0m, in \u001b[0;36mBatchedCalls.__call__\u001b[0;34m(self)\u001b[0m\n\u001b[1;32m    259\u001b[0m \u001b[39mdef\u001b[39;00m \u001b[39m__call__\u001b[39m(\u001b[39mself\u001b[39m):\n\u001b[1;32m    260\u001b[0m     \u001b[39m# Set the default nested backend to self._backend but do not set the\u001b[39;00m\n\u001b[1;32m    261\u001b[0m     \u001b[39m# change the default number of processes to -1\u001b[39;00m\n\u001b[1;32m    262\u001b[0m     \u001b[39mwith\u001b[39;00m parallel_backend(\u001b[39mself\u001b[39m\u001b[39m.\u001b[39m_backend, n_jobs\u001b[39m=\u001b[39m\u001b[39mself\u001b[39m\u001b[39m.\u001b[39m_n_jobs):\n\u001b[0;32m--> 263\u001b[0m         \u001b[39mreturn\u001b[39;00m [func(\u001b[39m*\u001b[39margs, \u001b[39m*\u001b[39m\u001b[39m*\u001b[39mkwargs)\n\u001b[1;32m    264\u001b[0m                 \u001b[39mfor\u001b[39;00m func, args, kwargs \u001b[39min\u001b[39;00m \u001b[39mself\u001b[39m\u001b[39m.\u001b[39mitems]\n",
      "File \u001b[0;32m~/anaconda3/lib/python3.10/site-packages/joblib/parallel.py:263\u001b[0m, in \u001b[0;36m<listcomp>\u001b[0;34m(.0)\u001b[0m\n\u001b[1;32m    259\u001b[0m \u001b[39mdef\u001b[39;00m \u001b[39m__call__\u001b[39m(\u001b[39mself\u001b[39m):\n\u001b[1;32m    260\u001b[0m     \u001b[39m# Set the default nested backend to self._backend but do not set the\u001b[39;00m\n\u001b[1;32m    261\u001b[0m     \u001b[39m# change the default number of processes to -1\u001b[39;00m\n\u001b[1;32m    262\u001b[0m     \u001b[39mwith\u001b[39;00m parallel_backend(\u001b[39mself\u001b[39m\u001b[39m.\u001b[39m_backend, n_jobs\u001b[39m=\u001b[39m\u001b[39mself\u001b[39m\u001b[39m.\u001b[39m_n_jobs):\n\u001b[0;32m--> 263\u001b[0m         \u001b[39mreturn\u001b[39;00m [func(\u001b[39m*\u001b[39;49margs, \u001b[39m*\u001b[39;49m\u001b[39m*\u001b[39;49mkwargs)\n\u001b[1;32m    264\u001b[0m                 \u001b[39mfor\u001b[39;00m func, args, kwargs \u001b[39min\u001b[39;00m \u001b[39mself\u001b[39m\u001b[39m.\u001b[39mitems]\n",
      "File \u001b[0;32m~/anaconda3/lib/python3.10/site-packages/sklearn/utils/parallel.py:123\u001b[0m, in \u001b[0;36m_FuncWrapper.__call__\u001b[0;34m(self, *args, **kwargs)\u001b[0m\n\u001b[1;32m    121\u001b[0m     config \u001b[39m=\u001b[39m {}\n\u001b[1;32m    122\u001b[0m \u001b[39mwith\u001b[39;00m config_context(\u001b[39m*\u001b[39m\u001b[39m*\u001b[39mconfig):\n\u001b[0;32m--> 123\u001b[0m     \u001b[39mreturn\u001b[39;00m \u001b[39mself\u001b[39;49m\u001b[39m.\u001b[39;49mfunction(\u001b[39m*\u001b[39;49margs, \u001b[39m*\u001b[39;49m\u001b[39m*\u001b[39;49mkwargs)\n",
      "File \u001b[0;32m~/anaconda3/lib/python3.10/site-packages/sklearn/ensemble/_forest.py:184\u001b[0m, in \u001b[0;36m_parallel_build_trees\u001b[0;34m(tree, bootstrap, X, y, sample_weight, tree_idx, n_trees, verbose, class_weight, n_samples_bootstrap)\u001b[0m\n\u001b[1;32m    181\u001b[0m     \u001b[39melif\u001b[39;00m class_weight \u001b[39m==\u001b[39m \u001b[39m\"\u001b[39m\u001b[39mbalanced_subsample\u001b[39m\u001b[39m\"\u001b[39m:\n\u001b[1;32m    182\u001b[0m         curr_sample_weight \u001b[39m*\u001b[39m\u001b[39m=\u001b[39m compute_sample_weight(\u001b[39m\"\u001b[39m\u001b[39mbalanced\u001b[39m\u001b[39m\"\u001b[39m, y, indices\u001b[39m=\u001b[39mindices)\n\u001b[0;32m--> 184\u001b[0m     tree\u001b[39m.\u001b[39;49mfit(X, y, sample_weight\u001b[39m=\u001b[39;49mcurr_sample_weight, check_input\u001b[39m=\u001b[39;49m\u001b[39mFalse\u001b[39;49;00m)\n\u001b[1;32m    185\u001b[0m \u001b[39melse\u001b[39;00m:\n\u001b[1;32m    186\u001b[0m     tree\u001b[39m.\u001b[39mfit(X, y, sample_weight\u001b[39m=\u001b[39msample_weight, check_input\u001b[39m=\u001b[39m\u001b[39mFalse\u001b[39;00m)\n",
      "File \u001b[0;32m~/anaconda3/lib/python3.10/site-packages/sklearn/tree/_classes.py:1247\u001b[0m, in \u001b[0;36mDecisionTreeRegressor.fit\u001b[0;34m(self, X, y, sample_weight, check_input)\u001b[0m\n\u001b[1;32m   1218\u001b[0m \u001b[39mdef\u001b[39;00m \u001b[39mfit\u001b[39m(\u001b[39mself\u001b[39m, X, y, sample_weight\u001b[39m=\u001b[39m\u001b[39mNone\u001b[39;00m, check_input\u001b[39m=\u001b[39m\u001b[39mTrue\u001b[39;00m):\n\u001b[1;32m   1219\u001b[0m     \u001b[39m\"\"\"Build a decision tree regressor from the training set (X, y).\u001b[39;00m\n\u001b[1;32m   1220\u001b[0m \n\u001b[1;32m   1221\u001b[0m \u001b[39m    Parameters\u001b[39;00m\n\u001b[0;32m   (...)\u001b[0m\n\u001b[1;32m   1244\u001b[0m \u001b[39m        Fitted estimator.\u001b[39;00m\n\u001b[1;32m   1245\u001b[0m \u001b[39m    \"\"\"\u001b[39;00m\n\u001b[0;32m-> 1247\u001b[0m     \u001b[39msuper\u001b[39;49m()\u001b[39m.\u001b[39;49mfit(\n\u001b[1;32m   1248\u001b[0m         X,\n\u001b[1;32m   1249\u001b[0m         y,\n\u001b[1;32m   1250\u001b[0m         sample_weight\u001b[39m=\u001b[39;49msample_weight,\n\u001b[1;32m   1251\u001b[0m         check_input\u001b[39m=\u001b[39;49mcheck_input,\n\u001b[1;32m   1252\u001b[0m     )\n\u001b[1;32m   1253\u001b[0m     \u001b[39mreturn\u001b[39;00m \u001b[39mself\u001b[39m\n",
      "File \u001b[0;32m~/anaconda3/lib/python3.10/site-packages/sklearn/tree/_classes.py:379\u001b[0m, in \u001b[0;36mBaseDecisionTree.fit\u001b[0;34m(self, X, y, sample_weight, check_input)\u001b[0m\n\u001b[1;32m    368\u001b[0m \u001b[39melse\u001b[39;00m:\n\u001b[1;32m    369\u001b[0m     builder \u001b[39m=\u001b[39m BestFirstTreeBuilder(\n\u001b[1;32m    370\u001b[0m         splitter,\n\u001b[1;32m    371\u001b[0m         min_samples_split,\n\u001b[0;32m   (...)\u001b[0m\n\u001b[1;32m    376\u001b[0m         \u001b[39mself\u001b[39m\u001b[39m.\u001b[39mmin_impurity_decrease,\n\u001b[1;32m    377\u001b[0m     )\n\u001b[0;32m--> 379\u001b[0m builder\u001b[39m.\u001b[39;49mbuild(\u001b[39mself\u001b[39;49m\u001b[39m.\u001b[39;49mtree_, X, y, sample_weight)\n\u001b[1;32m    381\u001b[0m \u001b[39mif\u001b[39;00m \u001b[39mself\u001b[39m\u001b[39m.\u001b[39mn_outputs_ \u001b[39m==\u001b[39m \u001b[39m1\u001b[39m \u001b[39mand\u001b[39;00m is_classifier(\u001b[39mself\u001b[39m):\n\u001b[1;32m    382\u001b[0m     \u001b[39mself\u001b[39m\u001b[39m.\u001b[39mn_classes_ \u001b[39m=\u001b[39m \u001b[39mself\u001b[39m\u001b[39m.\u001b[39mn_classes_[\u001b[39m0\u001b[39m]\n",
      "\u001b[0;31mKeyboardInterrupt\u001b[0m: "
     ]
    }
   ],
   "source": [
    "# Create the Random Forest model\n",
    "tuned_model = RandomForestRegressor(\n",
    "    n_estimators=800,\n",
    "    min_samples_split=2,\n",
    "    min_samples_leaf=1,\n",
    "    max_features=1.0,\n",
    "    max_depth=100,\n",
    "    bootstrap=True,\n",
    "    random_state=42)\n",
    "\n",
    "# Train the model on the training data\n",
    "tuned_model.fit(X_train, y_train)\n",
    "\n",
    "# Use the trained model to make predictions on the test set\n",
    "y_pred = tuned_model.predict(X_test)\n",
    "\n",
    "# Evaluate the final model\n",
    "# roc_auc_final = roc_auc_score(y_test, y_pred_prob_final, multi_class='ovr')\n",
    "# print(f\"ROC AUC (Final Model): {roc_auc_final}\")\n",
    "\n",
    "accuracy_final = accuracy_score(y_test, y_pred)\n",
    "print(f\"Accuracy (Final Model): {accuracy_final}\")\n",
    "\n",
    "precision_final = precision_score(y_test, y_pred, average='weighted', zero_division='warn')\n",
    "print(f\"Precision (Final Model): {precision_final}\")\n",
    "\n",
    "recall_final = recall_score(y_test, y_pred, average='weighted', zero_division='warn')\n",
    "print(f\"Recall (Final Model): {recall_final}\")\n",
    "\n",
    "confusion_final = confusion_matrix(y_test, y_pred)\n",
    "print(\"Confusion Matrix (Final Model):\")\n",
    "print(confusion_final)"
   ]
  },
  {
   "cell_type": "code",
   "execution_count": 108,
   "id": "00d94e04",
   "metadata": {},
   "outputs": [
    {
     "name": "stdout",
     "output_type": "stream",
     "text": [
      "Root Mean Squared Error: 2427216.0564861307\n"
     ]
    }
   ],
   "source": [
    "rmse = mean_squared_error(y_test, y_pred, squared=False)\n",
    "print(f\"Root Mean Squared Error: {rmse}\")"
   ]
  },
  {
   "cell_type": "code",
   "execution_count": 110,
   "id": "bdc59029",
   "metadata": {},
   "outputs": [
    {
     "ename": "ValueError",
     "evalue": "Classification metrics can't handle a mix of multiclass and continuous targets",
     "output_type": "error",
     "traceback": [
      "\u001b[0;31m---------------------------------------------------------------------------\u001b[0m",
      "\u001b[0;31mValueError\u001b[0m                                Traceback (most recent call last)",
      "Cell \u001b[0;32mIn[110], line 1\u001b[0m\n\u001b[0;32m----> 1\u001b[0m accuracy \u001b[39m=\u001b[39m accuracy_score(y_test, y_pred)\n\u001b[1;32m      2\u001b[0m \u001b[39mprint\u001b[39m(\u001b[39mf\u001b[39m\u001b[39m\"\u001b[39m\u001b[39mAccuracy: \u001b[39m\u001b[39m{\u001b[39;00maccuracy\u001b[39m}\u001b[39;00m\u001b[39m\"\u001b[39m)\n",
      "File \u001b[0;32m~/anaconda3/lib/python3.10/site-packages/sklearn/utils/_param_validation.py:192\u001b[0m, in \u001b[0;36mvalidate_params.<locals>.decorator.<locals>.wrapper\u001b[0;34m(*args, **kwargs)\u001b[0m\n\u001b[1;32m    187\u001b[0m validate_parameter_constraints(\n\u001b[1;32m    188\u001b[0m     parameter_constraints, params, caller_name\u001b[39m=\u001b[39mfunc\u001b[39m.\u001b[39m\u001b[39m__qualname__\u001b[39m\n\u001b[1;32m    189\u001b[0m )\n\u001b[1;32m    191\u001b[0m \u001b[39mtry\u001b[39;00m:\n\u001b[0;32m--> 192\u001b[0m     \u001b[39mreturn\u001b[39;00m func(\u001b[39m*\u001b[39;49margs, \u001b[39m*\u001b[39;49m\u001b[39m*\u001b[39;49mkwargs)\n\u001b[1;32m    193\u001b[0m \u001b[39mexcept\u001b[39;00m InvalidParameterError \u001b[39mas\u001b[39;00m e:\n\u001b[1;32m    194\u001b[0m     \u001b[39m# When the function is just a wrapper around an estimator, we allow\u001b[39;00m\n\u001b[1;32m    195\u001b[0m     \u001b[39m# the function to delegate validation to the estimator, but we replace\u001b[39;00m\n\u001b[1;32m    196\u001b[0m     \u001b[39m# the name of the estimator by the name of the function in the error\u001b[39;00m\n\u001b[1;32m    197\u001b[0m     \u001b[39m# message to avoid confusion.\u001b[39;00m\n\u001b[1;32m    198\u001b[0m     msg \u001b[39m=\u001b[39m re\u001b[39m.\u001b[39msub(\n\u001b[1;32m    199\u001b[0m         \u001b[39mr\u001b[39m\u001b[39m\"\u001b[39m\u001b[39mparameter of \u001b[39m\u001b[39m\\\u001b[39m\u001b[39mw+ must be\u001b[39m\u001b[39m\"\u001b[39m,\n\u001b[1;32m    200\u001b[0m         \u001b[39mf\u001b[39m\u001b[39m\"\u001b[39m\u001b[39mparameter of \u001b[39m\u001b[39m{\u001b[39;00mfunc\u001b[39m.\u001b[39m\u001b[39m__qualname__\u001b[39m\u001b[39m}\u001b[39;00m\u001b[39m must be\u001b[39m\u001b[39m\"\u001b[39m,\n\u001b[1;32m    201\u001b[0m         \u001b[39mstr\u001b[39m(e),\n\u001b[1;32m    202\u001b[0m     )\n",
      "File \u001b[0;32m~/anaconda3/lib/python3.10/site-packages/sklearn/metrics/_classification.py:221\u001b[0m, in \u001b[0;36maccuracy_score\u001b[0;34m(y_true, y_pred, normalize, sample_weight)\u001b[0m\n\u001b[1;32m    155\u001b[0m \u001b[39m\"\"\"Accuracy classification score.\u001b[39;00m\n\u001b[1;32m    156\u001b[0m \n\u001b[1;32m    157\u001b[0m \u001b[39mIn multilabel classification, this function computes subset accuracy:\u001b[39;00m\n\u001b[0;32m   (...)\u001b[0m\n\u001b[1;32m    217\u001b[0m \u001b[39m0.5\u001b[39;00m\n\u001b[1;32m    218\u001b[0m \u001b[39m\"\"\"\u001b[39;00m\n\u001b[1;32m    220\u001b[0m \u001b[39m# Compute accuracy for each possible representation\u001b[39;00m\n\u001b[0;32m--> 221\u001b[0m y_type, y_true, y_pred \u001b[39m=\u001b[39m _check_targets(y_true, y_pred)\n\u001b[1;32m    222\u001b[0m check_consistent_length(y_true, y_pred, sample_weight)\n\u001b[1;32m    223\u001b[0m \u001b[39mif\u001b[39;00m y_type\u001b[39m.\u001b[39mstartswith(\u001b[39m\"\u001b[39m\u001b[39mmultilabel\u001b[39m\u001b[39m\"\u001b[39m):\n",
      "File \u001b[0;32m~/anaconda3/lib/python3.10/site-packages/sklearn/metrics/_classification.py:95\u001b[0m, in \u001b[0;36m_check_targets\u001b[0;34m(y_true, y_pred)\u001b[0m\n\u001b[1;32m     92\u001b[0m     y_type \u001b[39m=\u001b[39m {\u001b[39m\"\u001b[39m\u001b[39mmulticlass\u001b[39m\u001b[39m\"\u001b[39m}\n\u001b[1;32m     94\u001b[0m \u001b[39mif\u001b[39;00m \u001b[39mlen\u001b[39m(y_type) \u001b[39m>\u001b[39m \u001b[39m1\u001b[39m:\n\u001b[0;32m---> 95\u001b[0m     \u001b[39mraise\u001b[39;00m \u001b[39mValueError\u001b[39;00m(\n\u001b[1;32m     96\u001b[0m         \u001b[39m\"\u001b[39m\u001b[39mClassification metrics can\u001b[39m\u001b[39m'\u001b[39m\u001b[39mt handle a mix of \u001b[39m\u001b[39m{0}\u001b[39;00m\u001b[39m and \u001b[39m\u001b[39m{1}\u001b[39;00m\u001b[39m targets\u001b[39m\u001b[39m\"\u001b[39m\u001b[39m.\u001b[39mformat(\n\u001b[1;32m     97\u001b[0m             type_true, type_pred\n\u001b[1;32m     98\u001b[0m         )\n\u001b[1;32m     99\u001b[0m     )\n\u001b[1;32m    101\u001b[0m \u001b[39m# We can't have more than one value on y_type => The set is no more needed\u001b[39;00m\n\u001b[1;32m    102\u001b[0m y_type \u001b[39m=\u001b[39m y_type\u001b[39m.\u001b[39mpop()\n",
      "\u001b[0;31mValueError\u001b[0m: Classification metrics can't handle a mix of multiclass and continuous targets"
     ]
    }
   ],
   "source": [
    "accuracy = accuracy_score(y_test, y_pred)\n",
    "print(f\"Accuracy: {accuracy}\")"
   ]
  },
  {
   "cell_type": "code",
   "execution_count": 103,
   "id": "c7dcf03d",
   "metadata": {},
   "outputs": [
    {
     "ename": "ValueError",
     "evalue": "Classification metrics can't handle a mix of multiclass and continuous targets",
     "output_type": "error",
     "traceback": [
      "\u001b[0;31m---------------------------------------------------------------------------\u001b[0m",
      "\u001b[0;31mValueError\u001b[0m                                Traceback (most recent call last)",
      "Cell \u001b[0;32mIn[103], line 1\u001b[0m\n\u001b[0;32m----> 1\u001b[0m accuracy_final \u001b[39m=\u001b[39m accuracy_score(y_test, y_pred)\n\u001b[1;32m      2\u001b[0m \u001b[39mprint\u001b[39m(\u001b[39mf\u001b[39m\u001b[39m\"\u001b[39m\u001b[39mAccuracy (Final Model): \u001b[39m\u001b[39m{\u001b[39;00maccuracy_final\u001b[39m}\u001b[39;00m\u001b[39m\"\u001b[39m)\n\u001b[1;32m      4\u001b[0m precision_final \u001b[39m=\u001b[39m precision_score(y_test, y_pred, average\u001b[39m=\u001b[39m\u001b[39m'\u001b[39m\u001b[39mweighted\u001b[39m\u001b[39m'\u001b[39m, zero_division\u001b[39m=\u001b[39m\u001b[39m'\u001b[39m\u001b[39mwarn\u001b[39m\u001b[39m'\u001b[39m)\n",
      "File \u001b[0;32m~/anaconda3/lib/python3.10/site-packages/sklearn/utils/_param_validation.py:192\u001b[0m, in \u001b[0;36mvalidate_params.<locals>.decorator.<locals>.wrapper\u001b[0;34m(*args, **kwargs)\u001b[0m\n\u001b[1;32m    187\u001b[0m validate_parameter_constraints(\n\u001b[1;32m    188\u001b[0m     parameter_constraints, params, caller_name\u001b[39m=\u001b[39mfunc\u001b[39m.\u001b[39m\u001b[39m__qualname__\u001b[39m\n\u001b[1;32m    189\u001b[0m )\n\u001b[1;32m    191\u001b[0m \u001b[39mtry\u001b[39;00m:\n\u001b[0;32m--> 192\u001b[0m     \u001b[39mreturn\u001b[39;00m func(\u001b[39m*\u001b[39;49margs, \u001b[39m*\u001b[39;49m\u001b[39m*\u001b[39;49mkwargs)\n\u001b[1;32m    193\u001b[0m \u001b[39mexcept\u001b[39;00m InvalidParameterError \u001b[39mas\u001b[39;00m e:\n\u001b[1;32m    194\u001b[0m     \u001b[39m# When the function is just a wrapper around an estimator, we allow\u001b[39;00m\n\u001b[1;32m    195\u001b[0m     \u001b[39m# the function to delegate validation to the estimator, but we replace\u001b[39;00m\n\u001b[1;32m    196\u001b[0m     \u001b[39m# the name of the estimator by the name of the function in the error\u001b[39;00m\n\u001b[1;32m    197\u001b[0m     \u001b[39m# message to avoid confusion.\u001b[39;00m\n\u001b[1;32m    198\u001b[0m     msg \u001b[39m=\u001b[39m re\u001b[39m.\u001b[39msub(\n\u001b[1;32m    199\u001b[0m         \u001b[39mr\u001b[39m\u001b[39m\"\u001b[39m\u001b[39mparameter of \u001b[39m\u001b[39m\\\u001b[39m\u001b[39mw+ must be\u001b[39m\u001b[39m\"\u001b[39m,\n\u001b[1;32m    200\u001b[0m         \u001b[39mf\u001b[39m\u001b[39m\"\u001b[39m\u001b[39mparameter of \u001b[39m\u001b[39m{\u001b[39;00mfunc\u001b[39m.\u001b[39m\u001b[39m__qualname__\u001b[39m\u001b[39m}\u001b[39;00m\u001b[39m must be\u001b[39m\u001b[39m\"\u001b[39m,\n\u001b[1;32m    201\u001b[0m         \u001b[39mstr\u001b[39m(e),\n\u001b[1;32m    202\u001b[0m     )\n",
      "File \u001b[0;32m~/anaconda3/lib/python3.10/site-packages/sklearn/metrics/_classification.py:221\u001b[0m, in \u001b[0;36maccuracy_score\u001b[0;34m(y_true, y_pred, normalize, sample_weight)\u001b[0m\n\u001b[1;32m    155\u001b[0m \u001b[39m\"\"\"Accuracy classification score.\u001b[39;00m\n\u001b[1;32m    156\u001b[0m \n\u001b[1;32m    157\u001b[0m \u001b[39mIn multilabel classification, this function computes subset accuracy:\u001b[39;00m\n\u001b[0;32m   (...)\u001b[0m\n\u001b[1;32m    217\u001b[0m \u001b[39m0.5\u001b[39;00m\n\u001b[1;32m    218\u001b[0m \u001b[39m\"\"\"\u001b[39;00m\n\u001b[1;32m    220\u001b[0m \u001b[39m# Compute accuracy for each possible representation\u001b[39;00m\n\u001b[0;32m--> 221\u001b[0m y_type, y_true, y_pred \u001b[39m=\u001b[39m _check_targets(y_true, y_pred)\n\u001b[1;32m    222\u001b[0m check_consistent_length(y_true, y_pred, sample_weight)\n\u001b[1;32m    223\u001b[0m \u001b[39mif\u001b[39;00m y_type\u001b[39m.\u001b[39mstartswith(\u001b[39m\"\u001b[39m\u001b[39mmultilabel\u001b[39m\u001b[39m\"\u001b[39m):\n",
      "File \u001b[0;32m~/anaconda3/lib/python3.10/site-packages/sklearn/metrics/_classification.py:95\u001b[0m, in \u001b[0;36m_check_targets\u001b[0;34m(y_true, y_pred)\u001b[0m\n\u001b[1;32m     92\u001b[0m     y_type \u001b[39m=\u001b[39m {\u001b[39m\"\u001b[39m\u001b[39mmulticlass\u001b[39m\u001b[39m\"\u001b[39m}\n\u001b[1;32m     94\u001b[0m \u001b[39mif\u001b[39;00m \u001b[39mlen\u001b[39m(y_type) \u001b[39m>\u001b[39m \u001b[39m1\u001b[39m:\n\u001b[0;32m---> 95\u001b[0m     \u001b[39mraise\u001b[39;00m \u001b[39mValueError\u001b[39;00m(\n\u001b[1;32m     96\u001b[0m         \u001b[39m\"\u001b[39m\u001b[39mClassification metrics can\u001b[39m\u001b[39m'\u001b[39m\u001b[39mt handle a mix of \u001b[39m\u001b[39m{0}\u001b[39;00m\u001b[39m and \u001b[39m\u001b[39m{1}\u001b[39;00m\u001b[39m targets\u001b[39m\u001b[39m\"\u001b[39m\u001b[39m.\u001b[39mformat(\n\u001b[1;32m     97\u001b[0m             type_true, type_pred\n\u001b[1;32m     98\u001b[0m         )\n\u001b[1;32m     99\u001b[0m     )\n\u001b[1;32m    101\u001b[0m \u001b[39m# We can't have more than one value on y_type => The set is no more needed\u001b[39;00m\n\u001b[1;32m    102\u001b[0m y_type \u001b[39m=\u001b[39m y_type\u001b[39m.\u001b[39mpop()\n",
      "\u001b[0;31mValueError\u001b[0m: Classification metrics can't handle a mix of multiclass and continuous targets"
     ]
    }
   ],
   "source": [
    "accuracy_final = accuracy_score(y_test, y_pred)\n",
    "print(f\"Accuracy (Final Model): {accuracy_final}\")\n",
    "\n",
    "precision_final = precision_score(y_test, y_pred, average='weighted', zero_division='warn')\n",
    "print(f\"Precision (Final Model): {precision_final}\")\n",
    "\n",
    "recall_final = recall_score(y_test, y_pred, average='weighted', zero_division='warn')\n",
    "print(f\"Recall (Final Model): {recall_final}\")\n",
    "\n",
    "confusion_final = confusion_matrix(y_test, y_pred)\n",
    "print(\"Confusion Matrix (Final Model):\")\n",
    "print(confusion_final)"
   ]
  },
  {
   "cell_type": "markdown",
   "id": "aa70f014",
   "metadata": {},
   "source": [
    "## SVM"
   ]
  },
  {
   "cell_type": "code",
   "execution_count": 111,
   "id": "e3a7e4d4",
   "metadata": {},
   "outputs": [
    {
     "name": "stdout",
     "output_type": "stream",
     "text": [
      "              precision    recall  f1-score   support\n",
      "\n",
      "      130000       0.00      0.00      0.00         1\n",
      "      145000       0.00      0.00      0.00         1\n",
      "      150000       0.00      0.00      0.00         0\n",
      "      175000       0.00      0.00      0.00         1\n",
      "      185000       0.00      0.00      0.00         1\n",
      "      190000       0.00      0.00      0.00         0\n",
      "      195000       0.00      0.00      0.00         1\n",
      "      198000       0.00      0.00      0.00         1\n",
      "      200000       0.00      0.00      0.00         2\n",
      "      210000       0.00      0.00      0.00         1\n",
      "      225000       0.00      0.00      0.00         0\n",
      "      229999       0.00      0.00      0.00         1\n",
      "      235000       0.00      0.00      0.00         1\n",
      "      240000       0.00      0.00      0.00         1\n",
      "      245000       0.00      0.00      0.00         1\n",
      "      250000       0.00      0.00      0.00         2\n",
      "      260000       0.00      0.00      0.00         1\n",
      "      265000       0.00      0.00      0.00         1\n",
      "      269000       0.00      0.00      0.00         0\n",
      "      270000       0.00      0.00      0.00         1\n",
      "      275000       0.00      0.00      0.00         2\n",
      "      280000       0.00      0.00      0.00         1\n",
      "      285000       0.00      0.00      0.00         1\n",
      "      289000       0.00      0.00      0.00         0\n",
      "      295000       0.00      0.00      0.00         3\n",
      "      299000       0.00      0.00      0.00         2\n",
      "      300000       0.00      0.00      0.00         1\n",
      "      310000       0.00      0.00      0.00         1\n",
      "      315000       0.25      1.00      0.40         1\n",
      "      320000       0.00      0.00      0.00         0\n",
      "      325000       0.50      0.50      0.50         2\n",
      "      328000       0.00      0.00      0.00         0\n",
      "      335000       0.00      0.00      0.00         2\n",
      "      340000       0.00      0.00      0.00         2\n",
      "      341000       0.00      0.00      0.00         0\n",
      "      345000       0.00      0.00      0.00         1\n",
      "      350000       0.00      0.00      0.00         1\n",
      "      351000       0.00      0.00      0.00         0\n",
      "      355000       0.00      0.00      0.00         1\n",
      "      360000       0.00      0.00      0.00         2\n",
      "      365000       0.00      0.00      0.00         2\n",
      "      369000       0.00      0.00      0.00         1\n",
      "      370000       0.00      0.00      0.00         1\n",
      "      375000       0.00      0.00      0.00         1\n",
      "      380000       0.00      0.00      0.00         3\n",
      "      385000       0.00      0.00      0.00         2\n",
      "      390000       0.00      0.00      0.00         1\n",
      "      391000       0.00      0.00      0.00         0\n",
      "      395000       0.00      0.00      0.00         1\n",
      "      399000       0.00      0.00      0.00         1\n",
      "      400000       0.00      0.00      0.00         1\n",
      "      409999       0.17      0.50      0.25         2\n",
      "      412000       0.00      0.00      0.00         1\n",
      "      415000       0.00      0.00      0.00         0\n",
      "      420000       0.00      0.00      0.00         1\n",
      "      421000       0.00      0.00      0.00         0\n",
      "      422000       0.00      0.00      0.00         1\n",
      "      425000       0.07      0.17      0.10         6\n",
      "      426999       0.00      0.00      0.00         1\n",
      "      430000       0.00      0.00      0.00         0\n",
      "      434999       0.00      0.00      0.00         3\n",
      "      436000       0.00      0.00      0.00         0\n",
      "      445000       0.00      0.00      0.00         4\n",
      "      450000       0.00      0.00      0.00         3\n",
      "      451000       0.00      0.00      0.00         1\n",
      "      455000       0.00      0.00      0.00         2\n",
      "      459999       0.00      0.00      0.00         1\n",
      "      465000       0.00      0.00      0.00         2\n",
      "      470000       0.00      0.00      0.00         1\n",
      "      475000       0.00      0.00      0.00         3\n",
      "      480000       0.00      0.00      0.00         1\n",
      "      484999       0.00      0.00      0.00         2\n",
      "      490000       0.00      0.00      0.00         3\n",
      "      495000       0.00      0.00      0.00         3\n",
      "      499000       0.00      0.00      0.00         0\n",
      "      500000       0.00      0.00      0.00         2\n",
      "      515000       0.00      0.00      0.00         2\n",
      "      520000       0.00      0.00      0.00         1\n",
      "      525000       0.00      0.00      0.00         2\n",
      "      530000       0.00      0.00      0.00         1\n",
      "      535000       0.00      0.00      0.00         1\n",
      "      540000       0.00      0.00      0.00         2\n",
      "      545000       0.00      0.00      0.00         2\n",
      "      547000       0.00      0.00      0.00         1\n",
      "      549000       0.00      0.00      0.00         2\n",
      "      550000       0.00      0.00      0.00         2\n",
      "      551000       0.00      0.00      0.00         0\n",
      "      560000       0.00      0.00      0.00         1\n",
      "      565000       0.00      0.00      0.00         1\n",
      "      569000       0.00      0.00      0.00         1\n",
      "      570000       0.00      0.00      0.00         0\n",
      "      575000       0.00      0.00      0.00         3\n",
      "      580000       0.00      0.00      0.00         0\n",
      "      585000       0.00      0.00      0.00         1\n",
      "      590000       0.00      0.00      0.00         4\n",
      "      595000       0.00      0.00      0.00         4\n",
      "      600000       0.00      0.00      0.00         1\n",
      "      605000       0.00      0.00      0.00         1\n",
      "      609000       0.00      0.00      0.00         1\n",
      "      610000       0.00      0.00      0.00         1\n",
      "      615000       0.00      0.00      0.00         0\n",
      "      620000       0.00      0.00      0.00         1\n",
      "      625000       0.00      0.00      0.00         4\n",
      "      630000       0.00      0.00      0.00         1\n",
      "      635000       0.00      0.00      0.00         1\n",
      "      636000       0.00      0.00      0.00         1\n",
      "      640000       0.00      0.00      0.00         0\n",
      "      642000       0.00      0.00      0.00         1\n",
      "      645000       0.00      0.00      0.00         4\n",
      "      650000       0.00      0.00      0.00         4\n",
      "      655000       0.00      0.00      0.00         0\n",
      "      665000       0.00      0.00      0.00         0\n",
      "      671000       0.00      0.00      0.00         1\n",
      "      675000       0.00      0.00      0.00         4\n",
      "      685000       0.00      0.00      0.00         2\n",
      "      690000       0.25      0.25      0.25         4\n",
      "      691000       0.00      0.00      0.00         0\n",
      "      695000       0.00      0.00      0.00         1\n",
      "      699000       0.00      0.00      0.00         0\n",
      "      700000       0.00      0.00      0.00         0\n",
      "      711000       0.00      0.00      0.00         0\n",
      "      715000       0.00      0.00      0.00         1\n",
      "      725000       0.00      0.00      0.00         1\n",
      "      735000       0.00      0.00      0.00         1\n",
      "      740000       0.00      0.00      0.00         0\n",
      "      745000       0.00      0.00      0.00         0\n",
      "      750000       0.00      0.00      0.00         2\n",
      "      755000       0.00      0.00      0.00         1\n",
      "      761000       0.00      0.00      0.00         1\n",
      "      770000       0.00      0.00      0.00         0\n",
      "      775000       0.00      0.00      0.00         5\n",
      "      779000       0.00      0.00      0.00         1\n",
      "      780000       0.00      0.00      0.00         0\n",
      "      785000       0.00      0.00      0.00         1\n",
      "      790000       0.00      0.00      0.00         0\n",
      "      795000       0.00      0.00      0.00         3\n",
      "      799000       0.00      0.00      0.00         1\n",
      "      800000       0.00      0.00      0.00         3\n",
      "      801000       0.00      0.00      0.00         1\n",
      "      810000       0.00      0.00      0.00         0\n",
      "      811000       0.00      0.00      0.00         0\n",
      "      819999       0.00      0.00      0.00         1\n",
      "      825000       0.00      0.00      0.00         4\n",
      "      835000       0.00      0.00      0.00         1\n",
      "      844999       0.00      0.00      0.00         1\n",
      "      850000       0.00      0.00      0.00         3\n",
      "      855000       0.00      0.00      0.00         1\n",
      "      860000       0.00      0.00      0.00         2\n",
      "      865000       0.00      0.00      0.00         1\n",
      "      875000       0.00      0.00      0.00         0\n",
      "      880000       0.00      0.00      0.00         1\n",
      "      885000       0.00      0.00      0.00         1\n",
      "      890000       0.00      0.00      0.00         0\n",
      "      894999       0.00      0.00      0.00         1\n",
      "      899000       0.00      0.00      0.00         1\n",
      "      900000       0.00      0.00      0.00         1\n",
      "      925000       0.00      0.00      0.00         2\n",
      "      940000       0.00      0.00      0.00         1\n",
      "      949000       0.00      0.00      0.00         0\n",
      "      950000       0.00      0.00      0.00         1\n",
      "      960000       0.00      0.00      0.00         0\n",
      "      965000       0.00      0.00      0.00         0\n",
      "      975000       0.00      0.00      0.00         1\n",
      "      990000       0.00      0.00      0.00         2\n",
      "      994999       0.00      0.00      0.00         1\n",
      "      999000       0.00      0.00      0.00         0\n",
      "     1000000       0.00      0.00      0.00         1\n",
      "     1011000       0.00      0.00      0.00         1\n",
      "     1015000       0.00      0.00      0.00         0\n",
      "     1025000       0.00      0.00      0.00         2\n",
      "     1035000       0.00      0.00      0.00         1\n",
      "     1040000       0.00      0.00      0.00         1\n",
      "     1044999       0.00      0.00      0.00         1\n",
      "     1050000       0.00      0.00      0.00         1\n",
      "     1080000       0.00      0.00      0.00         1\n",
      "     1085000       0.00      0.00      0.00         0\n",
      "     1095000       0.00      0.00      0.00         0\n",
      "     1100000       0.00      0.00      0.00         0\n",
      "     1115000       0.00      0.00      0.00         2\n",
      "     1125000       0.00      0.00      0.00         1\n",
      "     1130000       0.00      0.00      0.00         1\n",
      "     1150000       0.00      0.00      0.00         0\n",
      "     1165000       0.00      0.00      0.00         1\n",
      "     1175000       0.00      0.00      0.00         0\n",
      "     1190000       0.00      0.00      0.00         2\n",
      "     1195000       0.00      0.00      0.00         1\n",
      "     1200000       0.00      0.00      0.00         0\n",
      "     1221000       0.00      0.00      0.00         1\n",
      "     1225000       0.00      0.00      0.00         2\n",
      "     1245000       0.00      0.00      0.00         1\n",
      "     1250000       0.00      0.00      0.00         1\n",
      "     1275000       0.00      0.00      0.00         1\n",
      "     1290000       0.00      0.00      0.00         1\n",
      "     1295000       0.00      0.00      0.00         1\n",
      "     1299000       0.00      0.00      0.00         1\n",
      "     1300000       0.00      0.00      0.00         2\n",
      "     1321000       0.00      0.00      0.00         0\n",
      "     1325000       0.00      0.00      0.00         2\n",
      "     1340000       0.00      0.00      0.00         0\n",
      "     1350000       0.00      0.00      0.00         1\n",
      "     1375000       0.00      0.00      0.00         1\n",
      "     1390000       0.00      0.00      0.00         0\n",
      "     1400000       0.00      0.00      0.00         1\n",
      "     1450000       0.00      0.00      0.00         1\n",
      "     1485000       0.00      0.00      0.00         1\n",
      "     1489000       0.00      0.00      0.00         1\n",
      "     1490000       0.00      0.00      0.00         1\n",
      "     1499000       0.00      0.00      0.00         1\n",
      "     1515000       0.00      0.00      0.00         1\n",
      "     1550000       0.00      0.00      0.00         1\n",
      "     1580000       0.00      0.00      0.00         1\n",
      "     1595000       0.00      0.00      0.00         0\n",
      "     1611000       0.00      0.00      0.00         1\n",
      "     1625000       0.00      0.00      0.00         0\n",
      "     1650000       0.00      0.00      0.00         3\n",
      "     1675000       0.00      0.00      0.00         0\n",
      "     1679000       0.00      0.00      0.00         1\n",
      "     1685000       0.00      0.00      0.00         0\n",
      "     1689999       0.00      0.00      0.00         1\n",
      "     1695000       0.00      0.00      0.00         0\n",
      "     1700000       0.00      0.00      0.00         1\n",
      "     1710000       0.00      0.00      0.00         0\n",
      "     1725000       0.00      0.00      0.00         2\n",
      "     1750000       0.00      0.00      0.00         1\n",
      "     1775000       0.00      0.00      0.00         0\n",
      "     1789999       0.00      0.00      0.00         2\n",
      "     1791000       0.00      0.00      0.00         0\n",
      "     1798999       0.00      0.00      0.00         1\n",
      "     1800000       0.00      0.00      0.00         0\n",
      "     1835000       0.00      0.00      0.00         1\n",
      "     1839000       0.00      0.00      0.00         1\n",
      "     1850000       0.00      0.00      0.00         0\n",
      "     1864999       0.00      0.00      0.00         1\n",
      "     1875000       0.00      0.00      0.00         1\n",
      "     1900000       0.00      0.00      0.00         0\n",
      "     1930000       0.00      0.00      0.00         1\n",
      "     1950000       0.00      0.00      0.00         1\n",
      "     1964999       0.00      0.00      0.00         1\n",
      "     1970000       0.00      0.00      0.00         1\n",
      "     1975000       0.00      0.00      0.00         0\n",
      "     2048999       0.00      0.00      0.00         1\n",
      "     2089999       0.00      0.00      0.00         1\n",
      "     2100000       0.00      0.00      0.00         1\n",
      "     2149000       0.00      0.00      0.00         1\n",
      "     2150000       0.00      0.00      0.00         0\n",
      "     2175000       0.00      0.00      0.00         1\n",
      "     2180000       0.00      0.00      0.00         0\n",
      "     2196000       0.00      0.00      0.00         0\n",
      "     2200000       0.00      0.00      0.00         1\n",
      "     2225000       0.00      0.00      0.00         0\n",
      "     2250000       0.00      0.00      0.00         1\n",
      "     2275000       0.00      0.00      0.00         0\n",
      "     2350000       0.00      0.00      0.00         1\n",
      "     2390000       0.00      0.00      0.00         1\n",
      "     2400000       1.00      0.50      0.67         2\n",
      "     2450000       0.00      0.00      0.00         1\n",
      "     2500000       0.00      0.00      0.00         1\n",
      "     2550000       0.00      0.00      0.00         1\n",
      "     2600000       0.00      0.00      0.00         0\n",
      "     2650000       1.00      0.50      0.67         2\n",
      "     2690000       0.00      0.00      0.00         1\n",
      "     2725000       0.00      0.00      0.00         1\n",
      "     2750000       0.00      0.00      0.00         1\n",
      "     2765000       0.00      0.00      0.00         1\n",
      "     2775000       0.00      0.00      0.00         1\n",
      "     2799000       0.00      0.00      0.00         1\n",
      "     2800000       0.00      0.00      0.00         0\n",
      "     2850000       0.00      0.00      0.00         0\n",
      "     2900000       0.00      0.00      0.00         2\n",
      "     2950000       0.00      0.00      0.00         3\n",
      "     2990000       0.00      0.00      0.00         0\n",
      "     3000000       0.00      0.00      0.00         0\n",
      "     3025000       0.00      0.00      0.00         1\n",
      "     3050000       0.00      0.00      0.00         0\n",
      "     3075000       0.00      0.00      0.00         0\n",
      "     3100000       0.00      0.00      0.00         1\n",
      "     3125000       0.00      0.00      0.00         1\n",
      "     3200000       0.00      0.00      0.00         2\n",
      "     3250000       0.00      0.00      0.00         0\n",
      "     3290000       0.00      0.00      0.00         1\n",
      "     3300000       1.00      0.33      0.50         3\n",
      "     3390000       0.00      0.00      0.00         0\n",
      "     3400000       0.00      0.00      0.00         2\n",
      "     3499000       0.00      0.00      0.00         1\n",
      "     3500000       0.00      0.00      0.00         3\n",
      "     3600000       0.00      0.00      0.00         2\n",
      "     3650000       0.00      0.00      0.00         0\n",
      "     3675000       0.00      0.00      0.00         1\n",
      "     3775000       0.00      0.00      0.00         0\n",
      "     3785000       0.00      0.00      0.00         0\n",
      "     3800000       0.00      0.00      0.00         2\n",
      "     3900000       0.00      0.00      0.00         1\n",
      "     3975000       0.00      0.00      0.00         0\n",
      "     4000000       0.00      0.00      0.00         0\n",
      "     4100000       0.00      0.00      0.00         1\n",
      "     4150000       0.00      0.00      0.00         3\n",
      "     4175000       0.00      0.00      0.00         1\n",
      "     4200000       0.00      0.00      0.00         2\n",
      "     4250000       0.00      0.00      0.00         3\n",
      "     4275000       0.00      0.00      0.00         0\n",
      "     4300000       0.00      0.00      0.00         0\n",
      "     4375000       0.00      0.00      0.00         2\n",
      "     4400000       0.00      0.00      0.00         1\n",
      "     4459000       0.00      0.00      0.00         1\n",
      "     4475000       0.00      0.00      0.00         1\n",
      "     4500000       0.00      0.00      0.00         1\n",
      "     4575000       0.00      0.00      0.00         1\n",
      "     4590000       0.00      0.00      0.00         0\n",
      "     4749000       0.00      0.00      0.00         1\n",
      "     4775000       0.00      0.00      0.00         1\n",
      "     4800000       0.50      1.00      0.67         1\n",
      "     4950000       0.00      0.00      0.00         1\n",
      "     4975000       0.00      0.00      0.00         1\n",
      "     5100000       0.00      0.00      0.00         0\n",
      "     5200000       0.00      0.00      0.00         1\n",
      "     5300000       0.00      0.00      0.00         1\n",
      "     5400000       0.00      0.00      0.00         1\n",
      "     5500000       0.00      0.00      0.00         2\n",
      "     5800000       0.00      0.00      0.00         2\n",
      "     5950000       0.00      0.00      0.00         1\n",
      "     5975000       0.00      0.00      0.00         0\n",
      "     6000000       0.00      0.00      0.00         1\n",
      "     6100000       0.00      0.00      0.00         1\n",
      "     6300000       0.00      0.00      0.00         1\n",
      "     6500000       0.00      0.00      0.00         1\n",
      "     6680000       0.00      0.00      0.00         1\n",
      "     6750000       0.00      0.00      0.00         1\n",
      "     6900000       0.00      0.00      0.00         0\n",
      "     6975000       0.00      0.00      0.00         1\n",
      "     7000000       0.00      0.00      0.00         0\n",
      "     7200000       0.00      0.00      0.00         1\n",
      "     7390000       0.00      0.00      0.00         1\n",
      "     7475000       0.00      0.00      0.00         2\n",
      "     7780000       0.00      0.00      0.00         1\n",
      "     7990000       0.00      0.00      0.00         0\n",
      "     8000000       0.00      0.00      0.00         1\n",
      "     8500000       0.00      0.00      0.00         1\n",
      "     9000000       0.00      0.00      0.00         1\n",
      "     9100000       0.00      0.00      0.00         1\n",
      "     9390000       0.00      0.00      0.00         0\n",
      "    12500000       0.00      0.00      0.00         1\n",
      "    12900000       0.00      0.00      0.00         1\n",
      "    13000000       0.00      0.00      0.00         0\n",
      "    14900000       0.00      0.00      0.00         1\n",
      "    16200000       0.00      0.00      0.00         0\n",
      "    19300000       0.00      0.00      0.00         1\n",
      "    20000000       0.00      0.00      0.00         1\n",
      "    22000000       0.00      0.00      0.00         1\n",
      "    27500000       0.00      0.00      0.00         1\n",
      "    35000000       0.00      0.00      0.00         1\n",
      "\n",
      "    accuracy                           0.02       375\n",
      "   macro avg       0.01      0.01      0.01       375\n",
      "weighted avg       0.03      0.02      0.02       375\n",
      "\n"
     ]
    },
    {
     "name": "stderr",
     "output_type": "stream",
     "text": [
      "/Users/slimeollie/anaconda3/lib/python3.10/site-packages/sklearn/metrics/_classification.py:1344: UndefinedMetricWarning: Precision and F-score are ill-defined and being set to 0.0 in labels with no predicted samples. Use `zero_division` parameter to control this behavior.\n",
      "  _warn_prf(average, modifier, msg_start, len(result))\n",
      "/Users/slimeollie/anaconda3/lib/python3.10/site-packages/sklearn/metrics/_classification.py:1344: UndefinedMetricWarning: Recall and F-score are ill-defined and being set to 0.0 in labels with no true samples. Use `zero_division` parameter to control this behavior.\n",
      "  _warn_prf(average, modifier, msg_start, len(result))\n",
      "/Users/slimeollie/anaconda3/lib/python3.10/site-packages/sklearn/metrics/_classification.py:1344: UndefinedMetricWarning: Precision and F-score are ill-defined and being set to 0.0 in labels with no predicted samples. Use `zero_division` parameter to control this behavior.\n",
      "  _warn_prf(average, modifier, msg_start, len(result))\n",
      "/Users/slimeollie/anaconda3/lib/python3.10/site-packages/sklearn/metrics/_classification.py:1344: UndefinedMetricWarning: Recall and F-score are ill-defined and being set to 0.0 in labels with no true samples. Use `zero_division` parameter to control this behavior.\n",
      "  _warn_prf(average, modifier, msg_start, len(result))\n",
      "/Users/slimeollie/anaconda3/lib/python3.10/site-packages/sklearn/metrics/_classification.py:1344: UndefinedMetricWarning: Precision and F-score are ill-defined and being set to 0.0 in labels with no predicted samples. Use `zero_division` parameter to control this behavior.\n",
      "  _warn_prf(average, modifier, msg_start, len(result))\n",
      "/Users/slimeollie/anaconda3/lib/python3.10/site-packages/sklearn/metrics/_classification.py:1344: UndefinedMetricWarning: Recall and F-score are ill-defined and being set to 0.0 in labels with no true samples. Use `zero_division` parameter to control this behavior.\n",
      "  _warn_prf(average, modifier, msg_start, len(result))\n"
     ]
    }
   ],
   "source": [
    "# from sklearn.metrics import classification_report\n",
    "# train the model on train set\n",
    "svc_model = SVC(kernel='linear')\n",
    "svc_model.fit(X_train, y_train)\n",
    "  \n",
    "# print prediction results\n",
    "predictions = svc_model.predict(X_test)\n",
    "print(classification_report(y_test, predictions))"
   ]
  },
  {
   "cell_type": "markdown",
   "id": "baf15de6",
   "metadata": {},
   "source": [
    "2% Accuracy Rate with no tuning, so lets tune the hyperparameters to see if we can improve the model performance."
   ]
  },
  {
   "cell_type": "code",
   "execution_count": 112,
   "id": "6de3a14a",
   "metadata": {},
   "outputs": [
    {
     "name": "stdout",
     "output_type": "stream",
     "text": [
      "Fitting 5 folds for each of 50 candidates, totalling 250 fits\n"
     ]
    },
    {
     "name": "stderr",
     "output_type": "stream",
     "text": [
      "/Users/slimeollie/anaconda3/lib/python3.10/site-packages/sklearn/model_selection/_split.py:700: UserWarning: The least populated class in y has only 1 members, which is less than n_splits=5.\n",
      "  warnings.warn(\n"
     ]
    },
    {
     "name": "stdout",
     "output_type": "stream",
     "text": [
      "[CV 1/5] END ........C=0.1, gamma=1, kernel=rbf;, score=0.013 total time=   4.8s\n",
      "[CV 2/5] END ........C=0.1, gamma=1, kernel=rbf;, score=0.017 total time=   3.3s\n",
      "[CV 3/5] END ........C=0.1, gamma=1, kernel=rbf;, score=0.023 total time=   3.1s\n",
      "[CV 4/5] END ........C=0.1, gamma=1, kernel=rbf;, score=0.013 total time=   5.4s\n",
      "[CV 5/5] END ........C=0.1, gamma=1, kernel=rbf;, score=0.017 total time=   3.7s\n",
      "[CV 1/5] END .....C=0.1, gamma=1, kernel=linear;, score=0.020 total time=   5.8s\n",
      "[CV 2/5] END .....C=0.1, gamma=1, kernel=linear;, score=0.013 total time=   7.2s\n",
      "[CV 3/5] END .....C=0.1, gamma=1, kernel=linear;, score=0.027 total time=   5.6s\n",
      "[CV 4/5] END .....C=0.1, gamma=1, kernel=linear;, score=0.030 total time=   2.9s\n",
      "[CV 5/5] END .....C=0.1, gamma=1, kernel=linear;, score=0.040 total time=   2.9s\n",
      "[CV 1/5] END ......C=0.1, gamma=0.1, kernel=rbf;, score=0.013 total time=   3.5s\n",
      "[CV 2/5] END ......C=0.1, gamma=0.1, kernel=rbf;, score=0.013 total time=   3.2s\n",
      "[CV 3/5] END ......C=0.1, gamma=0.1, kernel=rbf;, score=0.013 total time=   3.6s\n",
      "[CV 4/5] END ......C=0.1, gamma=0.1, kernel=rbf;, score=0.013 total time=   3.4s\n",
      "[CV 5/5] END ......C=0.1, gamma=0.1, kernel=rbf;, score=0.013 total time=   6.5s\n",
      "[CV 1/5] END ...C=0.1, gamma=0.1, kernel=linear;, score=0.020 total time=   3.4s\n",
      "[CV 2/5] END ...C=0.1, gamma=0.1, kernel=linear;, score=0.013 total time=   4.5s\n",
      "[CV 3/5] END ...C=0.1, gamma=0.1, kernel=linear;, score=0.027 total time=   4.6s\n",
      "[CV 4/5] END ...C=0.1, gamma=0.1, kernel=linear;, score=0.030 total time=   6.2s\n",
      "[CV 5/5] END ...C=0.1, gamma=0.1, kernel=linear;, score=0.040 total time=   3.8s\n",
      "[CV 1/5] END .....C=0.1, gamma=0.01, kernel=rbf;, score=0.013 total time=   3.6s\n",
      "[CV 2/5] END .....C=0.1, gamma=0.01, kernel=rbf;, score=0.013 total time=   4.8s\n",
      "[CV 3/5] END .....C=0.1, gamma=0.01, kernel=rbf;, score=0.020 total time=   3.2s\n",
      "[CV 4/5] END .....C=0.1, gamma=0.01, kernel=rbf;, score=0.013 total time=   3.2s\n",
      "[CV 5/5] END .....C=0.1, gamma=0.01, kernel=rbf;, score=0.013 total time=   3.2s\n",
      "[CV 1/5] END ..C=0.1, gamma=0.01, kernel=linear;, score=0.020 total time=   2.9s\n",
      "[CV 2/5] END ..C=0.1, gamma=0.01, kernel=linear;, score=0.013 total time=   3.0s\n",
      "[CV 3/5] END ..C=0.1, gamma=0.01, kernel=linear;, score=0.027 total time=   3.2s\n",
      "[CV 4/5] END ..C=0.1, gamma=0.01, kernel=linear;, score=0.030 total time=   3.4s\n",
      "[CV 5/5] END ..C=0.1, gamma=0.01, kernel=linear;, score=0.040 total time=   3.2s\n",
      "[CV 1/5] END ....C=0.1, gamma=0.001, kernel=rbf;, score=0.013 total time=   3.2s\n",
      "[CV 2/5] END ....C=0.1, gamma=0.001, kernel=rbf;, score=0.017 total time=   3.1s\n",
      "[CV 3/5] END ....C=0.1, gamma=0.001, kernel=rbf;, score=0.017 total time=   3.4s\n",
      "[CV 4/5] END ....C=0.1, gamma=0.001, kernel=rbf;, score=0.013 total time=   5.0s\n"
     ]
    },
    {
     "ename": "KeyboardInterrupt",
     "evalue": "",
     "output_type": "error",
     "traceback": [
      "\u001b[0;31m---------------------------------------------------------------------------\u001b[0m",
      "\u001b[0;31mKeyboardInterrupt\u001b[0m                         Traceback (most recent call last)",
      "Cell \u001b[0;32mIn[112], line 10\u001b[0m\n\u001b[1;32m      7\u001b[0m grid \u001b[39m=\u001b[39m GridSearchCV(SVC(), param_grid, refit \u001b[39m=\u001b[39m \u001b[39mTrue\u001b[39;00m, verbose \u001b[39m=\u001b[39m \u001b[39m3\u001b[39m)\n\u001b[1;32m      9\u001b[0m \u001b[39m# fitting the model for grid search\u001b[39;00m\n\u001b[0;32m---> 10\u001b[0m grid\u001b[39m.\u001b[39;49mfit(X_train, y_train)\n",
      "File \u001b[0;32m~/anaconda3/lib/python3.10/site-packages/sklearn/model_selection/_search.py:874\u001b[0m, in \u001b[0;36mBaseSearchCV.fit\u001b[0;34m(self, X, y, groups, **fit_params)\u001b[0m\n\u001b[1;32m    868\u001b[0m     results \u001b[39m=\u001b[39m \u001b[39mself\u001b[39m\u001b[39m.\u001b[39m_format_results(\n\u001b[1;32m    869\u001b[0m         all_candidate_params, n_splits, all_out, all_more_results\n\u001b[1;32m    870\u001b[0m     )\n\u001b[1;32m    872\u001b[0m     \u001b[39mreturn\u001b[39;00m results\n\u001b[0;32m--> 874\u001b[0m \u001b[39mself\u001b[39;49m\u001b[39m.\u001b[39;49m_run_search(evaluate_candidates)\n\u001b[1;32m    876\u001b[0m \u001b[39m# multimetric is determined here because in the case of a callable\u001b[39;00m\n\u001b[1;32m    877\u001b[0m \u001b[39m# self.scoring the return type is only known after calling\u001b[39;00m\n\u001b[1;32m    878\u001b[0m first_test_score \u001b[39m=\u001b[39m all_out[\u001b[39m0\u001b[39m][\u001b[39m\"\u001b[39m\u001b[39mtest_scores\u001b[39m\u001b[39m\"\u001b[39m]\n",
      "File \u001b[0;32m~/anaconda3/lib/python3.10/site-packages/sklearn/model_selection/_search.py:1388\u001b[0m, in \u001b[0;36mGridSearchCV._run_search\u001b[0;34m(self, evaluate_candidates)\u001b[0m\n\u001b[1;32m   1386\u001b[0m \u001b[39mdef\u001b[39;00m \u001b[39m_run_search\u001b[39m(\u001b[39mself\u001b[39m, evaluate_candidates):\n\u001b[1;32m   1387\u001b[0m     \u001b[39m\"\"\"Search all candidates in param_grid\"\"\"\u001b[39;00m\n\u001b[0;32m-> 1388\u001b[0m     evaluate_candidates(ParameterGrid(\u001b[39mself\u001b[39;49m\u001b[39m.\u001b[39;49mparam_grid))\n",
      "File \u001b[0;32m~/anaconda3/lib/python3.10/site-packages/sklearn/model_selection/_search.py:821\u001b[0m, in \u001b[0;36mBaseSearchCV.fit.<locals>.evaluate_candidates\u001b[0;34m(candidate_params, cv, more_results)\u001b[0m\n\u001b[1;32m    813\u001b[0m \u001b[39mif\u001b[39;00m \u001b[39mself\u001b[39m\u001b[39m.\u001b[39mverbose \u001b[39m>\u001b[39m \u001b[39m0\u001b[39m:\n\u001b[1;32m    814\u001b[0m     \u001b[39mprint\u001b[39m(\n\u001b[1;32m    815\u001b[0m         \u001b[39m\"\u001b[39m\u001b[39mFitting \u001b[39m\u001b[39m{0}\u001b[39;00m\u001b[39m folds for each of \u001b[39m\u001b[39m{1}\u001b[39;00m\u001b[39m candidates,\u001b[39m\u001b[39m\"\u001b[39m\n\u001b[1;32m    816\u001b[0m         \u001b[39m\"\u001b[39m\u001b[39m totalling \u001b[39m\u001b[39m{2}\u001b[39;00m\u001b[39m fits\u001b[39m\u001b[39m\"\u001b[39m\u001b[39m.\u001b[39mformat(\n\u001b[1;32m    817\u001b[0m             n_splits, n_candidates, n_candidates \u001b[39m*\u001b[39m n_splits\n\u001b[1;32m    818\u001b[0m         )\n\u001b[1;32m    819\u001b[0m     )\n\u001b[0;32m--> 821\u001b[0m out \u001b[39m=\u001b[39m parallel(\n\u001b[1;32m    822\u001b[0m     delayed(_fit_and_score)(\n\u001b[1;32m    823\u001b[0m         clone(base_estimator),\n\u001b[1;32m    824\u001b[0m         X,\n\u001b[1;32m    825\u001b[0m         y,\n\u001b[1;32m    826\u001b[0m         train\u001b[39m=\u001b[39;49mtrain,\n\u001b[1;32m    827\u001b[0m         test\u001b[39m=\u001b[39;49mtest,\n\u001b[1;32m    828\u001b[0m         parameters\u001b[39m=\u001b[39;49mparameters,\n\u001b[1;32m    829\u001b[0m         split_progress\u001b[39m=\u001b[39;49m(split_idx, n_splits),\n\u001b[1;32m    830\u001b[0m         candidate_progress\u001b[39m=\u001b[39;49m(cand_idx, n_candidates),\n\u001b[1;32m    831\u001b[0m         \u001b[39m*\u001b[39;49m\u001b[39m*\u001b[39;49mfit_and_score_kwargs,\n\u001b[1;32m    832\u001b[0m     )\n\u001b[1;32m    833\u001b[0m     \u001b[39mfor\u001b[39;49;00m (cand_idx, parameters), (split_idx, (train, test)) \u001b[39min\u001b[39;49;00m product(\n\u001b[1;32m    834\u001b[0m         \u001b[39menumerate\u001b[39;49m(candidate_params), \u001b[39menumerate\u001b[39;49m(cv\u001b[39m.\u001b[39;49msplit(X, y, groups))\n\u001b[1;32m    835\u001b[0m     )\n\u001b[1;32m    836\u001b[0m )\n\u001b[1;32m    838\u001b[0m \u001b[39mif\u001b[39;00m \u001b[39mlen\u001b[39m(out) \u001b[39m<\u001b[39m \u001b[39m1\u001b[39m:\n\u001b[1;32m    839\u001b[0m     \u001b[39mraise\u001b[39;00m \u001b[39mValueError\u001b[39;00m(\n\u001b[1;32m    840\u001b[0m         \u001b[39m\"\u001b[39m\u001b[39mNo fits were performed. \u001b[39m\u001b[39m\"\u001b[39m\n\u001b[1;32m    841\u001b[0m         \u001b[39m\"\u001b[39m\u001b[39mWas the CV iterator empty? \u001b[39m\u001b[39m\"\u001b[39m\n\u001b[1;32m    842\u001b[0m         \u001b[39m\"\u001b[39m\u001b[39mWere there no candidates?\u001b[39m\u001b[39m\"\u001b[39m\n\u001b[1;32m    843\u001b[0m     )\n",
      "File \u001b[0;32m~/anaconda3/lib/python3.10/site-packages/sklearn/utils/parallel.py:63\u001b[0m, in \u001b[0;36mParallel.__call__\u001b[0;34m(self, iterable)\u001b[0m\n\u001b[1;32m     58\u001b[0m config \u001b[39m=\u001b[39m get_config()\n\u001b[1;32m     59\u001b[0m iterable_with_config \u001b[39m=\u001b[39m (\n\u001b[1;32m     60\u001b[0m     (_with_config(delayed_func, config), args, kwargs)\n\u001b[1;32m     61\u001b[0m     \u001b[39mfor\u001b[39;00m delayed_func, args, kwargs \u001b[39min\u001b[39;00m iterable\n\u001b[1;32m     62\u001b[0m )\n\u001b[0;32m---> 63\u001b[0m \u001b[39mreturn\u001b[39;00m \u001b[39msuper\u001b[39;49m()\u001b[39m.\u001b[39;49m\u001b[39m__call__\u001b[39;49m(iterable_with_config)\n",
      "File \u001b[0;32m~/anaconda3/lib/python3.10/site-packages/joblib/parallel.py:1051\u001b[0m, in \u001b[0;36mParallel.__call__\u001b[0;34m(self, iterable)\u001b[0m\n\u001b[1;32m   1048\u001b[0m \u001b[39mif\u001b[39;00m \u001b[39mself\u001b[39m\u001b[39m.\u001b[39mdispatch_one_batch(iterator):\n\u001b[1;32m   1049\u001b[0m     \u001b[39mself\u001b[39m\u001b[39m.\u001b[39m_iterating \u001b[39m=\u001b[39m \u001b[39mself\u001b[39m\u001b[39m.\u001b[39m_original_iterator \u001b[39mis\u001b[39;00m \u001b[39mnot\u001b[39;00m \u001b[39mNone\u001b[39;00m\n\u001b[0;32m-> 1051\u001b[0m \u001b[39mwhile\u001b[39;00m \u001b[39mself\u001b[39;49m\u001b[39m.\u001b[39;49mdispatch_one_batch(iterator):\n\u001b[1;32m   1052\u001b[0m     \u001b[39mpass\u001b[39;00m\n\u001b[1;32m   1054\u001b[0m \u001b[39mif\u001b[39;00m pre_dispatch \u001b[39m==\u001b[39m \u001b[39m\"\u001b[39m\u001b[39mall\u001b[39m\u001b[39m\"\u001b[39m \u001b[39mor\u001b[39;00m n_jobs \u001b[39m==\u001b[39m \u001b[39m1\u001b[39m:\n\u001b[1;32m   1055\u001b[0m     \u001b[39m# The iterable was consumed all at once by the above for loop.\u001b[39;00m\n\u001b[1;32m   1056\u001b[0m     \u001b[39m# No need to wait for async callbacks to trigger to\u001b[39;00m\n\u001b[1;32m   1057\u001b[0m     \u001b[39m# consumption.\u001b[39;00m\n",
      "File \u001b[0;32m~/anaconda3/lib/python3.10/site-packages/joblib/parallel.py:864\u001b[0m, in \u001b[0;36mParallel.dispatch_one_batch\u001b[0;34m(self, iterator)\u001b[0m\n\u001b[1;32m    862\u001b[0m     \u001b[39mreturn\u001b[39;00m \u001b[39mFalse\u001b[39;00m\n\u001b[1;32m    863\u001b[0m \u001b[39melse\u001b[39;00m:\n\u001b[0;32m--> 864\u001b[0m     \u001b[39mself\u001b[39;49m\u001b[39m.\u001b[39;49m_dispatch(tasks)\n\u001b[1;32m    865\u001b[0m     \u001b[39mreturn\u001b[39;00m \u001b[39mTrue\u001b[39;00m\n",
      "File \u001b[0;32m~/anaconda3/lib/python3.10/site-packages/joblib/parallel.py:782\u001b[0m, in \u001b[0;36mParallel._dispatch\u001b[0;34m(self, batch)\u001b[0m\n\u001b[1;32m    780\u001b[0m \u001b[39mwith\u001b[39;00m \u001b[39mself\u001b[39m\u001b[39m.\u001b[39m_lock:\n\u001b[1;32m    781\u001b[0m     job_idx \u001b[39m=\u001b[39m \u001b[39mlen\u001b[39m(\u001b[39mself\u001b[39m\u001b[39m.\u001b[39m_jobs)\n\u001b[0;32m--> 782\u001b[0m     job \u001b[39m=\u001b[39m \u001b[39mself\u001b[39;49m\u001b[39m.\u001b[39;49m_backend\u001b[39m.\u001b[39;49mapply_async(batch, callback\u001b[39m=\u001b[39;49mcb)\n\u001b[1;32m    783\u001b[0m     \u001b[39m# A job can complete so quickly than its callback is\u001b[39;00m\n\u001b[1;32m    784\u001b[0m     \u001b[39m# called before we get here, causing self._jobs to\u001b[39;00m\n\u001b[1;32m    785\u001b[0m     \u001b[39m# grow. To ensure correct results ordering, .insert is\u001b[39;00m\n\u001b[1;32m    786\u001b[0m     \u001b[39m# used (rather than .append) in the following line\u001b[39;00m\n\u001b[1;32m    787\u001b[0m     \u001b[39mself\u001b[39m\u001b[39m.\u001b[39m_jobs\u001b[39m.\u001b[39minsert(job_idx, job)\n",
      "File \u001b[0;32m~/anaconda3/lib/python3.10/site-packages/joblib/_parallel_backends.py:208\u001b[0m, in \u001b[0;36mSequentialBackend.apply_async\u001b[0;34m(self, func, callback)\u001b[0m\n\u001b[1;32m    206\u001b[0m \u001b[39mdef\u001b[39;00m \u001b[39mapply_async\u001b[39m(\u001b[39mself\u001b[39m, func, callback\u001b[39m=\u001b[39m\u001b[39mNone\u001b[39;00m):\n\u001b[1;32m    207\u001b[0m     \u001b[39m\"\"\"Schedule a func to be run\"\"\"\u001b[39;00m\n\u001b[0;32m--> 208\u001b[0m     result \u001b[39m=\u001b[39m ImmediateResult(func)\n\u001b[1;32m    209\u001b[0m     \u001b[39mif\u001b[39;00m callback:\n\u001b[1;32m    210\u001b[0m         callback(result)\n",
      "File \u001b[0;32m~/anaconda3/lib/python3.10/site-packages/joblib/_parallel_backends.py:572\u001b[0m, in \u001b[0;36mImmediateResult.__init__\u001b[0;34m(self, batch)\u001b[0m\n\u001b[1;32m    569\u001b[0m \u001b[39mdef\u001b[39;00m \u001b[39m__init__\u001b[39m(\u001b[39mself\u001b[39m, batch):\n\u001b[1;32m    570\u001b[0m     \u001b[39m# Don't delay the application, to avoid keeping the input\u001b[39;00m\n\u001b[1;32m    571\u001b[0m     \u001b[39m# arguments in memory\u001b[39;00m\n\u001b[0;32m--> 572\u001b[0m     \u001b[39mself\u001b[39m\u001b[39m.\u001b[39mresults \u001b[39m=\u001b[39m batch()\n",
      "File \u001b[0;32m~/anaconda3/lib/python3.10/site-packages/joblib/parallel.py:263\u001b[0m, in \u001b[0;36mBatchedCalls.__call__\u001b[0;34m(self)\u001b[0m\n\u001b[1;32m    259\u001b[0m \u001b[39mdef\u001b[39;00m \u001b[39m__call__\u001b[39m(\u001b[39mself\u001b[39m):\n\u001b[1;32m    260\u001b[0m     \u001b[39m# Set the default nested backend to self._backend but do not set the\u001b[39;00m\n\u001b[1;32m    261\u001b[0m     \u001b[39m# change the default number of processes to -1\u001b[39;00m\n\u001b[1;32m    262\u001b[0m     \u001b[39mwith\u001b[39;00m parallel_backend(\u001b[39mself\u001b[39m\u001b[39m.\u001b[39m_backend, n_jobs\u001b[39m=\u001b[39m\u001b[39mself\u001b[39m\u001b[39m.\u001b[39m_n_jobs):\n\u001b[0;32m--> 263\u001b[0m         \u001b[39mreturn\u001b[39;00m [func(\u001b[39m*\u001b[39margs, \u001b[39m*\u001b[39m\u001b[39m*\u001b[39mkwargs)\n\u001b[1;32m    264\u001b[0m                 \u001b[39mfor\u001b[39;00m func, args, kwargs \u001b[39min\u001b[39;00m \u001b[39mself\u001b[39m\u001b[39m.\u001b[39mitems]\n",
      "File \u001b[0;32m~/anaconda3/lib/python3.10/site-packages/joblib/parallel.py:263\u001b[0m, in \u001b[0;36m<listcomp>\u001b[0;34m(.0)\u001b[0m\n\u001b[1;32m    259\u001b[0m \u001b[39mdef\u001b[39;00m \u001b[39m__call__\u001b[39m(\u001b[39mself\u001b[39m):\n\u001b[1;32m    260\u001b[0m     \u001b[39m# Set the default nested backend to self._backend but do not set the\u001b[39;00m\n\u001b[1;32m    261\u001b[0m     \u001b[39m# change the default number of processes to -1\u001b[39;00m\n\u001b[1;32m    262\u001b[0m     \u001b[39mwith\u001b[39;00m parallel_backend(\u001b[39mself\u001b[39m\u001b[39m.\u001b[39m_backend, n_jobs\u001b[39m=\u001b[39m\u001b[39mself\u001b[39m\u001b[39m.\u001b[39m_n_jobs):\n\u001b[0;32m--> 263\u001b[0m         \u001b[39mreturn\u001b[39;00m [func(\u001b[39m*\u001b[39;49margs, \u001b[39m*\u001b[39;49m\u001b[39m*\u001b[39;49mkwargs)\n\u001b[1;32m    264\u001b[0m                 \u001b[39mfor\u001b[39;00m func, args, kwargs \u001b[39min\u001b[39;00m \u001b[39mself\u001b[39m\u001b[39m.\u001b[39mitems]\n",
      "File \u001b[0;32m~/anaconda3/lib/python3.10/site-packages/sklearn/utils/parallel.py:123\u001b[0m, in \u001b[0;36m_FuncWrapper.__call__\u001b[0;34m(self, *args, **kwargs)\u001b[0m\n\u001b[1;32m    121\u001b[0m     config \u001b[39m=\u001b[39m {}\n\u001b[1;32m    122\u001b[0m \u001b[39mwith\u001b[39;00m config_context(\u001b[39m*\u001b[39m\u001b[39m*\u001b[39mconfig):\n\u001b[0;32m--> 123\u001b[0m     \u001b[39mreturn\u001b[39;00m \u001b[39mself\u001b[39;49m\u001b[39m.\u001b[39;49mfunction(\u001b[39m*\u001b[39;49margs, \u001b[39m*\u001b[39;49m\u001b[39m*\u001b[39;49mkwargs)\n",
      "File \u001b[0;32m~/anaconda3/lib/python3.10/site-packages/sklearn/model_selection/_validation.py:686\u001b[0m, in \u001b[0;36m_fit_and_score\u001b[0;34m(estimator, X, y, scorer, train, test, verbose, parameters, fit_params, return_train_score, return_parameters, return_n_test_samples, return_times, return_estimator, split_progress, candidate_progress, error_score)\u001b[0m\n\u001b[1;32m    684\u001b[0m         estimator\u001b[39m.\u001b[39mfit(X_train, \u001b[39m*\u001b[39m\u001b[39m*\u001b[39mfit_params)\n\u001b[1;32m    685\u001b[0m     \u001b[39melse\u001b[39;00m:\n\u001b[0;32m--> 686\u001b[0m         estimator\u001b[39m.\u001b[39;49mfit(X_train, y_train, \u001b[39m*\u001b[39;49m\u001b[39m*\u001b[39;49mfit_params)\n\u001b[1;32m    688\u001b[0m \u001b[39mexcept\u001b[39;00m \u001b[39mException\u001b[39;00m:\n\u001b[1;32m    689\u001b[0m     \u001b[39m# Note fit time as time until error\u001b[39;00m\n\u001b[1;32m    690\u001b[0m     fit_time \u001b[39m=\u001b[39m time\u001b[39m.\u001b[39mtime() \u001b[39m-\u001b[39m start_time\n",
      "File \u001b[0;32m~/anaconda3/lib/python3.10/site-packages/sklearn/svm/_base.py:252\u001b[0m, in \u001b[0;36mBaseLibSVM.fit\u001b[0;34m(self, X, y, sample_weight)\u001b[0m\n\u001b[1;32m    249\u001b[0m     \u001b[39mprint\u001b[39m(\u001b[39m\"\u001b[39m\u001b[39m[LibSVM]\u001b[39m\u001b[39m\"\u001b[39m, end\u001b[39m=\u001b[39m\u001b[39m\"\u001b[39m\u001b[39m\"\u001b[39m)\n\u001b[1;32m    251\u001b[0m seed \u001b[39m=\u001b[39m rnd\u001b[39m.\u001b[39mrandint(np\u001b[39m.\u001b[39miinfo(\u001b[39m\"\u001b[39m\u001b[39mi\u001b[39m\u001b[39m\"\u001b[39m)\u001b[39m.\u001b[39mmax)\n\u001b[0;32m--> 252\u001b[0m fit(X, y, sample_weight, solver_type, kernel, random_seed\u001b[39m=\u001b[39;49mseed)\n\u001b[1;32m    253\u001b[0m \u001b[39m# see comment on the other call to np.iinfo in this file\u001b[39;00m\n\u001b[1;32m    255\u001b[0m \u001b[39mself\u001b[39m\u001b[39m.\u001b[39mshape_fit_ \u001b[39m=\u001b[39m X\u001b[39m.\u001b[39mshape \u001b[39mif\u001b[39;00m \u001b[39mhasattr\u001b[39m(X, \u001b[39m\"\u001b[39m\u001b[39mshape\u001b[39m\u001b[39m\"\u001b[39m) \u001b[39melse\u001b[39;00m (n_samples,)\n",
      "File \u001b[0;32m~/anaconda3/lib/python3.10/site-packages/sklearn/svm/_base.py:331\u001b[0m, in \u001b[0;36mBaseLibSVM._dense_fit\u001b[0;34m(self, X, y, sample_weight, solver_type, kernel, random_seed)\u001b[0m\n\u001b[1;32m    317\u001b[0m libsvm\u001b[39m.\u001b[39mset_verbosity_wrap(\u001b[39mself\u001b[39m\u001b[39m.\u001b[39mverbose)\n\u001b[1;32m    319\u001b[0m \u001b[39m# we don't pass **self.get_params() to allow subclasses to\u001b[39;00m\n\u001b[1;32m    320\u001b[0m \u001b[39m# add other parameters to __init__\u001b[39;00m\n\u001b[1;32m    321\u001b[0m (\n\u001b[1;32m    322\u001b[0m     \u001b[39mself\u001b[39m\u001b[39m.\u001b[39msupport_,\n\u001b[1;32m    323\u001b[0m     \u001b[39mself\u001b[39m\u001b[39m.\u001b[39msupport_vectors_,\n\u001b[1;32m    324\u001b[0m     \u001b[39mself\u001b[39m\u001b[39m.\u001b[39m_n_support,\n\u001b[1;32m    325\u001b[0m     \u001b[39mself\u001b[39m\u001b[39m.\u001b[39mdual_coef_,\n\u001b[1;32m    326\u001b[0m     \u001b[39mself\u001b[39m\u001b[39m.\u001b[39mintercept_,\n\u001b[1;32m    327\u001b[0m     \u001b[39mself\u001b[39m\u001b[39m.\u001b[39m_probA,\n\u001b[1;32m    328\u001b[0m     \u001b[39mself\u001b[39m\u001b[39m.\u001b[39m_probB,\n\u001b[1;32m    329\u001b[0m     \u001b[39mself\u001b[39m\u001b[39m.\u001b[39mfit_status_,\n\u001b[1;32m    330\u001b[0m     \u001b[39mself\u001b[39m\u001b[39m.\u001b[39m_num_iter,\n\u001b[0;32m--> 331\u001b[0m ) \u001b[39m=\u001b[39m libsvm\u001b[39m.\u001b[39;49mfit(\n\u001b[1;32m    332\u001b[0m     X,\n\u001b[1;32m    333\u001b[0m     y,\n\u001b[1;32m    334\u001b[0m     svm_type\u001b[39m=\u001b[39;49msolver_type,\n\u001b[1;32m    335\u001b[0m     sample_weight\u001b[39m=\u001b[39;49msample_weight,\n\u001b[1;32m    336\u001b[0m     \u001b[39m# TODO(1.4): Replace \"_class_weight\" with \"class_weight_\"\u001b[39;49;00m\n\u001b[1;32m    337\u001b[0m     class_weight\u001b[39m=\u001b[39;49m\u001b[39mgetattr\u001b[39;49m(\u001b[39mself\u001b[39;49m, \u001b[39m\"\u001b[39;49m\u001b[39m_class_weight\u001b[39;49m\u001b[39m\"\u001b[39;49m, np\u001b[39m.\u001b[39;49mempty(\u001b[39m0\u001b[39;49m)),\n\u001b[1;32m    338\u001b[0m     kernel\u001b[39m=\u001b[39;49mkernel,\n\u001b[1;32m    339\u001b[0m     C\u001b[39m=\u001b[39;49m\u001b[39mself\u001b[39;49m\u001b[39m.\u001b[39;49mC,\n\u001b[1;32m    340\u001b[0m     nu\u001b[39m=\u001b[39;49m\u001b[39mself\u001b[39;49m\u001b[39m.\u001b[39;49mnu,\n\u001b[1;32m    341\u001b[0m     probability\u001b[39m=\u001b[39;49m\u001b[39mself\u001b[39;49m\u001b[39m.\u001b[39;49mprobability,\n\u001b[1;32m    342\u001b[0m     degree\u001b[39m=\u001b[39;49m\u001b[39mself\u001b[39;49m\u001b[39m.\u001b[39;49mdegree,\n\u001b[1;32m    343\u001b[0m     shrinking\u001b[39m=\u001b[39;49m\u001b[39mself\u001b[39;49m\u001b[39m.\u001b[39;49mshrinking,\n\u001b[1;32m    344\u001b[0m     tol\u001b[39m=\u001b[39;49m\u001b[39mself\u001b[39;49m\u001b[39m.\u001b[39;49mtol,\n\u001b[1;32m    345\u001b[0m     cache_size\u001b[39m=\u001b[39;49m\u001b[39mself\u001b[39;49m\u001b[39m.\u001b[39;49mcache_size,\n\u001b[1;32m    346\u001b[0m     coef0\u001b[39m=\u001b[39;49m\u001b[39mself\u001b[39;49m\u001b[39m.\u001b[39;49mcoef0,\n\u001b[1;32m    347\u001b[0m     gamma\u001b[39m=\u001b[39;49m\u001b[39mself\u001b[39;49m\u001b[39m.\u001b[39;49m_gamma,\n\u001b[1;32m    348\u001b[0m     epsilon\u001b[39m=\u001b[39;49m\u001b[39mself\u001b[39;49m\u001b[39m.\u001b[39;49mepsilon,\n\u001b[1;32m    349\u001b[0m     max_iter\u001b[39m=\u001b[39;49m\u001b[39mself\u001b[39;49m\u001b[39m.\u001b[39;49mmax_iter,\n\u001b[1;32m    350\u001b[0m     random_seed\u001b[39m=\u001b[39;49mrandom_seed,\n\u001b[1;32m    351\u001b[0m )\n\u001b[1;32m    353\u001b[0m \u001b[39mself\u001b[39m\u001b[39m.\u001b[39m_warn_from_fit_status()\n",
      "\u001b[0;31mKeyboardInterrupt\u001b[0m: "
     ]
    }
   ],
   "source": [
    "# Hyperparameter search\n",
    "# defining parameter range\n",
    "param_grid = {'C': [0.1, 1, 10, 100, 1000], \n",
    "              'gamma': [1, 0.1, 0.01, 0.001, 0.0001],\n",
    "              'kernel': ['rbf', 'linear']} \n",
    "  \n",
    "grid = GridSearchCV(SVC(), param_grid, refit = True, verbose = 3)\n",
    "  \n",
    "# fitting the model for grid search\n",
    "grid.fit(X_train, y_train)"
   ]
  },
  {
   "cell_type": "code",
   "execution_count": 75,
   "id": "3f7b1fa2",
   "metadata": {},
   "outputs": [
    {
     "name": "stdout",
     "output_type": "stream",
     "text": [
      "{'C': 10, 'gamma': 0.0001, 'kernel': 'rbf'}\n",
      "SVC(C=10, gamma=0.0001)\n"
     ]
    }
   ],
   "source": [
    "# print best parameter after tuning\n",
    "print(grid.best_params_)\n",
    "  \n",
    "# print how our model looks after hyper-parameter tuning\n",
    "print(grid.best_estimator_)"
   ]
  },
  {
   "cell_type": "code",
   "execution_count": 76,
   "id": "80620ec5",
   "metadata": {},
   "outputs": [
    {
     "name": "stdout",
     "output_type": "stream",
     "text": [
      "              precision    recall  f1-score   support\n",
      "\n",
      "      130000       0.00      0.00      0.00         1\n",
      "      145000       0.00      0.00      0.00         1\n",
      "      150000       0.00      0.00      0.00         0\n",
      "      175000       0.00      0.00      0.00         1\n",
      "      185000       0.00      0.00      0.00         1\n",
      "      190000       0.00      0.00      0.00         0\n",
      "      195000       0.00      0.00      0.00         1\n",
      "      198000       0.00      0.00      0.00         1\n",
      "      200000       0.00      0.00      0.00         2\n",
      "      210000       0.00      0.00      0.00         1\n",
      "      225000       0.00      0.00      0.00         0\n",
      "      229999       0.00      0.00      0.00         1\n",
      "      235000       0.00      0.00      0.00         1\n",
      "      240000       0.00      0.00      0.00         1\n",
      "      245000       0.00      0.00      0.00         1\n",
      "      250000       0.20      0.50      0.29         2\n",
      "      260000       0.00      0.00      0.00         1\n",
      "      265000       0.00      0.00      0.00         1\n",
      "      270000       0.00      0.00      0.00         1\n",
      "      275000       0.00      0.00      0.00         2\n",
      "      280000       0.00      0.00      0.00         1\n",
      "      285000       0.00      0.00      0.00         1\n",
      "      295000       0.00      0.00      0.00         3\n",
      "      299000       0.00      0.00      0.00         2\n",
      "      300000       0.00      0.00      0.00         1\n",
      "      310000       0.00      0.00      0.00         1\n",
      "      315000       0.00      0.00      0.00         1\n",
      "      325000       0.00      0.00      0.00         2\n",
      "      328000       0.00      0.00      0.00         0\n",
      "      335000       0.00      0.00      0.00         2\n",
      "      340000       0.00      0.00      0.00         2\n",
      "      345000       0.00      0.00      0.00         1\n",
      "      350000       0.00      0.00      0.00         1\n",
      "      355000       0.00      0.00      0.00         1\n",
      "      360000       0.00      0.00      0.00         2\n",
      "      365000       0.00      0.00      0.00         2\n",
      "      369000       0.00      0.00      0.00         1\n",
      "      370000       0.00      0.00      0.00         1\n",
      "      375000       0.00      0.00      0.00         1\n",
      "      380000       0.00      0.00      0.00         3\n",
      "      385000       0.00      0.00      0.00         2\n",
      "      390000       0.00      0.00      0.00         1\n",
      "      391000       0.00      0.00      0.00         0\n",
      "      395000       0.00      0.00      0.00         1\n",
      "      399000       0.00      0.00      0.00         1\n",
      "      400000       0.00      0.00      0.00         1\n",
      "      409999       0.00      0.00      0.00         2\n",
      "      412000       0.00      0.00      0.00         1\n",
      "      420000       0.00      0.00      0.00         1\n",
      "      422000       0.00      0.00      0.00         1\n",
      "      425000       0.04      0.17      0.06         6\n",
      "      426999       0.00      0.00      0.00         1\n",
      "      430000       0.00      0.00      0.00         0\n",
      "      434999       0.00      0.00      0.00         3\n",
      "      445000       0.00      0.00      0.00         4\n",
      "      450000       0.00      0.00      0.00         3\n",
      "      451000       0.00      0.00      0.00         1\n",
      "      455000       0.00      0.00      0.00         2\n",
      "      459999       0.00      0.00      0.00         1\n",
      "      465000       0.00      0.00      0.00         2\n",
      "      470000       0.00      0.00      0.00         1\n",
      "      475000       0.00      0.00      0.00         3\n",
      "      480000       0.00      0.00      0.00         1\n",
      "      484999       0.00      0.00      0.00         2\n",
      "      490000       0.00      0.00      0.00         3\n",
      "      495000       0.00      0.00      0.00         3\n",
      "      500000       0.00      0.00      0.00         2\n",
      "      509999       0.00      0.00      0.00         0\n",
      "      515000       0.00      0.00      0.00         2\n",
      "      520000       0.00      0.00      0.00         1\n",
      "      525000       0.00      0.00      0.00         2\n",
      "      530000       0.00      0.00      0.00         1\n",
      "      535000       0.00      0.00      0.00         1\n",
      "      540000       0.00      0.00      0.00         2\n",
      "      545000       0.00      0.00      0.00         2\n",
      "      547000       0.00      0.00      0.00         1\n",
      "      549000       0.00      0.00      0.00         2\n",
      "      550000       0.00      0.00      0.00         2\n",
      "      560000       0.00      0.00      0.00         1\n",
      "      565000       0.00      0.00      0.00         1\n",
      "      569000       0.00      0.00      0.00         1\n",
      "      575000       0.00      0.00      0.00         3\n",
      "      580000       0.00      0.00      0.00         0\n",
      "      585000       0.00      0.00      0.00         1\n",
      "      590000       0.00      0.00      0.00         4\n",
      "      595000       0.00      0.00      0.00         4\n",
      "      600000       0.00      0.00      0.00         1\n",
      "      605000       0.00      0.00      0.00         1\n",
      "      609000       0.00      0.00      0.00         1\n",
      "      610000       0.00      0.00      0.00         1\n",
      "      620000       0.00      0.00      0.00         1\n",
      "      625000       0.02      0.25      0.04         4\n",
      "      630000       0.00      0.00      0.00         1\n",
      "      635000       0.00      0.00      0.00         1\n",
      "      636000       0.00      0.00      0.00         1\n",
      "      642000       0.00      0.00      0.00         1\n",
      "      645000       0.00      0.00      0.00         4\n",
      "      650000       0.00      0.00      0.00         4\n",
      "      655000       0.00      0.00      0.00         0\n",
      "      665000       0.00      0.00      0.00         0\n",
      "      671000       0.00      0.00      0.00         1\n",
      "      675000       0.09      0.25      0.13         4\n",
      "      685000       0.00      0.00      0.00         2\n",
      "      690000       0.00      0.00      0.00         4\n",
      "      695000       0.33      1.00      0.50         1\n",
      "      700000       0.00      0.00      0.00         0\n",
      "      715000       0.00      0.00      0.00         1\n",
      "      725000       0.00      0.00      0.00         1\n",
      "      735000       0.00      0.00      0.00         1\n",
      "      740000       0.00      0.00      0.00         0\n",
      "      750000       0.00      0.00      0.00         2\n",
      "      755000       0.00      0.00      0.00         1\n",
      "      761000       0.00      0.00      0.00         1\n",
      "      775000       0.00      0.00      0.00         5\n",
      "      779000       0.00      0.00      0.00         1\n",
      "      785000       0.00      0.00      0.00         1\n",
      "      790000       0.00      0.00      0.00         0\n",
      "      795000       0.00      0.00      0.00         3\n",
      "      799000       0.00      0.00      0.00         1\n",
      "      800000       0.00      0.00      0.00         3\n",
      "      801000       0.00      0.00      0.00         1\n",
      "      810000       0.00      0.00      0.00         0\n",
      "      819999       0.00      0.00      0.00         1\n",
      "      825000       0.00      0.00      0.00         4\n",
      "      835000       0.00      0.00      0.00         1\n",
      "      844999       0.00      0.00      0.00         1\n",
      "      850000       0.00      0.00      0.00         3\n",
      "      855000       0.00      0.00      0.00         1\n",
      "      860000       0.00      0.00      0.00         2\n",
      "      865000       0.00      0.00      0.00         1\n",
      "      875000       0.00      0.00      0.00         0\n",
      "      880000       0.00      0.00      0.00         1\n",
      "      885000       0.00      0.00      0.00         1\n",
      "      890000       0.00      0.00      0.00         0\n",
      "      894999       0.00      0.00      0.00         1\n",
      "      899000       0.00      0.00      0.00         1\n",
      "      900000       0.00      0.00      0.00         1\n",
      "      925000       0.00      0.00      0.00         2\n",
      "      940000       0.00      0.00      0.00         1\n",
      "      950000       0.00      0.00      0.00         1\n",
      "      975000       0.00      0.00      0.00         1\n",
      "      990000       0.00      0.00      0.00         2\n",
      "      994999       0.00      0.00      0.00         1\n",
      "     1000000       0.00      0.00      0.00         1\n",
      "     1011000       0.00      0.00      0.00         1\n",
      "     1025000       0.00      0.00      0.00         2\n",
      "     1035000       0.00      0.00      0.00         1\n",
      "     1040000       0.00      0.00      0.00         1\n",
      "     1044999       0.00      0.00      0.00         1\n",
      "     1050000       0.00      0.00      0.00         1\n",
      "     1075000       0.00      0.00      0.00         0\n",
      "     1080000       0.00      0.00      0.00         1\n",
      "     1085000       0.00      0.00      0.00         0\n",
      "     1095000       0.00      0.00      0.00         0\n",
      "     1100000       0.00      0.00      0.00         0\n",
      "     1115000       0.00      0.00      0.00         2\n",
      "     1125000       0.00      0.00      0.00         1\n",
      "     1130000       0.00      0.00      0.00         1\n",
      "     1150000       0.00      0.00      0.00         0\n",
      "     1165000       0.00      0.00      0.00         1\n",
      "     1175000       0.00      0.00      0.00         0\n",
      "     1190000       0.00      0.00      0.00         2\n",
      "     1195000       0.00      0.00      0.00         1\n",
      "     1200000       0.00      0.00      0.00         0\n",
      "     1221000       0.00      0.00      0.00         1\n",
      "     1225000       0.00      0.00      0.00         2\n",
      "     1245000       0.00      0.00      0.00         1\n",
      "     1250000       0.00      0.00      0.00         1\n",
      "     1275000       0.00      0.00      0.00         1\n",
      "     1290000       0.00      0.00      0.00         1\n",
      "     1295000       0.00      0.00      0.00         1\n",
      "     1299000       0.00      0.00      0.00         1\n",
      "     1300000       0.00      0.00      0.00         2\n",
      "     1325000       0.00      0.00      0.00         2\n",
      "     1340000       0.00      0.00      0.00         0\n",
      "     1350000       0.00      0.00      0.00         1\n",
      "     1375000       0.00      0.00      0.00         1\n",
      "     1400000       0.00      0.00      0.00         1\n",
      "     1450000       0.00      0.00      0.00         1\n",
      "     1485000       0.00      0.00      0.00         1\n",
      "     1489000       0.00      0.00      0.00         1\n",
      "     1490000       0.00      0.00      0.00         1\n",
      "     1499000       0.00      0.00      0.00         1\n",
      "     1515000       0.00      0.00      0.00         1\n",
      "     1525000       0.00      0.00      0.00         0\n",
      "     1550000       0.00      0.00      0.00         1\n",
      "     1580000       0.00      0.00      0.00         1\n",
      "     1595000       0.00      0.00      0.00         0\n",
      "     1611000       0.00      0.00      0.00         1\n",
      "     1625000       0.00      0.00      0.00         0\n",
      "     1650000       0.00      0.00      0.00         3\n",
      "     1679000       0.00      0.00      0.00         1\n",
      "     1685000       0.00      0.00      0.00         0\n",
      "     1689999       0.00      0.00      0.00         1\n",
      "     1700000       0.00      0.00      0.00         1\n",
      "     1710000       0.00      0.00      0.00         0\n",
      "     1725000       0.00      0.00      0.00         2\n",
      "     1750000       0.09      1.00      0.17         1\n",
      "     1789999       0.00      0.00      0.00         2\n",
      "     1791000       0.00      0.00      0.00         0\n",
      "     1798999       0.00      0.00      0.00         1\n",
      "     1835000       0.00      0.00      0.00         1\n",
      "     1839000       0.00      0.00      0.00         1\n",
      "     1850000       0.00      0.00      0.00         0\n",
      "     1864999       0.00      0.00      0.00         1\n",
      "     1875000       0.00      0.00      0.00         1\n",
      "     1930000       0.00      0.00      0.00         1\n",
      "     1950000       0.00      0.00      0.00         1\n",
      "     1964999       0.00      0.00      0.00         1\n",
      "     1970000       0.00      0.00      0.00         1\n",
      "     2048999       0.00      0.00      0.00         1\n",
      "     2089999       0.00      0.00      0.00         1\n",
      "     2100000       0.00      0.00      0.00         1\n",
      "     2149000       0.00      0.00      0.00         1\n",
      "     2175000       0.00      0.00      0.00         1\n",
      "     2180000       0.00      0.00      0.00         0\n",
      "     2196000       0.00      0.00      0.00         0\n",
      "     2200000       0.00      0.00      0.00         1\n",
      "     2250000       0.00      0.00      0.00         1\n",
      "     2350000       0.00      0.00      0.00         1\n",
      "     2390000       0.00      0.00      0.00         1\n",
      "     2400000       0.00      0.00      0.00         2\n",
      "     2450000       0.00      0.00      0.00         1\n",
      "     2500000       0.00      0.00      0.00         1\n",
      "     2550000       0.00      0.00      0.00         1\n",
      "     2600000       0.00      0.00      0.00         0\n",
      "     2650000       0.00      0.00      0.00         2\n",
      "     2690000       0.00      0.00      0.00         1\n",
      "     2725000       0.00      0.00      0.00         1\n",
      "     2750000       0.00      0.00      0.00         1\n",
      "     2765000       0.00      0.00      0.00         1\n",
      "     2775000       0.00      0.00      0.00         1\n",
      "     2799000       0.00      0.00      0.00         1\n",
      "     2800000       0.00      0.00      0.00         0\n",
      "     2850000       0.00      0.00      0.00         0\n",
      "     2900000       0.00      0.00      0.00         2\n",
      "     2950000       0.00      0.00      0.00         3\n",
      "     3000000       0.00      0.00      0.00         0\n",
      "     3025000       0.00      0.00      0.00         1\n",
      "     3100000       0.00      0.00      0.00         1\n",
      "     3125000       0.00      0.00      0.00         1\n",
      "     3200000       0.00      0.00      0.00         2\n",
      "     3250000       0.00      0.00      0.00         0\n",
      "     3290000       0.00      0.00      0.00         1\n",
      "     3300000       1.00      0.33      0.50         3\n",
      "     3400000       0.00      0.00      0.00         2\n",
      "     3499000       0.00      0.00      0.00         1\n",
      "     3500000       0.00      0.00      0.00         3\n",
      "     3600000       0.00      0.00      0.00         2\n",
      "     3650000       0.00      0.00      0.00         0\n",
      "     3675000       0.00      0.00      0.00         1\n",
      "     3800000       1.00      0.50      0.67         2\n",
      "     3900000       0.00      0.00      0.00         1\n",
      "     3975000       0.00      0.00      0.00         0\n",
      "     4000000       0.00      0.00      0.00         0\n",
      "     4100000       0.00      0.00      0.00         1\n",
      "     4150000       0.00      0.00      0.00         3\n",
      "     4175000       0.00      0.00      0.00         1\n",
      "     4200000       0.33      0.50      0.40         2\n",
      "     4250000       0.00      0.00      0.00         3\n",
      "     4375000       0.00      0.00      0.00         2\n",
      "     4400000       0.00      0.00      0.00         1\n",
      "     4459000       0.00      0.00      0.00         1\n",
      "     4475000       0.00      0.00      0.00         1\n",
      "     4500000       0.00      0.00      0.00         1\n",
      "     4550000       0.00      0.00      0.00         0\n",
      "     4575000       0.00      0.00      0.00         1\n",
      "     4749000       0.00      0.00      0.00         1\n",
      "     4775000       0.00      0.00      0.00         1\n",
      "     4800000       0.00      0.00      0.00         1\n",
      "     4950000       0.00      0.00      0.00         1\n",
      "     4975000       0.00      0.00      0.00         1\n",
      "     5100000       0.00      0.00      0.00         0\n",
      "     5200000       0.00      0.00      0.00         1\n",
      "     5250000       0.00      0.00      0.00         0\n",
      "     5300000       0.00      0.00      0.00         1\n",
      "     5400000       0.00      0.00      0.00         1\n",
      "     5500000       0.00      0.00      0.00         2\n",
      "     5800000       0.00      0.00      0.00         2\n",
      "     5900000       0.00      0.00      0.00         0\n",
      "     5950000       0.00      0.00      0.00         1\n",
      "     6000000       0.00      0.00      0.00         1\n",
      "     6100000       0.00      0.00      0.00         1\n",
      "     6300000       0.00      0.00      0.00         1\n",
      "     6500000       0.00      0.00      0.00         1\n",
      "     6680000       0.00      0.00      0.00         1\n",
      "     6750000       0.00      0.00      0.00         1\n",
      "     6900000       0.00      0.00      0.00         0\n",
      "     6975000       0.00      0.00      0.00         1\n",
      "     7000000       0.00      0.00      0.00         0\n",
      "     7200000       0.00      0.00      0.00         1\n",
      "     7390000       0.00      0.00      0.00         1\n",
      "     7475000       0.00      0.00      0.00         2\n",
      "     7780000       0.00      0.00      0.00         1\n",
      "     7990000       0.00      0.00      0.00         0\n",
      "     8000000       0.00      0.00      0.00         1\n",
      "     8500000       0.00      0.00      0.00         1\n",
      "     9000000       0.00      0.00      0.00         1\n",
      "     9100000       0.00      0.00      0.00         1\n",
      "    12500000       0.00      0.00      0.00         1\n",
      "    12900000       0.00      0.00      0.00         1\n",
      "    13000000       0.00      0.00      0.00         0\n",
      "    14900000       0.00      0.00      0.00         1\n",
      "    16200000       0.00      0.00      0.00         0\n",
      "    19300000       0.00      0.00      0.00         1\n",
      "    20000000       0.00      0.00      0.00         1\n",
      "    22000000       0.00      0.00      0.00         1\n",
      "    27500000       0.00      0.00      0.00         1\n",
      "    35000000       0.00      0.00      0.00         1\n",
      "\n",
      "    accuracy                           0.02       375\n",
      "   macro avg       0.01      0.01      0.01       375\n",
      "weighted avg       0.02      0.02      0.02       375\n",
      "\n"
     ]
    },
    {
     "name": "stderr",
     "output_type": "stream",
     "text": [
      "/Users/slimeollie/anaconda3/lib/python3.10/site-packages/sklearn/metrics/_classification.py:1344: UndefinedMetricWarning: Precision and F-score are ill-defined and being set to 0.0 in labels with no predicted samples. Use `zero_division` parameter to control this behavior.\n",
      "  _warn_prf(average, modifier, msg_start, len(result))\n",
      "/Users/slimeollie/anaconda3/lib/python3.10/site-packages/sklearn/metrics/_classification.py:1344: UndefinedMetricWarning: Recall and F-score are ill-defined and being set to 0.0 in labels with no true samples. Use `zero_division` parameter to control this behavior.\n",
      "  _warn_prf(average, modifier, msg_start, len(result))\n",
      "/Users/slimeollie/anaconda3/lib/python3.10/site-packages/sklearn/metrics/_classification.py:1344: UndefinedMetricWarning: Precision and F-score are ill-defined and being set to 0.0 in labels with no predicted samples. Use `zero_division` parameter to control this behavior.\n",
      "  _warn_prf(average, modifier, msg_start, len(result))\n",
      "/Users/slimeollie/anaconda3/lib/python3.10/site-packages/sklearn/metrics/_classification.py:1344: UndefinedMetricWarning: Recall and F-score are ill-defined and being set to 0.0 in labels with no true samples. Use `zero_division` parameter to control this behavior.\n",
      "  _warn_prf(average, modifier, msg_start, len(result))\n",
      "/Users/slimeollie/anaconda3/lib/python3.10/site-packages/sklearn/metrics/_classification.py:1344: UndefinedMetricWarning: Precision and F-score are ill-defined and being set to 0.0 in labels with no predicted samples. Use `zero_division` parameter to control this behavior.\n",
      "  _warn_prf(average, modifier, msg_start, len(result))\n",
      "/Users/slimeollie/anaconda3/lib/python3.10/site-packages/sklearn/metrics/_classification.py:1344: UndefinedMetricWarning: Recall and F-score are ill-defined and being set to 0.0 in labels with no true samples. Use `zero_division` parameter to control this behavior.\n",
      "  _warn_prf(average, modifier, msg_start, len(result))\n"
     ]
    }
   ],
   "source": [
    "grid_predictions = grid.predict(X_test)\n",
    "  \n",
    "# print classification report\n",
    "print(classification_report(y_test, grid_predictions))"
   ]
  },
  {
   "cell_type": "markdown",
   "id": "fe744fcb",
   "metadata": {},
   "source": [
    "Still a pretty poor model, it might be that SVC is not ideal for modeling the relationships in the dataset. With hyperparameter tuning, the accuracy and precision stayed at 2%, while the recall increased to 1% from 0%. Thus, it does not appear that SVC is a good model for modeling the relationships in the dataset."
   ]
  },
  {
   "cell_type": "markdown",
   "id": "0209eae3",
   "metadata": {},
   "source": [
    "## Initial Visualizations"
   ]
  },
  {
   "cell_type": "markdown",
   "id": "d35c879a",
   "metadata": {},
   "source": [
    "#### Create a stacked bar graph to see the trend of used cars sold by transmission type across the years"
   ]
  },
  {
   "cell_type": "code",
   "execution_count": null,
   "id": "ceff6183",
   "metadata": {
    "scrolled": true
   },
   "outputs": [
    {
     "data": {
      "image/png": "[encoded data removed]",
      "text/plain": [
       "<Figure size 640x480 with 1 Axes>"
      ]
     },
     "metadata": {},
     "output_type": "display_data"
    }
   ],
   "source": [
    "# Make dataframe\n",
    "usedcars = pd.DataFrame(usedcars)\n",
    "\n",
    "# Create dummy variables for each transmission type\n",
    "usedcars_dummies = pd.get_dummies(usedcars['Transmission'])\n",
    "\n",
    "# Concatenate the dummy variables with the original DataFrame\n",
    "usedcars_stacked = pd.concat([usedcars['Year'], usedcars_dummies], axis=1)\n",
    "\n",
    "# Group the data by Year and sum the transmission counts for each type\n",
    "usedcars_stacked = usedcars_stacked.groupby('Year').sum().reset_index()\n",
    "\n",
    "# Set 'Year' as the index for the DataFrame\n",
    "usedcars_stacked.set_index('Year', inplace=True)\n",
    "\n",
    "# Create a stacked bar chart\n",
    "ax = usedcars_stacked.plot(kind='bar', stacked=True)\n",
    "\n",
    "# Add labels and show the plot\n",
    "plt.title('Transmission Type by Year for Cars')\n",
    "plt.xlabel('Year')\n",
    "plt.ylabel('Number of Cars')\n",
    "plt.legend(title='Transmission Type', loc='upper left')\n",
    "plt.show()"
   ]
  },
  {
   "cell_type": "markdown",
   "id": "958d315d",
   "metadata": {},
   "source": [
    "#### Make a bargraph to see the trend of used cars sold by seat capacity across the years"
   ]
  },
  {
   "cell_type": "code",
   "execution_count": null,
   "id": "b577ddae",
   "metadata": {},
   "outputs": [
    {
     "data": {
      "image/png": "[encoded data removed]",
      "text/plain": [
       "<Figure size 640x480 with 1 Axes>"
      ]
     },
     "metadata": {},
     "output_type": "display_data"
    }
   ],
   "source": [
    "# Make dataframe\n",
    "usedcars = pd.DataFrame(usedcars)\n",
    "\n",
    "# Create dummy variables for each transmission type\n",
    "usedcars_dummies = pd.get_dummies(usedcars['Seating Capacity'])\n",
    "\n",
    "# Concatenate the dummy variables with the original DataFrame\n",
    "usedcars_stacked = pd.concat([usedcars['Year'], usedcars_dummies], axis=1)\n",
    "\n",
    "# Group the data by Year and sum the transmission counts for each type\n",
    "usedcars_stacked = usedcars_stacked.groupby('Year').sum().reset_index()\n",
    "\n",
    "# Set 'Year' as the index for the DataFrame\n",
    "usedcars_stacked.set_index('Year', inplace=True)\n",
    "\n",
    "# Create a stacked bar chart\n",
    "ax = usedcars_stacked.plot(kind='bar', stacked=True)\n",
    "\n",
    "# Add labels and show the plot\n",
    "plt.title('Seating Capacity Type by Year for Cars')\n",
    "plt.xlabel('Year')\n",
    "plt.ylabel('Number of Cars')\n",
    "plt.legend(title='Seating Capacity', loc='upper left')\n",
    "plt.show()"
   ]
  },
  {
   "cell_type": "markdown",
   "id": "61c951a1",
   "metadata": {},
   "source": [
    "#### Is there a trend between mileage and price?"
   ]
  },
  {
   "cell_type": "code",
   "execution_count": null,
   "id": "01920dea",
   "metadata": {
    "scrolled": true
   },
   "outputs": [],
   "source": [
    "# grab the values from the dataset\n",
    "kilometers = usedcars['Kilometer']\n",
    "prices_INR = usedcars['Price']"
   ]
  },
  {
   "cell_type": "markdown",
   "id": "ba57d18c",
   "metadata": {},
   "source": [
    "We noticed that since the data is sourced from India, the currency and distance are not in the units that we understand in the United States. Thus we must convert INR to USD and kilometers to miles."
   ]
  },
  {
   "cell_type": "code",
   "execution_count": null,
   "id": "58f51a9e",
   "metadata": {},
   "outputs": [],
   "source": [
    "# Conversion function from kilometers to miles\n",
    "def kilometers_to_miles(km):\n",
    "    return km * 0.6213712\n",
    "\n",
    "# Apply the conversion function to the DataFrame column\n",
    "mileage = kilometers.apply(kilometers_to_miles)"
   ]
  },
  {
   "cell_type": "code",
   "execution_count": null,
   "id": "954cd58a",
   "metadata": {},
   "outputs": [
    {
     "data": {
      "text/plain": [
       "0        6060.0\n",
       "1        5400.0\n",
       "2        2640.0\n",
       "3        9588.0\n",
       "4       23400.0\n",
       "         ...   \n",
       "2053     2940.0\n",
       "2054    10200.0\n",
       "2055     3300.0\n",
       "2056     2880.0\n",
       "2057    51480.0\n",
       "Name: Price, Length: 1874, dtype: float64"
      ]
     },
     "execution_count": 34,
     "metadata": {},
     "output_type": "execute_result"
    }
   ],
   "source": [
    "# Conversion function from INR to USD\n",
    "def INR_to_USD(inr):\n",
    "    return inr * 0.012\n",
    "\n",
    "# Apply the conversion function to the DataFrame column\n",
    "prices_USD = prices_INR.apply(INR_to_USD)\n",
    "prices_USD"
   ]
  },
  {
   "cell_type": "markdown",
   "id": "7314753d",
   "metadata": {},
   "source": [
    "Once converted to understandable units, we plot the relationship between price and mileage."
   ]
  },
  {
   "cell_type": "code",
   "execution_count": null,
   "id": "cca4a993",
   "metadata": {},
   "outputs": [
    {
     "data": {
      "image/png": "[encoded data removed]",
      "text/plain": [
       "<Figure size 640x480 with 1 Axes>"
      ]
     },
     "metadata": {},
     "output_type": "display_data"
    }
   ],
   "source": [
    "plt.scatter(mileage, prices_USD, c='blue', alpha=0.7)\n",
    "plt.xlabel(\"Mileage (in miles)\")\n",
    "plt.ylabel(\"Price (in USD)\")\n",
    "plt.title(\"Car Price vs. Mileage\")\n",
    "plt.grid(True)\n",
    "plt.ticklabel_format(style='plain', useOffset=False)\n",
    "plt.show()"
   ]
  },
  {
   "cell_type": "markdown",
   "id": "548b4c8a",
   "metadata": {},
   "source": [
    "Most cars are under 200,000 miles and cars with lower mileage sell for higher. For our model we may need to take the log of price and mileage because we have outliers. \n"
   ]
  },
  {
   "cell_type": "code",
   "execution_count": null,
   "id": "40a663ba",
   "metadata": {},
   "outputs": [
    {
     "data": {
      "text/plain": [
       "dtype('float64')"
      ]
     },
     "execution_count": 36,
     "metadata": {},
     "output_type": "execute_result"
    }
   ],
   "source": [
    "# quickly check the data type of the mileage variable\n",
    "mileage.dtype\n"
   ]
  },
  {
   "cell_type": "code",
   "execution_count": null,
   "id": "35ae6e92",
   "metadata": {},
   "outputs": [
    {
     "data": {
      "text/plain": [
       "dtype('float64')"
      ]
     },
     "execution_count": 37,
     "metadata": {},
     "output_type": "execute_result"
    }
   ],
   "source": [
    "# quickly check the data type of the prices_USD variable\n",
    "prices_USD.dtype"
   ]
  },
  {
   "cell_type": "code",
   "execution_count": null,
   "id": "01db86bc",
   "metadata": {},
   "outputs": [
    {
     "name": "stderr",
     "output_type": "stream",
     "text": [
      "/Users/slimeollie/anaconda3/lib/python3.10/site-packages/pandas/core/arraylike.py:402: RuntimeWarning: divide by zero encountered in log10\n",
      "  result = getattr(ufunc, method)(*inputs, **kwargs)\n"
     ]
    },
    {
     "data": {
      "image/png": "[encoded data removed]",
      "text/plain": [
       "<Figure size 640x480 with 1 Axes>"
      ]
     },
     "metadata": {},
     "output_type": "display_data"
    }
   ],
   "source": [
    "# generate a new scatter using log10(mileage) and log10(prices_USD)\n",
    "plt.scatter(np.log10(mileage), np.log10(prices_USD), c='blue', alpha=0.7)\n",
    "plt.xlabel(\"log Mileage (in miles)\")\n",
    "plt.ylabel(\"log Price (in USD)\")\n",
    "plt.title(\"Car Price vs. Mileage\")\n",
    "plt.grid(True)\n",
    "plt.ticklabel_format(style='plain', useOffset=False)\n",
    "plt.show()"
   ]
  },
  {
   "cell_type": "markdown",
   "id": "cbd46627",
   "metadata": {},
   "source": [
    "The clarity of the new plot seems to indicate that log values may be more useful in the model. We will experiment with log and regular values to determine the best way to organize the data in the model."
   ]
  },
  {
   "cell_type": "markdown",
   "id": "bf62dc1f",
   "metadata": {},
   "source": [
    "#### Create a heatmap to show associated numerical values"
   ]
  },
  {
   "cell_type": "code",
   "execution_count": null,
   "id": "39078bba",
   "metadata": {},
   "outputs": [
    {
     "data": {
      "image/png": "[encoded data removed]",
      "text/plain": [
       "<Figure size 640x480 with 2 Axes>"
      ]
     },
     "metadata": {},
     "output_type": "display_data"
    }
   ],
   "source": [
    "# Select some columns that might have a correlation\n",
    "numerical_data = usedcars[['Price','Year','Kilometer', 'Seating Capacity', 'Fuel Tank Capacity']]\n",
    "correlation_matrix = numerical_data.corr()\n",
    "\n",
    "# Generate the heatmap and use a new color sheme\n",
    "ax = sns.heatmap(correlation_matrix, annot=True, cmap=\"YlOrRd\");\n",
    "fig = ax.get_figure()"
   ]
  },
  {
   "cell_type": "code",
   "execution_count": null,
   "id": "c9a3e698",
   "metadata": {},
   "outputs": [
    {
     "data": {
      "text/plain": [
       "49000"
      ]
     },
     "execution_count": 40,
     "metadata": {},
     "output_type": "execute_result"
    }
   ],
   "source": [
    "# check the lowest price car in the dataset\n",
    "usedcars['Price'].min()"
   ]
  },
  {
   "cell_type": "markdown",
   "id": "99561b83",
   "metadata": {},
   "source": [
    "## Effort Diary"
   ]
  },
  {
   "cell_type": "markdown",
   "id": "57d3e7f0",
   "metadata": {},
   "source": [
    "Oliver:\n",
    "- Proposal write-up 30%\n",
    "- Dummy column creation 100%\n",
    "- Creation of GitHub repository 100%\n",
    "\n",
    "Frances:\n",
    "- Proposal write-up 70%\n",
    "- Data cleaning 100%\n",
    "- Create example plots 50%\n",
    "\n",
    "Heather:\n",
    "- Create layout of Jupyter file 100%\n",
    "- Upload data and examine details 100%\n",
    "- Create example plots 50%"
   ]
  }
 ],
 "metadata": {
  "kernelspec": {
   "display_name": "Python 3 (ipykernel)",
   "language": "python",
   "name": "python3"
  },
  "language_info": {
   "codemirror_mode": {
    "name": "ipython",
    "version": 3
   },
   "file_extension": ".py",
   "mimetype": "text/x-python",
   "name": "python",
   "nbconvert_exporter": "python",
   "pygments_lexer": "ipython3",
   "version": "3.10.9"
  }
 },
 "nbformat": 4,
 "nbformat_minor": 5
}
